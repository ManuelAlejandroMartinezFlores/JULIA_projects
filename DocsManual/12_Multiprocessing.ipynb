{
 "cells": [
  {
   "cell_type": "code",
   "execution_count": 1,
   "metadata": {},
   "outputs": [
    {
     "data": {
      "text/plain": [
       "1"
      ]
     },
     "metadata": {},
     "output_type": "display_data"
    }
   ],
   "source": [
    "1"
   ]
  },
  {
   "cell_type": "code",
   "execution_count": 2,
   "metadata": {},
   "outputs": [
    {
     "ename": "UndefVarError",
     "evalue": "UndefVarError: `remotecall` not defined",
     "output_type": "error",
     "traceback": [
      "UndefVarError: `remotecall` not defined\n",
      "\n",
      "Stacktrace:\n",
      " [1] top-level scope\n",
      "   @ ~/Documents/GitHub/JULIA_projects/DocsManual/12_Multiprocessing.ipynb:1"
     ]
    }
   ],
   "source": [
    "r = remotecall(rand, 2, 2, 2)\n",
    "s = @spawnat 2 1 .+ fetch(r)\n",
    "\n",
    "fetch(s)"
   ]
  },
  {
   "cell_type": "code",
   "execution_count": 3,
   "metadata": {},
   "outputs": [
    {
     "ename": "LoadError",
     "evalue": "LoadError: UndefVarError: `@everywhere` not defined\nin expression starting at /Users/manuelmartinezflores/Documents/GitHub/JULIA_projects/DocsManual/12_Multiprocessing.ipynb:1",
     "output_type": "error",
     "traceback": [
      "LoadError: UndefVarError: `@everywhere` not defined\n",
      "in expression starting at /Users/manuelmartinezflores/Documents/GitHub/JULIA_projects/DocsManual/12_Multiprocessing.ipynb:1\n"
     ]
    }
   ],
   "source": [
    "@everywhere include_string(Main, $(read(\"count_heads.jl\", String)), \"count_heads.jl\")\n",
    "a = @spawnat 1 count_heads(100000000)\n",
    "b = @spawnat 2 count_heads(100000000)\n",
    "\n",
    "(fetch(a) + fetch(b)) / 200000000\n"
   ]
  },
  {
   "cell_type": "code",
   "execution_count": 4,
   "metadata": {},
   "outputs": [
    {
     "ename": "LoadError",
     "evalue": "LoadError: UndefVarError: `@distributed` not defined\nin expression starting at /Users/manuelmartinezflores/Documents/GitHub/JULIA_projects/DocsManual/12_Multiprocessing.ipynb:1",
     "output_type": "error",
     "traceback": [
      "LoadError: UndefVarError: `@distributed` not defined\n",
      "in expression starting at /Users/manuelmartinezflores/Documents/GitHub/JULIA_projects/DocsManual/12_Multiprocessing.ipynb:1\n"
     ]
    }
   ],
   "source": [
    "nheads = @distributed (+) for i=1:200000000\n",
    "    Int(rand(Bool))\n",
    "end"
   ]
  },
  {
   "cell_type": "code",
   "execution_count": 5,
   "metadata": {},
   "outputs": [
    {
     "ename": "LoadError",
     "evalue": "LoadError: UndefVarError: `@distributed` not defined\nin expression starting at /Users/manuelmartinezflores/Documents/GitHub/JULIA_projects/DocsManual/12_Multiprocessing.ipynb:2",
     "output_type": "error",
     "traceback": [
      "LoadError: UndefVarError: `@distributed` not defined\n",
      "in expression starting at /Users/manuelmartinezflores/Documents/GitHub/JULIA_projects/DocsManual/12_Multiprocessing.ipynb:2\n"
     ]
    }
   ],
   "source": [
    "a = zeros(100000)\n",
    "@distributed for i = 1:100000\n",
    "    a[i] = i \n",
    "end "
   ]
  },
  {
   "cell_type": "code",
   "execution_count": 6,
   "metadata": {},
   "outputs": [
    {
     "ename": "LoadError",
     "evalue": "LoadError: UndefVarError: `@distributed` not defined\nin expression starting at /Users/manuelmartinezflores/Documents/GitHub/JULIA_projects/DocsManual/12_Multiprocessing.ipynb:5",
     "output_type": "error",
     "traceback": [
      "LoadError: UndefVarError: `@distributed` not defined\n",
      "in expression starting at /Users/manuelmartinezflores/Documents/GitHub/JULIA_projects/DocsManual/12_Multiprocessing.ipynb:5\n"
     ]
    }
   ],
   "source": [
    "using SharedArrays\n",
    "\n",
    "\n",
    "a = SharedArray{Float64}(10)\n",
    "@distributed for i = 1:10\n",
    "    a[i] = i \n",
    "end "
   ]
  },
  {
   "cell_type": "code",
   "execution_count": 7,
   "metadata": {},
   "outputs": [
    {
     "ename": "LoadError",
     "evalue": "LoadError: UndefVarError: `@distributed` not defined\nin expression starting at /Users/manuelmartinezflores/Documents/GitHub/JULIA_projects/DocsManual/12_Multiprocessing.ipynb:2",
     "output_type": "error",
     "traceback": [
      "LoadError: UndefVarError: `@distributed` not defined\n",
      "in expression starting at /Users/manuelmartinezflores/Documents/GitHub/JULIA_projects/DocsManual/12_Multiprocessing.ipynb:2\n"
     ]
    }
   ],
   "source": [
    "a = randn(1000);\n",
    "@distributed (+) for i = 1:10000\n",
    "    a[rand(1:end)]\n",
    "end "
   ]
  },
  {
   "cell_type": "code",
   "execution_count": 8,
   "metadata": {},
   "outputs": [
    {
     "ename": "UndefVarError",
     "evalue": "UndefVarError: `addprocs` not defined",
     "output_type": "error",
     "traceback": [
      "UndefVarError: `addprocs` not defined\n",
      "\n",
      "Stacktrace:\n",
      " [1] top-level scope\n",
      "   @ ~/Documents/GitHub/JULIA_projects/DocsManual/12_Multiprocessing.ipynb:1"
     ]
    }
   ],
   "source": [
    "addprocs(4);"
   ]
  },
  {
   "cell_type": "code",
   "execution_count": null,
   "metadata": {},
   "outputs": [],
   "source": []
  }
 ],
 "metadata": {
  "kernelspec": {
   "display_name": "Julia 1.9.0",
   "language": "julia",
   "name": "julia-1.9"
  },
  "language_info": {
   "file_extension": ".jl",
   "mimetype": "application/julia",
   "name": "julia",
   "version": "1.9.0"
  },
  "orig_nbformat": 4
 },
 "nbformat": 4,
 "nbformat_minor": 2
}
