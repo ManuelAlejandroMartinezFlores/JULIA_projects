{
 "cells": [
  {
   "attachments": {},
   "cell_type": "markdown",
   "metadata": {},
   "source": [
    "Inmutable"
   ]
  },
  {
   "cell_type": "code",
   "execution_count": 2,
   "metadata": {},
   "outputs": [],
   "source": [
    "struct Foo \n",
    "    bar \n",
    "    baz::Int\n",
    "    qux::Float64 \n",
    "end"
   ]
  },
  {
   "cell_type": "code",
   "execution_count": 3,
   "metadata": {},
   "outputs": [
    {
     "data": {
      "text/plain": [
       "(Foo(\"\", 1, 1.0), Foo)"
      ]
     },
     "metadata": {},
     "output_type": "display_data"
    }
   ],
   "source": [
    "foo = Foo(\"\", 1, 1.)\n",
    "foo, typeof(foo)"
   ]
  },
  {
   "cell_type": "code",
   "execution_count": 4,
   "metadata": {},
   "outputs": [
    {
     "data": {
      "text/plain": [
       "(:bar, :baz, :qux)"
      ]
     },
     "metadata": {},
     "output_type": "display_data"
    }
   ],
   "source": [
    "fieldnames(Foo)"
   ]
  },
  {
   "attachments": {},
   "cell_type": "markdown",
   "metadata": {},
   "source": [
    "Mutable"
   ]
  },
  {
   "cell_type": "code",
   "execution_count": 5,
   "metadata": {},
   "outputs": [
    {
     "data": {
      "text/plain": [
       "1//2"
      ]
     },
     "metadata": {},
     "output_type": "display_data"
    }
   ],
   "source": [
    "mutable struct Bar \n",
    "    baz \n",
    "    qux::Float64\n",
    "end \n",
    "\n",
    "bar = Bar(\"\", 1.)\n",
    "bar.baz = 1//2"
   ]
  },
  {
   "cell_type": "code",
   "execution_count": 6,
   "metadata": {},
   "outputs": [
    {
     "ename": "ErrorException",
     "evalue": "setfield!: const field .b of type Baz cannot be changed",
     "output_type": "error",
     "traceback": [
      "setfield!: const field .b of type Baz cannot be changed\n",
      "\n",
      "Stacktrace:\n",
      " [1] setproperty!(x::Baz, f::Symbol, v::Int64)\n",
      "   @ Base ./Base.jl:38\n",
      " [2] top-level scope\n",
      "   @ ~/Documents/GitHub/JULIA_projects/DocsManual/01_Types.ipynb:7"
     ]
    }
   ],
   "source": [
    "mutable struct Baz \n",
    "    a\n",
    "    const b::Int \n",
    "end \n",
    "\n",
    "baz = Baz(\"\", 1)\n",
    "baz.b = 2"
   ]
  },
  {
   "attachments": {},
   "cell_type": "markdown",
   "metadata": {},
   "source": [
    "Union"
   ]
  },
  {
   "cell_type": "code",
   "execution_count": 7,
   "metadata": {},
   "outputs": [
    {
     "data": {
      "text/plain": [
       "\"\""
      ]
     },
     "metadata": {},
     "output_type": "display_data"
    }
   ],
   "source": [
    "IntOrString = Union{Int, AbstractString}\n",
    "1 :: IntOrString \n",
    "\"\" :: IntOrString"
   ]
  },
  {
   "attachments": {},
   "cell_type": "markdown",
   "metadata": {},
   "source": [
    "Parametric"
   ]
  },
  {
   "cell_type": "code",
   "execution_count": 8,
   "metadata": {},
   "outputs": [],
   "source": [
    "struct Point{T}\n",
    "    x::T\n",
    "    y::T \n",
    "end "
   ]
  },
  {
   "cell_type": "code",
   "execution_count": 9,
   "metadata": {},
   "outputs": [
    {
     "data": {
      "text/plain": [
       "Point{Int64}"
      ]
     },
     "metadata": {},
     "output_type": "display_data"
    }
   ],
   "source": [
    "Point{Int}"
   ]
  },
  {
   "cell_type": "code",
   "execution_count": 10,
   "metadata": {},
   "outputs": [
    {
     "data": {
      "text/plain": [
       "true"
      ]
     },
     "metadata": {},
     "output_type": "display_data"
    }
   ],
   "source": [
    "Point{Int} <: Point"
   ]
  },
  {
   "cell_type": "code",
   "execution_count": 11,
   "metadata": {},
   "outputs": [
    {
     "data": {
      "text/plain": [
       "false"
      ]
     },
     "metadata": {},
     "output_type": "display_data"
    }
   ],
   "source": [
    "Point{Int} <: Point{Real}"
   ]
  },
  {
   "cell_type": "code",
   "execution_count": 12,
   "metadata": {},
   "outputs": [
    {
     "ename": "MethodError",
     "evalue": "MethodError: no method matching norm(::Point{Int64})\n\nClosest candidates are:\n  norm(!Matched::Point{Real})\n   @ Main ~/Documents/GitHub/JULIA_projects/DocsManual/01_Types.ipynb:1\n",
     "output_type": "error",
     "traceback": [
      "MethodError: no method matching norm(::Point{Int64})\n",
      "\n",
      "Closest candidates are:\n",
      "  norm(!Matched::Point{Real})\n",
      "   @ Main ~/Documents/GitHub/JULIA_projects/DocsManual/01_Types.ipynb:1\n",
      "\n",
      "\n",
      "Stacktrace:\n",
      " [1] top-level scope\n",
      "   @ ~/Documents/GitHub/JULIA_projects/DocsManual/01_Types.ipynb:5"
     ]
    }
   ],
   "source": [
    "function norm(p::Point{Real})\n",
    "    sqrt(p.x^2 + p.y^2)\n",
    "end \n",
    "p = Point{Int}(1, 2)\n",
    "norm(p)"
   ]
  },
  {
   "cell_type": "code",
   "execution_count": 13,
   "metadata": {},
   "outputs": [
    {
     "data": {
      "text/plain": [
       "2.23606797749979"
      ]
     },
     "metadata": {},
     "output_type": "display_data"
    }
   ],
   "source": [
    "function norm(p::Point{<:Real})\n",
    "    sqrt(p.x^2 + p.y^2)\n",
    "end \n",
    "p = Point{Int}(1, 2)\n",
    "norm(p)"
   ]
  },
  {
   "cell_type": "code",
   "execution_count": 14,
   "metadata": {},
   "outputs": [
    {
     "data": {
      "text/plain": [
       "Par{Int64, Float64}(1, 1.0)"
      ]
     },
     "metadata": {},
     "output_type": "display_data"
    }
   ],
   "source": [
    "struct Par{Int, Float64}\n",
    "    a :: Int \n",
    "    b :: Float64\n",
    "end \n",
    "Par(1, 1.)"
   ]
  },
  {
   "attachments": {},
   "cell_type": "markdown",
   "metadata": {},
   "source": [
    "Abstract Type"
   ]
  },
  {
   "cell_type": "code",
   "execution_count": 15,
   "metadata": {},
   "outputs": [],
   "source": [
    "abstract type Pointy{T} end "
   ]
  },
  {
   "cell_type": "code",
   "execution_count": 17,
   "metadata": {},
   "outputs": [],
   "source": [
    "struct Pointt{T} <: Pointy{T}\n",
    "    x::T \n",
    "    y::T\n",
    "end"
   ]
  },
  {
   "cell_type": "code",
   "execution_count": 18,
   "metadata": {},
   "outputs": [],
   "source": [
    "struct DiagPoint{T} <: Pointy{T}\n",
    "    x::T\n",
    "end"
   ]
  },
  {
   "cell_type": "code",
   "execution_count": 19,
   "metadata": {},
   "outputs": [],
   "source": [
    "struct Rational{T<:Integer} <: Real \n",
    "    num::T \n",
    "    den::T\n",
    "end"
   ]
  },
  {
   "attachments": {},
   "cell_type": "markdown",
   "metadata": {},
   "source": [
    "Pretty print"
   ]
  },
  {
   "cell_type": "code",
   "execution_count": 28,
   "metadata": {},
   "outputs": [
    {
     "data": {
      "text/plain": [
       "Polar{Float64} complex number:\n",
       "   1.0 * exp(1.0im)"
      ]
     },
     "metadata": {},
     "output_type": "display_data"
    }
   ],
   "source": [
    "struct Polar{T<:Real} <: Number \n",
    "    r::T \n",
    "    theta::T \n",
    "end \n",
    "\n",
    "Polar(r::Real, theta::Real) = Polar(promote(r, theta)...)\n",
    "\n",
    "Base.show(io::IO, z::Polar) = print(io, z.r, \" * exp(\", z.theta, \"im)\")\n",
    "\n",
    "Polar(1, 1.)"
   ]
  },
  {
   "cell_type": "code",
   "execution_count": 29,
   "metadata": {},
   "outputs": [
    {
     "data": {
      "text/plain": [
       "Polar{Int64} complex number:\n",
       "   1 * exp(1im)"
      ]
     },
     "metadata": {},
     "output_type": "display_data"
    }
   ],
   "source": [
    "Base.show(io::IO, ::MIME\"text/plain\", z::Polar{T}) where {T} = print(io, \"Polar{$T} complex number:\\n   \", z)\n",
    "Polar(1, 1)"
   ]
  },
  {
   "cell_type": "code",
   "execution_count": 31,
   "metadata": {},
   "outputs": [
    {
     "data": {
      "text/plain": [
       "2-element Vector{Polar{Float64}}:\n",
       " 1.0 * exp(1.0im)\n",
       " 2.0 * exp(3.0im)"
      ]
     },
     "metadata": {},
     "output_type": "display_data"
    }
   ],
   "source": [
    "[Polar(1, 1.), Polar(2, 3.)]"
   ]
  },
  {
   "cell_type": "code",
   "execution_count": null,
   "metadata": {},
   "outputs": [],
   "source": []
  }
 ],
 "metadata": {
  "kernelspec": {
   "display_name": "Julia 1.9.0",
   "language": "julia",
   "name": "julia-1.9"
  },
  "language_info": {
   "file_extension": ".jl",
   "mimetype": "application/julia",
   "name": "julia",
   "version": "1.9.0"
  },
  "orig_nbformat": 4
 },
 "nbformat": 4,
 "nbformat_minor": 2
}
