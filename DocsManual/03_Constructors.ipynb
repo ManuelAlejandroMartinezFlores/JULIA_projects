{
 "cells": [
  {
   "cell_type": "code",
   "execution_count": 1,
   "metadata": {},
   "outputs": [
    {
     "data": {
      "text/plain": [
       "1"
      ]
     },
     "metadata": {},
     "output_type": "display_data"
    }
   ],
   "source": [
    "1"
   ]
  },
  {
   "cell_type": "code",
   "execution_count": 2,
   "metadata": {},
   "outputs": [],
   "source": [
    "struct Foo \n",
    "    bar \n",
    "    baz \n",
    "end "
   ]
  },
  {
   "cell_type": "code",
   "execution_count": 4,
   "metadata": {},
   "outputs": [
    {
     "data": {
      "text/plain": [
       "Foo(0, 0)"
      ]
     },
     "metadata": {},
     "output_type": "display_data"
    }
   ],
   "source": [
    "Foo(x) = Foo(x, x)\n",
    "Foo() = Foo(0)\n",
    "Foo()"
   ]
  },
  {
   "cell_type": "code",
   "execution_count": 6,
   "metadata": {},
   "outputs": [
    {
     "data": {
      "text/plain": [
       "OrderedPair(1, 2)"
      ]
     },
     "metadata": {},
     "output_type": "display_data"
    }
   ],
   "source": [
    "struct OrderedPair \n",
    "    x::Real \n",
    "    y::Real \n",
    "    OrderedPair(x, y) = x > y ? error(\"out of order\") : new(x, y)\n",
    "end \n",
    "OrderedPair(1, 2)"
   ]
  },
  {
   "cell_type": "code",
   "execution_count": 7,
   "metadata": {},
   "outputs": [
    {
     "ename": "ErrorException",
     "evalue": "out of order",
     "output_type": "error",
     "traceback": [
      "out of order\n",
      "\n",
      "Stacktrace:\n",
      " [1] error(s::String)\n",
      "   @ Base ./error.jl:35\n",
      " [2] OrderedPair(x::Int64, y::Int64)\n",
      "   @ Main ~/Documents/GitHub/JULIA_projects/DocsManual/03_Constructors.ipynb:4\n",
      " [3] top-level scope\n",
      "   @ ~/Documents/GitHub/JULIA_projects/DocsManual/03_Constructors.ipynb:1"
     ]
    }
   ],
   "source": [
    "OrderedPair(3, 2)"
   ]
  },
  {
   "cell_type": "code",
   "execution_count": 10,
   "metadata": {},
   "outputs": [],
   "source": [
    "mutable struct SelfRef \n",
    "    obj::SelfRef \n",
    "end "
   ]
  },
  {
   "cell_type": "code",
   "execution_count": 11,
   "metadata": {},
   "outputs": [
    {
     "data": {
      "text/plain": [
       "true"
      ]
     },
     "metadata": {},
     "output_type": "display_data"
    }
   ],
   "source": [
    "mutable struct SelfRef1\n",
    "    obj::SelfRef1\n",
    "    SelfRef1() = (x = new(); x.obj = x)\n",
    "end \n",
    "\n",
    "x = SelfRef1()\n",
    "x == x.obj.obj"
   ]
  },
  {
   "cell_type": "code",
   "execution_count": 13,
   "metadata": {},
   "outputs": [],
   "source": [
    "struct OurRational{T<:Integer} <: Real\n",
    "    num::T \n",
    "    den::T \n",
    "    function OurRational{T}(num::T, den::T) where T<:Integer \n",
    "        den == 0 ? error(\"den=0\") : true \n",
    "        num = flipsign(num, den)\n",
    "        den = flipsign(den, den)\n",
    "        g = gcd(num, den)\n",
    "        num = div(num, g)\n",
    "        den = div(den, g)\n",
    "        new(num, den)\n",
    "    end \n",
    "end "
   ]
  },
  {
   "cell_type": "code",
   "execution_count": 15,
   "metadata": {},
   "outputs": [
    {
     "data": {
      "text/plain": [
       "OurRational{Int64}(2, 1)"
      ]
     },
     "metadata": {},
     "output_type": "display_data"
    }
   ],
   "source": [
    "OurRational(n::T, d::T) where {T<:Integer} = OurRational{T}(n, d)\n",
    "OurRational(n::Integer, d::Integer) = OurRational(promote(n, d)...)\n",
    "OurRational(n::Integer) = OurRational(n, one(n))\n",
    "OurRational(2)"
   ]
  },
  {
   "cell_type": "code",
   "execution_count": null,
   "metadata": {},
   "outputs": [],
   "source": []
  }
 ],
 "metadata": {
  "kernelspec": {
   "display_name": "Julia 1.9.0",
   "language": "julia",
   "name": "julia-1.9"
  },
  "language_info": {
   "file_extension": ".jl",
   "mimetype": "application/julia",
   "name": "julia",
   "version": "1.9.0"
  },
  "orig_nbformat": 4
 },
 "nbformat": 4,
 "nbformat_minor": 2
}
