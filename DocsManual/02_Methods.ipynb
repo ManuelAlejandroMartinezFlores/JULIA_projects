{
 "cells": [
  {
   "cell_type": "code",
   "execution_count": 1,
   "metadata": {},
   "outputs": [
    {
     "data": {
      "text/plain": [
       "1"
      ]
     },
     "metadata": {},
     "output_type": "display_data"
    }
   ],
   "source": [
    "1"
   ]
  },
  {
   "cell_type": "code",
   "execution_count": 2,
   "metadata": {},
   "outputs": [
    {
     "data": {
      "text/plain": [
       "(true, false)"
      ]
     },
     "metadata": {},
     "output_type": "display_data"
    }
   ],
   "source": [
    "same_type(x::T, y::T) where {T} = true \n",
    "same_type(x, y) = false \n",
    "\n",
    "same_type(1, 2), same_type(1, 2.)"
   ]
  },
  {
   "cell_type": "code",
   "execution_count": 3,
   "metadata": {},
   "outputs": [
    {
     "data": {
      "text/plain": [
       "3-element Vector{Int64}:\n",
       " 1\n",
       " 2\n",
       " 3"
      ]
     },
     "metadata": {},
     "output_type": "display_data"
    }
   ],
   "source": [
    "myappend(v::Vector{T}, x::T) where {T} = [v..., x]\n",
    "myappend([1, 2], 3)"
   ]
  },
  {
   "cell_type": "code",
   "execution_count": 4,
   "metadata": {},
   "outputs": [
    {
     "ename": "MethodError",
     "evalue": "MethodError: no method matching myappend(::Vector{Int64}, ::Float64)\n\nClosest candidates are:\n  myappend(::Vector{T}, !Matched::T) where T\n   @ Main ~/Documents/GitHub/JULIA_projects/DocsManual/02_Methods.ipynb:1\n",
     "output_type": "error",
     "traceback": [
      "MethodError: no method matching myappend(::Vector{Int64}, ::Float64)\n",
      "\n",
      "Closest candidates are:\n",
      "  myappend(::Vector{T}, !Matched::T) where T\n",
      "   @ Main ~/Documents/GitHub/JULIA_projects/DocsManual/02_Methods.ipynb:1\n",
      "\n",
      "\n",
      "Stacktrace:\n",
      " [1] top-level scope\n",
      "   @ ~/Documents/GitHub/JULIA_projects/DocsManual/02_Methods.ipynb:1"
     ]
    }
   ],
   "source": [
    "myappend([1, 2], 1.)"
   ]
  },
  {
   "cell_type": "code",
   "execution_count": 5,
   "metadata": {},
   "outputs": [
    {
     "data": {
      "text/plain": [
       "(true, false)"
      ]
     },
     "metadata": {},
     "output_type": "display_data"
    }
   ],
   "source": [
    "same_type_numeric(x::T, y::T) where {T<:Number} = true \n",
    "same_type_numeric(X::Number, y::Number) = false \n",
    "\n",
    "same_type_numeric(1, 2), same_type_numeric(1, 2.)"
   ]
  },
  {
   "cell_type": "code",
   "execution_count": 6,
   "metadata": {},
   "outputs": [
    {
     "ename": "MethodError",
     "evalue": "MethodError: no method matching same_type_numeric(::String, ::Int64)\n\nClosest candidates are:\n  same_type_numeric(!Matched::T, ::T) where T<:Number\n   @ Main ~/Documents/GitHub/JULIA_projects/DocsManual/02_Methods.ipynb:1\n  same_type_numeric(!Matched::Number, ::Number)\n   @ Main ~/Documents/GitHub/JULIA_projects/DocsManual/02_Methods.ipynb:2\n",
     "output_type": "error",
     "traceback": [
      "MethodError: no method matching same_type_numeric(::String, ::Int64)\n",
      "\n",
      "Closest candidates are:\n",
      "  same_type_numeric(!Matched::T, ::T) where T<:Number\n",
      "   @ Main ~/Documents/GitHub/JULIA_projects/DocsManual/02_Methods.ipynb:1\n",
      "  same_type_numeric(!Matched::Number, ::Number)\n",
      "   @ Main ~/Documents/GitHub/JULIA_projects/DocsManual/02_Methods.ipynb:2\n",
      "\n",
      "\n",
      "Stacktrace:\n",
      " [1] top-level scope\n",
      "   @ ~/Documents/GitHub/JULIA_projects/DocsManual/02_Methods.ipynb:1"
     ]
    }
   ],
   "source": [
    "same_type_numeric(\"\", 1)"
   ]
  },
  {
   "cell_type": "code",
   "execution_count": 8,
   "metadata": {},
   "outputs": [
    {
     "ename": "MethodError",
     "evalue": "MethodError: no method matching newfun()\nThe applicable method may be too new: running in world age 33465, while current world is 33466.\n\nClosest candidates are:\n  newfun() (method too new to be called from this world context.)\n   @ Main ~/Documents/GitHub/JULIA_projects/DocsManual/02_Methods.ipynb:2\n",
     "output_type": "error",
     "traceback": [
      "MethodError: no method matching newfun()\n",
      "The applicable method may be too new: running in world age 33465, while current world is 33466.\n",
      "\n",
      "Closest candidates are:\n",
      "  newfun() (method too new to be called from this world context.)\n",
      "   @ Main ~/Documents/GitHub/JULIA_projects/DocsManual/02_Methods.ipynb:2\n",
      "\n",
      "\n",
      "Stacktrace:\n",
      " [1] tryeval()\n",
      "   @ Main ~/Documents/GitHub/JULIA_projects/DocsManual/02_Methods.ipynb:3\n",
      " [2] top-level scope\n",
      "   @ ~/Documents/GitHub/JULIA_projects/DocsManual/02_Methods.ipynb:6"
     ]
    }
   ],
   "source": [
    "function tryeval()\n",
    "    @eval newfun() = 1 \n",
    "    newfun()\n",
    "end \n",
    "\n",
    "tryeval()"
   ]
  },
  {
   "cell_type": "code",
   "execution_count": 9,
   "metadata": {},
   "outputs": [
    {
     "data": {
      "text/plain": [
       "1"
      ]
     },
     "metadata": {},
     "output_type": "display_data"
    }
   ],
   "source": [
    "newfun()"
   ]
  },
  {
   "cell_type": "code",
   "execution_count": 10,
   "metadata": {},
   "outputs": [
    {
     "data": {
      "text/plain": [
       "2"
      ]
     },
     "metadata": {},
     "output_type": "display_data"
    }
   ],
   "source": [
    "function tryeval2()\n",
    "    @eval newfun2() = 2 \n",
    "    Base.invokelatest(newfun2)\n",
    "end \n",
    "tryeval2()"
   ]
  },
  {
   "cell_type": "code",
   "execution_count": 11,
   "metadata": {},
   "outputs": [
    {
     "data": {
      "text/plain": [
       "f (generic function with 3 methods)"
      ]
     },
     "metadata": {},
     "output_type": "display_data"
    }
   ],
   "source": [
    "f(x) = \"original\"\n",
    "g(x) = f(x) \n",
    "t = @async f(wait()); yield();\n",
    "\n",
    "f(x::Int) = \"int\"\n",
    "f(x::Type{Int}) = \"type int\""
   ]
  },
  {
   "cell_type": "code",
   "execution_count": 12,
   "metadata": {},
   "outputs": [
    {
     "data": {
      "text/plain": [
       "\"int\""
      ]
     },
     "metadata": {},
     "output_type": "display_data"
    }
   ],
   "source": [
    "f(1)"
   ]
  },
  {
   "cell_type": "code",
   "execution_count": 13,
   "metadata": {},
   "outputs": [
    {
     "data": {
      "text/plain": [
       "\"original\""
      ]
     },
     "metadata": {},
     "output_type": "display_data"
    }
   ],
   "source": [
    "fetch(schedule(t, 1))"
   ]
  },
  {
   "cell_type": "code",
   "execution_count": 14,
   "metadata": {},
   "outputs": [
    {
     "data": {
      "text/plain": [
       "\"int\""
      ]
     },
     "metadata": {},
     "output_type": "display_data"
    }
   ],
   "source": [
    "t = @async f(wait()); yield();\n",
    "fetch(schedule(t, 1))"
   ]
  },
  {
   "cell_type": "code",
   "execution_count": 15,
   "metadata": {},
   "outputs": [
    {
     "data": {
      "text/plain": [
       "matmul (generic function with 1 method)"
      ]
     },
     "metadata": {},
     "output_type": "display_data"
    }
   ],
   "source": [
    "function matmul(a::AbstractMatrix, b::AbstractMatrix)\n",
    "    op = (ai, bi) -> ai * bi + ai* bi \n",
    "\n",
    "    R = promote_op(op, eltype(a), eltype(b))\n",
    "\n",
    "    out = similar(b, R, (size(a, 1), size(b, 2)))\n",
    "    if size(a, 2) > 0\n",
    "        for j in 1:size(b, 2)\n",
    "            for i in 1:size(a, 1)\n",
    "                a::R = a[i, 1] * b[1, j]\n",
    "                for k in 2:size(a, 2)\n",
    "                    ab += a[i, k] * b[k, j]\n",
    "                end \n",
    "                out[i, j] = ab \n",
    "            end \n",
    "        end \n",
    "    end \n",
    "    output \n",
    "end "
   ]
  },
  {
   "cell_type": "code",
   "execution_count": 16,
   "metadata": {},
   "outputs": [
    {
     "ename": "MethodError",
     "evalue": "MethodError: no method matching bar(::Int64, ::Int64, ::Int64)\n\nClosest candidates are:\n  bar(::Any, ::Any, ::Any, !Matched::Any)\n   @ Main ~/Documents/GitHub/JULIA_projects/DocsManual/02_Methods.ipynb:1\n",
     "output_type": "error",
     "traceback": [
      "MethodError: no method matching bar(::Int64, ::Int64, ::Int64)\n",
      "\n",
      "Closest candidates are:\n",
      "  bar(::Any, ::Any, ::Any, !Matched::Any)\n",
      "   @ Main ~/Documents/GitHub/JULIA_projects/DocsManual/02_Methods.ipynb:1\n",
      "\n",
      "\n",
      "Stacktrace:\n",
      " [1] top-level scope\n",
      "   @ ~/Documents/GitHub/JULIA_projects/DocsManual/02_Methods.ipynb:2"
     ]
    }
   ],
   "source": [
    "bar(a, b, x::Vararg{Any, 2}) = (a, b, x)\n",
    "bar(1, 2, 3)"
   ]
  },
  {
   "cell_type": "code",
   "execution_count": 17,
   "metadata": {},
   "outputs": [
    {
     "data": {
      "text/plain": [
       "(1, 2, (3, 4))"
      ]
     },
     "metadata": {},
     "output_type": "display_data"
    }
   ],
   "source": [
    "bar(1, 2, 3, 4)"
   ]
  },
  {
   "cell_type": "code",
   "execution_count": 19,
   "metadata": {},
   "outputs": [
    {
     "data": {
      "text/plain": [
       "100"
      ]
     },
     "metadata": {},
     "output_type": "display_data"
    }
   ],
   "source": [
    "struct Polynomial{R}\n",
    "    coeffs::Vector{R}\n",
    "end \n",
    "\n",
    "function (p::Polynomial)(x)\n",
    "    v = p.coeffs[end]\n",
    "    for i in (length(p.coeffs) - 1):-1:1\n",
    "        v = v * x + p.coeffs[i]\n",
    "    end \n",
    "    v \n",
    "end \n",
    "\n",
    "p = Polynomial([0, 0, 1])\n",
    "p(10)"
   ]
  },
  {
   "cell_type": "code",
   "execution_count": null,
   "metadata": {},
   "outputs": [],
   "source": []
  }
 ],
 "metadata": {
  "kernelspec": {
   "display_name": "Julia 1.9.0",
   "language": "julia",
   "name": "julia-1.9"
  },
  "language_info": {
   "file_extension": ".jl",
   "mimetype": "application/julia",
   "name": "julia",
   "version": "1.9.0"
  },
  "orig_nbformat": 4
 },
 "nbformat": 4,
 "nbformat_minor": 2
}
