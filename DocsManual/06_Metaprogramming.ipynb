{
 "cells": [
  {
   "cell_type": "code",
   "execution_count": 1,
   "metadata": {},
   "outputs": [
    {
     "data": {
      "text/plain": [
       "1"
      ]
     },
     "metadata": {},
     "output_type": "display_data"
    }
   ],
   "source": [
    "1"
   ]
  },
  {
   "cell_type": "code",
   "execution_count": 2,
   "metadata": {},
   "outputs": [
    {
     "data": {
      "text/plain": [
       ":(1 + 1)"
      ]
     },
     "metadata": {},
     "output_type": "display_data"
    }
   ],
   "source": [
    "prog = \"1+1\"\n",
    "ex1 = Meta.parse(prog)"
   ]
  },
  {
   "cell_type": "code",
   "execution_count": 3,
   "metadata": {},
   "outputs": [
    {
     "data": {
      "text/plain": [
       "(:call, Any[:+, 1, 1])"
      ]
     },
     "metadata": {},
     "output_type": "display_data"
    }
   ],
   "source": [
    "ex1.head, ex1.args"
   ]
  },
  {
   "cell_type": "code",
   "execution_count": 4,
   "metadata": {},
   "outputs": [
    {
     "name": "stdout",
     "output_type": "stream",
     "text": [
      "Expr\n",
      "  head: Symbol call\n",
      "  args: Array{Any}("
     ]
    },
    {
     "name": "stdout",
     "output_type": "stream",
     "text": [
      "(3,))\n",
      "    1: Symbol +\n",
      "    2: Int64 1\n",
      "    3: Int64 1\n"
     ]
    }
   ],
   "source": [
    "dump(ex1)"
   ]
  },
  {
   "cell_type": "code",
   "execution_count": 6,
   "metadata": {},
   "outputs": [
    {
     "name": "stdout",
     "output_type": "stream",
     "text": [
      "(:call, :/, (:call, :+, 4, 4), 2)"
     ]
    }
   ],
   "source": [
    "ex3 = Meta.parse(\"(4 + 4) / 2\")\n",
    "Meta.show_sexpr(ex3)"
   ]
  },
  {
   "cell_type": "code",
   "execution_count": 7,
   "metadata": {},
   "outputs": [
    {
     "data": {
      "text/plain": [
       ":(1 + b)"
      ]
     },
     "metadata": {},
     "output_type": "display_data"
    }
   ],
   "source": [
    "a = 1 \n",
    ":($a + b)"
   ]
  },
  {
   "cell_type": "code",
   "execution_count": 8,
   "metadata": {},
   "outputs": [
    {
     "data": {
      "text/plain": [
       "3"
      ]
     },
     "metadata": {},
     "output_type": "display_data"
    }
   ],
   "source": [
    "ex = :(1 + 2)\n",
    "eval(ex)"
   ]
  },
  {
   "cell_type": "code",
   "execution_count": 10,
   "metadata": {},
   "outputs": [
    {
     "data": {
      "text/plain": [
       ":(2 + 5 * 8)"
      ]
     },
     "metadata": {},
     "output_type": "display_data"
    }
   ],
   "source": [
    "function make_expr2(op, op1, op2)\n",
    "    op1f, op2f = map(x -> isa(x, Number) ? 2*x : x, (op1, op2))\n",
    "    Expr(:call, op, op1f, op2f)\n",
    "end \n",
    "\n",
    "make_expr2(:+, 1, Expr(:call, :*, 5, 8))"
   ]
  },
  {
   "cell_type": "code",
   "execution_count": 12,
   "metadata": {},
   "outputs": [
    {
     "name": "stdout",
     "output_type": "stream",
     "text": [
      "hello\n"
     ]
    }
   ],
   "source": [
    "macro sayhello()\n",
    "    :( println(\"hello\") )\n",
    "end \n",
    "\n",
    "@sayhello()"
   ]
  },
  {
   "cell_type": "code",
   "execution_count": 14,
   "metadata": {},
   "outputs": [
    {
     "name": "stdout",
     "output_type": "stream",
     "text": [
      "hello human\n"
     ]
    }
   ],
   "source": [
    "macro sayhello(name)\n",
    "    :( println(\"hello \", $name) )\n",
    "end \n",
    "@sayhello(\"human\")"
   ]
  },
  {
   "cell_type": "code",
   "execution_count": 15,
   "metadata": {},
   "outputs": [
    {
     "name": "stdout",
     "output_type": "stream",
     "text": [
      "parse time\n"
     ]
    }
   ],
   "source": [
    "macro twostep(arg)\n",
    "    println(\"parse time\")\n",
    "    :( println(\"runtime\") )\n",
    "end \n",
    "\n",
    "ex = macroexpand(Main, :(@twostep :(1, 2, 3)));"
   ]
  },
  {
   "cell_type": "code",
   "execution_count": 16,
   "metadata": {},
   "outputs": [
    {
     "name": "stdout",
     "output_type": "stream",
     "text": [
      "runtime\n"
     ]
    }
   ],
   "source": [
    "eval(ex)"
   ]
  },
  {
   "cell_type": "code",
   "execution_count": 17,
   "metadata": {},
   "outputs": [
    {
     "ename": "AssertionError",
     "evalue": "AssertionError: 1 == 0",
     "output_type": "error",
     "traceback": [
      "AssertionError: 1 == 0\n",
      "\n",
      "Stacktrace:\n",
      " [1] top-level scope\n",
      "   @ ~/Documents/GitHub/JULIA_projects/DocsManual/06_Metaprogramming.ipynb:6"
     ]
    }
   ],
   "source": [
    "macro assert(ex)\n",
    "    :( $ex ? nothing : throw(AssertionError($(string(ex)))) )\n",
    "end \n",
    "\n",
    "@assert 1 == 1. \n",
    "@assert 1 == 0"
   ]
  },
  {
   "cell_type": "code",
   "execution_count": 20,
   "metadata": {},
   "outputs": [
    {
     "name": "stdout",
     "output_type": "stream",
     "text": [
      "time: 0.006970793 seconds\n"
     ]
    },
    {
     "data": {
      "text/plain": [
       "5050"
      ]
     },
     "metadata": {},
     "output_type": "display_data"
    }
   ],
   "source": [
    "macro time(ex)\n",
    "    return quote \n",
    "        local t0 = time_ns()\n",
    "        local val = $(esc(ex))\n",
    "        local t1 = time_ns()\n",
    "        println(\"time: \", (t1 - t0)/1e9, \" seconds\")\n",
    "        val \n",
    "    end \n",
    "end \n",
    "\n",
    "\n",
    "f() = sum(1:100)\n",
    "@time f()\n"
   ]
  },
  {
   "cell_type": "code",
   "execution_count": 21,
   "metadata": {},
   "outputs": [
    {
     "data": {
      "text/plain": [
       "0"
      ]
     },
     "metadata": {},
     "output_type": "display_data"
    }
   ],
   "source": [
    "macro zerox()\n",
    "    return esc(:(x = 0))\n",
    "end \n",
    "\n",
    "function foo()\n",
    "    x = 1 \n",
    "    @zerox \n",
    "    x \n",
    "end \n",
    "foo()"
   ]
  },
  {
   "cell_type": "code",
   "execution_count": 26,
   "metadata": {},
   "outputs": [
    {
     "name": "stdout",
     "output_type": "stream",
     "text": [
      "time: 7.0e-8 seconds\n"
     ]
    },
    {
     "data": {
      "text/plain": [
       "500500"
      ]
     },
     "metadata": {},
     "output_type": "display_data"
    }
   ],
   "source": [
    "function timeit(f)\n",
    "    t0 = time_ns()\n",
    "    val = f()\n",
    "    t1 = time_ns()\n",
    "    println(\"time: \", (t1 - t0)/1e9, \" seconds\")\n",
    "    val \n",
    "end \n",
    "\n",
    "macro time(exp)\n",
    "    :(timeit(() -> $(esc(exp))))\n",
    "end \n",
    "\n",
    "@time sum(1:1000)"
   ]
  },
  {
   "cell_type": "code",
   "execution_count": 27,
   "metadata": {},
   "outputs": [
    {
     "name": "stdout",
     "output_type": "stream",
     "text": [
      "int\n",
      "1\n"
     ]
    }
   ],
   "source": [
    "macro m(::Int)\n",
    "    println(\"int\")\n",
    "end \n",
    "\n",
    "macro m(args...)\n",
    "    println(\"$(length(args))\")\n",
    "end \n",
    "\n",
    "@m 1 \n",
    "\n",
    "x = 2 \n",
    "@m x "
   ]
  },
  {
   "cell_type": "code",
   "execution_count": 30,
   "metadata": {},
   "outputs": [
    {
     "data": {
      "text/plain": [
       "(MyNumber(1.0), MyNumber(0.0))"
      ]
     },
     "metadata": {},
     "output_type": "display_data"
    }
   ],
   "source": [
    "struct MyNumber \n",
    "    x::Float64 \n",
    "end \n",
    "\n",
    "for op in (:sin, :cos, :tan, :log, :exp)\n",
    "    eval(quote\n",
    "        Base.$op(a::MyNumber) = MyNumber($op(a.x))\n",
    "    end)\n",
    "end \n",
    "\n",
    "x = MyNumber(0.)\n",
    "cos(x), sin(x)"
   ]
  },
  {
   "cell_type": "code",
   "execution_count": 31,
   "metadata": {},
   "outputs": [
    {
     "name": "stdout",
     "output_type": "stream",
     "text": [
      "Int64\n"
     ]
    }
   ],
   "source": [
    "@generated function foo(x)\n",
    "    Core.println(x)\n",
    "    :(x * x)\n",
    "end \n",
    "\n",
    "x = foo(2);"
   ]
  },
  {
   "cell_type": "code",
   "execution_count": 32,
   "metadata": {},
   "outputs": [
    {
     "data": {
      "text/plain": [
       "4"
      ]
     },
     "metadata": {},
     "output_type": "display_data"
    }
   ],
   "source": [
    "x"
   ]
  },
  {
   "cell_type": "code",
   "execution_count": 33,
   "metadata": {},
   "outputs": [
    {
     "name": "stdout",
     "output_type": "stream",
     "text": [
      "String\n"
     ]
    },
    {
     "data": {
      "text/plain": [
       "\"barbar\""
      ]
     },
     "metadata": {},
     "output_type": "display_data"
    }
   ],
   "source": [
    "y = foo(\"bar\")"
   ]
  },
  {
   "cell_type": "code",
   "execution_count": 34,
   "metadata": {},
   "outputs": [
    {
     "data": {
      "text/plain": [
       "16"
      ]
     },
     "metadata": {},
     "output_type": "display_data"
    }
   ],
   "source": [
    "foo(4)"
   ]
  },
  {
   "cell_type": "code",
   "execution_count": 36,
   "metadata": {},
   "outputs": [
    {
     "data": {
      "text/plain": [
       "(\"int\", \"original\", \"int\")"
      ]
     },
     "metadata": {},
     "output_type": "display_data"
    }
   ],
   "source": [
    "f(x) = \"original\"\n",
    "\n",
    "g(x) = f(x) \n",
    "@generated g1(x) = f(x)\n",
    "@generated g2(x) = :(f(x))\n",
    "\n",
    "f(x::Int) = \"int\"\n",
    "\n",
    "f(1), g1(1), g2(1)"
   ]
  },
  {
   "cell_type": "code",
   "execution_count": 37,
   "metadata": {},
   "outputs": [
    {
     "data": {
      "text/plain": [
       "4"
      ]
     },
     "metadata": {},
     "output_type": "display_data"
    }
   ],
   "source": [
    "function sub2ind_loop(dims::NTuple{N}, I::Integer...) where N \n",
    "    ind = I[N] - 1 \n",
    "    for i in N-1:-1:1\n",
    "        ind = I[i] - 1 + dims[i] * ind \n",
    "    end \n",
    "    ind + 1\n",
    "end \n",
    "sub2ind_loop((3, 5), 1, 2)"
   ]
  },
  {
   "cell_type": "code",
   "execution_count": 43,
   "metadata": {},
   "outputs": [
    {
     "data": {
      "text/plain": [
       "4"
      ]
     },
     "metadata": {},
     "output_type": "display_data"
    }
   ],
   "source": [
    "sub2ind_rec(dims::Tuple{}) = 1\n",
    "sub2ind_rec(dims::Tuple{}, i1::Integer, I::Integer...) = \n",
    "    i1 == 1 ? sub2ind_rec(dims, I...) : throw(BoundsError())\n",
    "sub2ind_rec(dims::Tuple{Integer, Vararg{Integer}}, i1::Integer) = i1 \n",
    "sub2ind_rec(dims::Tuple{Integer, Vararg{Integer}}, i1::Integer, I::Integer...) = \n",
    "    i1 + dims[1] * (sub2ind_rec(Base.tail(dims), I...) - 1)\n",
    "\n",
    "sub2ind_rec((3, 5), 1, 2)\n"
   ]
  },
  {
   "cell_type": "code",
   "execution_count": 44,
   "metadata": {},
   "outputs": [
    {
     "data": {
      "text/plain": [
       "4"
      ]
     },
     "metadata": {},
     "output_type": "display_data"
    }
   ],
   "source": [
    "@generated function sub2ind_gen(dims::NTuple{N}, I::Integer...) where N \n",
    "    ex = :(I[$N] - 1)\n",
    "    for i in N-1:-1:1\n",
    "        ex = :(I[$i] - 1 + dims[$i] * $ex)\n",
    "    end \n",
    "    :($ex + 1)\n",
    "end \n",
    "\n",
    "sub2ind_gen((3, 5), 1, 2)"
   ]
  },
  {
   "cell_type": "code",
   "execution_count": null,
   "metadata": {},
   "outputs": [],
   "source": []
  }
 ],
 "metadata": {
  "kernelspec": {
   "display_name": "Julia 1.9.0",
   "language": "julia",
   "name": "julia-1.9"
  },
  "language_info": {
   "file_extension": ".jl",
   "mimetype": "application/julia",
   "name": "julia",
   "version": "1.9.0"
  },
  "orig_nbformat": 4
 },
 "nbformat": 4,
 "nbformat_minor": 2
}
