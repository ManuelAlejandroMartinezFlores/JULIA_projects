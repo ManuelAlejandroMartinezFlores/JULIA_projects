{
 "cells": [
  {
   "cell_type": "code",
   "execution_count": 2,
   "metadata": {},
   "outputs": [
    {
     "data": {
      "text/plain": [
       "1"
      ]
     },
     "metadata": {},
     "output_type": "display_data"
    }
   ],
   "source": [
    "1"
   ]
  },
  {
   "cell_type": "code",
   "execution_count": 7,
   "metadata": {},
   "outputs": [
    {
     "data": {
      "text/plain": [
       "Task (runnable) @0x0000000103c128c0"
      ]
     },
     "metadata": {},
     "output_type": "display_data"
    }
   ],
   "source": [
    "t = @task begin \n",
    "    sleep(5)\n",
    "    \"done\"\n",
    "end "
   ]
  },
  {
   "cell_type": "code",
   "execution_count": 8,
   "metadata": {},
   "outputs": [
    {
     "data": {
      "text/plain": [
       "Task (runnable) @0x0000000103c128c0"
      ]
     },
     "metadata": {},
     "output_type": "display_data"
    }
   ],
   "source": [
    "schedule(t)"
   ]
  },
  {
   "cell_type": "code",
   "execution_count": 11,
   "metadata": {},
   "outputs": [
    {
     "data": {
      "text/plain": [
       "Task (done) @0x0000000103c128c0"
      ]
     },
     "metadata": {},
     "output_type": "display_data"
    }
   ],
   "source": [
    "t"
   ]
  },
  {
   "cell_type": "code",
   "execution_count": 14,
   "metadata": {},
   "outputs": [
    {
     "data": {
      "text/plain": [
       "\"stop\""
      ]
     },
     "metadata": {},
     "output_type": "display_data"
    }
   ],
   "source": [
    "function producer(c::Channel)\n",
    "    put!(c, \"start\")\n",
    "    for n=1:4\n",
    "        put!(c, 2n)\n",
    "    end \n",
    "    put!(c, \"stop\")\n",
    "end\n",
    "\n",
    "c = Channel(producer)\n",
    "\n",
    "take!(c)\n",
    "take!(c)\n",
    "take!(c)\n",
    "take!(c)\n",
    "take!(c)\n",
    "take!(c)"
   ]
  },
  {
   "cell_type": "code",
   "execution_count": 16,
   "metadata": {},
   "outputs": [],
   "source": [
    "c1 = Channel(32)\n",
    "c2 = Channel(32)\n",
    "\n",
    "function foo()\n",
    "    while true \n",
    "        data = take!(c1)\n",
    "        put!(c2, result)\n",
    "    end \n",
    "end \n",
    "\n",
    "for _ in 1:3 \n",
    "    errormonitor(@async foo())\n",
    "end"
   ]
  },
  {
   "cell_type": "code",
   "execution_count": 19,
   "metadata": {},
   "outputs": [
    {
     "name": "stderr",
     "output_type": "stream",
     "text": [
      "WARNING: redefinition of constant jobs. This may fail, cause incorrect answers, or produce other errors.\n",
      "WARNING: redefinition of constant results. This may fail, cause incorrect answers, or produce other errors.\n"
     ]
    },
    {
     "name": "stdout",
     "output_type": "stream",
     "text": [
      "2 finished in 0.1 seconds\n"
     ]
    },
    {
     "name": "stdout",
     "output_type": "stream",
     "text": [
      "3 finished in 0.5 seconds\n"
     ]
    },
    {
     "name": "stdout",
     "output_type": "stream",
     "text": [
      "5 finished in 0.47 seconds\n"
     ]
    },
    {
     "name": "stdout",
     "output_type": "stream",
     "text": [
      "4 finished in 0.73 seconds\n"
     ]
    },
    {
     "name": "stdout",
     "output_type": "stream",
     "text": [
      "8 finished in 0.12 seconds\n",
      "1 finished in 0.85 seconds\n"
     ]
    },
    {
     "name": "stdout",
     "output_type": "stream",
     "text": [
      "6 finished in 0.44 seconds\n",
      "9 finished in 0.15 seconds\n"
     ]
    },
    {
     "name": "stdout",
     "output_type": "stream",
     "text": [
      "7 finished in 0.56 seconds\n",
      "11 finished in 0.23 seconds\n"
     ]
    },
    {
     "name": "stdout",
     "output_type": "stream",
     "text": [
      "10 finished in 0.44 seconds\n"
     ]
    },
    {
     "name": "stdout",
     "output_type": "stream",
     "text": [
      "12 finished in 0.53 seconds\n"
     ]
    },
    {
     "data": {
      "text/plain": [
       "1.570316073"
      ]
     },
     "metadata": {},
     "output_type": "display_data"
    }
   ],
   "source": [
    "const jobs = Channel{Int}(32)\n",
    "const results = Channel{Tuple}(32)\n",
    "\n",
    "function do_work()\n",
    "    for job_id in jobs \n",
    "        exec_time = rand() \n",
    "        sleep(exec_time)\n",
    "        put!(results, (job_id, exec_time))\n",
    "    end \n",
    "end \n",
    "\n",
    "function make_jobs(n)\n",
    "    for i in 1:n \n",
    "        put!(jobs, i)\n",
    "    end \n",
    "end\n",
    "\n",
    "n = 12\n",
    "\n",
    "errormonitor(@async make_jobs(n))\n",
    "\n",
    "for i in 1:4\n",
    "    errormonitor(@async do_work())\n",
    "end \n",
    "\n",
    "@elapsed while n > 0 \n",
    "    job_id, exec_time = take!(results)\n",
    "    println(\"$job_id finished in $(round(exec_time; digits=2)) seconds\")\n",
    "    global n = n - 1\n",
    "end"
   ]
  },
  {
   "cell_type": "code",
   "execution_count": null,
   "metadata": {},
   "outputs": [],
   "source": []
  }
 ],
 "metadata": {
  "kernelspec": {
   "display_name": "Julia 1.9.0",
   "language": "julia",
   "name": "julia-1.9"
  },
  "language_info": {
   "file_extension": ".jl",
   "mimetype": "application/julia",
   "name": "julia",
   "version": "1.9.0"
  },
  "orig_nbformat": 4
 },
 "nbformat": 4,
 "nbformat_minor": 2
}
