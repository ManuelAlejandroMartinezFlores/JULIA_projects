{
 "cells": [
  {
   "cell_type": "code",
   "execution_count": 1,
   "metadata": {},
   "outputs": [
    {
     "data": {
      "text/plain": [
       "1"
      ]
     },
     "metadata": {},
     "output_type": "display_data"
    }
   ],
   "source": [
    "1"
   ]
  },
  {
   "cell_type": "code",
   "execution_count": 2,
   "metadata": {},
   "outputs": [
    {
     "name": "stdout",
     "output_type": "stream",
     "text": [
      "1\n",
      "4\n",
      "9\n"
     ]
    }
   ],
   "source": [
    "struct Squares\n",
    "    count::Int\n",
    "end \n",
    "\n",
    "Base.iterate(S::Squares, state=1) = state > S.count ? nothing : (state * state, state + 1)\n",
    "\n",
    "for item in Squares(3)\n",
    "    println(item)\n",
    "end "
   ]
  },
  {
   "cell_type": "code",
   "execution_count": 3,
   "metadata": {},
   "outputs": [
    {
     "data": {
      "text/plain": [
       "(true, 14)"
      ]
     },
     "metadata": {},
     "output_type": "display_data"
    }
   ],
   "source": [
    "25 in Squares(6), sum(Squares(3))"
   ]
  },
  {
   "cell_type": "code",
   "execution_count": 4,
   "metadata": {},
   "outputs": [
    {
     "data": {
      "text/plain": [
       "3-element Vector{Int64}:\n",
       " 1\n",
       " 4\n",
       " 9"
      ]
     },
     "metadata": {},
     "output_type": "display_data"
    }
   ],
   "source": [
    "Base.eltype(::Type{Squares}) = Int \n",
    "Base.length(S::Squares) = S.count \n",
    "\n",
    "collect(Squares(3))"
   ]
  },
  {
   "cell_type": "code",
   "execution_count": 7,
   "metadata": {},
   "outputs": [
    {
     "data": {
      "text/plain": [
       "3.67968029e8"
      ]
     },
     "metadata": {},
     "output_type": "display_data"
    }
   ],
   "source": [
    "Base.sum(S::Squares) = (n=S.count; return n*(n+1)*(2n+1)/6)\n",
    "sum(Squares(1033))"
   ]
  },
  {
   "cell_type": "code",
   "execution_count": 8,
   "metadata": {},
   "outputs": [
    {
     "data": {
      "text/plain": [
       "4-element Vector{Int64}:\n",
       " 16\n",
       "  9\n",
       "  4\n",
       "  1"
      ]
     },
     "metadata": {},
     "output_type": "display_data"
    }
   ],
   "source": [
    "Base.iterate(rS::Iterators.Reverse{Squares}, state=rS.itr.count) = state < 1 ? nothing : (state*state, state-1)\n",
    "\n",
    "collect(Iterators.reverse(Squares(4)))"
   ]
  },
  {
   "cell_type": "code",
   "execution_count": 9,
   "metadata": {},
   "outputs": [
    {
     "data": {
      "text/plain": [
       "529"
      ]
     },
     "metadata": {},
     "output_type": "display_data"
    }
   ],
   "source": [
    "function Base.getindex(S::Squares, i::Int)\n",
    "    1 <= i <= S.count || throw(BoundsError(S, i))\n",
    "    i * i \n",
    "end \n",
    "\n",
    "Squares(100)[23]"
   ]
  },
  {
   "cell_type": "code",
   "execution_count": 10,
   "metadata": {},
   "outputs": [
    {
     "data": {
      "text/plain": [
       "529"
      ]
     },
     "metadata": {},
     "output_type": "display_data"
    }
   ],
   "source": [
    "Base.first_index(S::Squares) = 1 \n",
    "Base.lastindex(S::Squares) = length(S)\n",
    "Squares(23)[end]"
   ]
  },
  {
   "cell_type": "code",
   "execution_count": 13,
   "metadata": {},
   "outputs": [
    {
     "data": {
      "text/plain": [
       "3-element Vector{Int64}:\n",
       "  9\n",
       " 16\n",
       " 25"
      ]
     },
     "metadata": {},
     "output_type": "display_data"
    }
   ],
   "source": [
    "Base.getindex(S::Squares, i::Number) = S[convert(Int, i)]\n",
    "Base.getindex(S::Squares, I) = [S[i] for i in I]\n",
    "\n",
    "Squares(10)[[3, 4., 5]]"
   ]
  },
  {
   "cell_type": "code",
   "execution_count": 14,
   "metadata": {},
   "outputs": [],
   "source": [
    "struct SquaresVector <: AbstractArray{Int, 1}\n",
    "    count::Int \n",
    "end \n",
    "\n",
    "Base.size(S::SquaresVector) = (S.count, )\n",
    "Base.IndexStyle(::Type{<:SquaresVector}) = IndexLinear()\n",
    "Base.getindex(S::SquaresVector, i::Int) = i*i \n"
   ]
  },
  {
   "cell_type": "code",
   "execution_count": 15,
   "metadata": {},
   "outputs": [
    {
     "data": {
      "text/plain": [
       "4-element SquaresVector:\n",
       "  1\n",
       "  4\n",
       "  9\n",
       " 16"
      ]
     },
     "metadata": {},
     "output_type": "display_data"
    }
   ],
   "source": [
    "s = SquaresVector(4)"
   ]
  },
  {
   "cell_type": "code",
   "execution_count": 16,
   "metadata": {},
   "outputs": [
    {
     "data": {
      "text/plain": [
       "2-element Vector{Int64}:\n",
       "  9\n",
       " 16"
      ]
     },
     "metadata": {},
     "output_type": "display_data"
    }
   ],
   "source": [
    "s[s .> 8]"
   ]
  },
  {
   "cell_type": "code",
   "execution_count": 22,
   "metadata": {},
   "outputs": [],
   "source": [
    "struct SparseArray{T, N} <: AbstractArray{T, N}\n",
    "    data::Dict{NTuple{N, Int}, T}\n",
    "    dims::NTuple{N, Int} \n",
    "end \n",
    "\n",
    "SparseArray(::Type{T}, dims::Int...) where {T} = SparseArray(T, dims)\n",
    "SparseArray(::Type{T}, dims::NTuple{N, Int}) where {T, N} = SparseArray{T, N}(Dict{NTuple{N, Int}, T}(), dims)\n",
    "Base.size(A::SparseArray) = A.dims \n",
    "Base.similar(A::SparseArray, ::Type{T}, dims::Dims) where{T} = SparseArray(T, dims)\n",
    "Base.getindex(A::SparseArray{T, N}, I::Vararg{Int, N}) where {T, N} = get(A.data, I, zero(T))\n",
    "Base.setindex!(A::SparseArray{T, N}, v, I::Vararg{Int, N}) where {T, N} = (A.data[I] = v)"
   ]
  },
  {
   "cell_type": "code",
   "execution_count": 23,
   "metadata": {},
   "outputs": [
    {
     "data": {
      "text/plain": [
       "3×3 SparseArray{Float64, 2}:\n",
       " 0.0  0.0  0.0\n",
       " 0.0  0.0  0.0\n",
       " 0.0  0.0  0.0"
      ]
     },
     "metadata": {},
     "output_type": "display_data"
    }
   ],
   "source": [
    "A = SparseArray(Float64, 3, 3)"
   ]
  },
  {
   "cell_type": "code",
   "execution_count": 25,
   "metadata": {},
   "outputs": [
    {
     "data": {
      "text/plain": [
       "3×3 SparseArray{Float64, 2}:\n",
       " 2.0  2.0  2.0\n",
       " 2.0  2.0  2.0\n",
       " 2.0  2.0  2.0"
      ]
     },
     "metadata": {},
     "output_type": "display_data"
    }
   ],
   "source": [
    "fill!(A, 2)"
   ]
  },
  {
   "cell_type": "code",
   "execution_count": null,
   "metadata": {},
   "outputs": [],
   "source": []
  }
 ],
 "metadata": {
  "kernelspec": {
   "display_name": "Julia 1.9.0",
   "language": "julia",
   "name": "julia-1.9"
  },
  "language_info": {
   "file_extension": ".jl",
   "mimetype": "application/julia",
   "name": "julia",
   "version": "1.9.0"
  },
  "orig_nbformat": 4
 },
 "nbformat": 4,
 "nbformat_minor": 2
}
