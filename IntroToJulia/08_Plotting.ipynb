{
 "cells": [
  {
   "cell_type": "code",
   "execution_count": 2,
   "metadata": {},
   "outputs": [
    {
     "name": "stderr",
     "output_type": "stream",
     "text": [
      "\u001b[32m\u001b[1m    Updating\u001b[22m\u001b[39m registry at `~/.julia/registries/General.toml`\n",
      "\u001b[32m\u001b[1m   Resolving\u001b[22m\u001b[39m package versions...\n"
     ]
    },
    {
     "name": "stderr",
     "output_type": "stream",
     "text": [
      "\u001b[32m\u001b[1m   Installed\u001b[22m\u001b[39m FFMPEG ─────────────────────── v0.4.1\n"
     ]
    },
    {
     "name": "stderr",
     "output_type": "stream",
     "text": [
      "\u001b[32m\u001b[1m   Installed\u001b[22m\u001b[39m Wayland_protocols_jll ──────── v1.25.0+0\n",
      "\u001b[32m\u001b[1m   Installed\u001b[22m\u001b[39m Scratch ────────────────────── v1.2.0\n",
      "\u001b[32m\u001b[1m   Installed\u001b[22m\u001b[39m x265_jll ───────────────────── v3.5.0+0\n"
     ]
    },
    {
     "name": "stderr",
     "output_type": "stream",
     "text": [
      "\u001b[32m\u001b[1m   Installed\u001b[22m\u001b[39m JpegTurbo_jll ──────────────── v2.1.91+0\n"
     ]
    },
    {
     "name": "stderr",
     "output_type": "stream",
     "text": [
      "\u001b[32m\u001b[1m   Installed\u001b[22m\u001b[39m Showoff ────────────────────── v1.0.3\n",
      "\u001b[32m\u001b[1m   Installed\u001b[22m\u001b[39m Xorg_xcb_util_renderutil_jll ─ v0.3.9+1\n"
     ]
    },
    {
     "name": "stderr",
     "output_type": "stream",
     "text": [
      "\u001b[32m\u001b[1m   Installed\u001b[22m\u001b[39m libfdk_aac_jll ─────────────── v2.0.2+0\n",
      "\u001b[32m\u001b[1m   Installed\u001b[22m\u001b[39m Graphite2_jll ──────────────── v1.3.14+0\n"
     ]
    },
    {
     "name": "stderr",
     "output_type": "stream",
     "text": [
      "\u001b[32m\u001b[1m   Installed\u001b[22m\u001b[39m libass_jll ─────────────────── v0.15.1+0\n"
     ]
    },
    {
     "name": "stderr",
     "output_type": "stream",
     "text": [
      "\u001b[32m\u001b[1m   Installed\u001b[22m\u001b[39m XML2_jll ───────────────────── v2.10.3+0\n",
      "\u001b[32m\u001b[1m   Installed\u001b[22m\u001b[39m Pixman_jll ─────────────────── v0.40.1+0\n"
     ]
    },
    {
     "name": "stderr",
     "output_type": "stream",
     "text": [
      "\u001b[32m\u001b[1m   Installed\u001b[22m\u001b[39m Libmount_jll ───────────────── v2.35.0+0\n"
     ]
    },
    {
     "name": "stderr",
     "output_type": "stream",
     "text": [
      "\u001b[32m\u001b[1m   Installed\u001b[22m\u001b[39m Plots ──────────────────────── v1.38.14\n"
     ]
    },
    {
     "name": "stderr",
     "output_type": "stream",
     "text": [
      "\u001b[32m\u001b[1m   Installed\u001b[22m\u001b[39m GR_jll ─────────────────────── v0.72.7+0\n",
      "\u001b[32m\u001b[1m   Installed\u001b[22m\u001b[39m Xorg_libXext_jll ───────────── v1.3.4+4\n",
      "\u001b[32m\u001b[1m   Installed\u001b[22m\u001b[39m IrrationalConstants ────────── v0.2.2\n"
     ]
    },
    {
     "name": "stderr",
     "output_type": "stream",
     "text": [
      "\u001b[32m\u001b[1m   Installed\u001b[22m\u001b[39m LERC_jll ───────────────────── v3.0.0+1\n"
     ]
    },
    {
     "name": "stderr",
     "output_type": "stream",
     "text": [
      "\u001b[32m\u001b[1m   Installed\u001b[22m\u001b[39m JSON ───────────────────────── v0.21.4\n"
     ]
    },
    {
     "name": "stderr",
     "output_type": "stream",
     "text": [
      "\u001b[32m\u001b[1m   Installed\u001b[22m\u001b[39m Gettext_jll ────────────────── v0.21.0+0\n"
     ]
    },
    {
     "name": "stderr",
     "output_type": "stream",
     "text": [
      "\u001b[32m\u001b[1m   Installed\u001b[22m\u001b[39m Latexify ───────────────────── v0.16.0\n"
     ]
    },
    {
     "name": "stderr",
     "output_type": "stream",
     "text": [
      "\u001b[32m\u001b[1m   Installed\u001b[22m\u001b[39m Preferences ────────────────── v1.4.0\n",
      "\u001b[32m\u001b[1m   Installed\u001b[22m\u001b[39m Wayland_jll ────────────────── v1.21.0+0\n",
      "\u001b[32m\u001b[1m   Installed\u001b[22m\u001b[39m TensorCore ─────────────────── v0.1.1\n"
     ]
    },
    {
     "name": "stderr",
     "output_type": "stream",
     "text": [
      "\u001b[32m\u001b[1m   Installed\u001b[22m\u001b[39m Zstd_jll ───────────────────── v1.5.5+0\n",
      "\u001b[32m\u001b[1m   Installed\u001b[22m\u001b[39m Qt5Base_jll ────────────────── v5.15.3+2\n"
     ]
    },
    {
     "name": "stderr",
     "output_type": "stream",
     "text": [
      "\u001b[32m\u001b[1m   Installed\u001b[22m\u001b[39m Expat_jll ──────────────────── v2.4.8+0\n",
      "\u001b[32m\u001b[1m   Installed\u001b[22m\u001b[39m Xorg_xtrans_jll ────────────── v1.4.0+3\n"
     ]
    },
    {
     "name": "stderr",
     "output_type": "stream",
     "text": [
      "\u001b[32m\u001b[1m   Installed\u001b[22m\u001b[39m OpenSSL_jll ────────────────── v1.1.20+0\n",
      "\u001b[32m\u001b[1m   Installed\u001b[22m\u001b[39m BitFlags ───────────────────── v0.1.7\n",
      "\u001b[32m\u001b[1m   Installed\u001b[22m\u001b[39m LoggingExtras ──────────────── v1.0.0\n"
     ]
    },
    {
     "name": "stderr",
     "output_type": "stream",
     "text": [
      "\u001b[32m\u001b[1m   Installed\u001b[22m\u001b[39m Opus_jll ───────────────────── v1.3.2+0\n"
     ]
    },
    {
     "name": "stderr",
     "output_type": "stream",
     "text": [
      "\u001b[32m\u001b[1m   Installed\u001b[22m\u001b[39m Xorg_xcb_util_keysyms_jll ──── v0.4.0+1\n"
     ]
    },
    {
     "name": "stderr",
     "output_type": "stream",
     "text": [
      "\u001b[32m\u001b[1m   Installed\u001b[22m\u001b[39m FFMPEG_jll ─────────────────── v4.4.2+2\n"
     ]
    },
    {
     "name": "stderr",
     "output_type": "stream",
     "text": [
      "\u001b[32m\u001b[1m   Installed\u001b[22m\u001b[39m SpecialFunctions ───────────── v2.2.0\n"
     ]
    },
    {
     "name": "stderr",
     "output_type": "stream",
     "text": [
      "\u001b[32m\u001b[1m   Installed\u001b[22m\u001b[39m Xorg_xkbcomp_jll ───────────── v1.4.2+4\n",
      "\u001b[32m\u001b[1m   Installed\u001b[22m\u001b[39m xkbcommon_jll ──────────────── v1.4.1+0\n"
     ]
    },
    {
     "name": "stderr",
     "output_type": "stream",
     "text": [
      "\u001b[32m\u001b[1m   Installed\u001b[22m\u001b[39m Bzip2_jll ──────────────────── v1.0.8+0\n"
     ]
    },
    {
     "name": "stderr",
     "output_type": "stream",
     "text": [
      "\u001b[32m\u001b[1m   Installed\u001b[22m\u001b[39m Parsers ────────────────────── v2.5.10\n"
     ]
    },
    {
     "name": "stderr",
     "output_type": "stream",
     "text": [
      "\u001b[32m\u001b[1m   Installed\u001b[22m\u001b[39m Pipe ───────────────────────── v1.3.0\n"
     ]
    },
    {
     "name": "stderr",
     "output_type": "stream",
     "text": [
      "\u001b[32m\u001b[1m   Installed\u001b[22m\u001b[39m Libgcrypt_jll ──────────────── v1.8.7+0\n"
     ]
    },
    {
     "name": "stderr",
     "output_type": "stream",
     "text": [
      "\u001b[32m\u001b[1m   Installed\u001b[22m\u001b[39m RelocatableFolders ─────────── v1.0.0\n"
     ]
    },
    {
     "name": "stderr",
     "output_type": "stream",
     "text": [
      "\u001b[32m\u001b[1m   Installed\u001b[22m\u001b[39m HarfBuzz_jll ───────────────── v2.8.1+1\n"
     ]
    },
    {
     "name": "stderr",
     "output_type": "stream",
     "text": [
      "\u001b[32m\u001b[1m   Installed\u001b[22m\u001b[39m DataAPI ────────────────────── v1.15.0\n"
     ]
    },
    {
     "name": "stderr",
     "output_type": "stream",
     "text": [
      "\u001b[32m\u001b[1m   Installed\u001b[22m\u001b[39m PlotThemes ─────────────────── v3.1.0\n"
     ]
    },
    {
     "name": "stderr",
     "output_type": "stream",
     "text": [
      "\u001b[32m\u001b[1m   Installed\u001b[22m\u001b[39m Xorg_xkeyboard_config_jll ──── v2.27.0+4\n",
      "\u001b[32m\u001b[1m   Installed\u001b[22m\u001b[39m Unitful ────────────────────── v1.14.0\n"
     ]
    },
    {
     "name": "stderr",
     "output_type": "stream",
     "text": [
      "\u001b[32m\u001b[1m   Installed\u001b[22m\u001b[39m SimpleBufferStream ─────────── v1.1.0\n"
     ]
    },
    {
     "name": "stderr",
     "output_type": "stream",
     "text": [
      "\u001b[32m\u001b[1m   Installed\u001b[22m\u001b[39m Xorg_libXrandr_jll ─────────── v1.5.2+4\n"
     ]
    },
    {
     "name": "stderr",
     "output_type": "stream",
     "text": [
      "\u001b[32m\u001b[1m   Installed\u001b[22m\u001b[39m Libtiff_jll ────────────────── v4.4.0+0\n"
     ]
    },
    {
     "name": "stderr",
     "output_type": "stream",
     "text": [
      "\u001b[32m\u001b[1m   Installed\u001b[22m\u001b[39m Measures ───────────────────── v0.3.2\n"
     ]
    },
    {
     "name": "stderr",
     "output_type": "stream",
     "text": [
      "\u001b[32m\u001b[1m   Installed\u001b[22m\u001b[39m ConcurrentUtilities ────────── v2.2.0\n"
     ]
    },
    {
     "name": "stderr",
     "output_type": "stream",
     "text": [
      "\u001b[32m\u001b[1m   Installed\u001b[22m\u001b[39m Contour ────────────────────── v0.6.2\n"
     ]
    },
    {
     "name": "stderr",
     "output_type": "stream",
     "text": [
      "\u001b[32m\u001b[1m   Installed\u001b[22m\u001b[39m RecipesBase ────────────────── v1.3.4\n"
     ]
    },
    {
     "name": "stderr",
     "output_type": "stream",
     "text": [
      "\u001b[32m\u001b[1m   Installed\u001b[22m\u001b[39m Xorg_libXfixes_jll ─────────── v5.0.3+4\n"
     ]
    },
    {
     "name": "stderr",
     "output_type": "stream",
     "text": [
      "\u001b[32m\u001b[1m   Installed\u001b[22m\u001b[39m NaNMath ────────────────────── v1.0.2\n"
     ]
    },
    {
     "name": "stderr",
     "output_type": "stream",
     "text": [
      "\u001b[32m\u001b[1m   Installed\u001b[22m\u001b[39m JLLWrappers ────────────────── v1.4.1\n"
     ]
    },
    {
     "name": "stderr",
     "output_type": "stream",
     "text": [
      "\u001b[32m\u001b[1m   Installed\u001b[22m\u001b[39m Libiconv_jll ───────────────── v1.16.1+2\n",
      "\u001b[32m\u001b[1m   Installed\u001b[22m\u001b[39m PrecompileTools ────────────── v1.1.1\n"
     ]
    },
    {
     "name": "stderr",
     "output_type": "stream",
     "text": [
      "\u001b[32m\u001b[1m   Installed\u001b[22m\u001b[39m Grisu ──────────────────────── v1.0.2\n"
     ]
    },
    {
     "name": "stderr",
     "output_type": "stream",
     "text": [
      "\u001b[32m\u001b[1m   Installed\u001b[22m\u001b[39m LAME_jll ───────────────────── v3.100.1+0\n"
     ]
    },
    {
     "name": "stderr",
     "output_type": "stream",
     "text": [
      "\u001b[32m\u001b[1m   Installed\u001b[22m\u001b[39m Xorg_xcb_util_wm_jll ───────── v0.4.1+1\n"
     ]
    },
    {
     "name": "stderr",
     "output_type": "stream",
     "text": [
      "\u001b[32m\u001b[1m   Installed\u001b[22m\u001b[39m Xorg_xcb_util_image_jll ────── v0.4.0+1\n"
     ]
    },
    {
     "name": "stderr",
     "output_type": "stream",
     "text": [
      "\u001b[32m\u001b[1m   Installed\u001b[22m\u001b[39m ConstructionBase ───────────── v1.5.2\n"
     ]
    },
    {
     "name": "stderr",
     "output_type": "stream",
     "text": [
      "\u001b[32m\u001b[1m   Installed\u001b[22m\u001b[39m PlotUtils ──────────────────── v1.3.5\n"
     ]
    },
    {
     "name": "stderr",
     "output_type": "stream",
     "text": [
      "\u001b[32m\u001b[1m   Installed\u001b[22m\u001b[39m LZO_jll ────────────────────── v2.10.1+0\n",
      "\u001b[32m\u001b[1m   Installed\u001b[22m\u001b[39m ColorVectorSpace ───────────── v0.9.10\n",
      "\u001b[32m\u001b[1m   Installed\u001b[22m\u001b[39m URIs ───────────────────────── v1.4.2\n"
     ]
    },
    {
     "name": "stderr",
     "output_type": "stream",
     "text": [
      "\u001b[32m\u001b[1m   Installed\u001b[22m\u001b[39m Libffi_jll ─────────────────── v3.2.2+1\n"
     ]
    },
    {
     "name": "stderr",
     "output_type": "stream",
     "text": [
      "\u001b[32m\u001b[1m   Installed\u001b[22m\u001b[39m OrderedCollections ─────────── v1.6.0\n"
     ]
    },
    {
     "name": "stderr",
     "output_type": "stream",
     "text": [
      "\u001b[32m\u001b[1m   Installed\u001b[22m\u001b[39m RecipesPipeline ────────────── v0.6.12\n",
      "\u001b[32m\u001b[1m   Installed\u001b[22m\u001b[39m Formatting ─────────────────── v0.4.2\n"
     ]
    },
    {
     "name": "stderr",
     "output_type": "stream",
     "text": [
      "\u001b[32m\u001b[1m   Installed\u001b[22m\u001b[39m LaTeXStrings ───────────────── v1.3.0\n"
     ]
    },
    {
     "name": "stderr",
     "output_type": "stream",
     "text": [
      "\u001b[32m\u001b[1m   Installed\u001b[22m\u001b[39m Xorg_libXrender_jll ────────── v0.9.10+4\n"
     ]
    },
    {
     "name": "stderr",
     "output_type": "stream",
     "text": [
      "\u001b[32m\u001b[1m   Installed\u001b[22m\u001b[39m fzf_jll ────────────────────── v0.29.0+0\n"
     ]
    },
    {
     "name": "stderr",
     "output_type": "stream",
     "text": [
      "\u001b[32m\u001b[1m   Installed\u001b[22m\u001b[39m Glib_jll ───────────────────── v2.74.0+2\n"
     ]
    },
    {
     "name": "stderr",
     "output_type": "stream",
     "text": [
      "\u001b[32m\u001b[1m   Installed\u001b[22m\u001b[39m libvorbis_jll ──────────────── v1.3.7+1\n",
      "\u001b[32m\u001b[1m   Installed\u001b[22m\u001b[39m FriBidi_jll ────────────────── v1.0.10+0\n"
     ]
    },
    {
     "name": "stderr",
     "output_type": "stream",
     "text": [
      "\u001b[32m\u001b[1m   Installed\u001b[22m\u001b[39m Ogg_jll ────────────────────── v1.3.5+1\n"
     ]
    },
    {
     "name": "stderr",
     "output_type": "stream",
     "text": [
      "\u001b[32m\u001b[1m   Installed\u001b[22m\u001b[39m Libglvnd_jll ───────────────── v1.6.0+0\n"
     ]
    },
    {
     "name": "stderr",
     "output_type": "stream",
     "text": [
      "\u001b[32m\u001b[1m   Installed\u001b[22m\u001b[39m Xorg_libpthread_stubs_jll ──── v0.1.0+3\n",
      "\u001b[32m\u001b[1m   Installed\u001b[22m\u001b[39m TranscodingStreams ─────────── v0.9.13\n"
     ]
    },
    {
     "name": "stderr",
     "output_type": "stream",
     "text": [
      "\u001b[32m\u001b[1m   Installed\u001b[22m\u001b[39m DelimitedFiles ─────────────── v1.9.1\n"
     ]
    },
    {
     "name": "stderr",
     "output_type": "stream",
     "text": [
      "\u001b[32m\u001b[1m   Installed\u001b[22m\u001b[39m XSLT_jll ───────────────────── v1.1.34+0\n"
     ]
    },
    {
     "name": "stderr",
     "output_type": "stream",
     "text": [
      "\u001b[32m\u001b[1m   Installed\u001b[22m\u001b[39m Xorg_libXi_jll ─────────────── v1.7.10+4\n"
     ]
    },
    {
     "name": "stderr",
     "output_type": "stream",
     "text": [
      "\u001b[32m\u001b[1m   Installed\u001b[22m\u001b[39m Cairo_jll ──────────────────── v1.16.1+1\n"
     ]
    },
    {
     "name": "stderr",
     "output_type": "stream",
     "text": [
      "\u001b[32m\u001b[1m   Installed\u001b[22m\u001b[39m UnicodeFun ─────────────────── v0.4.1\n"
     ]
    },
    {
     "name": "stderr",
     "output_type": "stream",
     "text": [
      "\u001b[32m\u001b[1m   Installed\u001b[22m\u001b[39m Xorg_xcb_util_jll ──────────── v0.4.0+1\n"
     ]
    },
    {
     "name": "stderr",
     "output_type": "stream",
     "text": [
      "\u001b[32m\u001b[1m   Installed\u001b[22m\u001b[39m OpenSSL ────────────────────── v1.4.1\n"
     ]
    },
    {
     "name": "stderr",
     "output_type": "stream",
     "text": [
      "\u001b[32m\u001b[1m   Installed\u001b[22m\u001b[39m Fontconfig_jll ─────────────── v2.13.93+0\n"
     ]
    },
    {
     "name": "stderr",
     "output_type": "stream",
     "text": [
      "\u001b[32m\u001b[1m   Installed\u001b[22m\u001b[39m HTTP ───────────────────────── v1.9.6\n"
     ]
    },
    {
     "name": "stderr",
     "output_type": "stream",
     "text": [
      "\u001b[32m\u001b[1m   Installed\u001b[22m\u001b[39m Libgpg_error_jll ───────────── v1.42.0+0\n"
     ]
    },
    {
     "name": "stderr",
     "output_type": "stream",
     "text": [
      "\u001b[32m\u001b[1m   Installed\u001b[22m\u001b[39m GLFW_jll ───────────────────── v3.3.8+0\n"
     ]
    },
    {
     "name": "stderr",
     "output_type": "stream",
     "text": [
      "\u001b[32m\u001b[1m   Installed\u001b[22m\u001b[39m x264_jll ───────────────────── v2021.5.5+0\n",
      "\u001b[32m\u001b[1m   Installed\u001b[22m\u001b[39m MbedTLS ────────────────────── v1.1.7\n"
     ]
    },
    {
     "name": "stderr",
     "output_type": "stream",
     "text": [
      "\u001b[32m\u001b[1m   Installed\u001b[22m\u001b[39m Requires ───────────────────── v1.3.0\n",
      "\u001b[32m\u001b[1m   Installed\u001b[22m\u001b[39m LogExpFunctions ────────────── v0.3.23\n",
      "\u001b[32m\u001b[1m   Installed\u001b[22m\u001b[39m Xorg_libxkbfile_jll ────────── v1.1.0+4\n"
     ]
    },
    {
     "name": "stderr",
     "output_type": "stream",
     "text": [
      "\u001b[32m\u001b[1m   Installed\u001b[22m\u001b[39m Xorg_libXinerama_jll ───────── v1.1.4+4\n",
      "\u001b[32m\u001b[1m   Installed\u001b[22m\u001b[39m FreeType2_jll ──────────────── v2.10.4+0\n"
     ]
    },
    {
     "name": "stderr",
     "output_type": "stream",
     "text": [
      "\u001b[32m\u001b[1m   Installed\u001b[22m\u001b[39m Xorg_libX11_jll ────────────── v1.6.9+4\n"
     ]
    },
    {
     "name": "stderr",
     "output_type": "stream",
     "text": [
      "\u001b[32m\u001b[1m   Installed\u001b[22m\u001b[39m JLFzf ──────────────────────── v0.1.5\n"
     ]
    },
    {
     "name": "stderr",
     "output_type": "stream",
     "text": [
      "\u001b[32m\u001b[1m   Installed\u001b[22m\u001b[39m Xorg_libXdmcp_jll ──────────── v1.1.3+4\n"
     ]
    },
    {
     "name": "stderr",
     "output_type": "stream",
     "text": [
      "\u001b[32m\u001b[1m   Installed\u001b[22m\u001b[39m DataStructures ─────────────── v0.18.13\n"
     ]
    },
    {
     "name": "stderr",
     "output_type": "stream",
     "text": [
      "\u001b[32m\u001b[1m   Installed\u001b[22m\u001b[39m StatsAPI ───────────────────── v1.6.0\n"
     ]
    },
    {
     "name": "stderr",
     "output_type": "stream",
     "text": [
      "\u001b[32m\u001b[1m   Installed\u001b[22m\u001b[39m OpenSpecFun_jll ────────────── v0.5.5+0\n",
      "\u001b[32m\u001b[1m   Installed\u001b[22m\u001b[39m MacroTools ─────────────────── v0.5.10\n"
     ]
    },
    {
     "name": "stderr",
     "output_type": "stream",
     "text": [
      "\u001b[32m\u001b[1m   Installed\u001b[22m\u001b[39m Xorg_libXau_jll ────────────── v1.0.9+4\n"
     ]
    },
    {
     "name": "stderr",
     "output_type": "stream",
     "text": [
      "\u001b[32m\u001b[1m   Installed\u001b[22m\u001b[39m Libuuid_jll ────────────────── v2.36.0+0\n",
      "\u001b[32m\u001b[1m   Installed\u001b[22m\u001b[39m Xorg_libXcursor_jll ────────── v1.2.0+4\n"
     ]
    },
    {
     "name": "stderr",
     "output_type": "stream",
     "text": [
      "\u001b[32m\u001b[1m   Installed\u001b[22m\u001b[39m Unzip ──────────────────────── v0.2.0\n"
     ]
    },
    {
     "name": "stderr",
     "output_type": "stream",
     "text": [
      "\u001b[32m\u001b[1m   Installed\u001b[22m\u001b[39m CodecZlib ──────────────────── v0.7.1\n",
      "\u001b[32m\u001b[1m   Installed\u001b[22m\u001b[39m Compat ─────────────────────── v4.6.1\n"
     ]
    },
    {
     "name": "stderr",
     "output_type": "stream",
     "text": [
      "\u001b[32m\u001b[1m   Installed\u001b[22m\u001b[39m SortingAlgorithms ──────────── v1.1.0\n"
     ]
    },
    {
     "name": "stderr",
     "output_type": "stream",
     "text": [
      "\u001b[32m\u001b[1m   Installed\u001b[22m\u001b[39m Missings ───────────────────── v1.1.0\n"
     ]
    },
    {
     "name": "stderr",
     "output_type": "stream",
     "text": [
      "\u001b[32m\u001b[1m   Installed\u001b[22m\u001b[39m libpng_jll ─────────────────── v1.6.38+0\n"
     ]
    },
    {
     "name": "stderr",
     "output_type": "stream",
     "text": [
      "\u001b[32m\u001b[1m   Installed\u001b[22m\u001b[39m Xorg_libxcb_jll ────────────── v1.13.0+3\n"
     ]
    },
    {
     "name": "stderr",
     "output_type": "stream",
     "text": [
      "\u001b[32m\u001b[1m   Installed\u001b[22m\u001b[39m DocStringExtensions ────────── v0.9.3\n"
     ]
    },
    {
     "name": "stderr",
     "output_type": "stream",
     "text": [
      "\u001b[32m\u001b[1m   Installed\u001b[22m\u001b[39m libaom_jll ─────────────────── v3.4.0+0\n"
     ]
    },
    {
     "name": "stderr",
     "output_type": "stream",
     "text": [
      "\u001b[32m\u001b[1m   Installed\u001b[22m\u001b[39m StatsBase ──────────────────── v0.34.0\n"
     ]
    },
    {
     "name": "stderr",
     "output_type": "stream",
     "text": [
      "\u001b[32m\u001b[1m   Installed\u001b[22m\u001b[39m UnitfulLatexify ────────────── v1.6.3\n"
     ]
    },
    {
     "name": "stderr",
     "output_type": "stream",
     "text": [
      "\u001b[32m\u001b[1m   Installed\u001b[22m\u001b[39m GR ─────────────────────────── v0.72.7\n"
     ]
    },
    {
     "name": "stderr",
     "output_type": "stream",
     "text": [
      "\u001b[32m\u001b[1m   Installed\u001b[22m\u001b[39m ColorSchemes ───────────────── v3.21.0\n"
     ]
    },
    {
     "name": "stderr",
     "output_type": "stream",
     "text": [
      "\u001b[32m\u001b[1m    Updating\u001b[22m\u001b[39m `~/.julia/environments/v1.9/Project.toml`\n",
      "  \u001b[90m[91a5bcdd] \u001b[39m\u001b[92m+ Plots v1.38.14\u001b[39m\n",
      "\u001b[32m\u001b[1m    Updating\u001b[22m\u001b[39m `~/.julia/environments/v1.9/Manifest.toml`\n",
      " "
     ]
    },
    {
     "name": "stderr",
     "output_type": "stream",
     "text": [
      " \u001b[90m[d1d4a3ce] \u001b[39m\u001b[92m+ BitFlags v0.1.7\u001b[39m\n",
      "  \u001b[90m[944b1d66] \u001b[39m\u001b[92m+ CodecZlib v0.7.1\u001b[39m\n",
      "  \u001b[90m[35d6a980] \u001b[39m\u001b[92m+ ColorSchemes v3.21.0\u001b[39m\n",
      "  \u001b[90m[c3611d14] \u001b[39m\u001b[92m+ ColorVectorSpace v0.9.10\u001b[39m\n",
      "  \u001b[90m[34da2185] \u001b[39m\u001b[92m+ Compat v4.6.1\u001b[39m\n",
      "  \u001b[90m[f0e56b4a] \u001b[39m\u001b[92m+ ConcurrentUtilities v2.2.0\u001b[39m\n",
      "  \u001b[90m[187b0558] \u001b[39m\u001b[92m+ ConstructionBase v1.5.2\u001b[39m\n",
      "  \u001b[90m[d38c429a] \u001b[39m\u001b[92m+ Contour v0.6.2\u001b[39m\n",
      "  \u001b[90m[9a962f9c] \u001b[39m\u001b[92m+ DataAPI v1.15.0\u001b[39m\n",
      "  \u001b[90m[864edb3b] \u001b[39m\u001b[92m+ DataStructures v0.18.13\u001b[39m\n",
      "  \u001b[90m[8bb1440f] \u001b[39m\u001b[92m+ DelimitedFiles v1.9.1\u001b[39m\n",
      "  \u001b[90m[ffbed154] \u001b[39m\u001b[92m+ DocStringExtensions v0.9.3\u001b[39m\n",
      "  \u001b[90m[c87230d0] \u001b[39m\u001b[92m+ FFMPEG v0.4.1\u001b[39m\n",
      "  \u001b[90m[59287772] \u001b[39m\u001b[92m+ Formatting v0.4.2\u001b[39m\n",
      "  \u001b[90m[28b8d3ca] \u001b[39m\u001b[92m+ GR v0.72.7\u001b[39m\n",
      "  \u001b[90m[42e2da0e] \u001b[39m\u001b[92m+ Grisu v1.0.2\u001b[39m\n",
      "  \u001b[90m[cd3eb016] \u001b[39m\u001b[92m+ HTTP v1.9.6\u001b[39m\n",
      "  \u001b[90m[92d709cd] \u001b[39m\u001b[92m+ IrrationalConstants v0.2.2\u001b[39m\n",
      "  \u001b[90m[1019f520] \u001b[39m\u001b[92m+ JLFzf v0.1.5\u001b[39m\n",
      "  \u001b[90m[692b3bcd] \u001b[39m\u001b[92m+ JLLWrappers v1.4.1\u001b[39m\n",
      "  \u001b[90m[682c06a0] \u001b[39m\u001b[92m+ JSON v0.21.4\u001b[39m\n",
      "  \u001b[90m[b964fa9f] \u001b[39m\u001b[92m+ LaTeXStrings v1.3.0\u001b[39m\n",
      "  \u001b[90m[23fbe1c1] \u001b[39m\u001b[92m+ Latexify v0.16.0\u001b[39m\n",
      "  \u001b[90m[2ab3a3ac] \u001b[39m\u001b[92m+ LogExpFunctions v0.3.23\u001b[39m\n",
      "  \u001b[90m[e6f89c97] \u001b[39m\u001b[92m+ LoggingExtras v1.0.0\u001b[39m\n",
      "  \u001b[90m[1914dd2f] \u001b[39m\u001b[92m+ MacroTools v0.5.10\u001b[39m\n",
      "  \u001b[90m[739be429] \u001b[39m\u001b[92m+ MbedTLS v1.1.7\u001b[39m\n",
      "  \u001b[90m[442fdcdd] \u001b[39m\u001b[92m+ Measures v0.3.2\u001b[39m\n",
      "  \u001b[90m[e1d29d7a] \u001b[39m\u001b[92m+ Missings v1.1.0\u001b[39m\n",
      "  \u001b[90m[77ba4419] \u001b[39m\u001b[92m+ NaNMath v1.0.2\u001b[39m\n",
      "  \u001b[90m[4d8831e6] \u001b[39m\u001b[92m+ OpenSSL v1.4.1\u001b[39m\n",
      "  \u001b[90m[bac558e1] \u001b[39m\u001b[92m+ OrderedCollections v1.6.0\u001b[39m\n",
      "  \u001b[90m[69de0a69] \u001b[39m\u001b[92m+ Parsers v2.5.10\u001b[39m\n",
      "  \u001b[90m[b98c9c47] \u001b[39m\u001b[92m+ Pipe v1.3.0\u001b[39m\n",
      "  \u001b[90m[ccf2f8ad] \u001b[39m\u001b[92m+ PlotThemes v3.1.0\u001b[39m\n",
      "  \u001b[90m[995b91a9] \u001b[39m\u001b[92m+ PlotUtils v1.3.5\u001b[39m\n",
      "  \u001b[90m[91a5bcdd] \u001b[39m\u001b[92m+ Plots v1.38.14\u001b[39m\n",
      "  \u001b[90m[aea7be01] \u001b[39m\u001b[92m+ PrecompileTools v1.1.1\u001b[39m\n",
      "  \u001b[90m[21216c6a] \u001b[39m\u001b[92m+ Preferences v1.4.0\u001b[39m\n",
      "  \u001b[90m[3cdcf5f2] \u001b[39m\u001b[92m+ RecipesBase v1.3.4\u001b[39m\n",
      "  \u001b[90m[01d81517] \u001b[39m\u001b[92m+ RecipesPipeline v0.6.12\u001b[39m\n",
      "  \u001b[90m[05181044] \u001b[39m\u001b[92m+ RelocatableFolders v1.0.0\u001b[39m\n",
      "  \u001b[90m[ae029012] \u001b[39m\u001b[92m+ Requires v1.3.0\u001b[39m\n",
      "  \u001b[90m[6c6a2e73] \u001b[39m\u001b[92m+ Scratch v1.2.0\u001b[39m\n",
      "  \u001b[90m[992d4aef] \u001b[39m\u001b[92m+ Showoff v1.0.3\u001b[39m\n",
      "  \u001b[90m[777ac1f9] \u001b[39m\u001b[92m+ SimpleBufferStream v1.1.0\u001b[39m\n",
      "  \u001b[90m[a2af1166] \u001b[39m\u001b[92m+ SortingAlgorithms v1.1.0\u001b[39m\n",
      "  \u001b[90m[276daf66] \u001b[39m\u001b[92m+ SpecialFunctions v2.2.0\u001b[39m\n",
      "  \u001b[90m[82ae8749] \u001b[39m\u001b[92m+ StatsAPI v1.6.0\u001b[39m\n",
      "  \u001b[90m[2913bbd2] \u001b[39m\u001b[92m+ StatsBase v0.34.0\u001b[39m\n",
      "  \u001b[90m[62fd8b95] \u001b[39m\u001b[92m+ TensorCore v0.1.1\u001b[39m\n",
      "  \u001b[90m[3bb67fe8] \u001b[39m\u001b[92m+ TranscodingStreams v0.9.13\u001b[39m\n",
      "  \u001b[90m[5c2747f8] \u001b[39m\u001b[92m+ URIs v1.4.2\u001b[39m\n",
      "  \u001b[90m[1cfade01] \u001b[39m\u001b[92m+ UnicodeFun v0.4.1\u001b[39m\n",
      "  \u001b[90m[1986cc42] \u001b[39m\u001b[92m+ Unitful v1.14.0\u001b[39m\n",
      "  \u001b[90m[45397f5d] \u001b[39m\u001b[92m+ UnitfulLatexify v1.6.3\u001b[39m\n",
      "  \u001b[90m[41fe7b60] \u001b[39m\u001b[92m+ Unzip v0.2.0\u001b[39m\n",
      "  \u001b[90m[6e34b625] \u001b[39m\u001b[92m+ Bzip2_jll v1.0.8+0\u001b[39m\n",
      "  \u001b[90m[83423d85] \u001b[39m\u001b[92m+ Cairo_jll v1.16.1+1\u001b[39m\n",
      "  \u001b[90m[2e619515] \u001b[39m\u001b[92m+ Expat_jll v2.4.8+0\u001b[39m\n",
      "  \u001b[90m[b22a6f82] \u001b[39m\u001b[92m+ FFMPEG_jll v4.4.2+2\u001b[39m\n",
      "  \u001b[90m[a3f928ae] \u001b[39m\u001b[92m+ Fontconfig_jll v2.13.93+0\u001b[39m\n",
      "  \u001b[90m[d7e528f0] \u001b[39m\u001b[92m+ FreeType2_jll v2.10.4+0\u001b[39m\n",
      "  \u001b[90m[559328eb] \u001b[39m\u001b[92m+ FriBidi_jll v1.0.10+0\u001b[39m\n",
      "  \u001b[90m[0656b61e] \u001b[39m\u001b[92m+ GLFW_jll v3.3.8+0\u001b[39m\n",
      "  \u001b[90m[d2c73de3] \u001b[39m\u001b[92m+ GR_jll v0.72.7+0\u001b[39m\n",
      "  \u001b[90m[78b55507] \u001b[39m\u001b[92m+ Gettext_jll v0.21.0+0\u001b[39m\n",
      "  \u001b[90m[7746bdde] \u001b[39m\u001b[92m+ Glib_jll v2.74.0+2\u001b[39m\n",
      "  \u001b[90m[3b182d85] \u001b[39m\u001b[92m+ Graphite2_jll v1.3.14+0\u001b[39m\n",
      "  \u001b[90m[2e76f6c2] \u001b[39m\u001b[92m+ HarfBuzz_jll v2.8.1+1\u001b[39m\n",
      "  \u001b[90m[aacddb02] \u001b[39m\u001b[92m+ JpegTurbo_jll v2.1.91+0\u001b[39m\n",
      "  \u001b[90m[c1c5ebd0] \u001b[39m\u001b[92m+ LAME_jll v3.100.1+0\u001b[39m\n",
      "  \u001b[90m[88015f11] \u001b[39m\u001b[92m+ LERC_jll v3.0.0+1\u001b[39m\n",
      "  \u001b[90m[dd4b983a] \u001b[39m\u001b[92m+ LZO_jll v2.10.1+0\u001b[39m\n",
      "\u001b[33m⌅\u001b[39m \u001b[90m[e9f186c6] \u001b[39m\u001b[92m+ Libffi_jll v3.2.2+1\u001b[39m\n",
      "  \u001b[90m[d4300ac3] \u001b[39m\u001b[92m+ Libgcrypt_jll v1.8.7+0\u001b[39m\n",
      "  \u001b[90m[7e76a0d4] \u001b[39m\u001b[92m+ Libglvnd_jll v1.6.0+0\u001b[39m\n",
      "  \u001b[90m[7add5ba3] \u001b[39m\u001b[92m+ Libgpg_error_jll v1.42.0+0\u001b[39m\n",
      "  \u001b[90m[94ce4f54] \u001b[39m\u001b[92m+ Libiconv_jll v1.16.1+2\u001b[39m\n",
      "  \u001b[90m[4b2f31a3] \u001b[39m\u001b[92m+ Libmount_jll v2.35.0+0\u001b[39m\n",
      "  \u001b[90m[89763e89] \u001b[39m\u001b[92m+ Libtiff_jll v4.4.0+0\u001b[39m\n",
      "  \u001b[90m[38a345b3] \u001b[39m\u001b[92m+ Libuuid_jll v2.36.0+0\u001b[39m\n",
      "  \u001b[90m[e7412a2a] \u001b[39m\u001b[92m+ Ogg_jll v1.3.5+1\u001b[39m\n",
      "\u001b[33m⌅\u001b[39m \u001b[90m[458c3c95] \u001b[39m\u001b[92m+ OpenSSL_jll v1.1.20+0\u001b[39m\n",
      "  \u001b[90m[efe28fd5] \u001b[39m\u001b[92m+ OpenSpecFun_jll v0.5.5+0\u001b[39m\n",
      "  \u001b[90m[91d4177d] \u001b[39m\u001b[92m+ Opus_jll v1.3.2+0\u001b[39m\n",
      "  \u001b[90m[30392449] \u001b[39m\u001b[92m+ Pixman_jll v0.40.1+0\u001b[39m\n",
      "  \u001b[90m[ea2cea3b] \u001b[39m\u001b[92m+ Qt5Base_jll v5.15.3+2\u001b[39m\n",
      "  \u001b[90m[a2964d1f] \u001b[39m\u001b[92m+ Wayland_jll v1.21.0+0\u001b[39m\n",
      "  \u001b[90m[2381bf8a] \u001b[39m\u001b[92m+ Wayland_protocols_jll v1.25.0+0\u001b[39m\n",
      "  \u001b[90m[02c8fc9c] \u001b[39m\u001b[92m+ XML2_jll v2.10.3+0\u001b[39m\n",
      "  \u001b[90m[aed1982a] \u001b[39m\u001b[92m+ XSLT_jll v1.1.34+0\u001b[39m\n",
      "  \u001b[90m[4f6342f7] \u001b[39m\u001b[92m+ Xorg_libX11_jll v1.6.9+4\u001b[39m\n",
      "  \u001b[90m[0c0b7dd1] \u001b[39m\u001b[92m+ Xorg_libXau_jll v1.0.9+4\u001b[39m\n",
      "  \u001b[90m[935fb764] \u001b[39m\u001b[92m+ Xorg_libXcursor_jll v1.2.0+4\u001b[39m\n",
      "  \u001b[90m[a3789734] \u001b[39m\u001b[92m+ Xorg_libXdmcp_jll v1.1.3+4\u001b[39m\n",
      "  \u001b[90m[1082639a] \u001b[39m\u001b[92m+ Xorg_libXext_jll v1.3.4+4\u001b[39m\n",
      "  \u001b[90m[d091e8ba] \u001b[39m\u001b[92m+ Xorg_libXfixes_jll v5.0.3+4\u001b[39m\n",
      "  \u001b[90m[a51aa0fd] \u001b[39m\u001b[92m+ Xorg_libXi_jll v1.7.10+4\u001b[39m\n",
      "  \u001b[90m[d1454406] \u001b[39m\u001b[92m+ Xorg_libXinerama_jll v1.1.4+4\u001b[39m\n",
      "  \u001b[90m[ec84b674] \u001b[39m\u001b[92m+ Xorg_libXrandr_jll v1.5.2+4\u001b[39m\n",
      "  \u001b[90m[ea2f1a96] \u001b[39m\u001b[92m+ Xorg_libXrender_jll v0.9.10+4\u001b[39m\n",
      "  \u001b[90m[14d82f49] \u001b[39m\u001b[92m+ Xorg_libpthread_stubs_jll v0.1.0+3\u001b[39m\n",
      "  \u001b[90m[c7cfdc94] \u001b[39m\u001b[92m+ Xorg_libxcb_jll v1.13.0+3\u001b[39m\n",
      "  \u001b[90m[cc61e674] \u001b[39m\u001b[92m+ Xorg_libxkbfile_jll v1.1.0+4\u001b[39m\n",
      "  \u001b[90m[12413925] \u001b[39m\u001b[92m+ Xorg_xcb_util_image_jll v0.4.0+1\u001b[39m\n",
      "  \u001b[90m[2def613f] \u001b[39m\u001b[92m+ Xorg_xcb_util_jll v0.4.0+1\u001b[39m\n",
      "  \u001b[90m[975044d2] \u001b[39m\u001b[92m+ Xorg_xcb_util_keysyms_jll v0.4.0+1\u001b[39m\n",
      "  \u001b[90m[0d47668e] \u001b[39m\u001b[92m+ Xorg_xcb_util_renderutil_jll v0.3.9+1\u001b[39m\n",
      "  \u001b[90m[c22f9ab0] \u001b[39m\u001b[92m+ Xorg_xcb_util_wm_jll v0.4.1+1\u001b[39m\n",
      "  \u001b[90m[35661453] \u001b[39m\u001b[92m+ Xorg_xkbcomp_jll v1.4.2+4\u001b[39m\n",
      "  \u001b[90m[33bec58e] \u001b[39m\u001b[92m+ Xorg_xkeyboard_config_jll v2.27.0+4\u001b[39m\n",
      "  \u001b[90m[c5fb5394] \u001b[39m\u001b[92m+ Xorg_xtrans_jll v1.4.0+3\u001b[39m\n",
      "  \u001b[90m[3161d3a3] \u001b[39m\u001b[92m+ Zstd_jll v1.5.5+0\u001b[39m\n",
      "\u001b[33m⌅\u001b[39m \u001b[90m[214eeab7] \u001b[39m\u001b[92m+ fzf_jll v0.29.0+0\u001b[39m\n",
      "  \u001b[90m[a4ae2306] \u001b[39m\u001b[92m+ libaom_jll v3.4.0+0\u001b[39m\n",
      "  \u001b[90m[0ac62f75] \u001b[39m\u001b[92m+ libass_jll v0.15.1+0\u001b[39m\n",
      "  \u001b[90m[f638f0a6] \u001b[39m\u001b[92m+ libfdk_aac_jll v2.0.2+0\u001b[39m\n",
      "  \u001b[90m[b53b4c65] \u001b[39m\u001b[92m+ libpng_jll v1.6.38+0\u001b[39m\n",
      "  \u001b[90m[f27f6e37] \u001b[39m\u001b[92m+ libvorbis_jll v1.3.7+1\u001b[39m\n",
      "  \u001b[90m[1270edf5] \u001b[39m\u001b[92m+ x264_jll v2021.5.5+0\u001b[39m\n",
      "  \u001b[90m[dfaa095f] \u001b[39m\u001b[92m+ x265_jll v3.5.0+0\u001b[39m\n",
      "  \u001b[90m[d8fb68d0] \u001b[39m\u001b[92m+ xkbcommon_jll v1.4.1+0\u001b[39m\n",
      "  \u001b[90m[a63ad114] \u001b[39m\u001b[92m+ Mmap\u001b[39m\n",
      "  \u001b[90m[8dfed614] \u001b[39m\u001b[92m+ Test\u001b[39m\n",
      "  \u001b[90m[05823500] \u001b[39m\u001b[92m+ OpenLibm_jll v0.8.1+0\u001b[39m\n",
      "  \u001b[90m[efcefdf7] \u001b[39m\u001b[92m+ PCRE2_jll v10.42.0+0\u001b[39m\n",
      "\u001b[36m\u001b[1m        Info\u001b[22m\u001b[39m Packages marked with \u001b[33m⌅\u001b[39m have new versions available but compatibility constraints restrict them from upgrading. To see why use `status --outdated -m`\n"
     ]
    },
    {
     "name": "stderr",
     "output_type": "stream",
     "text": [
      "\u001b[32m\u001b[1mPrecompiling\u001b[22m\u001b[39m project...\n"
     ]
    },
    {
     "name": "stderr",
     "output_type": "stream",
     "text": [
      "\u001b[32m  ✓ \u001b[39m\u001b[90mPipe\u001b[39m\n",
      "\u001b[32m  ✓ \u001b[39m\u001b[90mContour\u001b[39m\n"
     ]
    },
    {
     "name": "stderr",
     "output_type": "stream",
     "text": [
      "\u001b[32m  ✓ \u001b[39m\u001b[90mGrisu\u001b[39m\n",
      "\u001b[32m  ✓ \u001b[39m\u001b[90mMeasures\u001b[39m\n"
     ]
    },
    {
     "name": "stderr",
     "output_type": "stream",
     "text": [
      "\u001b[32m  ✓ \u001b[39m\u001b[90mTensorCore\u001b[39m\n"
     ]
    },
    {
     "name": "stderr",
     "output_type": "stream",
     "text": [
      "\u001b[32m  ✓ \u001b[39m\u001b[90mLaTeXStrings\u001b[39m\n"
     ]
    },
    {
     "name": "stderr",
     "output_type": "stream",
     "text": [
      "\u001b[32m  ✓ \u001b[39m\u001b[90mStatsAPI\u001b[39m\n"
     ]
    },
    {
     "name": "stderr",
     "output_type": "stream",
     "text": [
      "\u001b[32m  ✓ \u001b[39m\u001b[90mConcurrentUtilities\u001b[39m\n"
     ]
    },
    {
     "name": "stderr",
     "output_type": "stream",
     "text": [
      "\u001b[32m  ✓ \u001b[39m\u001b[90mOrderedCollections\u001b[39m\n",
      "\u001b[32m  ✓ \u001b[39m\u001b[90mCompat\u001b[39m\n"
     ]
    },
    {
     "name": "stderr",
     "output_type": "stream",
     "text": [
      "\u001b[32m  ✓ \u001b[39m\u001b[90mRequires\u001b[39m\n"
     ]
    },
    {
     "name": "stderr",
     "output_type": "stream",
     "text": [
      "\u001b[32m  ✓ \u001b[39m\u001b[90mUnzip\u001b[39m\n"
     ]
    },
    {
     "name": "stderr",
     "output_type": "stream",
     "text": [
      "\u001b[32m  ✓ \u001b[39m\u001b[90mDocStringExtensions\u001b[39m\n",
      "\u001b[32m  ✓ \u001b[39m\u001b[90mSimpleBufferStream\u001b[39m\n"
     ]
    },
    {
     "name": "stderr",
     "output_type": "stream",
     "text": [
      "\u001b[32m  ✓ \u001b[39m\u001b[90mURIs\u001b[39m\n"
     ]
    },
    {
     "name": "stderr",
     "output_type": "stream",
     "text": [
      "\u001b[32m  ✓ \u001b[39m\u001b[90mFormatting\u001b[39m\n"
     ]
    },
    {
     "name": "stderr",
     "output_type": "stream",
     "text": [
      "\u001b[32m  ✓ \u001b[39m\u001b[90mNaNMath\u001b[39m\n"
     ]
    },
    {
     "name": "stderr",
     "output_type": "stream",
     "text": [
      "\u001b[32m  ✓ \u001b[39m\u001b[90mIrrationalConstants\u001b[39m\n"
     ]
    },
    {
     "name": "stderr",
     "output_type": "stream",
     "text": [
      "\u001b[32m  ✓ \u001b[39m\u001b[90mDelimitedFiles\u001b[39m\n"
     ]
    },
    {
     "name": "stderr",
     "output_type": "stream",
     "text": [
      "\u001b[32m  ✓ \u001b[39m\u001b[90mConstructionBase\u001b[39m\n"
     ]
    },
    {
     "name": "stderr",
     "output_type": "stream",
     "text": [
      "\u001b[32m  ✓ \u001b[39m\u001b[90mTranscodingStreams\u001b[39m\n",
      "\u001b[32m  ✓ \u001b[39m\u001b[90mDataAPI\u001b[39m\n"
     ]
    },
    {
     "name": "stderr",
     "output_type": "stream",
     "text": [
      "\u001b[32m  ✓ \u001b[39m\u001b[90mBitFlags\u001b[39m\n"
     ]
    },
    {
     "name": "stderr",
     "output_type": "stream",
     "text": [
      "\u001b[32m  ✓ \u001b[39m\u001b[90mUnicodeFun\u001b[39m\n"
     ]
    },
    {
     "name": "stderr",
     "output_type": "stream",
     "text": [
      "\u001b[32m  ✓ \u001b[39m\u001b[90mScratch\u001b[39m\n"
     ]
    },
    {
     "name": "stderr",
     "output_type": "stream",
     "text": [
      "\u001b[32m  ✓ \u001b[39m\u001b[90mMacroTools\u001b[39m\n"
     ]
    },
    {
     "name": "stderr",
     "output_type": "stream",
     "text": [
      "\u001b[32m  ✓ \u001b[39m\u001b[90mLoggingExtras\u001b[39m\n"
     ]
    },
    {
     "name": "stderr",
     "output_type": "stream",
     "text": [
      "\u001b[32m  ✓ \u001b[39m\u001b[90mJLLWrappers\u001b[39m\n"
     ]
    },
    {
     "name": "stderr",
     "output_type": "stream",
     "text": [
      "\u001b[32m  ✓ \u001b[39m\u001b[90mShowoff\u001b[39m\n"
     ]
    },
    {
     "name": "stderr",
     "output_type": "stream",
     "text": [
      "\u001b[32m  ✓ \u001b[39m\u001b[90mCompat → CompatLinearAlgebraExt\u001b[39m\n"
     ]
    },
    {
     "name": "stderr",
     "output_type": "stream",
     "text": [
      "\u001b[32m  ✓ \u001b[39m\u001b[90mMbedTLS\u001b[39m\n"
     ]
    },
    {
     "name": "stderr",
     "output_type": "stream",
     "text": [
      "\u001b[32m  ✓ \u001b[39m\u001b[90mCodecZlib\u001b[39m\n"
     ]
    },
    {
     "name": "stderr",
     "output_type": "stream",
     "text": [
      "\u001b[32m  ✓ \u001b[39m\u001b[90mMissings\u001b[39m\n"
     ]
    },
    {
     "name": "stderr",
     "output_type": "stream",
     "text": [
      "\u001b[32m  ✓ \u001b[39m\u001b[90mLogExpFunctions\u001b[39m\n"
     ]
    },
    {
     "name": "stderr",
     "output_type": "stream",
     "text": [
      "\u001b[32m  ✓ \u001b[39m\u001b[90mRecipesBase\u001b[39m\n"
     ]
    },
    {
     "name": "stderr",
     "output_type": "stream",
     "text": [
      "\u001b[32m  ✓ \u001b[39m\u001b[90mRelocatableFolders\u001b[39m\n"
     ]
    },
    {
     "name": "stderr",
     "output_type": "stream",
     "text": [
      "\u001b[32m  ✓ \u001b[39m\u001b[90mLibmount_jll\u001b[39m\n"
     ]
    },
    {
     "name": "stderr",
     "output_type": "stream",
     "text": [
      "\u001b[32m  ✓ \u001b[39m\u001b[90mGraphite2_jll\u001b[39m\n"
     ]
    },
    {
     "name": "stderr",
     "output_type": "stream",
     "text": [
      "\u001b[32m  ✓ \u001b[39m\u001b[90mOpenSSL_jll\u001b[39m\n"
     ]
    },
    {
     "name": "stderr",
     "output_type": "stream",
     "text": [
      "\u001b[32m  ✓ \u001b[39m\u001b[90mXorg_libXau_jll\u001b[39m\n",
      "\u001b[32m  ✓ \u001b[39m\u001b[90mBzip2_jll\u001b[39m\n"
     ]
    },
    {
     "name": "stderr",
     "output_type": "stream",
     "text": [
      "\u001b[32m  ✓ \u001b[39m\u001b[90mlibpng_jll\u001b[39m\n"
     ]
    },
    {
     "name": "stderr",
     "output_type": "stream",
     "text": [
      "\u001b[32m  ✓ \u001b[39m\u001b[90mlibfdk_aac_jll\u001b[39m\n"
     ]
    },
    {
     "name": "stderr",
     "output_type": "stream",
     "text": [
      "\u001b[32m  ✓ \u001b[39m\u001b[90mLAME_jll\u001b[39m\n",
      "\u001b[32m  ✓ \u001b[39m\u001b[90mPixman_jll\u001b[39m\n"
     ]
    },
    {
     "name": "stderr",
     "output_type": "stream",
     "text": [
      "\u001b[32m  ✓ \u001b[39m\u001b[90mLERC_jll\u001b[39m\n",
      "\u001b[32m  ✓ \u001b[39m\u001b[90mfzf_jll\u001b[39m\n"
     ]
    },
    {
     "name": "stderr",
     "output_type": "stream",
     "text": [
      "\u001b[32m  ✓ \u001b[39m\u001b[90mJpegTurbo_jll\u001b[39m\n"
     ]
    },
    {
     "name": "stderr",
     "output_type": "stream",
     "text": [
      "\u001b[32m  ✓ \u001b[39m\u001b[90mOgg_jll\u001b[39m\n"
     ]
    },
    {
     "name": "stderr",
     "output_type": "stream",
     "text": [
      "\u001b[32m  ✓ \u001b[39m\u001b[90mXorg_libXdmcp_jll\u001b[39m\n"
     ]
    },
    {
     "name": "stderr",
     "output_type": "stream",
     "text": [
      "\u001b[32m  ✓ \u001b[39m\u001b[90mx265_jll\u001b[39m\n"
     ]
    },
    {
     "name": "stderr",
     "output_type": "stream",
     "text": [
      "\u001b[32m  ✓ \u001b[39m\u001b[90mx264_jll\u001b[39m\n"
     ]
    },
    {
     "name": "stderr",
     "output_type": "stream",
     "text": [
      "\u001b[32m  ✓ \u001b[39m\u001b[90mlibaom_jll\u001b[39m\n"
     ]
    },
    {
     "name": "stderr",
     "output_type": "stream",
     "text": [
      "\u001b[32m  ✓ \u001b[39m\u001b[90mDataStructures\u001b[39m\n"
     ]
    },
    {
     "name": "stderr",
     "output_type": "stream",
     "text": [
      "\u001b[32m  ✓ \u001b[39m\u001b[90mZstd_jll\u001b[39m\n",
      "\u001b[32m  ✓ \u001b[39m\u001b[90mExpat_jll\u001b[39m\n"
     ]
    },
    {
     "name": "stderr",
     "output_type": "stream",
     "text": [
      "\u001b[32m  ✓ \u001b[39m\u001b[90mLZO_jll\u001b[39m\n"
     ]
    },
    {
     "name": "stderr",
     "output_type": "stream",
     "text": [
      "\u001b[32m  ✓ \u001b[39m\u001b[90mOpus_jll\u001b[39m\n"
     ]
    },
    {
     "name": "stderr",
     "output_type": "stream",
     "text": [
      "\u001b[32m  ✓ \u001b[39m\u001b[90mXorg_xtrans_jll\u001b[39m\n"
     ]
    },
    {
     "name": "stderr",
     "output_type": "stream",
     "text": [
      "\u001b[32m  ✓ \u001b[39m\u001b[90mLibiconv_jll\u001b[39m\n"
     ]
    },
    {
     "name": "stderr",
     "output_type": "stream",
     "text": [
      "\u001b[32m  ✓ \u001b[39m\u001b[90mLibffi_jll\u001b[39m\n"
     ]
    },
    {
     "name": "stderr",
     "output_type": "stream",
     "text": [
      "\u001b[32m  ✓ \u001b[39m\u001b[90mLibgpg_error_jll\u001b[39m\n",
      "\u001b[32m  ✓ \u001b[39m\u001b[90mWayland_protocols_jll\u001b[39m\n"
     ]
    },
    {
     "name": "stderr",
     "output_type": "stream",
     "text": [
      "\u001b[32m  ✓ \u001b[39m\u001b[90mXorg_libpthread_stubs_jll\u001b[39m\n",
      "\u001b[32m  ✓ \u001b[39m\u001b[90mOpenSpecFun_jll\u001b[39m\n"
     ]
    },
    {
     "name": "stderr",
     "output_type": "stream",
     "text": [
      "\u001b[32m  ✓ \u001b[39m\u001b[90mLatexify\u001b[39m\n"
     ]
    },
    {
     "name": "stderr",
     "output_type": "stream",
     "text": [
      "\u001b[32m  ✓ \u001b[39m\u001b[90mFriBidi_jll\u001b[39m\n"
     ]
    },
    {
     "name": "stderr",
     "output_type": "stream",
     "text": [
      "\u001b[32m  ✓ \u001b[39m\u001b[90mLibuuid_jll\u001b[39m\n"
     ]
    },
    {
     "name": "stderr",
     "output_type": "stream",
     "text": [
      "\u001b[32m  ✓ \u001b[39m\u001b[90mFreeType2_jll\u001b[39m\n"
     ]
    },
    {
     "name": "stderr",
     "output_type": "stream",
     "text": [
      "\u001b[32m  ✓ \u001b[39m\u001b[90mSortingAlgorithms\u001b[39m\n"
     ]
    },
    {
     "name": "stderr",
     "output_type": "stream",
     "text": [
      "\u001b[32m  ✓ \u001b[39m\u001b[90mJLFzf\u001b[39m\n"
     ]
    },
    {
     "name": "stderr",
     "output_type": "stream",
     "text": [
      "\u001b[32m  ✓ \u001b[39m\u001b[90mlibvorbis_jll\u001b[39m\n"
     ]
    },
    {
     "name": "stderr",
     "output_type": "stream",
     "text": [
      "\u001b[32m  ✓ \u001b[39m\u001b[90mLibgcrypt_jll\u001b[39m\n"
     ]
    },
    {
     "name": "stderr",
     "output_type": "stream",
     "text": [
      "\u001b[32m  ✓ \u001b[39m\u001b[90mXML2_jll\u001b[39m\n"
     ]
    },
    {
     "name": "stderr",
     "output_type": "stream",
     "text": [
      "\u001b[32m  ✓ \u001b[39m\u001b[90mOpenSSL\u001b[39m\n"
     ]
    },
    {
     "name": "stderr",
     "output_type": "stream",
     "text": [
      "\u001b[32m  ✓ \u001b[39m\u001b[90mWayland_jll\u001b[39m\n"
     ]
    },
    {
     "name": "stderr",
     "output_type": "stream",
     "text": [
      "\u001b[32m  ✓ \u001b[39m\u001b[90mLibtiff_jll\u001b[39m\n"
     ]
    },
    {
     "name": "stderr",
     "output_type": "stream",
     "text": [
      "\u001b[32m  ✓ \u001b[39m\u001b[90mFontconfig_jll\u001b[39m\n"
     ]
    },
    {
     "name": "stderr",
     "output_type": "stream",
     "text": [
      "\u001b[32m  ✓ \u001b[39m\u001b[90mStatsBase\u001b[39m\n"
     ]
    },
    {
     "name": "stderr",
     "output_type": "stream",
     "text": [
      "\u001b[32m  ✓ \u001b[39m\u001b[90mGettext_jll\u001b[39m\n",
      "\u001b[32m  ✓ \u001b[39m\u001b[90mXSLT_jll\u001b[39m\n"
     ]
    },
    {
     "name": "stderr",
     "output_type": "stream",
     "text": [
      "\u001b[32m  ✓ \u001b[39m\u001b[90mSpecialFunctions\u001b[39m\n"
     ]
    },
    {
     "name": "stderr",
     "output_type": "stream",
     "text": [
      "\u001b[32m  ✓ \u001b[39m\u001b[90mXorg_libxcb_jll\u001b[39m\n"
     ]
    },
    {
     "name": "stderr",
     "output_type": "stream",
     "text": [
      "\u001b[32m  ✓ \u001b[39m\u001b[90mGlib_jll\u001b[39m\n"
     ]
    },
    {
     "name": "stderr",
     "output_type": "stream",
     "text": [
      "\u001b[32m  ✓ \u001b[39m\u001b[90mXorg_libX11_jll\u001b[39m\n"
     ]
    },
    {
     "name": "stderr",
     "output_type": "stream",
     "text": [
      "\u001b[32m  ✓ \u001b[39m\u001b[90mXorg_xcb_util_jll\u001b[39m\n"
     ]
    },
    {
     "name": "stderr",
     "output_type": "stream",
     "text": [
      "\u001b[32m  ✓ \u001b[39m\u001b[90mXorg_libXrender_jll\u001b[39m\n"
     ]
    },
    {
     "name": "stderr",
     "output_type": "stream",
     "text": [
      "\u001b[32m  ✓ \u001b[39m\u001b[90mXorg_libXext_jll\u001b[39m\n",
      "\u001b[32m  ✓ \u001b[39m\u001b[90mXorg_libXfixes_jll\u001b[39m\n"
     ]
    },
    {
     "name": "stderr",
     "output_type": "stream",
     "text": [
      "\u001b[32m  ✓ \u001b[39m\u001b[90mXorg_libxkbfile_jll\u001b[39m\n"
     ]
    },
    {
     "name": "stderr",
     "output_type": "stream",
     "text": [
      "\u001b[32m  ✓ \u001b[39m\u001b[90mXorg_xcb_util_image_jll\u001b[39m\n"
     ]
    },
    {
     "name": "stderr",
     "output_type": "stream",
     "text": [
      "\u001b[32m  ✓ \u001b[39m\u001b[90mXorg_xcb_util_keysyms_jll\u001b[39m\n"
     ]
    },
    {
     "name": "stderr",
     "output_type": "stream",
     "text": [
      "\u001b[32m  ✓ \u001b[39m\u001b[90mXorg_xcb_util_renderutil_jll\u001b[39m\n"
     ]
    },
    {
     "name": "stderr",
     "output_type": "stream",
     "text": [
      "\u001b[32m  ✓ \u001b[39m\u001b[90mXorg_xcb_util_wm_jll\u001b[39m\n"
     ]
    },
    {
     "name": "stderr",
     "output_type": "stream",
     "text": [
      "\u001b[32m  ✓ \u001b[39m\u001b[90mLibglvnd_jll\u001b[39m\n"
     ]
    },
    {
     "name": "stderr",
     "output_type": "stream",
     "text": [
      "\u001b[32m  ✓ \u001b[39m\u001b[90mXorg_libXinerama_jll\u001b[39m\n"
     ]
    },
    {
     "name": "stderr",
     "output_type": "stream",
     "text": [
      "\u001b[32m  ✓ \u001b[39m\u001b[90mXorg_libXrandr_jll\u001b[39m\n"
     ]
    },
    {
     "name": "stderr",
     "output_type": "stream",
     "text": [
      "\u001b[32m  ✓ \u001b[39m\u001b[90mHTTP\u001b[39m\n"
     ]
    },
    {
     "name": "stderr",
     "output_type": "stream",
     "text": [
      "\u001b[32m  ✓ \u001b[39m\u001b[90mXorg_libXcursor_jll\u001b[39m\n"
     ]
    },
    {
     "name": "stderr",
     "output_type": "stream",
     "text": [
      "\u001b[32m  ✓ \u001b[39m\u001b[90mXorg_libXi_jll\u001b[39m\n",
      "\u001b[32m  ✓ \u001b[39m\u001b[90mXorg_xkbcomp_jll\u001b[39m\n"
     ]
    },
    {
     "name": "stderr",
     "output_type": "stream",
     "text": [
      "\u001b[32m  ✓ \u001b[39m\u001b[90mColorVectorSpace\u001b[39m\n"
     ]
    },
    {
     "name": "stderr",
     "output_type": "stream",
     "text": [
      "\u001b[32m  ✓ \u001b[39m\u001b[90mGLFW_jll\u001b[39m\n"
     ]
    },
    {
     "name": "stderr",
     "output_type": "stream",
     "text": [
      "\u001b[32m  ✓ \u001b[39m\u001b[90mXorg_xkeyboard_config_jll\u001b[39m\n"
     ]
    },
    {
     "name": "stderr",
     "output_type": "stream",
     "text": [
      "\u001b[32m  ✓ \u001b[39m\u001b[90mCairo_jll\u001b[39m\n"
     ]
    },
    {
     "name": "stderr",
     "output_type": "stream",
     "text": [
      "\u001b[32m  ✓ \u001b[39m\u001b[90mxkbcommon_jll\u001b[39m\n"
     ]
    },
    {
     "name": "stderr",
     "output_type": "stream",
     "text": [
      "\u001b[32m  ✓ \u001b[39m\u001b[90mQt5Base_jll\u001b[39m\n"
     ]
    },
    {
     "name": "stderr",
     "output_type": "stream",
     "text": [
      "\u001b[32m  ✓ \u001b[39m\u001b[90mHarfBuzz_jll\u001b[39m\n"
     ]
    },
    {
     "name": "stderr",
     "output_type": "stream",
     "text": [
      "\u001b[32m  ✓ \u001b[39m\u001b[90mlibass_jll\u001b[39m\n"
     ]
    },
    {
     "name": "stderr",
     "output_type": "stream",
     "text": [
      "\u001b[32m  ✓ \u001b[39m\u001b[90mColorSchemes\u001b[39m\n"
     ]
    },
    {
     "name": "stderr",
     "output_type": "stream",
     "text": [
      "\u001b[32m  ✓ \u001b[39m\u001b[90mFFMPEG_jll\u001b[39m\n"
     ]
    },
    {
     "name": "stderr",
     "output_type": "stream",
     "text": [
      "\u001b[32m  ✓ \u001b[39m\u001b[90mFFMPEG\u001b[39m\n"
     ]
    },
    {
     "name": "stderr",
     "output_type": "stream",
     "text": [
      "\u001b[32m  ✓ \u001b[39m\u001b[90mGR_jll\u001b[39m\n"
     ]
    },
    {
     "name": "stderr",
     "output_type": "stream",
     "text": [
      "\u001b[32m  ✓ \u001b[39m\u001b[90mUnitful\u001b[39m\n"
     ]
    },
    {
     "name": "stderr",
     "output_type": "stream",
     "text": [
      "\u001b[32m  ✓ \u001b[39m\u001b[90mGR\u001b[39m\n"
     ]
    },
    {
     "name": "stderr",
     "output_type": "stream",
     "text": [
      "\u001b[32m  ✓ \u001b[39m\u001b[90mPlotUtils\u001b[39m\n"
     ]
    },
    {
     "name": "stderr",
     "output_type": "stream",
     "text": [
      "\u001b[32m  ✓ \u001b[39m\u001b[90mUnitfulLatexify\u001b[39m\n"
     ]
    },
    {
     "name": "stderr",
     "output_type": "stream",
     "text": [
      "\u001b[32m  ✓ \u001b[39m\u001b[90mPlotThemes\u001b[39m\n"
     ]
    },
    {
     "name": "stderr",
     "output_type": "stream",
     "text": [
      "\u001b[32m  ✓ \u001b[39m\u001b[90mRecipesPipeline\u001b[39m\n"
     ]
    },
    {
     "name": "stderr",
     "output_type": "stream",
     "text": [
      "\u001b[32m  ✓ \u001b[39mPlots\n"
     ]
    },
    {
     "name": "stderr",
     "output_type": "stream",
     "text": [
      "\u001b[32m  ✓ \u001b[39m\u001b[90mPlots → UnitfulExt\u001b[39m\n",
      "  121 dependencies successfully precompiled in 148 seconds. 16 already precompiled.\n"
     ]
    }
   ],
   "source": [
    "using Pkg\n",
    "Pkg.add(\"Plots\")"
   ]
  },
  {
   "cell_type": "code",
   "execution_count": 12,
   "metadata": {},
   "outputs": [],
   "source": [
    "using Plots"
   ]
  },
  {
   "cell_type": "code",
   "execution_count": 13,
   "metadata": {},
   "outputs": [
    {
     "data": {
      "text/plain": [
       "Plots.GRBackend()"
      ]
     },
     "metadata": {},
     "output_type": "display_data"
    }
   ],
   "source": [
    "temp = [14.4, 14.5, 14.8, 15.2, 15.5, 15.8]\n",
    "pirates = [45000, 20000, 15000, 5000, 400, 17]\n",
    "\n",
    "# backend\n",
    "gr()"
   ]
  },
  {
   "cell_type": "code",
   "execution_count": 14,
   "metadata": {},
   "outputs": [
    {
     "data": {
      "image/png": "[encoded data removed]",
      "image/svg+xml": [
       "<?xml version=\"1.0\" encoding=\"utf-8\"?>\n",
       "<svg xmlns=\"http://www.w3.org/2000/svg\" xmlns:xlink=\"http://www.w3.org/1999/xlink\" width=\"600\" height=\"400\" viewBox=\"0 0 2400 1600\">\n",
       "<defs>\n",
       "  <clipPath id=\"clip140\">\n",
       "    <rect x=\"0\" y=\"0\" width=\"2400\" height=\"1600\"/>\n",
       "  </clipPath>\n",
       "</defs>\n",
       "<path clip-path=\"url(#clip140)\" d=\"M0 1600 L2400 1600 L2400 0 L0 0  Z\" fill=\"#ffffff\" fill-rule=\"evenodd\" fill-opacity=\"1\"/>\n",
       "<defs>\n",
       "  <clipPath id=\"clip141\">\n",
       "    <rect x=\"480\" y=\"0\" width=\"1681\" height=\"1600\"/>\n",
       "  </clipPath>\n",
       "</defs>\n",
       "<path clip-path=\"url(#clip140)\" d=\"M214.353 1474.16 L2352.76 1474.16 L2352.76 47.2441 L214.353 47.2441  Z\" fill=\"#ffffff\" fill-rule=\"evenodd\" fill-opacity=\"1\"/>\n",
       "<defs>\n",
       "  <clipPath id=\"clip142\">\n",
       "    <rect x=\"214\" y=\"47\" width=\"2139\" height=\"1428\"/>\n",
       "  </clipPath>\n",
       "</defs>\n",
       "<polyline clip-path=\"url(#clip142)\" style=\"stroke:#000000; stroke-linecap:round; stroke-linejoin:round; stroke-width:2; stroke-opacity:0.1; fill:none\" points=\"274.111,1474.16 274.111,47.2441 \"/>\n",
       "<polyline clip-path=\"url(#clip142)\" style=\"stroke:#000000; stroke-linecap:round; stroke-linejoin:round; stroke-width:2; stroke-opacity:0.1; fill:none\" points=\"722.583,1474.16 722.583,47.2441 \"/>\n",
       "<polyline clip-path=\"url(#clip142)\" style=\"stroke:#000000; stroke-linecap:round; stroke-linejoin:round; stroke-width:2; stroke-opacity:0.1; fill:none\" points=\"1171.06,1474.16 1171.06,47.2441 \"/>\n",
       "<polyline clip-path=\"url(#clip142)\" style=\"stroke:#000000; stroke-linecap:round; stroke-linejoin:round; stroke-width:2; stroke-opacity:0.1; fill:none\" points=\"1619.53,1474.16 1619.53,47.2441 \"/>\n",
       "<polyline clip-path=\"url(#clip142)\" style=\"stroke:#000000; stroke-linecap:round; stroke-linejoin:round; stroke-width:2; stroke-opacity:0.1; fill:none\" points=\"2068,1474.16 2068,47.2441 \"/>\n",
       "<polyline clip-path=\"url(#clip140)\" style=\"stroke:#000000; stroke-linecap:round; stroke-linejoin:round; stroke-width:4; stroke-opacity:1; fill:none\" points=\"214.353,1474.16 2352.76,1474.16 \"/>\n",
       "<polyline clip-path=\"url(#clip140)\" style=\"stroke:#000000; stroke-linecap:round; stroke-linejoin:round; stroke-width:4; stroke-opacity:1; fill:none\" points=\"274.111,1474.16 274.111,1455.27 \"/>\n",
       "<polyline clip-path=\"url(#clip140)\" style=\"stroke:#000000; stroke-linecap:round; stroke-linejoin:round; stroke-width:4; stroke-opacity:1; fill:none\" points=\"722.583,1474.16 722.583,1455.27 \"/>\n",
       "<polyline clip-path=\"url(#clip140)\" style=\"stroke:#000000; stroke-linecap:round; stroke-linejoin:round; stroke-width:4; stroke-opacity:1; fill:none\" points=\"1171.06,1474.16 1171.06,1455.27 \"/>\n",
       "<polyline clip-path=\"url(#clip140)\" style=\"stroke:#000000; stroke-linecap:round; stroke-linejoin:round; stroke-width:4; stroke-opacity:1; fill:none\" points=\"1619.53,1474.16 1619.53,1455.27 \"/>\n",
       "<polyline clip-path=\"url(#clip140)\" style=\"stroke:#000000; stroke-linecap:round; stroke-linejoin:round; stroke-width:4; stroke-opacity:1; fill:none\" points=\"2068,1474.16 2068,1455.27 \"/>\n",
       "<path clip-path=\"url(#clip140)\" d=\"M274.111 1505.08 Q270.5 1505.08 268.671 1508.65 Q266.866 1512.19 266.866 1519.32 Q266.866 1526.43 268.671 1529.99 Q270.5 1533.53 274.111 1533.53 Q277.745 1533.53 279.551 1529.99 Q281.379 1526.43 281.379 1519.32 Q281.379 1512.19 279.551 1508.65 Q277.745 1505.08 274.111 1505.08 M274.111 1501.38 Q279.921 1501.38 282.977 1505.99 Q286.055 1510.57 286.055 1519.32 Q286.055 1528.05 282.977 1532.65 Q279.921 1537.24 274.111 1537.24 Q268.301 1537.24 265.222 1532.65 Q262.167 1528.05 262.167 1519.32 Q262.167 1510.57 265.222 1505.99 Q268.301 1501.38 274.111 1501.38 Z\" fill=\"#000000\" fill-rule=\"nonzero\" fill-opacity=\"1\" /><path clip-path=\"url(#clip140)\" d=\"M629.482 1548.29 L637.121 1548.29 L637.121 1521.92 L628.81 1523.59 L628.81 1519.33 L637.074 1517.66 L641.75 1517.66 L641.75 1548.29 L649.389 1548.29 L649.389 1552.22 L629.482 1552.22 L629.482 1548.29 Z\" fill=\"#000000\" fill-rule=\"nonzero\" fill-opacity=\"1\" /><path clip-path=\"url(#clip140)\" d=\"M658.833 1546.35 L663.718 1546.35 L663.718 1552.22 L658.833 1552.22 L658.833 1546.35 Z\" fill=\"#000000\" fill-rule=\"nonzero\" fill-opacity=\"1\" /><path clip-path=\"url(#clip140)\" d=\"M683.903 1520.74 Q680.292 1520.74 678.463 1524.31 Q676.657 1527.85 676.657 1534.98 Q676.657 1542.09 678.463 1545.65 Q680.292 1549.19 683.903 1549.19 Q687.537 1549.19 689.342 1545.65 Q691.171 1542.09 691.171 1534.98 Q691.171 1527.85 689.342 1524.31 Q687.537 1520.74 683.903 1520.74 M683.903 1517.04 Q689.713 1517.04 692.768 1521.65 Q695.847 1526.23 695.847 1534.98 Q695.847 1543.71 692.768 1548.31 Q689.713 1552.9 683.903 1552.9 Q678.093 1552.9 675.014 1548.31 Q671.958 1543.71 671.958 1534.98 Q671.958 1526.23 675.014 1521.65 Q678.093 1517.04 683.903 1517.04 Z\" fill=\"#000000\" fill-rule=\"nonzero\" fill-opacity=\"1\" /><path clip-path=\"url(#clip140)\" d=\"M732.236 1526.76 L721.657 1537.39 L732.236 1547.97 L729.481 1550.77 L718.856 1540.14 L708.231 1550.77 L705.5 1547.97 L716.055 1537.39 L705.5 1526.76 L708.231 1523.96 L718.856 1534.59 L729.481 1523.96 L732.236 1526.76 Z\" fill=\"#000000\" fill-rule=\"nonzero\" fill-opacity=\"1\" /><path clip-path=\"url(#clip140)\" d=\"M744.597 1548.29 L752.236 1548.29 L752.236 1521.92 L743.925 1523.59 L743.925 1519.33 L752.189 1517.66 L756.865 1517.66 L756.865 1548.29 L764.504 1548.29 L764.504 1552.22 L744.597 1552.22 L744.597 1548.29 Z\" fill=\"#000000\" fill-rule=\"nonzero\" fill-opacity=\"1\" /><path clip-path=\"url(#clip140)\" d=\"M783.948 1520.74 Q780.337 1520.74 778.509 1524.31 Q776.703 1527.85 776.703 1534.98 Q776.703 1542.09 778.509 1545.65 Q780.337 1549.19 783.948 1549.19 Q787.583 1549.19 789.388 1545.65 Q791.217 1542.09 791.217 1534.98 Q791.217 1527.85 789.388 1524.31 Q787.583 1520.74 783.948 1520.74 M783.948 1517.04 Q789.759 1517.04 792.814 1521.65 Q795.893 1526.23 795.893 1534.98 Q795.893 1543.71 792.814 1548.31 Q789.759 1552.9 783.948 1552.9 Q778.138 1552.9 775.06 1548.31 Q772.004 1543.71 772.004 1534.98 Q772.004 1526.23 775.06 1521.65 Q778.138 1517.04 783.948 1517.04 Z\" fill=\"#000000\" fill-rule=\"nonzero\" fill-opacity=\"1\" /><path clip-path=\"url(#clip140)\" d=\"M808.569 1500.04 L798.977 1515.03 L808.569 1515.03 L808.569 1500.04 M807.572 1496.73 L812.35 1496.73 L812.35 1515.03 L816.356 1515.03 L816.356 1518.19 L812.35 1518.19 L812.35 1524.81 L808.569 1524.81 L808.569 1518.19 L795.893 1518.19 L795.893 1514.53 L807.572 1496.73 Z\" fill=\"#000000\" fill-rule=\"nonzero\" fill-opacity=\"1\" /><path clip-path=\"url(#clip140)\" d=\"M1082.04 1548.29 L1098.36 1548.29 L1098.36 1552.22 L1076.41 1552.22 L1076.41 1548.29 Q1079.08 1545.53 1083.66 1540.91 Q1088.27 1536.25 1089.45 1534.91 Q1091.69 1532.39 1092.57 1530.65 Q1093.47 1528.89 1093.47 1527.2 Q1093.47 1524.45 1091.53 1522.71 Q1089.61 1520.97 1086.51 1520.97 Q1084.31 1520.97 1081.85 1521.74 Q1079.42 1522.5 1076.65 1524.05 L1076.65 1519.33 Q1079.47 1518.2 1081.92 1517.62 Q1084.38 1517.04 1086.41 1517.04 Q1091.78 1517.04 1094.98 1519.72 Q1098.17 1522.41 1098.17 1526.9 Q1098.17 1529.03 1097.36 1530.95 Q1096.58 1532.85 1094.47 1535.44 Q1093.89 1536.11 1090.79 1539.33 Q1087.69 1542.53 1082.04 1548.29 Z\" fill=\"#000000\" fill-rule=\"nonzero\" fill-opacity=\"1\" /><path clip-path=\"url(#clip140)\" d=\"M1108.17 1546.35 L1113.06 1546.35 L1113.06 1552.22 L1108.17 1552.22 L1108.17 1546.35 Z\" fill=\"#000000\" fill-rule=\"nonzero\" fill-opacity=\"1\" /><path clip-path=\"url(#clip140)\" d=\"M1133.24 1520.74 Q1129.63 1520.74 1127.8 1524.31 Q1126 1527.85 1126 1534.98 Q1126 1542.09 1127.8 1545.65 Q1129.63 1549.19 1133.24 1549.19 Q1136.88 1549.19 1138.68 1545.65 Q1140.51 1542.09 1140.51 1534.98 Q1140.51 1527.85 1138.68 1524.31 Q1136.88 1520.74 1133.24 1520.74 M1133.24 1517.04 Q1139.05 1517.04 1142.11 1521.65 Q1145.19 1526.23 1145.19 1534.98 Q1145.19 1543.71 1142.11 1548.31 Q1139.05 1552.9 1133.24 1552.9 Q1127.43 1552.9 1124.35 1548.31 Q1121.3 1543.71 1121.3 1534.98 Q1121.3 1526.23 1124.35 1521.65 Q1127.43 1517.04 1133.24 1517.04 Z\" fill=\"#000000\" fill-rule=\"nonzero\" fill-opacity=\"1\" /><path clip-path=\"url(#clip140)\" d=\"M1181.58 1526.76 L1171 1537.39 L1181.58 1547.97 L1178.82 1550.77 L1168.2 1540.14 L1157.57 1550.77 L1154.84 1547.97 L1165.4 1537.39 L1154.84 1526.76 L1157.57 1523.96 L1168.2 1534.59 L1178.82 1523.96 L1181.58 1526.76 Z\" fill=\"#000000\" fill-rule=\"nonzero\" fill-opacity=\"1\" /><path clip-path=\"url(#clip140)\" d=\"M1193.94 1548.29 L1201.58 1548.29 L1201.58 1521.92 L1193.27 1523.59 L1193.27 1519.33 L1201.53 1517.66 L1206.21 1517.66 L1206.21 1548.29 L1213.84 1548.29 L1213.84 1552.22 L1193.94 1552.22 L1193.94 1548.29 Z\" fill=\"#000000\" fill-rule=\"nonzero\" fill-opacity=\"1\" /><path clip-path=\"url(#clip140)\" d=\"M1233.29 1520.74 Q1229.68 1520.74 1227.85 1524.31 Q1226.04 1527.85 1226.04 1534.98 Q1226.04 1542.09 1227.85 1545.65 Q1229.68 1549.19 1233.29 1549.19 Q1236.92 1549.19 1238.73 1545.65 Q1240.56 1542.09 1240.56 1534.98 Q1240.56 1527.85 1238.73 1524.31 Q1236.92 1520.74 1233.29 1520.74 M1233.29 1517.04 Q1239.1 1517.04 1242.15 1521.65 Q1245.23 1526.23 1245.23 1534.98 Q1245.23 1543.71 1242.15 1548.31 Q1239.1 1552.9 1233.29 1552.9 Q1227.48 1552.9 1224.4 1548.31 Q1221.34 1543.71 1221.34 1534.98 Q1221.34 1526.23 1224.4 1521.65 Q1227.48 1517.04 1233.29 1517.04 Z\" fill=\"#000000\" fill-rule=\"nonzero\" fill-opacity=\"1\" /><path clip-path=\"url(#clip140)\" d=\"M1257.91 1500.04 L1248.32 1515.03 L1257.91 1515.03 L1257.91 1500.04 M1256.91 1496.73 L1261.69 1496.73 L1261.69 1515.03 L1265.7 1515.03 L1265.7 1518.19 L1261.69 1518.19 L1261.69 1524.81 L1257.91 1524.81 L1257.91 1518.19 L1245.23 1518.19 L1245.23 1514.53 L1256.91 1496.73 Z\" fill=\"#000000\" fill-rule=\"nonzero\" fill-opacity=\"1\" /><path clip-path=\"url(#clip140)\" d=\"M1540.58 1533.59 Q1543.94 1534.31 1545.81 1536.58 Q1547.71 1538.85 1547.71 1542.18 Q1547.71 1547.29 1544.19 1550.1 Q1540.67 1552.9 1534.19 1552.9 Q1532.02 1552.9 1529.7 1552.46 Q1527.41 1552.04 1524.96 1551.18 L1524.96 1546.67 Q1526.9 1547.8 1529.22 1548.38 Q1531.53 1548.96 1534.05 1548.96 Q1538.45 1548.96 1540.74 1547.22 Q1543.06 1545.49 1543.06 1542.18 Q1543.06 1539.12 1540.9 1537.41 Q1538.78 1535.67 1534.96 1535.67 L1530.93 1535.67 L1530.93 1531.83 L1535.14 1531.83 Q1538.59 1531.83 1540.42 1530.47 Q1542.25 1529.08 1542.25 1526.48 Q1542.25 1523.82 1540.35 1522.41 Q1538.47 1520.97 1534.96 1520.97 Q1533.03 1520.97 1530.84 1521.39 Q1528.64 1521.81 1526 1522.69 L1526 1518.52 Q1528.66 1517.78 1530.97 1517.41 Q1533.31 1517.04 1535.37 1517.04 Q1540.7 1517.04 1543.8 1519.47 Q1546.9 1521.88 1546.9 1526 Q1546.9 1528.87 1545.26 1530.86 Q1543.61 1532.83 1540.58 1533.59 Z\" fill=\"#000000\" fill-rule=\"nonzero\" fill-opacity=\"1\" /><path clip-path=\"url(#clip140)\" d=\"M1556.58 1546.35 L1561.46 1546.35 L1561.46 1552.22 L1556.58 1552.22 L1556.58 1546.35 Z\" fill=\"#000000\" fill-rule=\"nonzero\" fill-opacity=\"1\" /><path clip-path=\"url(#clip140)\" d=\"M1581.65 1520.74 Q1578.03 1520.74 1576.21 1524.31 Q1574.4 1527.85 1574.4 1534.98 Q1574.4 1542.09 1576.21 1545.65 Q1578.03 1549.19 1581.65 1549.19 Q1585.28 1549.19 1587.09 1545.65 Q1588.91 1542.09 1588.91 1534.98 Q1588.91 1527.85 1587.09 1524.31 Q1585.28 1520.74 1581.65 1520.74 M1581.65 1517.04 Q1587.46 1517.04 1590.51 1521.65 Q1593.59 1526.23 1593.59 1534.98 Q1593.59 1543.71 1590.51 1548.31 Q1587.46 1552.9 1581.65 1552.9 Q1575.84 1552.9 1572.76 1548.31 Q1569.7 1543.71 1569.7 1534.98 Q1569.7 1526.23 1572.76 1521.65 Q1575.84 1517.04 1581.65 1517.04 Z\" fill=\"#000000\" fill-rule=\"nonzero\" fill-opacity=\"1\" /><path clip-path=\"url(#clip140)\" d=\"M1629.98 1526.76 L1619.4 1537.39 L1629.98 1547.97 L1627.22 1550.77 L1616.6 1540.14 L1605.97 1550.77 L1603.24 1547.97 L1613.8 1537.39 L1603.24 1526.76 L1605.97 1523.96 L1616.6 1534.59 L1627.22 1523.96 L1629.98 1526.76 Z\" fill=\"#000000\" fill-rule=\"nonzero\" fill-opacity=\"1\" /><path clip-path=\"url(#clip140)\" d=\"M1642.34 1548.29 L1649.98 1548.29 L1649.98 1521.92 L1641.67 1523.59 L1641.67 1519.33 L1649.93 1517.66 L1654.61 1517.66 L1654.61 1548.29 L1662.25 1548.29 L1662.25 1552.22 L1642.34 1552.22 L1642.34 1548.29 Z\" fill=\"#000000\" fill-rule=\"nonzero\" fill-opacity=\"1\" /><path clip-path=\"url(#clip140)\" d=\"M1681.69 1520.74 Q1678.08 1520.74 1676.25 1524.31 Q1674.45 1527.85 1674.45 1534.98 Q1674.45 1542.09 1676.25 1545.65 Q1678.08 1549.19 1681.69 1549.19 Q1685.33 1549.19 1687.13 1545.65 Q1688.96 1542.09 1688.96 1534.98 Q1688.96 1527.85 1687.13 1524.31 Q1685.33 1520.74 1681.69 1520.74 M1681.69 1517.04 Q1687.5 1517.04 1690.56 1521.65 Q1693.64 1526.23 1693.64 1534.98 Q1693.64 1543.71 1690.56 1548.31 Q1687.5 1552.9 1681.69 1552.9 Q1675.88 1552.9 1672.8 1548.31 Q1669.75 1543.71 1669.75 1534.98 Q1669.75 1526.23 1672.8 1521.65 Q1675.88 1517.04 1681.69 1517.04 Z\" fill=\"#000000\" fill-rule=\"nonzero\" fill-opacity=\"1\" /><path clip-path=\"url(#clip140)\" d=\"M1706.31 1500.04 L1696.72 1515.03 L1706.31 1515.03 L1706.31 1500.04 M1705.32 1496.73 L1710.09 1496.73 L1710.09 1515.03 L1714.1 1515.03 L1714.1 1518.19 L1710.09 1518.19 L1710.09 1524.81 L1706.31 1524.81 L1706.31 1518.19 L1693.64 1518.19 L1693.64 1514.53 L1705.32 1496.73 Z\" fill=\"#000000\" fill-rule=\"nonzero\" fill-opacity=\"1\" /><path clip-path=\"url(#clip140)\" d=\"M1988.38 1521.74 L1976.58 1540.19 L1988.38 1540.19 L1988.38 1521.74 M1987.15 1517.66 L1993.03 1517.66 L1993.03 1540.19 L1997.96 1540.19 L1997.96 1544.08 L1993.03 1544.08 L1993.03 1552.22 L1988.38 1552.22 L1988.38 1544.08 L1972.78 1544.08 L1972.78 1539.56 L1987.15 1517.66 Z\" fill=\"#000000\" fill-rule=\"nonzero\" fill-opacity=\"1\" /><path clip-path=\"url(#clip140)\" d=\"M2005.7 1546.35 L2010.58 1546.35 L2010.58 1552.22 L2005.7 1552.22 L2005.7 1546.35 Z\" fill=\"#000000\" fill-rule=\"nonzero\" fill-opacity=\"1\" /><path clip-path=\"url(#clip140)\" d=\"M2030.77 1520.74 Q2027.15 1520.74 2025.33 1524.31 Q2023.52 1527.85 2023.52 1534.98 Q2023.52 1542.09 2025.33 1545.65 Q2027.15 1549.19 2030.77 1549.19 Q2034.4 1549.19 2036.21 1545.65 Q2038.03 1542.09 2038.03 1534.98 Q2038.03 1527.85 2036.21 1524.31 Q2034.4 1520.74 2030.77 1520.74 M2030.77 1517.04 Q2036.58 1517.04 2039.63 1521.65 Q2042.71 1526.23 2042.71 1534.98 Q2042.71 1543.71 2039.63 1548.31 Q2036.58 1552.9 2030.77 1552.9 Q2024.96 1552.9 2021.88 1548.31 Q2018.82 1543.71 2018.82 1534.98 Q2018.82 1526.23 2021.88 1521.65 Q2024.96 1517.04 2030.77 1517.04 Z\" fill=\"#000000\" fill-rule=\"nonzero\" fill-opacity=\"1\" /><path clip-path=\"url(#clip140)\" d=\"M2079.1 1526.76 L2068.52 1537.39 L2079.1 1547.97 L2076.34 1550.77 L2065.72 1540.14 L2055.09 1550.77 L2052.36 1547.97 L2062.92 1537.39 L2052.36 1526.76 L2055.09 1523.96 L2065.72 1534.59 L2076.34 1523.96 L2079.1 1526.76 Z\" fill=\"#000000\" fill-rule=\"nonzero\" fill-opacity=\"1\" /><path clip-path=\"url(#clip140)\" d=\"M2091.46 1548.29 L2099.1 1548.29 L2099.1 1521.92 L2090.79 1523.59 L2090.79 1519.33 L2099.05 1517.66 L2103.73 1517.66 L2103.73 1548.29 L2111.37 1548.29 L2111.37 1552.22 L2091.46 1552.22 L2091.46 1548.29 Z\" fill=\"#000000\" fill-rule=\"nonzero\" fill-opacity=\"1\" /><path clip-path=\"url(#clip140)\" d=\"M2130.81 1520.74 Q2127.2 1520.74 2125.37 1524.31 Q2123.57 1527.85 2123.57 1534.98 Q2123.57 1542.09 2125.37 1545.65 Q2127.2 1549.19 2130.81 1549.19 Q2134.45 1549.19 2136.25 1545.65 Q2138.08 1542.09 2138.08 1534.98 Q2138.08 1527.85 2136.25 1524.31 Q2134.45 1520.74 2130.81 1520.74 M2130.81 1517.04 Q2136.62 1517.04 2139.68 1521.65 Q2142.76 1526.23 2142.76 1534.98 Q2142.76 1543.71 2139.68 1548.31 Q2136.62 1552.9 2130.81 1552.9 Q2125 1552.9 2121.92 1548.31 Q2118.87 1543.71 2118.87 1534.98 Q2118.87 1526.23 2121.92 1521.65 Q2125 1517.04 2130.81 1517.04 Z\" fill=\"#000000\" fill-rule=\"nonzero\" fill-opacity=\"1\" /><path clip-path=\"url(#clip140)\" d=\"M2155.43 1500.04 L2145.84 1515.03 L2155.43 1515.03 L2155.43 1500.04 M2154.44 1496.73 L2159.21 1496.73 L2159.21 1515.03 L2163.22 1515.03 L2163.22 1518.19 L2159.21 1518.19 L2159.21 1524.81 L2155.43 1524.81 L2155.43 1518.19 L2142.76 1518.19 L2142.76 1514.53 L2154.44 1496.73 Z\" fill=\"#000000\" fill-rule=\"nonzero\" fill-opacity=\"1\" /><polyline clip-path=\"url(#clip142)\" style=\"stroke:#000000; stroke-linecap:round; stroke-linejoin:round; stroke-width:2; stroke-opacity:0.1; fill:none\" points=\"214.353,1337.63 2352.76,1337.63 \"/>\n",
       "<polyline clip-path=\"url(#clip142)\" style=\"stroke:#000000; stroke-linecap:round; stroke-linejoin:round; stroke-width:2; stroke-opacity:0.1; fill:none\" points=\"214.353,1097.24 2352.76,1097.24 \"/>\n",
       "<polyline clip-path=\"url(#clip142)\" style=\"stroke:#000000; stroke-linecap:round; stroke-linejoin:round; stroke-width:2; stroke-opacity:0.1; fill:none\" points=\"214.353,856.858 2352.76,856.858 \"/>\n",
       "<polyline clip-path=\"url(#clip142)\" style=\"stroke:#000000; stroke-linecap:round; stroke-linejoin:round; stroke-width:2; stroke-opacity:0.1; fill:none\" points=\"214.353,616.474 2352.76,616.474 \"/>\n",
       "<polyline clip-path=\"url(#clip142)\" style=\"stroke:#000000; stroke-linecap:round; stroke-linejoin:round; stroke-width:2; stroke-opacity:0.1; fill:none\" points=\"214.353,376.09 2352.76,376.09 \"/>\n",
       "<polyline clip-path=\"url(#clip142)\" style=\"stroke:#000000; stroke-linecap:round; stroke-linejoin:round; stroke-width:2; stroke-opacity:0.1; fill:none\" points=\"214.353,135.705 2352.76,135.705 \"/>\n",
       "<polyline clip-path=\"url(#clip140)\" style=\"stroke:#000000; stroke-linecap:round; stroke-linejoin:round; stroke-width:4; stroke-opacity:1; fill:none\" points=\"214.353,1474.16 214.353,47.2441 \"/>\n",
       "<polyline clip-path=\"url(#clip140)\" style=\"stroke:#000000; stroke-linecap:round; stroke-linejoin:round; stroke-width:4; stroke-opacity:1; fill:none\" points=\"214.353,1337.63 233.25,1337.63 \"/>\n",
       "<polyline clip-path=\"url(#clip140)\" style=\"stroke:#000000; stroke-linecap:round; stroke-linejoin:round; stroke-width:4; stroke-opacity:1; fill:none\" points=\"214.353,1097.24 233.25,1097.24 \"/>\n",
       "<polyline clip-path=\"url(#clip140)\" style=\"stroke:#000000; stroke-linecap:round; stroke-linejoin:round; stroke-width:4; stroke-opacity:1; fill:none\" points=\"214.353,856.858 233.25,856.858 \"/>\n",
       "<polyline clip-path=\"url(#clip140)\" style=\"stroke:#000000; stroke-linecap:round; stroke-linejoin:round; stroke-width:4; stroke-opacity:1; fill:none\" points=\"214.353,616.474 233.25,616.474 \"/>\n",
       "<polyline clip-path=\"url(#clip140)\" style=\"stroke:#000000; stroke-linecap:round; stroke-linejoin:round; stroke-width:4; stroke-opacity:1; fill:none\" points=\"214.353,376.09 233.25,376.09 \"/>\n",
       "<polyline clip-path=\"url(#clip140)\" style=\"stroke:#000000; stroke-linecap:round; stroke-linejoin:round; stroke-width:4; stroke-opacity:1; fill:none\" points=\"214.353,135.705 233.25,135.705 \"/>\n",
       "<path clip-path=\"url(#clip140)\" d=\"M51.6634 1350.97 L59.3023 1350.97 L59.3023 1324.61 L50.9921 1326.27 L50.9921 1322.01 L59.256 1320.35 L63.9319 1320.35 L63.9319 1350.97 L71.5707 1350.97 L71.5707 1354.91 L51.6634 1354.91 L51.6634 1350.97 Z\" fill=\"#000000\" fill-rule=\"nonzero\" fill-opacity=\"1\" /><path clip-path=\"url(#clip140)\" d=\"M93.8623 1324.42 L82.0568 1342.87 L93.8623 1342.87 L93.8623 1324.42 M92.6354 1320.35 L98.515 1320.35 L98.515 1342.87 L103.446 1342.87 L103.446 1346.76 L98.515 1346.76 L98.515 1354.91 L93.8623 1354.91 L93.8623 1346.76 L78.2605 1346.76 L78.2605 1342.24 L92.6354 1320.35 Z\" fill=\"#000000\" fill-rule=\"nonzero\" fill-opacity=\"1\" /><path clip-path=\"url(#clip140)\" d=\"M111.177 1349.03 L116.061 1349.03 L116.061 1354.91 L111.177 1354.91 L111.177 1349.03 Z\" fill=\"#000000\" fill-rule=\"nonzero\" fill-opacity=\"1\" /><path clip-path=\"url(#clip140)\" d=\"M126.293 1320.35 L144.649 1320.35 L144.649 1324.28 L130.575 1324.28 L130.575 1332.75 Q131.594 1332.41 132.612 1332.24 Q133.631 1332.06 134.649 1332.06 Q140.436 1332.06 143.816 1335.23 Q147.195 1338.4 147.195 1343.82 Q147.195 1349.4 143.723 1352.5 Q140.251 1355.58 133.931 1355.58 Q131.756 1355.58 129.487 1355.21 Q127.242 1354.84 124.834 1354.1 L124.834 1349.4 Q126.918 1350.53 129.14 1351.09 Q131.362 1351.64 133.839 1351.64 Q137.844 1351.64 140.181 1349.54 Q142.519 1347.43 142.519 1343.82 Q142.519 1340.21 140.181 1338.1 Q137.844 1335.99 133.839 1335.99 Q131.964 1335.99 130.089 1336.41 Q128.237 1336.83 126.293 1337.71 L126.293 1320.35 Z\" fill=\"#000000\" fill-rule=\"nonzero\" fill-opacity=\"1\" /><path clip-path=\"url(#clip140)\" d=\"M166.408 1323.43 Q162.797 1323.43 160.968 1326.99 Q159.163 1330.53 159.163 1337.66 Q159.163 1344.77 160.968 1348.33 Q162.797 1351.87 166.408 1351.87 Q170.042 1351.87 171.848 1348.33 Q173.677 1344.77 173.677 1337.66 Q173.677 1330.53 171.848 1326.99 Q170.042 1323.43 166.408 1323.43 M166.408 1319.72 Q172.218 1319.72 175.274 1324.33 Q178.353 1328.91 178.353 1337.66 Q178.353 1346.39 175.274 1350.99 Q172.218 1355.58 166.408 1355.58 Q160.598 1355.58 157.519 1350.99 Q154.464 1346.39 154.464 1337.66 Q154.464 1328.91 157.519 1324.33 Q160.598 1319.72 166.408 1319.72 Z\" fill=\"#000000\" fill-rule=\"nonzero\" fill-opacity=\"1\" /><path clip-path=\"url(#clip140)\" d=\"M52.6588 1110.59 L60.2976 1110.59 L60.2976 1084.22 L51.9875 1085.89 L51.9875 1081.63 L60.2513 1079.96 L64.9272 1079.96 L64.9272 1110.59 L72.5661 1110.59 L72.5661 1114.52 L52.6588 1114.52 L52.6588 1110.59 Z\" fill=\"#000000\" fill-rule=\"nonzero\" fill-opacity=\"1\" /><path clip-path=\"url(#clip140)\" d=\"M94.8576 1084.04 L83.0521 1102.49 L94.8576 1102.49 L94.8576 1084.04 M93.6308 1079.96 L99.5104 1079.96 L99.5104 1102.49 L104.441 1102.49 L104.441 1106.37 L99.5104 1106.37 L99.5104 1114.52 L94.8576 1114.52 L94.8576 1106.37 L79.2559 1106.37 L79.2559 1101.86 L93.6308 1079.96 Z\" fill=\"#000000\" fill-rule=\"nonzero\" fill-opacity=\"1\" /><path clip-path=\"url(#clip140)\" d=\"M112.172 1108.64 L117.057 1108.64 L117.057 1114.52 L112.172 1114.52 L112.172 1108.64 Z\" fill=\"#000000\" fill-rule=\"nonzero\" fill-opacity=\"1\" /><path clip-path=\"url(#clip140)\" d=\"M126.061 1079.96 L148.283 1079.96 L148.283 1081.95 L135.737 1114.52 L130.853 1114.52 L142.658 1083.9 L126.061 1083.9 L126.061 1079.96 Z\" fill=\"#000000\" fill-rule=\"nonzero\" fill-opacity=\"1\" /><path clip-path=\"url(#clip140)\" d=\"M157.45 1079.96 L175.806 1079.96 L175.806 1083.9 L161.732 1083.9 L161.732 1092.37 Q162.751 1092.02 163.769 1091.86 Q164.788 1091.68 165.806 1091.68 Q171.593 1091.68 174.973 1094.85 Q178.353 1098.02 178.353 1103.43 Q178.353 1109.01 174.88 1112.11 Q171.408 1115.19 165.089 1115.19 Q162.913 1115.19 160.644 1114.82 Q158.399 1114.45 155.992 1113.71 L155.992 1109.01 Q158.075 1110.15 160.297 1110.7 Q162.519 1111.26 164.996 1111.26 Q169.001 1111.26 171.339 1109.15 Q173.677 1107.05 173.677 1103.43 Q173.677 1099.82 171.339 1097.72 Q169.001 1095.61 164.996 1095.61 Q163.121 1095.61 161.246 1096.03 Q159.394 1096.44 157.45 1097.32 L157.45 1079.96 Z\" fill=\"#000000\" fill-rule=\"nonzero\" fill-opacity=\"1\" /><path clip-path=\"url(#clip140)\" d=\"M51.6634 870.203 L59.3023 870.203 L59.3023 843.837 L50.9921 845.504 L50.9921 841.245 L59.256 839.578 L63.9319 839.578 L63.9319 870.203 L71.5707 870.203 L71.5707 874.138 L51.6634 874.138 L51.6634 870.203 Z\" fill=\"#000000\" fill-rule=\"nonzero\" fill-opacity=\"1\" /><path clip-path=\"url(#clip140)\" d=\"M81.0614 839.578 L99.4178 839.578 L99.4178 843.513 L85.3438 843.513 L85.3438 851.985 Q86.3623 851.638 87.3808 851.476 Q88.3993 851.291 89.4178 851.291 Q95.2049 851.291 98.5845 854.462 Q101.964 857.634 101.964 863.05 Q101.964 868.629 98.4919 871.731 Q95.0197 874.809 88.7003 874.809 Q86.5243 874.809 84.2558 874.439 Q82.0105 874.069 79.6031 873.328 L79.6031 868.629 Q81.6864 869.763 83.9086 870.319 Q86.1308 870.874 88.6077 870.874 Q92.6123 870.874 94.9502 868.768 Q97.2882 866.661 97.2882 863.05 Q97.2882 859.439 94.9502 857.333 Q92.6123 855.226 88.6077 855.226 Q86.7327 855.226 84.8577 855.643 Q83.0058 856.059 81.0614 856.939 L81.0614 839.578 Z\" fill=\"#000000\" fill-rule=\"nonzero\" fill-opacity=\"1\" /><path clip-path=\"url(#clip140)\" d=\"M111.177 868.258 L116.061 868.258 L116.061 874.138 L111.177 874.138 L111.177 868.258 Z\" fill=\"#000000\" fill-rule=\"nonzero\" fill-opacity=\"1\" /><path clip-path=\"url(#clip140)\" d=\"M136.246 842.657 Q132.635 842.657 130.807 846.222 Q129.001 849.763 129.001 856.893 Q129.001 863.999 130.807 867.564 Q132.635 871.106 136.246 871.106 Q139.881 871.106 141.686 867.564 Q143.515 863.999 143.515 856.893 Q143.515 849.763 141.686 846.222 Q139.881 842.657 136.246 842.657 M136.246 838.953 Q142.056 838.953 145.112 843.56 Q148.191 848.143 148.191 856.893 Q148.191 865.62 145.112 870.226 Q142.056 874.809 136.246 874.809 Q130.436 874.809 127.357 870.226 Q124.302 865.62 124.302 856.893 Q124.302 848.143 127.357 843.56 Q130.436 838.953 136.246 838.953 Z\" fill=\"#000000\" fill-rule=\"nonzero\" fill-opacity=\"1\" /><path clip-path=\"url(#clip140)\" d=\"M166.408 842.657 Q162.797 842.657 160.968 846.222 Q159.163 849.763 159.163 856.893 Q159.163 863.999 160.968 867.564 Q162.797 871.106 166.408 871.106 Q170.042 871.106 171.848 867.564 Q173.677 863.999 173.677 856.893 Q173.677 849.763 171.848 846.222 Q170.042 842.657 166.408 842.657 M166.408 838.953 Q172.218 838.953 175.274 843.56 Q178.353 848.143 178.353 856.893 Q178.353 865.62 175.274 870.226 Q172.218 874.809 166.408 874.809 Q160.598 874.809 157.519 870.226 Q154.464 865.62 154.464 856.893 Q154.464 848.143 157.519 843.56 Q160.598 838.953 166.408 838.953 Z\" fill=\"#000000\" fill-rule=\"nonzero\" fill-opacity=\"1\" /><path clip-path=\"url(#clip140)\" d=\"M52.6588 629.819 L60.2976 629.819 L60.2976 603.453 L51.9875 605.12 L51.9875 600.861 L60.2513 599.194 L64.9272 599.194 L64.9272 629.819 L72.5661 629.819 L72.5661 633.754 L52.6588 633.754 L52.6588 629.819 Z\" fill=\"#000000\" fill-rule=\"nonzero\" fill-opacity=\"1\" /><path clip-path=\"url(#clip140)\" d=\"M82.0568 599.194 L100.413 599.194 L100.413 603.129 L86.3392 603.129 L86.3392 611.601 Q87.3577 611.254 88.3762 611.092 Q89.3947 610.907 90.4132 610.907 Q96.2002 610.907 99.5798 614.078 Q102.959 617.249 102.959 622.666 Q102.959 628.245 99.4872 631.346 Q96.015 634.425 89.6956 634.425 Q87.5197 634.425 85.2512 634.055 Q83.0058 633.684 80.5984 632.944 L80.5984 628.245 Q82.6818 629.379 84.904 629.934 Q87.1262 630.49 89.603 630.49 Q93.6076 630.49 95.9456 628.384 Q98.2835 626.277 98.2835 622.666 Q98.2835 619.055 95.9456 616.948 Q93.6076 614.842 89.603 614.842 Q87.728 614.842 85.8531 615.259 Q84.0012 615.675 82.0568 616.555 L82.0568 599.194 Z\" fill=\"#000000\" fill-rule=\"nonzero\" fill-opacity=\"1\" /><path clip-path=\"url(#clip140)\" d=\"M112.172 627.874 L117.057 627.874 L117.057 633.754 L112.172 633.754 L112.172 627.874 Z\" fill=\"#000000\" fill-rule=\"nonzero\" fill-opacity=\"1\" /><path clip-path=\"url(#clip140)\" d=\"M131.269 629.819 L147.589 629.819 L147.589 633.754 L125.645 633.754 L125.645 629.819 Q128.307 627.064 132.89 622.434 Q137.496 617.782 138.677 616.439 Q140.922 613.916 141.802 612.18 Q142.705 610.421 142.705 608.731 Q142.705 605.976 140.76 604.24 Q138.839 602.504 135.737 602.504 Q133.538 602.504 131.084 603.268 Q128.654 604.032 125.876 605.583 L125.876 600.861 Q128.7 599.726 131.154 599.148 Q133.607 598.569 135.644 598.569 Q141.015 598.569 144.209 601.254 Q147.404 603.939 147.404 608.43 Q147.404 610.56 146.593 612.481 Q145.806 614.379 143.7 616.972 Q143.121 617.643 140.019 620.86 Q136.918 624.055 131.269 629.819 Z\" fill=\"#000000\" fill-rule=\"nonzero\" fill-opacity=\"1\" /><path clip-path=\"url(#clip140)\" d=\"M157.45 599.194 L175.806 599.194 L175.806 603.129 L161.732 603.129 L161.732 611.601 Q162.751 611.254 163.769 611.092 Q164.788 610.907 165.806 610.907 Q171.593 610.907 174.973 614.078 Q178.353 617.249 178.353 622.666 Q178.353 628.245 174.88 631.346 Q171.408 634.425 165.089 634.425 Q162.913 634.425 160.644 634.055 Q158.399 633.684 155.992 632.944 L155.992 628.245 Q158.075 629.379 160.297 629.934 Q162.519 630.49 164.996 630.49 Q169.001 630.49 171.339 628.384 Q173.677 626.277 173.677 622.666 Q173.677 619.055 171.339 616.948 Q169.001 614.842 164.996 614.842 Q163.121 614.842 161.246 615.259 Q159.394 615.675 157.45 616.555 L157.45 599.194 Z\" fill=\"#000000\" fill-rule=\"nonzero\" fill-opacity=\"1\" /><path clip-path=\"url(#clip140)\" d=\"M51.6634 389.435 L59.3023 389.435 L59.3023 363.069 L50.9921 364.736 L50.9921 360.476 L59.256 358.81 L63.9319 358.81 L63.9319 389.435 L71.5707 389.435 L71.5707 393.37 L51.6634 393.37 L51.6634 389.435 Z\" fill=\"#000000\" fill-rule=\"nonzero\" fill-opacity=\"1\" /><path clip-path=\"url(#clip140)\" d=\"M81.0614 358.81 L99.4178 358.81 L99.4178 362.745 L85.3438 362.745 L85.3438 371.217 Q86.3623 370.87 87.3808 370.708 Q88.3993 370.523 89.4178 370.523 Q95.2049 370.523 98.5845 373.694 Q101.964 376.865 101.964 382.282 Q101.964 387.86 98.4919 390.962 Q95.0197 394.041 88.7003 394.041 Q86.5243 394.041 84.2558 393.671 Q82.0105 393.3 79.6031 392.559 L79.6031 387.86 Q81.6864 388.995 83.9086 389.55 Q86.1308 390.106 88.6077 390.106 Q92.6123 390.106 94.9502 387.999 Q97.2882 385.893 97.2882 382.282 Q97.2882 378.671 94.9502 376.564 Q92.6123 374.458 88.6077 374.458 Q86.7327 374.458 84.8577 374.874 Q83.0058 375.291 81.0614 376.171 L81.0614 358.81 Z\" fill=\"#000000\" fill-rule=\"nonzero\" fill-opacity=\"1\" /><path clip-path=\"url(#clip140)\" d=\"M111.177 387.49 L116.061 387.49 L116.061 393.37 L111.177 393.37 L111.177 387.49 Z\" fill=\"#000000\" fill-rule=\"nonzero\" fill-opacity=\"1\" /><path clip-path=\"url(#clip140)\" d=\"M126.293 358.81 L144.649 358.81 L144.649 362.745 L130.575 362.745 L130.575 371.217 Q131.594 370.87 132.612 370.708 Q133.631 370.523 134.649 370.523 Q140.436 370.523 143.816 373.694 Q147.195 376.865 147.195 382.282 Q147.195 387.86 143.723 390.962 Q140.251 394.041 133.931 394.041 Q131.756 394.041 129.487 393.671 Q127.242 393.3 124.834 392.559 L124.834 387.86 Q126.918 388.995 129.14 389.55 Q131.362 390.106 133.839 390.106 Q137.844 390.106 140.181 387.999 Q142.519 385.893 142.519 382.282 Q142.519 378.671 140.181 376.564 Q137.844 374.458 133.839 374.458 Q131.964 374.458 130.089 374.874 Q128.237 375.291 126.293 376.171 L126.293 358.81 Z\" fill=\"#000000\" fill-rule=\"nonzero\" fill-opacity=\"1\" /><path clip-path=\"url(#clip140)\" d=\"M166.408 361.888 Q162.797 361.888 160.968 365.453 Q159.163 368.995 159.163 376.124 Q159.163 383.231 160.968 386.796 Q162.797 390.337 166.408 390.337 Q170.042 390.337 171.848 386.796 Q173.677 383.231 173.677 376.124 Q173.677 368.995 171.848 365.453 Q170.042 361.888 166.408 361.888 M166.408 358.185 Q172.218 358.185 175.274 362.791 Q178.353 367.374 178.353 376.124 Q178.353 384.851 175.274 389.458 Q172.218 394.041 166.408 394.041 Q160.598 394.041 157.519 389.458 Q154.464 384.851 154.464 376.124 Q154.464 367.374 157.519 362.791 Q160.598 358.185 166.408 358.185 Z\" fill=\"#000000\" fill-rule=\"nonzero\" fill-opacity=\"1\" /><path clip-path=\"url(#clip140)\" d=\"M52.6588 149.05 L60.2976 149.05 L60.2976 122.685 L51.9875 124.351 L51.9875 120.092 L60.2513 118.425 L64.9272 118.425 L64.9272 149.05 L72.5661 149.05 L72.5661 152.985 L52.6588 152.985 L52.6588 149.05 Z\" fill=\"#000000\" fill-rule=\"nonzero\" fill-opacity=\"1\" /><path clip-path=\"url(#clip140)\" d=\"M82.0568 118.425 L100.413 118.425 L100.413 122.361 L86.3392 122.361 L86.3392 130.833 Q87.3577 130.486 88.3762 130.324 Q89.3947 130.138 90.4132 130.138 Q96.2002 130.138 99.5798 133.31 Q102.959 136.481 102.959 141.898 Q102.959 147.476 99.4872 150.578 Q96.015 153.657 89.6956 153.657 Q87.5197 153.657 85.2512 153.286 Q83.0058 152.916 80.5984 152.175 L80.5984 147.476 Q82.6818 148.611 84.904 149.166 Q87.1262 149.722 89.603 149.722 Q93.6076 149.722 95.9456 147.615 Q98.2835 145.509 98.2835 141.898 Q98.2835 138.286 95.9456 136.18 Q93.6076 134.074 89.603 134.074 Q87.728 134.074 85.8531 134.49 Q84.0012 134.907 82.0568 135.786 L82.0568 118.425 Z\" fill=\"#000000\" fill-rule=\"nonzero\" fill-opacity=\"1\" /><path clip-path=\"url(#clip140)\" d=\"M112.172 147.106 L117.057 147.106 L117.057 152.985 L112.172 152.985 L112.172 147.106 Z\" fill=\"#000000\" fill-rule=\"nonzero\" fill-opacity=\"1\" /><path clip-path=\"url(#clip140)\" d=\"M126.061 118.425 L148.283 118.425 L148.283 120.416 L135.737 152.985 L130.853 152.985 L142.658 122.361 L126.061 122.361 L126.061 118.425 Z\" fill=\"#000000\" fill-rule=\"nonzero\" fill-opacity=\"1\" /><path clip-path=\"url(#clip140)\" d=\"M157.45 118.425 L175.806 118.425 L175.806 122.361 L161.732 122.361 L161.732 130.833 Q162.751 130.486 163.769 130.324 Q164.788 130.138 165.806 130.138 Q171.593 130.138 174.973 133.31 Q178.353 136.481 178.353 141.898 Q178.353 147.476 174.88 150.578 Q171.408 153.657 165.089 153.657 Q162.913 153.657 160.644 153.286 Q158.399 152.916 155.992 152.175 L155.992 147.476 Q158.075 148.611 160.297 149.166 Q162.519 149.722 164.996 149.722 Q169.001 149.722 171.339 147.615 Q173.677 145.509 173.677 141.898 Q173.677 138.286 171.339 136.18 Q169.001 134.074 164.996 134.074 Q163.121 134.074 161.246 134.49 Q159.394 134.907 157.45 135.786 L157.45 118.425 Z\" fill=\"#000000\" fill-rule=\"nonzero\" fill-opacity=\"1\" /><polyline clip-path=\"url(#clip142)\" style=\"stroke:#009af9; stroke-linecap:round; stroke-linejoin:round; stroke-width:4; stroke-opacity:1; fill:none\" points=\"2292.24,1433.78 1171.06,1337.63 946.819,1049.17 498.347,664.551 292.05,376.09 274.873,87.6286 \"/>\n",
       "<circle clip-path=\"url(#clip142)\" cx=\"2292.24\" cy=\"1433.78\" r=\"14.4\" fill=\"#e26f46\" fill-rule=\"evenodd\" fill-opacity=\"1\" stroke=\"#000000\" stroke-opacity=\"1\" stroke-width=\"3.2\"/>\n",
       "<circle clip-path=\"url(#clip142)\" cx=\"1171.06\" cy=\"1337.63\" r=\"14.4\" fill=\"#e26f46\" fill-rule=\"evenodd\" fill-opacity=\"1\" stroke=\"#000000\" stroke-opacity=\"1\" stroke-width=\"3.2\"/>\n",
       "<circle clip-path=\"url(#clip142)\" cx=\"946.819\" cy=\"1049.17\" r=\"14.4\" fill=\"#e26f46\" fill-rule=\"evenodd\" fill-opacity=\"1\" stroke=\"#000000\" stroke-opacity=\"1\" stroke-width=\"3.2\"/>\n",
       "<circle clip-path=\"url(#clip142)\" cx=\"498.347\" cy=\"664.551\" r=\"14.4\" fill=\"#e26f46\" fill-rule=\"evenodd\" fill-opacity=\"1\" stroke=\"#000000\" stroke-opacity=\"1\" stroke-width=\"3.2\"/>\n",
       "<circle clip-path=\"url(#clip142)\" cx=\"292.05\" cy=\"376.09\" r=\"14.4\" fill=\"#e26f46\" fill-rule=\"evenodd\" fill-opacity=\"1\" stroke=\"#000000\" stroke-opacity=\"1\" stroke-width=\"3.2\"/>\n",
       "<circle clip-path=\"url(#clip142)\" cx=\"274.873\" cy=\"87.6286\" r=\"14.4\" fill=\"#e26f46\" fill-rule=\"evenodd\" fill-opacity=\"1\" stroke=\"#000000\" stroke-opacity=\"1\" stroke-width=\"3.2\"/>\n",
       "<path clip-path=\"url(#clip140)\" d=\"M1928.65 250.328 L2281.48 250.328 L2281.48 94.8081 L1928.65 94.8081  Z\" fill=\"#ffffff\" fill-rule=\"evenodd\" fill-opacity=\"1\"/>\n",
       "<polyline clip-path=\"url(#clip140)\" style=\"stroke:#000000; stroke-linecap:round; stroke-linejoin:round; stroke-width:4; stroke-opacity:1; fill:none\" points=\"1928.65,250.328 2281.48,250.328 2281.48,94.8081 1928.65,94.8081 1928.65,250.328 \"/>\n",
       "<polyline clip-path=\"url(#clip140)\" style=\"stroke:#009af9; stroke-linecap:round; stroke-linejoin:round; stroke-width:4; stroke-opacity:1; fill:none\" points=\"1952.41,146.648 2094.97,146.648 \"/>\n",
       "<path clip-path=\"url(#clip140)\" d=\"M2118.74 127.91 L2122.99 127.91 L2122.99 163.928 L2118.74 163.928 L2118.74 127.91 Z\" fill=\"#000000\" fill-rule=\"nonzero\" fill-opacity=\"1\" /><path clip-path=\"url(#clip140)\" d=\"M2131.91 138.002 L2136.17 138.002 L2136.17 163.928 L2131.91 163.928 L2131.91 138.002 M2131.91 127.91 L2136.17 127.91 L2136.17 133.303 L2131.91 133.303 L2131.91 127.91 Z\" fill=\"#000000\" fill-rule=\"nonzero\" fill-opacity=\"1\" /><path clip-path=\"url(#clip140)\" d=\"M2166.63 148.28 L2166.63 163.928 L2162.37 163.928 L2162.37 148.419 Q2162.37 144.738 2160.93 142.91 Q2159.5 141.081 2156.63 141.081 Q2153.18 141.081 2151.19 143.28 Q2149.2 145.479 2149.2 149.275 L2149.2 163.928 L2144.92 163.928 L2144.92 138.002 L2149.2 138.002 L2149.2 142.03 Q2150.73 139.692 2152.79 138.535 Q2154.87 137.377 2157.58 137.377 Q2162.04 137.377 2164.34 140.155 Q2166.63 142.91 2166.63 148.28 Z\" fill=\"#000000\" fill-rule=\"nonzero\" fill-opacity=\"1\" /><path clip-path=\"url(#clip140)\" d=\"M2197.3 149.9 L2197.3 151.984 L2177.72 151.984 Q2177.99 156.382 2180.36 158.697 Q2182.74 160.988 2186.98 160.988 Q2189.43 160.988 2191.72 160.386 Q2194.04 159.785 2196.3 158.581 L2196.3 162.609 Q2194.01 163.581 2191.6 164.09 Q2189.2 164.599 2186.72 164.599 Q2180.52 164.599 2176.88 160.988 Q2173.27 157.377 2173.27 151.22 Q2173.27 144.854 2176.7 141.127 Q2180.15 137.377 2185.98 137.377 Q2191.21 137.377 2194.24 140.757 Q2197.3 144.113 2197.3 149.9 M2193.04 148.65 Q2192.99 145.155 2191.07 143.072 Q2189.17 140.988 2186.03 140.988 Q2182.46 140.988 2180.31 143.002 Q2178.18 145.016 2177.86 148.674 L2193.04 148.65 Z\" fill=\"#000000\" fill-rule=\"nonzero\" fill-opacity=\"1\" /><circle clip-path=\"url(#clip140)\" cx=\"2023.69\" cy=\"198.488\" r=\"20.48\" fill=\"#e26f46\" fill-rule=\"evenodd\" fill-opacity=\"1\" stroke=\"#000000\" stroke-opacity=\"1\" stroke-width=\"4.55111\"/>\n",
       "<path clip-path=\"url(#clip140)\" d=\"M2123.02 211.879 L2123.02 225.629 L2118.74 225.629 L2118.74 189.842 L2123.02 189.842 L2123.02 193.777 Q2124.36 191.463 2126.4 190.352 Q2128.46 189.217 2131.3 189.217 Q2136.03 189.217 2138.97 192.967 Q2141.93 196.717 2141.93 202.828 Q2141.93 208.939 2138.97 212.689 Q2136.03 216.439 2131.3 216.439 Q2128.46 216.439 2126.4 215.328 Q2124.36 214.194 2123.02 211.879 M2137.51 202.828 Q2137.51 198.129 2135.56 195.467 Q2133.64 192.782 2130.26 192.782 Q2126.88 192.782 2124.94 195.467 Q2123.02 198.129 2123.02 202.828 Q2123.02 207.527 2124.94 210.213 Q2126.88 212.875 2130.26 212.875 Q2133.64 212.875 2135.56 210.213 Q2137.51 207.527 2137.51 202.828 Z\" fill=\"#000000\" fill-rule=\"nonzero\" fill-opacity=\"1\" /><path clip-path=\"url(#clip140)\" d=\"M2159.04 192.828 Q2155.61 192.828 2153.62 195.514 Q2151.63 198.176 2151.63 202.828 Q2151.63 207.481 2153.6 210.166 Q2155.59 212.828 2159.04 212.828 Q2162.44 212.828 2164.43 210.143 Q2166.42 207.458 2166.42 202.828 Q2166.42 198.222 2164.43 195.537 Q2162.44 192.828 2159.04 192.828 M2159.04 189.217 Q2164.59 189.217 2167.76 192.828 Q2170.93 196.44 2170.93 202.828 Q2170.93 209.194 2167.76 212.828 Q2164.59 216.439 2159.04 216.439 Q2153.46 216.439 2150.29 212.828 Q2147.14 209.194 2147.14 202.828 Q2147.14 196.44 2150.29 192.828 Q2153.46 189.217 2159.04 189.217 Z\" fill=\"#000000\" fill-rule=\"nonzero\" fill-opacity=\"1\" /><path clip-path=\"url(#clip140)\" d=\"M2177.99 189.842 L2182.25 189.842 L2182.25 215.768 L2177.99 215.768 L2177.99 189.842 M2177.99 179.75 L2182.25 179.75 L2182.25 185.143 L2177.99 185.143 L2177.99 179.75 Z\" fill=\"#000000\" fill-rule=\"nonzero\" fill-opacity=\"1\" /><path clip-path=\"url(#clip140)\" d=\"M2212.72 200.12 L2212.72 215.768 L2208.46 215.768 L2208.46 200.259 Q2208.46 196.578 2207.02 194.75 Q2205.59 192.921 2202.72 192.921 Q2199.27 192.921 2197.28 195.12 Q2195.29 197.319 2195.29 201.115 L2195.29 215.768 L2191 215.768 L2191 189.842 L2195.29 189.842 L2195.29 193.87 Q2196.81 191.532 2198.87 190.375 Q2200.96 189.217 2203.67 189.217 Q2208.13 189.217 2210.42 191.995 Q2212.72 194.75 2212.72 200.12 Z\" fill=\"#000000\" fill-rule=\"nonzero\" fill-opacity=\"1\" /><path clip-path=\"url(#clip140)\" d=\"M2225.42 182.481 L2225.42 189.842 L2234.2 189.842 L2234.2 193.152 L2225.42 193.152 L2225.42 207.226 Q2225.42 210.398 2226.28 211.301 Q2227.16 212.203 2229.82 212.203 L2234.2 212.203 L2234.2 215.768 L2229.82 215.768 Q2224.89 215.768 2223.02 213.939 Q2221.14 212.088 2221.14 207.226 L2221.14 193.152 L2218.02 193.152 L2218.02 189.842 L2221.14 189.842 L2221.14 182.481 L2225.42 182.481 Z\" fill=\"#000000\" fill-rule=\"nonzero\" fill-opacity=\"1\" /><path clip-path=\"url(#clip140)\" d=\"M2256.33 190.606 L2256.33 194.634 Q2254.52 193.708 2252.58 193.245 Q2250.63 192.782 2248.55 192.782 Q2245.38 192.782 2243.78 193.754 Q2242.21 194.727 2242.21 196.671 Q2242.21 198.152 2243.34 199.009 Q2244.48 199.842 2247.9 200.606 L2249.36 200.93 Q2253.9 201.902 2255.79 203.685 Q2257.72 205.444 2257.72 208.615 Q2257.72 212.226 2254.85 214.333 Q2252 216.439 2247 216.439 Q2244.91 216.439 2242.65 216.023 Q2240.4 215.629 2237.9 214.819 L2237.9 210.421 Q2240.26 211.648 2242.55 212.273 Q2244.85 212.875 2247.09 212.875 Q2250.1 212.875 2251.72 211.856 Q2253.34 210.814 2253.34 208.939 Q2253.34 207.203 2252.16 206.277 Q2251 205.352 2247.04 204.495 L2245.56 204.148 Q2241.6 203.314 2239.85 201.602 Q2238.09 199.865 2238.09 196.856 Q2238.09 193.199 2240.68 191.208 Q2243.27 189.217 2248.04 189.217 Q2250.4 189.217 2252.48 189.565 Q2254.57 189.912 2256.33 190.606 Z\" fill=\"#000000\" fill-rule=\"nonzero\" fill-opacity=\"1\" /></svg>\n"
      ],
      "text/html": [
       "<?xml version=\"1.0\" encoding=\"utf-8\"?>\n",
       "<svg xmlns=\"http://www.w3.org/2000/svg\" xmlns:xlink=\"http://www.w3.org/1999/xlink\" width=\"600\" height=\"400\" viewBox=\"0 0 2400 1600\">\n",
       "<defs>\n",
       "  <clipPath id=\"clip190\">\n",
       "    <rect x=\"0\" y=\"0\" width=\"2400\" height=\"1600\"/>\n",
       "  </clipPath>\n",
       "</defs>\n",
       "<path clip-path=\"url(#clip190)\" d=\"M0 1600 L2400 1600 L2400 0 L0 0  Z\" fill=\"#ffffff\" fill-rule=\"evenodd\" fill-opacity=\"1\"/>\n",
       "<defs>\n",
       "  <clipPath id=\"clip191\">\n",
       "    <rect x=\"480\" y=\"0\" width=\"1681\" height=\"1600\"/>\n",
       "  </clipPath>\n",
       "</defs>\n",
       "<path clip-path=\"url(#clip190)\" d=\"M214.353 1474.16 L2352.76 1474.16 L2352.76 47.2441 L214.353 47.2441  Z\" fill=\"#ffffff\" fill-rule=\"evenodd\" fill-opacity=\"1\"/>\n",
       "<defs>\n",
       "  <clipPath id=\"clip192\">\n",
       "    <rect x=\"214\" y=\"47\" width=\"2139\" height=\"1428\"/>\n",
       "  </clipPath>\n",
       "</defs>\n",
       "<polyline clip-path=\"url(#clip192)\" style=\"stroke:#000000; stroke-linecap:round; stroke-linejoin:round; stroke-width:2; stroke-opacity:0.1; fill:none\" points=\"274.111,1474.16 274.111,47.2441 \"/>\n",
       "<polyline clip-path=\"url(#clip192)\" style=\"stroke:#000000; stroke-linecap:round; stroke-linejoin:round; stroke-width:2; stroke-opacity:0.1; fill:none\" points=\"722.583,1474.16 722.583,47.2441 \"/>\n",
       "<polyline clip-path=\"url(#clip192)\" style=\"stroke:#000000; stroke-linecap:round; stroke-linejoin:round; stroke-width:2; stroke-opacity:0.1; fill:none\" points=\"1171.06,1474.16 1171.06,47.2441 \"/>\n",
       "<polyline clip-path=\"url(#clip192)\" style=\"stroke:#000000; stroke-linecap:round; stroke-linejoin:round; stroke-width:2; stroke-opacity:0.1; fill:none\" points=\"1619.53,1474.16 1619.53,47.2441 \"/>\n",
       "<polyline clip-path=\"url(#clip192)\" style=\"stroke:#000000; stroke-linecap:round; stroke-linejoin:round; stroke-width:2; stroke-opacity:0.1; fill:none\" points=\"2068,1474.16 2068,47.2441 \"/>\n",
       "<polyline clip-path=\"url(#clip190)\" style=\"stroke:#000000; stroke-linecap:round; stroke-linejoin:round; stroke-width:4; stroke-opacity:1; fill:none\" points=\"214.353,1474.16 2352.76,1474.16 \"/>\n",
       "<polyline clip-path=\"url(#clip190)\" style=\"stroke:#000000; stroke-linecap:round; stroke-linejoin:round; stroke-width:4; stroke-opacity:1; fill:none\" points=\"274.111,1474.16 274.111,1455.27 \"/>\n",
       "<polyline clip-path=\"url(#clip190)\" style=\"stroke:#000000; stroke-linecap:round; stroke-linejoin:round; stroke-width:4; stroke-opacity:1; fill:none\" points=\"722.583,1474.16 722.583,1455.27 \"/>\n",
       "<polyline clip-path=\"url(#clip190)\" style=\"stroke:#000000; stroke-linecap:round; stroke-linejoin:round; stroke-width:4; stroke-opacity:1; fill:none\" points=\"1171.06,1474.16 1171.06,1455.27 \"/>\n",
       "<polyline clip-path=\"url(#clip190)\" style=\"stroke:#000000; stroke-linecap:round; stroke-linejoin:round; stroke-width:4; stroke-opacity:1; fill:none\" points=\"1619.53,1474.16 1619.53,1455.27 \"/>\n",
       "<polyline clip-path=\"url(#clip190)\" style=\"stroke:#000000; stroke-linecap:round; stroke-linejoin:round; stroke-width:4; stroke-opacity:1; fill:none\" points=\"2068,1474.16 2068,1455.27 \"/>\n",
       "<path clip-path=\"url(#clip190)\" d=\"M274.111 1505.08 Q270.5 1505.08 268.671 1508.65 Q266.866 1512.19 266.866 1519.32 Q266.866 1526.43 268.671 1529.99 Q270.5 1533.53 274.111 1533.53 Q277.745 1533.53 279.551 1529.99 Q281.379 1526.43 281.379 1519.32 Q281.379 1512.19 279.551 1508.65 Q277.745 1505.08 274.111 1505.08 M274.111 1501.38 Q279.921 1501.38 282.977 1505.99 Q286.055 1510.57 286.055 1519.32 Q286.055 1528.05 282.977 1532.65 Q279.921 1537.24 274.111 1537.24 Q268.301 1537.24 265.222 1532.65 Q262.167 1528.05 262.167 1519.32 Q262.167 1510.57 265.222 1505.99 Q268.301 1501.38 274.111 1501.38 Z\" fill=\"#000000\" fill-rule=\"nonzero\" fill-opacity=\"1\" /><path clip-path=\"url(#clip190)\" d=\"M629.482 1548.29 L637.121 1548.29 L637.121 1521.92 L628.81 1523.59 L628.81 1519.33 L637.074 1517.66 L641.75 1517.66 L641.75 1548.29 L649.389 1548.29 L649.389 1552.22 L629.482 1552.22 L629.482 1548.29 Z\" fill=\"#000000\" fill-rule=\"nonzero\" fill-opacity=\"1\" /><path clip-path=\"url(#clip190)\" d=\"M658.833 1546.35 L663.718 1546.35 L663.718 1552.22 L658.833 1552.22 L658.833 1546.35 Z\" fill=\"#000000\" fill-rule=\"nonzero\" fill-opacity=\"1\" /><path clip-path=\"url(#clip190)\" d=\"M683.903 1520.74 Q680.292 1520.74 678.463 1524.31 Q676.657 1527.85 676.657 1534.98 Q676.657 1542.09 678.463 1545.65 Q680.292 1549.19 683.903 1549.19 Q687.537 1549.19 689.342 1545.65 Q691.171 1542.09 691.171 1534.98 Q691.171 1527.85 689.342 1524.31 Q687.537 1520.74 683.903 1520.74 M683.903 1517.04 Q689.713 1517.04 692.768 1521.65 Q695.847 1526.23 695.847 1534.98 Q695.847 1543.71 692.768 1548.31 Q689.713 1552.9 683.903 1552.9 Q678.093 1552.9 675.014 1548.31 Q671.958 1543.71 671.958 1534.98 Q671.958 1526.23 675.014 1521.65 Q678.093 1517.04 683.903 1517.04 Z\" fill=\"#000000\" fill-rule=\"nonzero\" fill-opacity=\"1\" /><path clip-path=\"url(#clip190)\" d=\"M732.236 1526.76 L721.657 1537.39 L732.236 1547.97 L729.481 1550.77 L718.856 1540.14 L708.231 1550.77 L705.5 1547.97 L716.055 1537.39 L705.5 1526.76 L708.231 1523.96 L718.856 1534.59 L729.481 1523.96 L732.236 1526.76 Z\" fill=\"#000000\" fill-rule=\"nonzero\" fill-opacity=\"1\" /><path clip-path=\"url(#clip190)\" d=\"M744.597 1548.29 L752.236 1548.29 L752.236 1521.92 L743.925 1523.59 L743.925 1519.33 L752.189 1517.66 L756.865 1517.66 L756.865 1548.29 L764.504 1548.29 L764.504 1552.22 L744.597 1552.22 L744.597 1548.29 Z\" fill=\"#000000\" fill-rule=\"nonzero\" fill-opacity=\"1\" /><path clip-path=\"url(#clip190)\" d=\"M783.948 1520.74 Q780.337 1520.74 778.509 1524.31 Q776.703 1527.85 776.703 1534.98 Q776.703 1542.09 778.509 1545.65 Q780.337 1549.19 783.948 1549.19 Q787.583 1549.19 789.388 1545.65 Q791.217 1542.09 791.217 1534.98 Q791.217 1527.85 789.388 1524.31 Q787.583 1520.74 783.948 1520.74 M783.948 1517.04 Q789.759 1517.04 792.814 1521.65 Q795.893 1526.23 795.893 1534.98 Q795.893 1543.71 792.814 1548.31 Q789.759 1552.9 783.948 1552.9 Q778.138 1552.9 775.06 1548.31 Q772.004 1543.71 772.004 1534.98 Q772.004 1526.23 775.06 1521.65 Q778.138 1517.04 783.948 1517.04 Z\" fill=\"#000000\" fill-rule=\"nonzero\" fill-opacity=\"1\" /><path clip-path=\"url(#clip190)\" d=\"M808.569 1500.04 L798.977 1515.03 L808.569 1515.03 L808.569 1500.04 M807.572 1496.73 L812.35 1496.73 L812.35 1515.03 L816.356 1515.03 L816.356 1518.19 L812.35 1518.19 L812.35 1524.81 L808.569 1524.81 L808.569 1518.19 L795.893 1518.19 L795.893 1514.53 L807.572 1496.73 Z\" fill=\"#000000\" fill-rule=\"nonzero\" fill-opacity=\"1\" /><path clip-path=\"url(#clip190)\" d=\"M1082.04 1548.29 L1098.36 1548.29 L1098.36 1552.22 L1076.41 1552.22 L1076.41 1548.29 Q1079.08 1545.53 1083.66 1540.91 Q1088.27 1536.25 1089.45 1534.91 Q1091.69 1532.39 1092.57 1530.65 Q1093.47 1528.89 1093.47 1527.2 Q1093.47 1524.45 1091.53 1522.71 Q1089.61 1520.97 1086.51 1520.97 Q1084.31 1520.97 1081.85 1521.74 Q1079.42 1522.5 1076.65 1524.05 L1076.65 1519.33 Q1079.47 1518.2 1081.92 1517.62 Q1084.38 1517.04 1086.41 1517.04 Q1091.78 1517.04 1094.98 1519.72 Q1098.17 1522.41 1098.17 1526.9 Q1098.17 1529.03 1097.36 1530.95 Q1096.58 1532.85 1094.47 1535.44 Q1093.89 1536.11 1090.79 1539.33 Q1087.69 1542.53 1082.04 1548.29 Z\" fill=\"#000000\" fill-rule=\"nonzero\" fill-opacity=\"1\" /><path clip-path=\"url(#clip190)\" d=\"M1108.17 1546.35 L1113.06 1546.35 L1113.06 1552.22 L1108.17 1552.22 L1108.17 1546.35 Z\" fill=\"#000000\" fill-rule=\"nonzero\" fill-opacity=\"1\" /><path clip-path=\"url(#clip190)\" d=\"M1133.24 1520.74 Q1129.63 1520.74 1127.8 1524.31 Q1126 1527.85 1126 1534.98 Q1126 1542.09 1127.8 1545.65 Q1129.63 1549.19 1133.24 1549.19 Q1136.88 1549.19 1138.68 1545.65 Q1140.51 1542.09 1140.51 1534.98 Q1140.51 1527.85 1138.68 1524.31 Q1136.88 1520.74 1133.24 1520.74 M1133.24 1517.04 Q1139.05 1517.04 1142.11 1521.65 Q1145.19 1526.23 1145.19 1534.98 Q1145.19 1543.71 1142.11 1548.31 Q1139.05 1552.9 1133.24 1552.9 Q1127.43 1552.9 1124.35 1548.31 Q1121.3 1543.71 1121.3 1534.98 Q1121.3 1526.23 1124.35 1521.65 Q1127.43 1517.04 1133.24 1517.04 Z\" fill=\"#000000\" fill-rule=\"nonzero\" fill-opacity=\"1\" /><path clip-path=\"url(#clip190)\" d=\"M1181.58 1526.76 L1171 1537.39 L1181.58 1547.97 L1178.82 1550.77 L1168.2 1540.14 L1157.57 1550.77 L1154.84 1547.97 L1165.4 1537.39 L1154.84 1526.76 L1157.57 1523.96 L1168.2 1534.59 L1178.82 1523.96 L1181.58 1526.76 Z\" fill=\"#000000\" fill-rule=\"nonzero\" fill-opacity=\"1\" /><path clip-path=\"url(#clip190)\" d=\"M1193.94 1548.29 L1201.58 1548.29 L1201.58 1521.92 L1193.27 1523.59 L1193.27 1519.33 L1201.53 1517.66 L1206.21 1517.66 L1206.21 1548.29 L1213.84 1548.29 L1213.84 1552.22 L1193.94 1552.22 L1193.94 1548.29 Z\" fill=\"#000000\" fill-rule=\"nonzero\" fill-opacity=\"1\" /><path clip-path=\"url(#clip190)\" d=\"M1233.29 1520.74 Q1229.68 1520.74 1227.85 1524.31 Q1226.04 1527.85 1226.04 1534.98 Q1226.04 1542.09 1227.85 1545.65 Q1229.68 1549.19 1233.29 1549.19 Q1236.92 1549.19 1238.73 1545.65 Q1240.56 1542.09 1240.56 1534.98 Q1240.56 1527.85 1238.73 1524.31 Q1236.92 1520.74 1233.29 1520.74 M1233.29 1517.04 Q1239.1 1517.04 1242.15 1521.65 Q1245.23 1526.23 1245.23 1534.98 Q1245.23 1543.71 1242.15 1548.31 Q1239.1 1552.9 1233.29 1552.9 Q1227.48 1552.9 1224.4 1548.31 Q1221.34 1543.71 1221.34 1534.98 Q1221.34 1526.23 1224.4 1521.65 Q1227.48 1517.04 1233.29 1517.04 Z\" fill=\"#000000\" fill-rule=\"nonzero\" fill-opacity=\"1\" /><path clip-path=\"url(#clip190)\" d=\"M1257.91 1500.04 L1248.32 1515.03 L1257.91 1515.03 L1257.91 1500.04 M1256.91 1496.73 L1261.69 1496.73 L1261.69 1515.03 L1265.7 1515.03 L1265.7 1518.19 L1261.69 1518.19 L1261.69 1524.81 L1257.91 1524.81 L1257.91 1518.19 L1245.23 1518.19 L1245.23 1514.53 L1256.91 1496.73 Z\" fill=\"#000000\" fill-rule=\"nonzero\" fill-opacity=\"1\" /><path clip-path=\"url(#clip190)\" d=\"M1540.58 1533.59 Q1543.94 1534.31 1545.81 1536.58 Q1547.71 1538.85 1547.71 1542.18 Q1547.71 1547.29 1544.19 1550.1 Q1540.67 1552.9 1534.19 1552.9 Q1532.02 1552.9 1529.7 1552.46 Q1527.41 1552.04 1524.96 1551.18 L1524.96 1546.67 Q1526.9 1547.8 1529.22 1548.38 Q1531.53 1548.96 1534.05 1548.96 Q1538.45 1548.96 1540.74 1547.22 Q1543.06 1545.49 1543.06 1542.18 Q1543.06 1539.12 1540.9 1537.41 Q1538.78 1535.67 1534.96 1535.67 L1530.93 1535.67 L1530.93 1531.83 L1535.14 1531.83 Q1538.59 1531.83 1540.42 1530.47 Q1542.25 1529.08 1542.25 1526.48 Q1542.25 1523.82 1540.35 1522.41 Q1538.47 1520.97 1534.96 1520.97 Q1533.03 1520.97 1530.84 1521.39 Q1528.64 1521.81 1526 1522.69 L1526 1518.52 Q1528.66 1517.78 1530.97 1517.41 Q1533.31 1517.04 1535.37 1517.04 Q1540.7 1517.04 1543.8 1519.47 Q1546.9 1521.88 1546.9 1526 Q1546.9 1528.87 1545.26 1530.86 Q1543.61 1532.83 1540.58 1533.59 Z\" fill=\"#000000\" fill-rule=\"nonzero\" fill-opacity=\"1\" /><path clip-path=\"url(#clip190)\" d=\"M1556.58 1546.35 L1561.46 1546.35 L1561.46 1552.22 L1556.58 1552.22 L1556.58 1546.35 Z\" fill=\"#000000\" fill-rule=\"nonzero\" fill-opacity=\"1\" /><path clip-path=\"url(#clip190)\" d=\"M1581.65 1520.74 Q1578.03 1520.74 1576.21 1524.31 Q1574.4 1527.85 1574.4 1534.98 Q1574.4 1542.09 1576.21 1545.65 Q1578.03 1549.19 1581.65 1549.19 Q1585.28 1549.19 1587.09 1545.65 Q1588.91 1542.09 1588.91 1534.98 Q1588.91 1527.85 1587.09 1524.31 Q1585.28 1520.74 1581.65 1520.74 M1581.65 1517.04 Q1587.46 1517.04 1590.51 1521.65 Q1593.59 1526.23 1593.59 1534.98 Q1593.59 1543.71 1590.51 1548.31 Q1587.46 1552.9 1581.65 1552.9 Q1575.84 1552.9 1572.76 1548.31 Q1569.7 1543.71 1569.7 1534.98 Q1569.7 1526.23 1572.76 1521.65 Q1575.84 1517.04 1581.65 1517.04 Z\" fill=\"#000000\" fill-rule=\"nonzero\" fill-opacity=\"1\" /><path clip-path=\"url(#clip190)\" d=\"M1629.98 1526.76 L1619.4 1537.39 L1629.98 1547.97 L1627.22 1550.77 L1616.6 1540.14 L1605.97 1550.77 L1603.24 1547.97 L1613.8 1537.39 L1603.24 1526.76 L1605.97 1523.96 L1616.6 1534.59 L1627.22 1523.96 L1629.98 1526.76 Z\" fill=\"#000000\" fill-rule=\"nonzero\" fill-opacity=\"1\" /><path clip-path=\"url(#clip190)\" d=\"M1642.34 1548.29 L1649.98 1548.29 L1649.98 1521.92 L1641.67 1523.59 L1641.67 1519.33 L1649.93 1517.66 L1654.61 1517.66 L1654.61 1548.29 L1662.25 1548.29 L1662.25 1552.22 L1642.34 1552.22 L1642.34 1548.29 Z\" fill=\"#000000\" fill-rule=\"nonzero\" fill-opacity=\"1\" /><path clip-path=\"url(#clip190)\" d=\"M1681.69 1520.74 Q1678.08 1520.74 1676.25 1524.31 Q1674.45 1527.85 1674.45 1534.98 Q1674.45 1542.09 1676.25 1545.65 Q1678.08 1549.19 1681.69 1549.19 Q1685.33 1549.19 1687.13 1545.65 Q1688.96 1542.09 1688.96 1534.98 Q1688.96 1527.85 1687.13 1524.31 Q1685.33 1520.74 1681.69 1520.74 M1681.69 1517.04 Q1687.5 1517.04 1690.56 1521.65 Q1693.64 1526.23 1693.64 1534.98 Q1693.64 1543.71 1690.56 1548.31 Q1687.5 1552.9 1681.69 1552.9 Q1675.88 1552.9 1672.8 1548.31 Q1669.75 1543.71 1669.75 1534.98 Q1669.75 1526.23 1672.8 1521.65 Q1675.88 1517.04 1681.69 1517.04 Z\" fill=\"#000000\" fill-rule=\"nonzero\" fill-opacity=\"1\" /><path clip-path=\"url(#clip190)\" d=\"M1706.31 1500.04 L1696.72 1515.03 L1706.31 1515.03 L1706.31 1500.04 M1705.32 1496.73 L1710.09 1496.73 L1710.09 1515.03 L1714.1 1515.03 L1714.1 1518.19 L1710.09 1518.19 L1710.09 1524.81 L1706.31 1524.81 L1706.31 1518.19 L1693.64 1518.19 L1693.64 1514.53 L1705.32 1496.73 Z\" fill=\"#000000\" fill-rule=\"nonzero\" fill-opacity=\"1\" /><path clip-path=\"url(#clip190)\" d=\"M1988.38 1521.74 L1976.58 1540.19 L1988.38 1540.19 L1988.38 1521.74 M1987.15 1517.66 L1993.03 1517.66 L1993.03 1540.19 L1997.96 1540.19 L1997.96 1544.08 L1993.03 1544.08 L1993.03 1552.22 L1988.38 1552.22 L1988.38 1544.08 L1972.78 1544.08 L1972.78 1539.56 L1987.15 1517.66 Z\" fill=\"#000000\" fill-rule=\"nonzero\" fill-opacity=\"1\" /><path clip-path=\"url(#clip190)\" d=\"M2005.7 1546.35 L2010.58 1546.35 L2010.58 1552.22 L2005.7 1552.22 L2005.7 1546.35 Z\" fill=\"#000000\" fill-rule=\"nonzero\" fill-opacity=\"1\" /><path clip-path=\"url(#clip190)\" d=\"M2030.77 1520.74 Q2027.15 1520.74 2025.33 1524.31 Q2023.52 1527.85 2023.52 1534.98 Q2023.52 1542.09 2025.33 1545.65 Q2027.15 1549.19 2030.77 1549.19 Q2034.4 1549.19 2036.21 1545.65 Q2038.03 1542.09 2038.03 1534.98 Q2038.03 1527.85 2036.21 1524.31 Q2034.4 1520.74 2030.77 1520.74 M2030.77 1517.04 Q2036.58 1517.04 2039.63 1521.65 Q2042.71 1526.23 2042.71 1534.98 Q2042.71 1543.71 2039.63 1548.31 Q2036.58 1552.9 2030.77 1552.9 Q2024.96 1552.9 2021.88 1548.31 Q2018.82 1543.71 2018.82 1534.98 Q2018.82 1526.23 2021.88 1521.65 Q2024.96 1517.04 2030.77 1517.04 Z\" fill=\"#000000\" fill-rule=\"nonzero\" fill-opacity=\"1\" /><path clip-path=\"url(#clip190)\" d=\"M2079.1 1526.76 L2068.52 1537.39 L2079.1 1547.97 L2076.34 1550.77 L2065.72 1540.14 L2055.09 1550.77 L2052.36 1547.97 L2062.92 1537.39 L2052.36 1526.76 L2055.09 1523.96 L2065.72 1534.59 L2076.34 1523.96 L2079.1 1526.76 Z\" fill=\"#000000\" fill-rule=\"nonzero\" fill-opacity=\"1\" /><path clip-path=\"url(#clip190)\" d=\"M2091.46 1548.29 L2099.1 1548.29 L2099.1 1521.92 L2090.79 1523.59 L2090.79 1519.33 L2099.05 1517.66 L2103.73 1517.66 L2103.73 1548.29 L2111.37 1548.29 L2111.37 1552.22 L2091.46 1552.22 L2091.46 1548.29 Z\" fill=\"#000000\" fill-rule=\"nonzero\" fill-opacity=\"1\" /><path clip-path=\"url(#clip190)\" d=\"M2130.81 1520.74 Q2127.2 1520.74 2125.37 1524.31 Q2123.57 1527.85 2123.57 1534.98 Q2123.57 1542.09 2125.37 1545.65 Q2127.2 1549.19 2130.81 1549.19 Q2134.45 1549.19 2136.25 1545.65 Q2138.08 1542.09 2138.08 1534.98 Q2138.08 1527.85 2136.25 1524.31 Q2134.45 1520.74 2130.81 1520.74 M2130.81 1517.04 Q2136.62 1517.04 2139.68 1521.65 Q2142.76 1526.23 2142.76 1534.98 Q2142.76 1543.71 2139.68 1548.31 Q2136.62 1552.9 2130.81 1552.9 Q2125 1552.9 2121.92 1548.31 Q2118.87 1543.71 2118.87 1534.98 Q2118.87 1526.23 2121.92 1521.65 Q2125 1517.04 2130.81 1517.04 Z\" fill=\"#000000\" fill-rule=\"nonzero\" fill-opacity=\"1\" /><path clip-path=\"url(#clip190)\" d=\"M2155.43 1500.04 L2145.84 1515.03 L2155.43 1515.03 L2155.43 1500.04 M2154.44 1496.73 L2159.21 1496.73 L2159.21 1515.03 L2163.22 1515.03 L2163.22 1518.19 L2159.21 1518.19 L2159.21 1524.81 L2155.43 1524.81 L2155.43 1518.19 L2142.76 1518.19 L2142.76 1514.53 L2154.44 1496.73 Z\" fill=\"#000000\" fill-rule=\"nonzero\" fill-opacity=\"1\" /><polyline clip-path=\"url(#clip192)\" style=\"stroke:#000000; stroke-linecap:round; stroke-linejoin:round; stroke-width:2; stroke-opacity:0.1; fill:none\" points=\"214.353,1337.63 2352.76,1337.63 \"/>\n",
       "<polyline clip-path=\"url(#clip192)\" style=\"stroke:#000000; stroke-linecap:round; stroke-linejoin:round; stroke-width:2; stroke-opacity:0.1; fill:none\" points=\"214.353,1097.24 2352.76,1097.24 \"/>\n",
       "<polyline clip-path=\"url(#clip192)\" style=\"stroke:#000000; stroke-linecap:round; stroke-linejoin:round; stroke-width:2; stroke-opacity:0.1; fill:none\" points=\"214.353,856.858 2352.76,856.858 \"/>\n",
       "<polyline clip-path=\"url(#clip192)\" style=\"stroke:#000000; stroke-linecap:round; stroke-linejoin:round; stroke-width:2; stroke-opacity:0.1; fill:none\" points=\"214.353,616.474 2352.76,616.474 \"/>\n",
       "<polyline clip-path=\"url(#clip192)\" style=\"stroke:#000000; stroke-linecap:round; stroke-linejoin:round; stroke-width:2; stroke-opacity:0.1; fill:none\" points=\"214.353,376.09 2352.76,376.09 \"/>\n",
       "<polyline clip-path=\"url(#clip192)\" style=\"stroke:#000000; stroke-linecap:round; stroke-linejoin:round; stroke-width:2; stroke-opacity:0.1; fill:none\" points=\"214.353,135.705 2352.76,135.705 \"/>\n",
       "<polyline clip-path=\"url(#clip190)\" style=\"stroke:#000000; stroke-linecap:round; stroke-linejoin:round; stroke-width:4; stroke-opacity:1; fill:none\" points=\"214.353,1474.16 214.353,47.2441 \"/>\n",
       "<polyline clip-path=\"url(#clip190)\" style=\"stroke:#000000; stroke-linecap:round; stroke-linejoin:round; stroke-width:4; stroke-opacity:1; fill:none\" points=\"214.353,1337.63 233.25,1337.63 \"/>\n",
       "<polyline clip-path=\"url(#clip190)\" style=\"stroke:#000000; stroke-linecap:round; stroke-linejoin:round; stroke-width:4; stroke-opacity:1; fill:none\" points=\"214.353,1097.24 233.25,1097.24 \"/>\n",
       "<polyline clip-path=\"url(#clip190)\" style=\"stroke:#000000; stroke-linecap:round; stroke-linejoin:round; stroke-width:4; stroke-opacity:1; fill:none\" points=\"214.353,856.858 233.25,856.858 \"/>\n",
       "<polyline clip-path=\"url(#clip190)\" style=\"stroke:#000000; stroke-linecap:round; stroke-linejoin:round; stroke-width:4; stroke-opacity:1; fill:none\" points=\"214.353,616.474 233.25,616.474 \"/>\n",
       "<polyline clip-path=\"url(#clip190)\" style=\"stroke:#000000; stroke-linecap:round; stroke-linejoin:round; stroke-width:4; stroke-opacity:1; fill:none\" points=\"214.353,376.09 233.25,376.09 \"/>\n",
       "<polyline clip-path=\"url(#clip190)\" style=\"stroke:#000000; stroke-linecap:round; stroke-linejoin:round; stroke-width:4; stroke-opacity:1; fill:none\" points=\"214.353,135.705 233.25,135.705 \"/>\n",
       "<path clip-path=\"url(#clip190)\" d=\"M51.6634 1350.97 L59.3023 1350.97 L59.3023 1324.61 L50.9921 1326.27 L50.9921 1322.01 L59.256 1320.35 L63.9319 1320.35 L63.9319 1350.97 L71.5707 1350.97 L71.5707 1354.91 L51.6634 1354.91 L51.6634 1350.97 Z\" fill=\"#000000\" fill-rule=\"nonzero\" fill-opacity=\"1\" /><path clip-path=\"url(#clip190)\" d=\"M93.8623 1324.42 L82.0568 1342.87 L93.8623 1342.87 L93.8623 1324.42 M92.6354 1320.35 L98.515 1320.35 L98.515 1342.87 L103.446 1342.87 L103.446 1346.76 L98.515 1346.76 L98.515 1354.91 L93.8623 1354.91 L93.8623 1346.76 L78.2605 1346.76 L78.2605 1342.24 L92.6354 1320.35 Z\" fill=\"#000000\" fill-rule=\"nonzero\" fill-opacity=\"1\" /><path clip-path=\"url(#clip190)\" d=\"M111.177 1349.03 L116.061 1349.03 L116.061 1354.91 L111.177 1354.91 L111.177 1349.03 Z\" fill=\"#000000\" fill-rule=\"nonzero\" fill-opacity=\"1\" /><path clip-path=\"url(#clip190)\" d=\"M126.293 1320.35 L144.649 1320.35 L144.649 1324.28 L130.575 1324.28 L130.575 1332.75 Q131.594 1332.41 132.612 1332.24 Q133.631 1332.06 134.649 1332.06 Q140.436 1332.06 143.816 1335.23 Q147.195 1338.4 147.195 1343.82 Q147.195 1349.4 143.723 1352.5 Q140.251 1355.58 133.931 1355.58 Q131.756 1355.58 129.487 1355.21 Q127.242 1354.84 124.834 1354.1 L124.834 1349.4 Q126.918 1350.53 129.14 1351.09 Q131.362 1351.64 133.839 1351.64 Q137.844 1351.64 140.181 1349.54 Q142.519 1347.43 142.519 1343.82 Q142.519 1340.21 140.181 1338.1 Q137.844 1335.99 133.839 1335.99 Q131.964 1335.99 130.089 1336.41 Q128.237 1336.83 126.293 1337.71 L126.293 1320.35 Z\" fill=\"#000000\" fill-rule=\"nonzero\" fill-opacity=\"1\" /><path clip-path=\"url(#clip190)\" d=\"M166.408 1323.43 Q162.797 1323.43 160.968 1326.99 Q159.163 1330.53 159.163 1337.66 Q159.163 1344.77 160.968 1348.33 Q162.797 1351.87 166.408 1351.87 Q170.042 1351.87 171.848 1348.33 Q173.677 1344.77 173.677 1337.66 Q173.677 1330.53 171.848 1326.99 Q170.042 1323.43 166.408 1323.43 M166.408 1319.72 Q172.218 1319.72 175.274 1324.33 Q178.353 1328.91 178.353 1337.66 Q178.353 1346.39 175.274 1350.99 Q172.218 1355.58 166.408 1355.58 Q160.598 1355.58 157.519 1350.99 Q154.464 1346.39 154.464 1337.66 Q154.464 1328.91 157.519 1324.33 Q160.598 1319.72 166.408 1319.72 Z\" fill=\"#000000\" fill-rule=\"nonzero\" fill-opacity=\"1\" /><path clip-path=\"url(#clip190)\" d=\"M52.6588 1110.59 L60.2976 1110.59 L60.2976 1084.22 L51.9875 1085.89 L51.9875 1081.63 L60.2513 1079.96 L64.9272 1079.96 L64.9272 1110.59 L72.5661 1110.59 L72.5661 1114.52 L52.6588 1114.52 L52.6588 1110.59 Z\" fill=\"#000000\" fill-rule=\"nonzero\" fill-opacity=\"1\" /><path clip-path=\"url(#clip190)\" d=\"M94.8576 1084.04 L83.0521 1102.49 L94.8576 1102.49 L94.8576 1084.04 M93.6308 1079.96 L99.5104 1079.96 L99.5104 1102.49 L104.441 1102.49 L104.441 1106.37 L99.5104 1106.37 L99.5104 1114.52 L94.8576 1114.52 L94.8576 1106.37 L79.2559 1106.37 L79.2559 1101.86 L93.6308 1079.96 Z\" fill=\"#000000\" fill-rule=\"nonzero\" fill-opacity=\"1\" /><path clip-path=\"url(#clip190)\" d=\"M112.172 1108.64 L117.057 1108.64 L117.057 1114.52 L112.172 1114.52 L112.172 1108.64 Z\" fill=\"#000000\" fill-rule=\"nonzero\" fill-opacity=\"1\" /><path clip-path=\"url(#clip190)\" d=\"M126.061 1079.96 L148.283 1079.96 L148.283 1081.95 L135.737 1114.52 L130.853 1114.52 L142.658 1083.9 L126.061 1083.9 L126.061 1079.96 Z\" fill=\"#000000\" fill-rule=\"nonzero\" fill-opacity=\"1\" /><path clip-path=\"url(#clip190)\" d=\"M157.45 1079.96 L175.806 1079.96 L175.806 1083.9 L161.732 1083.9 L161.732 1092.37 Q162.751 1092.02 163.769 1091.86 Q164.788 1091.68 165.806 1091.68 Q171.593 1091.68 174.973 1094.85 Q178.353 1098.02 178.353 1103.43 Q178.353 1109.01 174.88 1112.11 Q171.408 1115.19 165.089 1115.19 Q162.913 1115.19 160.644 1114.82 Q158.399 1114.45 155.992 1113.71 L155.992 1109.01 Q158.075 1110.15 160.297 1110.7 Q162.519 1111.26 164.996 1111.26 Q169.001 1111.26 171.339 1109.15 Q173.677 1107.05 173.677 1103.43 Q173.677 1099.82 171.339 1097.72 Q169.001 1095.61 164.996 1095.61 Q163.121 1095.61 161.246 1096.03 Q159.394 1096.44 157.45 1097.32 L157.45 1079.96 Z\" fill=\"#000000\" fill-rule=\"nonzero\" fill-opacity=\"1\" /><path clip-path=\"url(#clip190)\" d=\"M51.6634 870.203 L59.3023 870.203 L59.3023 843.837 L50.9921 845.504 L50.9921 841.245 L59.256 839.578 L63.9319 839.578 L63.9319 870.203 L71.5707 870.203 L71.5707 874.138 L51.6634 874.138 L51.6634 870.203 Z\" fill=\"#000000\" fill-rule=\"nonzero\" fill-opacity=\"1\" /><path clip-path=\"url(#clip190)\" d=\"M81.0614 839.578 L99.4178 839.578 L99.4178 843.513 L85.3438 843.513 L85.3438 851.985 Q86.3623 851.638 87.3808 851.476 Q88.3993 851.291 89.4178 851.291 Q95.2049 851.291 98.5845 854.462 Q101.964 857.634 101.964 863.05 Q101.964 868.629 98.4919 871.731 Q95.0197 874.809 88.7003 874.809 Q86.5243 874.809 84.2558 874.439 Q82.0105 874.069 79.6031 873.328 L79.6031 868.629 Q81.6864 869.763 83.9086 870.319 Q86.1308 870.874 88.6077 870.874 Q92.6123 870.874 94.9502 868.768 Q97.2882 866.661 97.2882 863.05 Q97.2882 859.439 94.9502 857.333 Q92.6123 855.226 88.6077 855.226 Q86.7327 855.226 84.8577 855.643 Q83.0058 856.059 81.0614 856.939 L81.0614 839.578 Z\" fill=\"#000000\" fill-rule=\"nonzero\" fill-opacity=\"1\" /><path clip-path=\"url(#clip190)\" d=\"M111.177 868.258 L116.061 868.258 L116.061 874.138 L111.177 874.138 L111.177 868.258 Z\" fill=\"#000000\" fill-rule=\"nonzero\" fill-opacity=\"1\" /><path clip-path=\"url(#clip190)\" d=\"M136.246 842.657 Q132.635 842.657 130.807 846.222 Q129.001 849.763 129.001 856.893 Q129.001 863.999 130.807 867.564 Q132.635 871.106 136.246 871.106 Q139.881 871.106 141.686 867.564 Q143.515 863.999 143.515 856.893 Q143.515 849.763 141.686 846.222 Q139.881 842.657 136.246 842.657 M136.246 838.953 Q142.056 838.953 145.112 843.56 Q148.191 848.143 148.191 856.893 Q148.191 865.62 145.112 870.226 Q142.056 874.809 136.246 874.809 Q130.436 874.809 127.357 870.226 Q124.302 865.62 124.302 856.893 Q124.302 848.143 127.357 843.56 Q130.436 838.953 136.246 838.953 Z\" fill=\"#000000\" fill-rule=\"nonzero\" fill-opacity=\"1\" /><path clip-path=\"url(#clip190)\" d=\"M166.408 842.657 Q162.797 842.657 160.968 846.222 Q159.163 849.763 159.163 856.893 Q159.163 863.999 160.968 867.564 Q162.797 871.106 166.408 871.106 Q170.042 871.106 171.848 867.564 Q173.677 863.999 173.677 856.893 Q173.677 849.763 171.848 846.222 Q170.042 842.657 166.408 842.657 M166.408 838.953 Q172.218 838.953 175.274 843.56 Q178.353 848.143 178.353 856.893 Q178.353 865.62 175.274 870.226 Q172.218 874.809 166.408 874.809 Q160.598 874.809 157.519 870.226 Q154.464 865.62 154.464 856.893 Q154.464 848.143 157.519 843.56 Q160.598 838.953 166.408 838.953 Z\" fill=\"#000000\" fill-rule=\"nonzero\" fill-opacity=\"1\" /><path clip-path=\"url(#clip190)\" d=\"M52.6588 629.819 L60.2976 629.819 L60.2976 603.453 L51.9875 605.12 L51.9875 600.861 L60.2513 599.194 L64.9272 599.194 L64.9272 629.819 L72.5661 629.819 L72.5661 633.754 L52.6588 633.754 L52.6588 629.819 Z\" fill=\"#000000\" fill-rule=\"nonzero\" fill-opacity=\"1\" /><path clip-path=\"url(#clip190)\" d=\"M82.0568 599.194 L100.413 599.194 L100.413 603.129 L86.3392 603.129 L86.3392 611.601 Q87.3577 611.254 88.3762 611.092 Q89.3947 610.907 90.4132 610.907 Q96.2002 610.907 99.5798 614.078 Q102.959 617.249 102.959 622.666 Q102.959 628.245 99.4872 631.346 Q96.015 634.425 89.6956 634.425 Q87.5197 634.425 85.2512 634.055 Q83.0058 633.684 80.5984 632.944 L80.5984 628.245 Q82.6818 629.379 84.904 629.934 Q87.1262 630.49 89.603 630.49 Q93.6076 630.49 95.9456 628.384 Q98.2835 626.277 98.2835 622.666 Q98.2835 619.055 95.9456 616.948 Q93.6076 614.842 89.603 614.842 Q87.728 614.842 85.8531 615.259 Q84.0012 615.675 82.0568 616.555 L82.0568 599.194 Z\" fill=\"#000000\" fill-rule=\"nonzero\" fill-opacity=\"1\" /><path clip-path=\"url(#clip190)\" d=\"M112.172 627.874 L117.057 627.874 L117.057 633.754 L112.172 633.754 L112.172 627.874 Z\" fill=\"#000000\" fill-rule=\"nonzero\" fill-opacity=\"1\" /><path clip-path=\"url(#clip190)\" d=\"M131.269 629.819 L147.589 629.819 L147.589 633.754 L125.645 633.754 L125.645 629.819 Q128.307 627.064 132.89 622.434 Q137.496 617.782 138.677 616.439 Q140.922 613.916 141.802 612.18 Q142.705 610.421 142.705 608.731 Q142.705 605.976 140.76 604.24 Q138.839 602.504 135.737 602.504 Q133.538 602.504 131.084 603.268 Q128.654 604.032 125.876 605.583 L125.876 600.861 Q128.7 599.726 131.154 599.148 Q133.607 598.569 135.644 598.569 Q141.015 598.569 144.209 601.254 Q147.404 603.939 147.404 608.43 Q147.404 610.56 146.593 612.481 Q145.806 614.379 143.7 616.972 Q143.121 617.643 140.019 620.86 Q136.918 624.055 131.269 629.819 Z\" fill=\"#000000\" fill-rule=\"nonzero\" fill-opacity=\"1\" /><path clip-path=\"url(#clip190)\" d=\"M157.45 599.194 L175.806 599.194 L175.806 603.129 L161.732 603.129 L161.732 611.601 Q162.751 611.254 163.769 611.092 Q164.788 610.907 165.806 610.907 Q171.593 610.907 174.973 614.078 Q178.353 617.249 178.353 622.666 Q178.353 628.245 174.88 631.346 Q171.408 634.425 165.089 634.425 Q162.913 634.425 160.644 634.055 Q158.399 633.684 155.992 632.944 L155.992 628.245 Q158.075 629.379 160.297 629.934 Q162.519 630.49 164.996 630.49 Q169.001 630.49 171.339 628.384 Q173.677 626.277 173.677 622.666 Q173.677 619.055 171.339 616.948 Q169.001 614.842 164.996 614.842 Q163.121 614.842 161.246 615.259 Q159.394 615.675 157.45 616.555 L157.45 599.194 Z\" fill=\"#000000\" fill-rule=\"nonzero\" fill-opacity=\"1\" /><path clip-path=\"url(#clip190)\" d=\"M51.6634 389.435 L59.3023 389.435 L59.3023 363.069 L50.9921 364.736 L50.9921 360.476 L59.256 358.81 L63.9319 358.81 L63.9319 389.435 L71.5707 389.435 L71.5707 393.37 L51.6634 393.37 L51.6634 389.435 Z\" fill=\"#000000\" fill-rule=\"nonzero\" fill-opacity=\"1\" /><path clip-path=\"url(#clip190)\" d=\"M81.0614 358.81 L99.4178 358.81 L99.4178 362.745 L85.3438 362.745 L85.3438 371.217 Q86.3623 370.87 87.3808 370.708 Q88.3993 370.523 89.4178 370.523 Q95.2049 370.523 98.5845 373.694 Q101.964 376.865 101.964 382.282 Q101.964 387.86 98.4919 390.962 Q95.0197 394.041 88.7003 394.041 Q86.5243 394.041 84.2558 393.671 Q82.0105 393.3 79.6031 392.559 L79.6031 387.86 Q81.6864 388.995 83.9086 389.55 Q86.1308 390.106 88.6077 390.106 Q92.6123 390.106 94.9502 387.999 Q97.2882 385.893 97.2882 382.282 Q97.2882 378.671 94.9502 376.564 Q92.6123 374.458 88.6077 374.458 Q86.7327 374.458 84.8577 374.874 Q83.0058 375.291 81.0614 376.171 L81.0614 358.81 Z\" fill=\"#000000\" fill-rule=\"nonzero\" fill-opacity=\"1\" /><path clip-path=\"url(#clip190)\" d=\"M111.177 387.49 L116.061 387.49 L116.061 393.37 L111.177 393.37 L111.177 387.49 Z\" fill=\"#000000\" fill-rule=\"nonzero\" fill-opacity=\"1\" /><path clip-path=\"url(#clip190)\" d=\"M126.293 358.81 L144.649 358.81 L144.649 362.745 L130.575 362.745 L130.575 371.217 Q131.594 370.87 132.612 370.708 Q133.631 370.523 134.649 370.523 Q140.436 370.523 143.816 373.694 Q147.195 376.865 147.195 382.282 Q147.195 387.86 143.723 390.962 Q140.251 394.041 133.931 394.041 Q131.756 394.041 129.487 393.671 Q127.242 393.3 124.834 392.559 L124.834 387.86 Q126.918 388.995 129.14 389.55 Q131.362 390.106 133.839 390.106 Q137.844 390.106 140.181 387.999 Q142.519 385.893 142.519 382.282 Q142.519 378.671 140.181 376.564 Q137.844 374.458 133.839 374.458 Q131.964 374.458 130.089 374.874 Q128.237 375.291 126.293 376.171 L126.293 358.81 Z\" fill=\"#000000\" fill-rule=\"nonzero\" fill-opacity=\"1\" /><path clip-path=\"url(#clip190)\" d=\"M166.408 361.888 Q162.797 361.888 160.968 365.453 Q159.163 368.995 159.163 376.124 Q159.163 383.231 160.968 386.796 Q162.797 390.337 166.408 390.337 Q170.042 390.337 171.848 386.796 Q173.677 383.231 173.677 376.124 Q173.677 368.995 171.848 365.453 Q170.042 361.888 166.408 361.888 M166.408 358.185 Q172.218 358.185 175.274 362.791 Q178.353 367.374 178.353 376.124 Q178.353 384.851 175.274 389.458 Q172.218 394.041 166.408 394.041 Q160.598 394.041 157.519 389.458 Q154.464 384.851 154.464 376.124 Q154.464 367.374 157.519 362.791 Q160.598 358.185 166.408 358.185 Z\" fill=\"#000000\" fill-rule=\"nonzero\" fill-opacity=\"1\" /><path clip-path=\"url(#clip190)\" d=\"M52.6588 149.05 L60.2976 149.05 L60.2976 122.685 L51.9875 124.351 L51.9875 120.092 L60.2513 118.425 L64.9272 118.425 L64.9272 149.05 L72.5661 149.05 L72.5661 152.985 L52.6588 152.985 L52.6588 149.05 Z\" fill=\"#000000\" fill-rule=\"nonzero\" fill-opacity=\"1\" /><path clip-path=\"url(#clip190)\" d=\"M82.0568 118.425 L100.413 118.425 L100.413 122.361 L86.3392 122.361 L86.3392 130.833 Q87.3577 130.486 88.3762 130.324 Q89.3947 130.138 90.4132 130.138 Q96.2002 130.138 99.5798 133.31 Q102.959 136.481 102.959 141.898 Q102.959 147.476 99.4872 150.578 Q96.015 153.657 89.6956 153.657 Q87.5197 153.657 85.2512 153.286 Q83.0058 152.916 80.5984 152.175 L80.5984 147.476 Q82.6818 148.611 84.904 149.166 Q87.1262 149.722 89.603 149.722 Q93.6076 149.722 95.9456 147.615 Q98.2835 145.509 98.2835 141.898 Q98.2835 138.286 95.9456 136.18 Q93.6076 134.074 89.603 134.074 Q87.728 134.074 85.8531 134.49 Q84.0012 134.907 82.0568 135.786 L82.0568 118.425 Z\" fill=\"#000000\" fill-rule=\"nonzero\" fill-opacity=\"1\" /><path clip-path=\"url(#clip190)\" d=\"M112.172 147.106 L117.057 147.106 L117.057 152.985 L112.172 152.985 L112.172 147.106 Z\" fill=\"#000000\" fill-rule=\"nonzero\" fill-opacity=\"1\" /><path clip-path=\"url(#clip190)\" d=\"M126.061 118.425 L148.283 118.425 L148.283 120.416 L135.737 152.985 L130.853 152.985 L142.658 122.361 L126.061 122.361 L126.061 118.425 Z\" fill=\"#000000\" fill-rule=\"nonzero\" fill-opacity=\"1\" /><path clip-path=\"url(#clip190)\" d=\"M157.45 118.425 L175.806 118.425 L175.806 122.361 L161.732 122.361 L161.732 130.833 Q162.751 130.486 163.769 130.324 Q164.788 130.138 165.806 130.138 Q171.593 130.138 174.973 133.31 Q178.353 136.481 178.353 141.898 Q178.353 147.476 174.88 150.578 Q171.408 153.657 165.089 153.657 Q162.913 153.657 160.644 153.286 Q158.399 152.916 155.992 152.175 L155.992 147.476 Q158.075 148.611 160.297 149.166 Q162.519 149.722 164.996 149.722 Q169.001 149.722 171.339 147.615 Q173.677 145.509 173.677 141.898 Q173.677 138.286 171.339 136.18 Q169.001 134.074 164.996 134.074 Q163.121 134.074 161.246 134.49 Q159.394 134.907 157.45 135.786 L157.45 118.425 Z\" fill=\"#000000\" fill-rule=\"nonzero\" fill-opacity=\"1\" /><polyline clip-path=\"url(#clip192)\" style=\"stroke:#009af9; stroke-linecap:round; stroke-linejoin:round; stroke-width:4; stroke-opacity:1; fill:none\" points=\"2292.24,1433.78 1171.06,1337.63 946.819,1049.17 498.347,664.551 292.05,376.09 274.873,87.6286 \"/>\n",
       "<circle clip-path=\"url(#clip192)\" cx=\"2292.24\" cy=\"1433.78\" r=\"14.4\" fill=\"#e26f46\" fill-rule=\"evenodd\" fill-opacity=\"1\" stroke=\"#000000\" stroke-opacity=\"1\" stroke-width=\"3.2\"/>\n",
       "<circle clip-path=\"url(#clip192)\" cx=\"1171.06\" cy=\"1337.63\" r=\"14.4\" fill=\"#e26f46\" fill-rule=\"evenodd\" fill-opacity=\"1\" stroke=\"#000000\" stroke-opacity=\"1\" stroke-width=\"3.2\"/>\n",
       "<circle clip-path=\"url(#clip192)\" cx=\"946.819\" cy=\"1049.17\" r=\"14.4\" fill=\"#e26f46\" fill-rule=\"evenodd\" fill-opacity=\"1\" stroke=\"#000000\" stroke-opacity=\"1\" stroke-width=\"3.2\"/>\n",
       "<circle clip-path=\"url(#clip192)\" cx=\"498.347\" cy=\"664.551\" r=\"14.4\" fill=\"#e26f46\" fill-rule=\"evenodd\" fill-opacity=\"1\" stroke=\"#000000\" stroke-opacity=\"1\" stroke-width=\"3.2\"/>\n",
       "<circle clip-path=\"url(#clip192)\" cx=\"292.05\" cy=\"376.09\" r=\"14.4\" fill=\"#e26f46\" fill-rule=\"evenodd\" fill-opacity=\"1\" stroke=\"#000000\" stroke-opacity=\"1\" stroke-width=\"3.2\"/>\n",
       "<circle clip-path=\"url(#clip192)\" cx=\"274.873\" cy=\"87.6286\" r=\"14.4\" fill=\"#e26f46\" fill-rule=\"evenodd\" fill-opacity=\"1\" stroke=\"#000000\" stroke-opacity=\"1\" stroke-width=\"3.2\"/>\n",
       "<path clip-path=\"url(#clip190)\" d=\"M1928.65 250.328 L2281.48 250.328 L2281.48 94.8081 L1928.65 94.8081  Z\" fill=\"#ffffff\" fill-rule=\"evenodd\" fill-opacity=\"1\"/>\n",
       "<polyline clip-path=\"url(#clip190)\" style=\"stroke:#000000; stroke-linecap:round; stroke-linejoin:round; stroke-width:4; stroke-opacity:1; fill:none\" points=\"1928.65,250.328 2281.48,250.328 2281.48,94.8081 1928.65,94.8081 1928.65,250.328 \"/>\n",
       "<polyline clip-path=\"url(#clip190)\" style=\"stroke:#009af9; stroke-linecap:round; stroke-linejoin:round; stroke-width:4; stroke-opacity:1; fill:none\" points=\"1952.41,146.648 2094.97,146.648 \"/>\n",
       "<path clip-path=\"url(#clip190)\" d=\"M2118.74 127.91 L2122.99 127.91 L2122.99 163.928 L2118.74 163.928 L2118.74 127.91 Z\" fill=\"#000000\" fill-rule=\"nonzero\" fill-opacity=\"1\" /><path clip-path=\"url(#clip190)\" d=\"M2131.91 138.002 L2136.17 138.002 L2136.17 163.928 L2131.91 163.928 L2131.91 138.002 M2131.91 127.91 L2136.17 127.91 L2136.17 133.303 L2131.91 133.303 L2131.91 127.91 Z\" fill=\"#000000\" fill-rule=\"nonzero\" fill-opacity=\"1\" /><path clip-path=\"url(#clip190)\" d=\"M2166.63 148.28 L2166.63 163.928 L2162.37 163.928 L2162.37 148.419 Q2162.37 144.738 2160.93 142.91 Q2159.5 141.081 2156.63 141.081 Q2153.18 141.081 2151.19 143.28 Q2149.2 145.479 2149.2 149.275 L2149.2 163.928 L2144.92 163.928 L2144.92 138.002 L2149.2 138.002 L2149.2 142.03 Q2150.73 139.692 2152.79 138.535 Q2154.87 137.377 2157.58 137.377 Q2162.04 137.377 2164.34 140.155 Q2166.63 142.91 2166.63 148.28 Z\" fill=\"#000000\" fill-rule=\"nonzero\" fill-opacity=\"1\" /><path clip-path=\"url(#clip190)\" d=\"M2197.3 149.9 L2197.3 151.984 L2177.72 151.984 Q2177.99 156.382 2180.36 158.697 Q2182.74 160.988 2186.98 160.988 Q2189.43 160.988 2191.72 160.386 Q2194.04 159.785 2196.3 158.581 L2196.3 162.609 Q2194.01 163.581 2191.6 164.09 Q2189.2 164.599 2186.72 164.599 Q2180.52 164.599 2176.88 160.988 Q2173.27 157.377 2173.27 151.22 Q2173.27 144.854 2176.7 141.127 Q2180.15 137.377 2185.98 137.377 Q2191.21 137.377 2194.24 140.757 Q2197.3 144.113 2197.3 149.9 M2193.04 148.65 Q2192.99 145.155 2191.07 143.072 Q2189.17 140.988 2186.03 140.988 Q2182.46 140.988 2180.31 143.002 Q2178.18 145.016 2177.86 148.674 L2193.04 148.65 Z\" fill=\"#000000\" fill-rule=\"nonzero\" fill-opacity=\"1\" /><circle clip-path=\"url(#clip190)\" cx=\"2023.69\" cy=\"198.488\" r=\"20.48\" fill=\"#e26f46\" fill-rule=\"evenodd\" fill-opacity=\"1\" stroke=\"#000000\" stroke-opacity=\"1\" stroke-width=\"4.55111\"/>\n",
       "<path clip-path=\"url(#clip190)\" d=\"M2123.02 211.879 L2123.02 225.629 L2118.74 225.629 L2118.74 189.842 L2123.02 189.842 L2123.02 193.777 Q2124.36 191.463 2126.4 190.352 Q2128.46 189.217 2131.3 189.217 Q2136.03 189.217 2138.97 192.967 Q2141.93 196.717 2141.93 202.828 Q2141.93 208.939 2138.97 212.689 Q2136.03 216.439 2131.3 216.439 Q2128.46 216.439 2126.4 215.328 Q2124.36 214.194 2123.02 211.879 M2137.51 202.828 Q2137.51 198.129 2135.56 195.467 Q2133.64 192.782 2130.26 192.782 Q2126.88 192.782 2124.94 195.467 Q2123.02 198.129 2123.02 202.828 Q2123.02 207.527 2124.94 210.213 Q2126.88 212.875 2130.26 212.875 Q2133.64 212.875 2135.56 210.213 Q2137.51 207.527 2137.51 202.828 Z\" fill=\"#000000\" fill-rule=\"nonzero\" fill-opacity=\"1\" /><path clip-path=\"url(#clip190)\" d=\"M2159.04 192.828 Q2155.61 192.828 2153.62 195.514 Q2151.63 198.176 2151.63 202.828 Q2151.63 207.481 2153.6 210.166 Q2155.59 212.828 2159.04 212.828 Q2162.44 212.828 2164.43 210.143 Q2166.42 207.458 2166.42 202.828 Q2166.42 198.222 2164.43 195.537 Q2162.44 192.828 2159.04 192.828 M2159.04 189.217 Q2164.59 189.217 2167.76 192.828 Q2170.93 196.44 2170.93 202.828 Q2170.93 209.194 2167.76 212.828 Q2164.59 216.439 2159.04 216.439 Q2153.46 216.439 2150.29 212.828 Q2147.14 209.194 2147.14 202.828 Q2147.14 196.44 2150.29 192.828 Q2153.46 189.217 2159.04 189.217 Z\" fill=\"#000000\" fill-rule=\"nonzero\" fill-opacity=\"1\" /><path clip-path=\"url(#clip190)\" d=\"M2177.99 189.842 L2182.25 189.842 L2182.25 215.768 L2177.99 215.768 L2177.99 189.842 M2177.99 179.75 L2182.25 179.75 L2182.25 185.143 L2177.99 185.143 L2177.99 179.75 Z\" fill=\"#000000\" fill-rule=\"nonzero\" fill-opacity=\"1\" /><path clip-path=\"url(#clip190)\" d=\"M2212.72 200.12 L2212.72 215.768 L2208.46 215.768 L2208.46 200.259 Q2208.46 196.578 2207.02 194.75 Q2205.59 192.921 2202.72 192.921 Q2199.27 192.921 2197.28 195.12 Q2195.29 197.319 2195.29 201.115 L2195.29 215.768 L2191 215.768 L2191 189.842 L2195.29 189.842 L2195.29 193.87 Q2196.81 191.532 2198.87 190.375 Q2200.96 189.217 2203.67 189.217 Q2208.13 189.217 2210.42 191.995 Q2212.72 194.75 2212.72 200.12 Z\" fill=\"#000000\" fill-rule=\"nonzero\" fill-opacity=\"1\" /><path clip-path=\"url(#clip190)\" d=\"M2225.42 182.481 L2225.42 189.842 L2234.2 189.842 L2234.2 193.152 L2225.42 193.152 L2225.42 207.226 Q2225.42 210.398 2226.28 211.301 Q2227.16 212.203 2229.82 212.203 L2234.2 212.203 L2234.2 215.768 L2229.82 215.768 Q2224.89 215.768 2223.02 213.939 Q2221.14 212.088 2221.14 207.226 L2221.14 193.152 L2218.02 193.152 L2218.02 189.842 L2221.14 189.842 L2221.14 182.481 L2225.42 182.481 Z\" fill=\"#000000\" fill-rule=\"nonzero\" fill-opacity=\"1\" /><path clip-path=\"url(#clip190)\" d=\"M2256.33 190.606 L2256.33 194.634 Q2254.52 193.708 2252.58 193.245 Q2250.63 192.782 2248.55 192.782 Q2245.38 192.782 2243.78 193.754 Q2242.21 194.727 2242.21 196.671 Q2242.21 198.152 2243.34 199.009 Q2244.48 199.842 2247.9 200.606 L2249.36 200.93 Q2253.9 201.902 2255.79 203.685 Q2257.72 205.444 2257.72 208.615 Q2257.72 212.226 2254.85 214.333 Q2252 216.439 2247 216.439 Q2244.91 216.439 2242.65 216.023 Q2240.4 215.629 2237.9 214.819 L2237.9 210.421 Q2240.26 211.648 2242.55 212.273 Q2244.85 212.875 2247.09 212.875 Q2250.1 212.875 2251.72 211.856 Q2253.34 210.814 2253.34 208.939 Q2253.34 207.203 2252.16 206.277 Q2251 205.352 2247.04 204.495 L2245.56 204.148 Q2241.6 203.314 2239.85 201.602 Q2238.09 199.865 2238.09 196.856 Q2238.09 193.199 2240.68 191.208 Q2243.27 189.217 2248.04 189.217 Q2250.4 189.217 2252.48 189.565 Q2254.57 189.912 2256.33 190.606 Z\" fill=\"#000000\" fill-rule=\"nonzero\" fill-opacity=\"1\" /></svg>\n"
      ]
     },
     "metadata": {},
     "output_type": "display_data"
    }
   ],
   "source": [
    "plot(pirates, temp, label=\"line\")\n",
    "scatter!(pirates, temp, label=\"points\")"
   ]
  },
  {
   "cell_type": "code",
   "execution_count": 15,
   "metadata": {},
   "outputs": [
    {
     "data": {
      "image/png": "[encoded data removed]",
      "image/svg+xml": [
       "<?xml version=\"1.0\" encoding=\"utf-8\"?>\n",
       "<svg xmlns=\"http://www.w3.org/2000/svg\" xmlns:xlink=\"http://www.w3.org/1999/xlink\" width=\"600\" height=\"400\" viewBox=\"0 0 2400 1600\">\n",
       "<defs>\n",
       "  <clipPath id=\"clip230\">\n",
       "    <rect x=\"0\" y=\"0\" width=\"2400\" height=\"1600\"/>\n",
       "  </clipPath>\n",
       "</defs>\n",
       "<path clip-path=\"url(#clip230)\" d=\"M0 1600 L2400 1600 L2400 0 L0 0  Z\" fill=\"#ffffff\" fill-rule=\"evenodd\" fill-opacity=\"1\"/>\n",
       "<defs>\n",
       "  <clipPath id=\"clip231\">\n",
       "    <rect x=\"480\" y=\"0\" width=\"1681\" height=\"1600\"/>\n",
       "  </clipPath>\n",
       "</defs>\n",
       "<path clip-path=\"url(#clip230)\" d=\"M277.621 1410.9 L2352.76 1410.9 L2352.76 123.472 L277.621 123.472  Z\" fill=\"#ffffff\" fill-rule=\"evenodd\" fill-opacity=\"1\"/>\n",
       "<defs>\n",
       "  <clipPath id=\"clip232\">\n",
       "    <rect x=\"277\" y=\"123\" width=\"2076\" height=\"1288\"/>\n",
       "  </clipPath>\n",
       "</defs>\n",
       "<polyline clip-path=\"url(#clip232)\" style=\"stroke:#000000; stroke-linecap:round; stroke-linejoin:round; stroke-width:2; stroke-opacity:0.1; fill:none\" points=\"335.611,1410.9 335.611,123.472 \"/>\n",
       "<polyline clip-path=\"url(#clip232)\" style=\"stroke:#000000; stroke-linecap:round; stroke-linejoin:round; stroke-width:2; stroke-opacity:0.1; fill:none\" points=\"770.814,1410.9 770.814,123.472 \"/>\n",
       "<polyline clip-path=\"url(#clip232)\" style=\"stroke:#000000; stroke-linecap:round; stroke-linejoin:round; stroke-width:2; stroke-opacity:0.1; fill:none\" points=\"1206.02,1410.9 1206.02,123.472 \"/>\n",
       "<polyline clip-path=\"url(#clip232)\" style=\"stroke:#000000; stroke-linecap:round; stroke-linejoin:round; stroke-width:2; stroke-opacity:0.1; fill:none\" points=\"1641.22,1410.9 1641.22,123.472 \"/>\n",
       "<polyline clip-path=\"url(#clip232)\" style=\"stroke:#000000; stroke-linecap:round; stroke-linejoin:round; stroke-width:2; stroke-opacity:0.1; fill:none\" points=\"2076.42,1410.9 2076.42,123.472 \"/>\n",
       "<polyline clip-path=\"url(#clip230)\" style=\"stroke:#000000; stroke-linecap:round; stroke-linejoin:round; stroke-width:4; stroke-opacity:1; fill:none\" points=\"277.621,1410.9 2352.76,1410.9 \"/>\n",
       "<polyline clip-path=\"url(#clip230)\" style=\"stroke:#000000; stroke-linecap:round; stroke-linejoin:round; stroke-width:4; stroke-opacity:1; fill:none\" points=\"335.611,1410.9 335.611,1392 \"/>\n",
       "<polyline clip-path=\"url(#clip230)\" style=\"stroke:#000000; stroke-linecap:round; stroke-linejoin:round; stroke-width:4; stroke-opacity:1; fill:none\" points=\"770.814,1410.9 770.814,1392 \"/>\n",
       "<polyline clip-path=\"url(#clip230)\" style=\"stroke:#000000; stroke-linecap:round; stroke-linejoin:round; stroke-width:4; stroke-opacity:1; fill:none\" points=\"1206.02,1410.9 1206.02,1392 \"/>\n",
       "<polyline clip-path=\"url(#clip230)\" style=\"stroke:#000000; stroke-linecap:round; stroke-linejoin:round; stroke-width:4; stroke-opacity:1; fill:none\" points=\"1641.22,1410.9 1641.22,1392 \"/>\n",
       "<polyline clip-path=\"url(#clip230)\" style=\"stroke:#000000; stroke-linecap:round; stroke-linejoin:round; stroke-width:4; stroke-opacity:1; fill:none\" points=\"2076.42,1410.9 2076.42,1392 \"/>\n",
       "<path clip-path=\"url(#clip230)\" d=\"M335.611 1441.82 Q332 1441.82 330.171 1445.38 Q328.366 1448.92 328.366 1456.05 Q328.366 1463.16 330.171 1466.72 Q332 1470.26 335.611 1470.26 Q339.245 1470.26 341.051 1466.72 Q342.879 1463.16 342.879 1456.05 Q342.879 1448.92 341.051 1445.38 Q339.245 1441.82 335.611 1441.82 M335.611 1438.11 Q341.421 1438.11 344.477 1442.72 Q347.555 1447.3 347.555 1456.05 Q347.555 1464.78 344.477 1469.38 Q341.421 1473.97 335.611 1473.97 Q329.801 1473.97 326.722 1469.38 Q323.667 1464.78 323.667 1456.05 Q323.667 1447.3 326.722 1442.72 Q329.801 1438.11 335.611 1438.11 Z\" fill=\"#000000\" fill-rule=\"nonzero\" fill-opacity=\"1\" /><path clip-path=\"url(#clip230)\" d=\"M677.713 1485.02 L685.352 1485.02 L685.352 1458.66 L677.042 1460.32 L677.042 1456.06 L685.305 1454.4 L689.981 1454.4 L689.981 1485.02 L697.62 1485.02 L697.62 1488.96 L677.713 1488.96 L677.713 1485.02 Z\" fill=\"#000000\" fill-rule=\"nonzero\" fill-opacity=\"1\" /><path clip-path=\"url(#clip230)\" d=\"M707.065 1483.08 L711.949 1483.08 L711.949 1488.96 L707.065 1488.96 L707.065 1483.08 Z\" fill=\"#000000\" fill-rule=\"nonzero\" fill-opacity=\"1\" /><path clip-path=\"url(#clip230)\" d=\"M732.134 1457.48 Q728.523 1457.48 726.694 1461.04 Q724.889 1464.58 724.889 1471.71 Q724.889 1478.82 726.694 1482.38 Q728.523 1485.92 732.134 1485.92 Q735.768 1485.92 737.574 1482.38 Q739.402 1478.82 739.402 1471.71 Q739.402 1464.58 737.574 1461.04 Q735.768 1457.48 732.134 1457.48 M732.134 1453.77 Q737.944 1453.77 741 1458.38 Q744.078 1462.96 744.078 1471.71 Q744.078 1480.44 741 1485.04 Q737.944 1489.63 732.134 1489.63 Q726.324 1489.63 723.245 1485.04 Q720.19 1480.44 720.19 1471.71 Q720.19 1462.96 723.245 1458.38 Q726.324 1453.77 732.134 1453.77 Z\" fill=\"#000000\" fill-rule=\"nonzero\" fill-opacity=\"1\" /><path clip-path=\"url(#clip230)\" d=\"M780.467 1463.49 L769.888 1474.12 L780.467 1484.7 L777.712 1487.5 L767.087 1476.87 L756.462 1487.5 L753.731 1484.7 L764.287 1474.12 L753.731 1463.49 L756.462 1460.69 L767.087 1471.32 L777.712 1460.69 L780.467 1463.49 Z\" fill=\"#000000\" fill-rule=\"nonzero\" fill-opacity=\"1\" /><path clip-path=\"url(#clip230)\" d=\"M792.828 1485.02 L800.467 1485.02 L800.467 1458.66 L792.157 1460.32 L792.157 1456.06 L800.421 1454.4 L805.096 1454.4 L805.096 1485.02 L812.735 1485.02 L812.735 1488.96 L792.828 1488.96 L792.828 1485.02 Z\" fill=\"#000000\" fill-rule=\"nonzero\" fill-opacity=\"1\" /><path clip-path=\"url(#clip230)\" d=\"M832.18 1457.48 Q828.569 1457.48 826.74 1461.04 Q824.934 1464.58 824.934 1471.71 Q824.934 1478.82 826.74 1482.38 Q828.569 1485.92 832.18 1485.92 Q835.814 1485.92 837.619 1482.38 Q839.448 1478.82 839.448 1471.71 Q839.448 1464.58 837.619 1461.04 Q835.814 1457.48 832.18 1457.48 M832.18 1453.77 Q837.99 1453.77 841.045 1458.38 Q844.124 1462.96 844.124 1471.71 Q844.124 1480.44 841.045 1485.04 Q837.99 1489.63 832.18 1489.63 Q826.37 1489.63 823.291 1485.04 Q820.235 1480.44 820.235 1471.71 Q820.235 1462.96 823.291 1458.38 Q826.37 1453.77 832.18 1453.77 Z\" fill=\"#000000\" fill-rule=\"nonzero\" fill-opacity=\"1\" /><path clip-path=\"url(#clip230)\" d=\"M856.8 1436.78 L847.209 1451.77 L856.8 1451.77 L856.8 1436.78 M855.804 1433.47 L860.581 1433.47 L860.581 1451.77 L864.587 1451.77 L864.587 1454.93 L860.581 1454.93 L860.581 1461.55 L856.8 1461.55 L856.8 1454.93 L844.124 1454.93 L844.124 1451.26 L855.804 1433.47 Z\" fill=\"#000000\" fill-rule=\"nonzero\" fill-opacity=\"1\" /><path clip-path=\"url(#clip230)\" d=\"M1117 1485.02 L1133.32 1485.02 L1133.32 1488.96 L1111.38 1488.96 L1111.38 1485.02 Q1114.04 1482.27 1118.62 1477.64 Q1123.23 1472.98 1124.41 1471.64 Q1126.65 1469.12 1127.53 1467.38 Q1128.44 1465.62 1128.44 1463.93 Q1128.44 1461.18 1126.49 1459.44 Q1124.57 1457.71 1121.47 1457.71 Q1119.27 1457.71 1116.82 1458.47 Q1114.39 1459.23 1111.61 1460.79 L1111.61 1456.06 Q1114.43 1454.93 1116.89 1454.35 Q1119.34 1453.77 1121.38 1453.77 Q1126.75 1453.77 1129.94 1456.46 Q1133.14 1459.14 1133.14 1463.63 Q1133.14 1465.76 1132.33 1467.68 Q1131.54 1469.58 1129.43 1472.17 Q1128.85 1472.85 1125.75 1476.06 Q1122.65 1479.26 1117 1485.02 Z\" fill=\"#000000\" fill-rule=\"nonzero\" fill-opacity=\"1\" /><path clip-path=\"url(#clip230)\" d=\"M1143.14 1483.08 L1148.02 1483.08 L1148.02 1488.96 L1143.14 1488.96 L1143.14 1483.08 Z\" fill=\"#000000\" fill-rule=\"nonzero\" fill-opacity=\"1\" /><path clip-path=\"url(#clip230)\" d=\"M1168.21 1457.48 Q1164.59 1457.48 1162.77 1461.04 Q1160.96 1464.58 1160.96 1471.71 Q1160.96 1478.82 1162.77 1482.38 Q1164.59 1485.92 1168.21 1485.92 Q1171.84 1485.92 1173.64 1482.38 Q1175.47 1478.82 1175.47 1471.71 Q1175.47 1464.58 1173.64 1461.04 Q1171.84 1457.48 1168.21 1457.48 M1168.21 1453.77 Q1174.02 1453.77 1177.07 1458.38 Q1180.15 1462.96 1180.15 1471.71 Q1180.15 1480.44 1177.07 1485.04 Q1174.02 1489.63 1168.21 1489.63 Q1162.4 1489.63 1159.32 1485.04 Q1156.26 1480.44 1156.26 1471.71 Q1156.26 1462.96 1159.32 1458.38 Q1162.4 1453.77 1168.21 1453.77 Z\" fill=\"#000000\" fill-rule=\"nonzero\" fill-opacity=\"1\" /><path clip-path=\"url(#clip230)\" d=\"M1216.54 1463.49 L1205.96 1474.12 L1216.54 1484.7 L1213.78 1487.5 L1203.16 1476.87 L1192.53 1487.5 L1189.8 1484.7 L1200.36 1474.12 L1189.8 1463.49 L1192.53 1460.69 L1203.16 1471.32 L1213.78 1460.69 L1216.54 1463.49 Z\" fill=\"#000000\" fill-rule=\"nonzero\" fill-opacity=\"1\" /><path clip-path=\"url(#clip230)\" d=\"M1228.9 1485.02 L1236.54 1485.02 L1236.54 1458.66 L1228.23 1460.32 L1228.23 1456.06 L1236.49 1454.4 L1241.17 1454.4 L1241.17 1485.02 L1248.81 1485.02 L1248.81 1488.96 L1228.9 1488.96 L1228.9 1485.02 Z\" fill=\"#000000\" fill-rule=\"nonzero\" fill-opacity=\"1\" /><path clip-path=\"url(#clip230)\" d=\"M1268.25 1457.48 Q1264.64 1457.48 1262.81 1461.04 Q1261.01 1464.58 1261.01 1471.71 Q1261.01 1478.82 1262.81 1482.38 Q1264.64 1485.92 1268.25 1485.92 Q1271.89 1485.92 1273.69 1482.38 Q1275.52 1478.82 1275.52 1471.71 Q1275.52 1464.58 1273.69 1461.04 Q1271.89 1457.48 1268.25 1457.48 M1268.25 1453.77 Q1274.06 1453.77 1277.12 1458.38 Q1280.2 1462.96 1280.2 1471.71 Q1280.2 1480.44 1277.12 1485.04 Q1274.06 1489.63 1268.25 1489.63 Q1262.44 1489.63 1259.36 1485.04 Q1256.31 1480.44 1256.31 1471.71 Q1256.31 1462.96 1259.36 1458.38 Q1262.44 1453.77 1268.25 1453.77 Z\" fill=\"#000000\" fill-rule=\"nonzero\" fill-opacity=\"1\" /><path clip-path=\"url(#clip230)\" d=\"M1292.87 1436.78 L1283.28 1451.77 L1292.87 1451.77 L1292.87 1436.78 M1291.87 1433.47 L1296.65 1433.47 L1296.65 1451.77 L1300.66 1451.77 L1300.66 1454.93 L1296.65 1454.93 L1296.65 1461.55 L1292.87 1461.55 L1292.87 1454.93 L1280.2 1454.93 L1280.2 1451.26 L1291.87 1433.47 Z\" fill=\"#000000\" fill-rule=\"nonzero\" fill-opacity=\"1\" /><path clip-path=\"url(#clip230)\" d=\"M1562.27 1470.32 Q1565.63 1471.04 1567.51 1473.31 Q1569.4 1475.58 1569.4 1478.91 Q1569.4 1484.03 1565.89 1486.83 Q1562.37 1489.63 1555.89 1489.63 Q1553.71 1489.63 1551.39 1489.19 Q1549.1 1488.77 1546.65 1487.91 L1546.65 1483.4 Q1548.59 1484.54 1550.91 1485.11 Q1553.22 1485.69 1555.75 1485.69 Q1560.14 1485.69 1562.44 1483.96 Q1564.75 1482.22 1564.75 1478.91 Q1564.75 1475.85 1562.6 1474.14 Q1560.47 1472.41 1556.65 1472.41 L1552.62 1472.41 L1552.62 1468.56 L1556.83 1468.56 Q1560.28 1468.56 1562.11 1467.2 Q1563.94 1465.81 1563.94 1463.22 Q1563.94 1460.55 1562.04 1459.14 Q1560.17 1457.71 1556.65 1457.71 Q1554.73 1457.71 1552.53 1458.12 Q1550.33 1458.54 1547.69 1459.42 L1547.69 1455.25 Q1550.35 1454.51 1552.67 1454.14 Q1555.01 1453.77 1557.07 1453.77 Q1562.39 1453.77 1565.49 1456.2 Q1568.59 1458.61 1568.59 1462.73 Q1568.59 1465.6 1566.95 1467.59 Q1565.31 1469.56 1562.27 1470.32 Z\" fill=\"#000000\" fill-rule=\"nonzero\" fill-opacity=\"1\" /><path clip-path=\"url(#clip230)\" d=\"M1578.27 1483.08 L1583.15 1483.08 L1583.15 1488.96 L1578.27 1488.96 L1578.27 1483.08 Z\" fill=\"#000000\" fill-rule=\"nonzero\" fill-opacity=\"1\" /><path clip-path=\"url(#clip230)\" d=\"M1603.34 1457.48 Q1599.73 1457.48 1597.9 1461.04 Q1596.09 1464.58 1596.09 1471.71 Q1596.09 1478.82 1597.9 1482.38 Q1599.73 1485.92 1603.34 1485.92 Q1606.97 1485.92 1608.78 1482.38 Q1610.61 1478.82 1610.61 1471.71 Q1610.61 1464.58 1608.78 1461.04 Q1606.97 1457.48 1603.34 1457.48 M1603.34 1453.77 Q1609.15 1453.77 1612.2 1458.38 Q1615.28 1462.96 1615.28 1471.71 Q1615.28 1480.44 1612.2 1485.04 Q1609.15 1489.63 1603.34 1489.63 Q1597.53 1489.63 1594.45 1485.04 Q1591.39 1480.44 1591.39 1471.71 Q1591.39 1462.96 1594.45 1458.38 Q1597.53 1453.77 1603.34 1453.77 Z\" fill=\"#000000\" fill-rule=\"nonzero\" fill-opacity=\"1\" /><path clip-path=\"url(#clip230)\" d=\"M1651.67 1463.49 L1641.09 1474.12 L1651.67 1484.7 L1648.92 1487.5 L1638.29 1476.87 L1627.67 1487.5 L1624.94 1484.7 L1635.49 1474.12 L1624.94 1463.49 L1627.67 1460.69 L1638.29 1471.32 L1648.92 1460.69 L1651.67 1463.49 Z\" fill=\"#000000\" fill-rule=\"nonzero\" fill-opacity=\"1\" /><path clip-path=\"url(#clip230)\" d=\"M1664.03 1485.02 L1671.67 1485.02 L1671.67 1458.66 L1663.36 1460.32 L1663.36 1456.06 L1671.63 1454.4 L1676.3 1454.4 L1676.3 1485.02 L1683.94 1485.02 L1683.94 1488.96 L1664.03 1488.96 L1664.03 1485.02 Z\" fill=\"#000000\" fill-rule=\"nonzero\" fill-opacity=\"1\" /><path clip-path=\"url(#clip230)\" d=\"M1703.38 1457.48 Q1699.77 1457.48 1697.95 1461.04 Q1696.14 1464.58 1696.14 1471.71 Q1696.14 1478.82 1697.95 1482.38 Q1699.77 1485.92 1703.38 1485.92 Q1707.02 1485.92 1708.82 1482.38 Q1710.65 1478.82 1710.65 1471.71 Q1710.65 1464.58 1708.82 1461.04 Q1707.02 1457.48 1703.38 1457.48 M1703.38 1453.77 Q1709.19 1453.77 1712.25 1458.38 Q1715.33 1462.96 1715.33 1471.71 Q1715.33 1480.44 1712.25 1485.04 Q1709.19 1489.63 1703.38 1489.63 Q1697.57 1489.63 1694.5 1485.04 Q1691.44 1480.44 1691.44 1471.71 Q1691.44 1462.96 1694.5 1458.38 Q1697.57 1453.77 1703.38 1453.77 Z\" fill=\"#000000\" fill-rule=\"nonzero\" fill-opacity=\"1\" /><path clip-path=\"url(#clip230)\" d=\"M1728.01 1436.78 L1718.41 1451.77 L1728.01 1451.77 L1728.01 1436.78 M1727.01 1433.47 L1731.79 1433.47 L1731.79 1451.77 L1735.79 1451.77 L1735.79 1454.93 L1731.79 1454.93 L1731.79 1461.55 L1728.01 1461.55 L1728.01 1454.93 L1715.33 1454.93 L1715.33 1451.26 L1727.01 1433.47 Z\" fill=\"#000000\" fill-rule=\"nonzero\" fill-opacity=\"1\" /><path clip-path=\"url(#clip230)\" d=\"M1996.81 1458.47 L1985 1476.92 L1996.81 1476.92 L1996.81 1458.47 M1995.58 1454.4 L2001.46 1454.4 L2001.46 1476.92 L2006.39 1476.92 L2006.39 1480.81 L2001.46 1480.81 L2001.46 1488.96 L1996.81 1488.96 L1996.81 1480.81 L1981.2 1480.81 L1981.2 1476.29 L1995.58 1454.4 Z\" fill=\"#000000\" fill-rule=\"nonzero\" fill-opacity=\"1\" /><path clip-path=\"url(#clip230)\" d=\"M2014.12 1483.08 L2019.01 1483.08 L2019.01 1488.96 L2014.12 1488.96 L2014.12 1483.08 Z\" fill=\"#000000\" fill-rule=\"nonzero\" fill-opacity=\"1\" /><path clip-path=\"url(#clip230)\" d=\"M2039.19 1457.48 Q2035.58 1457.48 2033.75 1461.04 Q2031.95 1464.58 2031.95 1471.71 Q2031.95 1478.82 2033.75 1482.38 Q2035.58 1485.92 2039.19 1485.92 Q2042.82 1485.92 2044.63 1482.38 Q2046.46 1478.82 2046.46 1471.71 Q2046.46 1464.58 2044.63 1461.04 Q2042.82 1457.48 2039.19 1457.48 M2039.19 1453.77 Q2045 1453.77 2048.06 1458.38 Q2051.13 1462.96 2051.13 1471.71 Q2051.13 1480.44 2048.06 1485.04 Q2045 1489.63 2039.19 1489.63 Q2033.38 1489.63 2030.3 1485.04 Q2027.25 1480.44 2027.25 1471.71 Q2027.25 1462.96 2030.3 1458.38 Q2033.38 1453.77 2039.19 1453.77 Z\" fill=\"#000000\" fill-rule=\"nonzero\" fill-opacity=\"1\" /><path clip-path=\"url(#clip230)\" d=\"M2087.52 1463.49 L2076.94 1474.12 L2087.52 1484.7 L2084.77 1487.5 L2074.14 1476.87 L2063.52 1487.5 L2060.79 1484.7 L2071.34 1474.12 L2060.79 1463.49 L2063.52 1460.69 L2074.14 1471.32 L2084.77 1460.69 L2087.52 1463.49 Z\" fill=\"#000000\" fill-rule=\"nonzero\" fill-opacity=\"1\" /><path clip-path=\"url(#clip230)\" d=\"M2099.88 1485.02 L2107.52 1485.02 L2107.52 1458.66 L2099.21 1460.32 L2099.21 1456.06 L2107.48 1454.4 L2112.15 1454.4 L2112.15 1485.02 L2119.79 1485.02 L2119.79 1488.96 L2099.88 1488.96 L2099.88 1485.02 Z\" fill=\"#000000\" fill-rule=\"nonzero\" fill-opacity=\"1\" /><path clip-path=\"url(#clip230)\" d=\"M2139.24 1457.48 Q2135.63 1457.48 2133.8 1461.04 Q2131.99 1464.58 2131.99 1471.71 Q2131.99 1478.82 2133.8 1482.38 Q2135.63 1485.92 2139.24 1485.92 Q2142.87 1485.92 2144.68 1482.38 Q2146.5 1478.82 2146.5 1471.71 Q2146.5 1464.58 2144.68 1461.04 Q2142.87 1457.48 2139.24 1457.48 M2139.24 1453.77 Q2145.05 1453.77 2148.1 1458.38 Q2151.18 1462.96 2151.18 1471.71 Q2151.18 1480.44 2148.1 1485.04 Q2145.05 1489.63 2139.24 1489.63 Q2133.43 1489.63 2130.35 1485.04 Q2127.29 1480.44 2127.29 1471.71 Q2127.29 1462.96 2130.35 1458.38 Q2133.43 1453.77 2139.24 1453.77 Z\" fill=\"#000000\" fill-rule=\"nonzero\" fill-opacity=\"1\" /><path clip-path=\"url(#clip230)\" d=\"M2163.86 1436.78 L2154.27 1451.77 L2163.86 1451.77 L2163.86 1436.78 M2162.86 1433.47 L2167.64 1433.47 L2167.64 1451.77 L2171.64 1451.77 L2171.64 1454.93 L2167.64 1454.93 L2167.64 1461.55 L2163.86 1461.55 L2163.86 1454.93 L2151.18 1454.93 L2151.18 1451.26 L2162.86 1433.47 Z\" fill=\"#000000\" fill-rule=\"nonzero\" fill-opacity=\"1\" /><path clip-path=\"url(#clip230)\" d=\"M1215.23 1531.95 L1215.23 1549.8 L1223.32 1549.8 Q1227.8 1549.8 1230.25 1547.48 Q1232.7 1545.16 1232.7 1540.86 Q1232.7 1536.6 1230.25 1534.27 Q1227.8 1531.95 1223.32 1531.95 L1215.23 1531.95 M1208.8 1526.67 L1223.32 1526.67 Q1231.3 1526.67 1235.38 1530.29 Q1239.48 1533.89 1239.48 1540.86 Q1239.48 1547.9 1235.38 1551.49 Q1231.3 1555.09 1223.32 1555.09 L1215.23 1555.09 L1215.23 1574.19 L1208.8 1574.19 L1208.8 1526.67 Z\" fill=\"#000000\" fill-rule=\"nonzero\" fill-opacity=\"1\" /><path clip-path=\"url(#clip230)\" d=\"M1246.42 1538.54 L1252.28 1538.54 L1252.28 1574.19 L1246.42 1574.19 L1246.42 1538.54 M1246.42 1524.66 L1252.28 1524.66 L1252.28 1532.08 L1246.42 1532.08 L1246.42 1524.66 Z\" fill=\"#000000\" fill-rule=\"nonzero\" fill-opacity=\"1\" /><path clip-path=\"url(#clip230)\" d=\"M1285.19 1544.01 Q1284.2 1543.44 1283.03 1543.18 Q1281.88 1542.9 1280.48 1542.9 Q1275.51 1542.9 1272.84 1546.14 Q1270.2 1549.36 1270.2 1555.41 L1270.2 1574.19 L1264.31 1574.19 L1264.31 1538.54 L1270.2 1538.54 L1270.2 1544.08 Q1272.04 1540.83 1275 1539.27 Q1277.96 1537.68 1282.2 1537.68 Q1282.8 1537.68 1283.53 1537.77 Q1284.27 1537.84 1285.16 1538 L1285.19 1544.01 Z\" fill=\"#000000\" fill-rule=\"nonzero\" fill-opacity=\"1\" /><path clip-path=\"url(#clip230)\" d=\"M1307.53 1556.27 Q1300.44 1556.27 1297.7 1557.89 Q1294.96 1559.51 1294.96 1563.43 Q1294.96 1566.55 1297 1568.39 Q1299.07 1570.21 1302.6 1570.21 Q1307.47 1570.21 1310.4 1566.77 Q1313.36 1563.3 1313.36 1557.57 L1313.36 1556.27 L1307.53 1556.27 M1319.21 1553.85 L1319.21 1574.19 L1313.36 1574.19 L1313.36 1568.77 Q1311.35 1572.02 1308.36 1573.58 Q1305.37 1575.11 1301.04 1575.11 Q1295.57 1575.11 1292.32 1572.05 Q1289.1 1568.97 1289.1 1563.81 Q1289.1 1557.79 1293.12 1554.74 Q1297.16 1551.68 1305.15 1551.68 L1313.36 1551.68 L1313.36 1551.11 Q1313.36 1547.07 1310.68 1544.87 Q1308.04 1542.64 1303.24 1542.64 Q1300.18 1542.64 1297.28 1543.38 Q1294.39 1544.11 1291.71 1545.57 L1291.71 1540.16 Q1294.93 1538.92 1297.95 1538.31 Q1300.98 1537.68 1303.84 1537.68 Q1311.58 1537.68 1315.4 1541.69 Q1319.21 1545.7 1319.21 1553.85 Z\" fill=\"#000000\" fill-rule=\"nonzero\" fill-opacity=\"1\" /><path clip-path=\"url(#clip230)\" d=\"M1337.07 1528.42 L1337.07 1538.54 L1349.13 1538.54 L1349.13 1543.09 L1337.07 1543.09 L1337.07 1562.44 Q1337.07 1566.8 1338.25 1568.04 Q1339.46 1569.28 1343.12 1569.28 L1349.13 1569.28 L1349.13 1574.19 L1343.12 1574.19 Q1336.34 1574.19 1333.76 1571.67 Q1331.18 1569.12 1331.18 1562.44 L1331.18 1543.09 L1326.89 1543.09 L1326.89 1538.54 L1331.18 1538.54 L1331.18 1528.42 L1337.07 1528.42 Z\" fill=\"#000000\" fill-rule=\"nonzero\" fill-opacity=\"1\" /><path clip-path=\"url(#clip230)\" d=\"M1387.33 1554.9 L1387.33 1557.76 L1360.4 1557.76 Q1360.78 1563.81 1364.03 1566.99 Q1367.31 1570.14 1373.13 1570.14 Q1376.51 1570.14 1379.66 1569.32 Q1382.84 1568.49 1385.96 1566.83 L1385.96 1572.37 Q1382.81 1573.71 1379.5 1574.41 Q1376.19 1575.11 1372.78 1575.11 Q1364.25 1575.11 1359.25 1570.14 Q1354.29 1565.18 1354.29 1556.71 Q1354.29 1547.96 1359 1542.83 Q1363.74 1537.68 1371.76 1537.68 Q1378.96 1537.68 1383.13 1542.33 Q1387.33 1546.94 1387.33 1554.9 M1381.47 1553.18 Q1381.41 1548.37 1378.77 1545.51 Q1376.16 1542.64 1371.83 1542.64 Q1366.93 1542.64 1363.97 1545.41 Q1361.04 1548.18 1360.59 1553.21 L1381.47 1553.18 Z\" fill=\"#000000\" fill-rule=\"nonzero\" fill-opacity=\"1\" /><path clip-path=\"url(#clip230)\" d=\"M1419.67 1539.59 L1419.67 1545.13 Q1417.18 1543.85 1414.51 1543.22 Q1411.84 1542.58 1408.97 1542.58 Q1404.61 1542.58 1402.41 1543.92 Q1400.25 1545.25 1400.25 1547.93 Q1400.25 1549.96 1401.81 1551.14 Q1403.37 1552.29 1408.08 1553.34 L1410.09 1553.78 Q1416.32 1555.12 1418.93 1557.57 Q1421.58 1559.99 1421.58 1564.35 Q1421.58 1569.32 1417.63 1572.21 Q1413.71 1575.11 1406.84 1575.11 Q1403.97 1575.11 1400.85 1574.54 Q1397.77 1573.99 1394.33 1572.88 L1394.33 1566.83 Q1397.58 1568.52 1400.73 1569.38 Q1403.88 1570.21 1406.97 1570.21 Q1411.1 1570.21 1413.33 1568.81 Q1415.56 1567.37 1415.56 1564.8 Q1415.56 1562.41 1413.94 1561.14 Q1412.34 1559.86 1406.9 1558.68 L1404.87 1558.21 Q1399.42 1557.06 1397 1554.71 Q1394.58 1552.32 1394.58 1548.18 Q1394.58 1543.15 1398.15 1540.42 Q1401.71 1537.68 1408.27 1537.68 Q1411.52 1537.68 1414.38 1538.16 Q1417.25 1538.63 1419.67 1539.59 Z\" fill=\"#000000\" fill-rule=\"nonzero\" fill-opacity=\"1\" /><polyline clip-path=\"url(#clip232)\" style=\"stroke:#000000; stroke-linecap:round; stroke-linejoin:round; stroke-width:2; stroke-opacity:0.1; fill:none\" points=\"277.621,1287.71 2352.76,1287.71 \"/>\n",
       "<polyline clip-path=\"url(#clip232)\" style=\"stroke:#000000; stroke-linecap:round; stroke-linejoin:round; stroke-width:2; stroke-opacity:0.1; fill:none\" points=\"277.621,1070.82 2352.76,1070.82 \"/>\n",
       "<polyline clip-path=\"url(#clip232)\" style=\"stroke:#000000; stroke-linecap:round; stroke-linejoin:round; stroke-width:2; stroke-opacity:0.1; fill:none\" points=\"277.621,853.938 2352.76,853.938 \"/>\n",
       "<polyline clip-path=\"url(#clip232)\" style=\"stroke:#000000; stroke-linecap:round; stroke-linejoin:round; stroke-width:2; stroke-opacity:0.1; fill:none\" points=\"277.621,637.054 2352.76,637.054 \"/>\n",
       "<polyline clip-path=\"url(#clip232)\" style=\"stroke:#000000; stroke-linecap:round; stroke-linejoin:round; stroke-width:2; stroke-opacity:0.1; fill:none\" points=\"277.621,420.17 2352.76,420.17 \"/>\n",
       "<polyline clip-path=\"url(#clip232)\" style=\"stroke:#000000; stroke-linecap:round; stroke-linejoin:round; stroke-width:2; stroke-opacity:0.1; fill:none\" points=\"277.621,203.286 2352.76,203.286 \"/>\n",
       "<polyline clip-path=\"url(#clip230)\" style=\"stroke:#000000; stroke-linecap:round; stroke-linejoin:round; stroke-width:4; stroke-opacity:1; fill:none\" points=\"277.621,1410.9 277.621,123.472 \"/>\n",
       "<polyline clip-path=\"url(#clip230)\" style=\"stroke:#000000; stroke-linecap:round; stroke-linejoin:round; stroke-width:4; stroke-opacity:1; fill:none\" points=\"277.621,1287.71 296.518,1287.71 \"/>\n",
       "<polyline clip-path=\"url(#clip230)\" style=\"stroke:#000000; stroke-linecap:round; stroke-linejoin:round; stroke-width:4; stroke-opacity:1; fill:none\" points=\"277.621,1070.82 296.518,1070.82 \"/>\n",
       "<polyline clip-path=\"url(#clip230)\" style=\"stroke:#000000; stroke-linecap:round; stroke-linejoin:round; stroke-width:4; stroke-opacity:1; fill:none\" points=\"277.621,853.938 296.518,853.938 \"/>\n",
       "<polyline clip-path=\"url(#clip230)\" style=\"stroke:#000000; stroke-linecap:round; stroke-linejoin:round; stroke-width:4; stroke-opacity:1; fill:none\" points=\"277.621,637.054 296.518,637.054 \"/>\n",
       "<polyline clip-path=\"url(#clip230)\" style=\"stroke:#000000; stroke-linecap:round; stroke-linejoin:round; stroke-width:4; stroke-opacity:1; fill:none\" points=\"277.621,420.17 296.518,420.17 \"/>\n",
       "<polyline clip-path=\"url(#clip230)\" style=\"stroke:#000000; stroke-linecap:round; stroke-linejoin:round; stroke-width:4; stroke-opacity:1; fill:none\" points=\"277.621,203.286 296.518,203.286 \"/>\n",
       "<path clip-path=\"url(#clip230)\" d=\"M114.931 1301.05 L122.57 1301.05 L122.57 1274.69 L114.26 1276.35 L114.26 1272.09 L122.524 1270.43 L127.2 1270.43 L127.2 1301.05 L134.839 1301.05 L134.839 1304.99 L114.931 1304.99 L114.931 1301.05 Z\" fill=\"#000000\" fill-rule=\"nonzero\" fill-opacity=\"1\" /><path clip-path=\"url(#clip230)\" d=\"M157.13 1274.5 L145.325 1292.95 L157.13 1292.95 L157.13 1274.5 M155.903 1270.43 L161.783 1270.43 L161.783 1292.95 L166.714 1292.95 L166.714 1296.84 L161.783 1296.84 L161.783 1304.99 L157.13 1304.99 L157.13 1296.84 L141.529 1296.84 L141.529 1292.32 L155.903 1270.43 Z\" fill=\"#000000\" fill-rule=\"nonzero\" fill-opacity=\"1\" /><path clip-path=\"url(#clip230)\" d=\"M174.445 1299.11 L179.329 1299.11 L179.329 1304.99 L174.445 1304.99 L174.445 1299.11 Z\" fill=\"#000000\" fill-rule=\"nonzero\" fill-opacity=\"1\" /><path clip-path=\"url(#clip230)\" d=\"M189.561 1270.43 L207.917 1270.43 L207.917 1274.36 L193.843 1274.36 L193.843 1282.83 Q194.862 1282.49 195.88 1282.32 Q196.899 1282.14 197.917 1282.14 Q203.704 1282.14 207.084 1285.31 Q210.463 1288.48 210.463 1293.9 Q210.463 1299.48 206.991 1302.58 Q203.519 1305.66 197.2 1305.66 Q195.024 1305.66 192.755 1305.29 Q190.51 1304.92 188.102 1304.18 L188.102 1299.48 Q190.186 1300.61 192.408 1301.17 Q194.63 1301.72 197.107 1301.72 Q201.112 1301.72 203.449 1299.62 Q205.787 1297.51 205.787 1293.9 Q205.787 1290.29 203.449 1288.18 Q201.112 1286.07 197.107 1286.07 Q195.232 1286.07 193.357 1286.49 Q191.505 1286.91 189.561 1287.79 L189.561 1270.43 Z\" fill=\"#000000\" fill-rule=\"nonzero\" fill-opacity=\"1\" /><path clip-path=\"url(#clip230)\" d=\"M229.676 1273.51 Q226.065 1273.51 224.236 1277.07 Q222.431 1280.61 222.431 1287.74 Q222.431 1294.85 224.236 1298.41 Q226.065 1301.95 229.676 1301.95 Q233.31 1301.95 235.116 1298.41 Q236.945 1294.85 236.945 1287.74 Q236.945 1280.61 235.116 1277.07 Q233.31 1273.51 229.676 1273.51 M229.676 1269.8 Q235.486 1269.8 238.542 1274.41 Q241.621 1278.99 241.621 1287.74 Q241.621 1296.47 238.542 1301.07 Q235.486 1305.66 229.676 1305.66 Q223.866 1305.66 220.787 1301.07 Q217.732 1296.47 217.732 1287.74 Q217.732 1278.99 220.787 1274.41 Q223.866 1269.8 229.676 1269.8 Z\" fill=\"#000000\" fill-rule=\"nonzero\" fill-opacity=\"1\" /><path clip-path=\"url(#clip230)\" d=\"M115.927 1084.17 L123.566 1084.17 L123.566 1057.8 L115.256 1059.47 L115.256 1055.21 L123.519 1053.54 L128.195 1053.54 L128.195 1084.17 L135.834 1084.17 L135.834 1088.1 L115.927 1088.1 L115.927 1084.17 Z\" fill=\"#000000\" fill-rule=\"nonzero\" fill-opacity=\"1\" /><path clip-path=\"url(#clip230)\" d=\"M158.126 1057.62 L146.32 1076.07 L158.126 1076.07 L158.126 1057.62 M156.899 1053.54 L162.778 1053.54 L162.778 1076.07 L167.709 1076.07 L167.709 1079.95 L162.778 1079.95 L162.778 1088.1 L158.126 1088.1 L158.126 1079.95 L142.524 1079.95 L142.524 1075.44 L156.899 1053.54 Z\" fill=\"#000000\" fill-rule=\"nonzero\" fill-opacity=\"1\" /><path clip-path=\"url(#clip230)\" d=\"M175.44 1082.22 L180.325 1082.22 L180.325 1088.1 L175.44 1088.1 L175.44 1082.22 Z\" fill=\"#000000\" fill-rule=\"nonzero\" fill-opacity=\"1\" /><path clip-path=\"url(#clip230)\" d=\"M189.329 1053.54 L211.551 1053.54 L211.551 1055.53 L199.005 1088.1 L194.121 1088.1 L205.926 1057.48 L189.329 1057.48 L189.329 1053.54 Z\" fill=\"#000000\" fill-rule=\"nonzero\" fill-opacity=\"1\" /><path clip-path=\"url(#clip230)\" d=\"M220.718 1053.54 L239.074 1053.54 L239.074 1057.48 L225 1057.48 L225 1065.95 Q226.019 1065.6 227.037 1065.44 Q228.056 1065.26 229.074 1065.26 Q234.861 1065.26 238.241 1068.43 Q241.621 1071.6 241.621 1077.01 Q241.621 1082.59 238.148 1085.69 Q234.676 1088.77 228.357 1088.77 Q226.181 1088.77 223.912 1088.4 Q221.667 1088.03 219.26 1087.29 L219.26 1082.59 Q221.343 1083.73 223.565 1084.28 Q225.787 1084.84 228.264 1084.84 Q232.269 1084.84 234.607 1082.73 Q236.945 1080.63 236.945 1077.01 Q236.945 1073.4 234.607 1071.3 Q232.269 1069.19 228.264 1069.19 Q226.389 1069.19 224.514 1069.61 Q222.662 1070.02 220.718 1070.9 L220.718 1053.54 Z\" fill=\"#000000\" fill-rule=\"nonzero\" fill-opacity=\"1\" /><path clip-path=\"url(#clip230)\" d=\"M114.931 867.283 L122.57 867.283 L122.57 840.917 L114.26 842.584 L114.26 838.325 L122.524 836.658 L127.2 836.658 L127.2 867.283 L134.839 867.283 L134.839 871.218 L114.931 871.218 L114.931 867.283 Z\" fill=\"#000000\" fill-rule=\"nonzero\" fill-opacity=\"1\" /><path clip-path=\"url(#clip230)\" d=\"M144.329 836.658 L162.686 836.658 L162.686 840.593 L148.612 840.593 L148.612 849.065 Q149.63 848.718 150.649 848.556 Q151.667 848.371 152.686 848.371 Q158.473 848.371 161.852 851.542 Q165.232 854.714 165.232 860.13 Q165.232 865.709 161.76 868.811 Q158.288 871.889 151.968 871.889 Q149.792 871.889 147.524 871.519 Q145.279 871.149 142.871 870.408 L142.871 865.709 Q144.954 866.843 147.177 867.399 Q149.399 867.954 151.876 867.954 Q155.88 867.954 158.218 865.848 Q160.556 863.741 160.556 860.13 Q160.556 856.519 158.218 854.413 Q155.88 852.306 151.876 852.306 Q150.001 852.306 148.126 852.723 Q146.274 853.139 144.329 854.019 L144.329 836.658 Z\" fill=\"#000000\" fill-rule=\"nonzero\" fill-opacity=\"1\" /><path clip-path=\"url(#clip230)\" d=\"M174.445 865.338 L179.329 865.338 L179.329 871.218 L174.445 871.218 L174.445 865.338 Z\" fill=\"#000000\" fill-rule=\"nonzero\" fill-opacity=\"1\" /><path clip-path=\"url(#clip230)\" d=\"M199.514 839.737 Q195.903 839.737 194.075 843.302 Q192.269 846.843 192.269 853.973 Q192.269 861.079 194.075 864.644 Q195.903 868.186 199.514 868.186 Q203.149 868.186 204.954 864.644 Q206.783 861.079 206.783 853.973 Q206.783 846.843 204.954 843.302 Q203.149 839.737 199.514 839.737 M199.514 836.033 Q205.324 836.033 208.38 840.64 Q211.459 845.223 211.459 853.973 Q211.459 862.7 208.38 867.306 Q205.324 871.889 199.514 871.889 Q193.704 871.889 190.625 867.306 Q187.57 862.7 187.57 853.973 Q187.57 845.223 190.625 840.64 Q193.704 836.033 199.514 836.033 Z\" fill=\"#000000\" fill-rule=\"nonzero\" fill-opacity=\"1\" /><path clip-path=\"url(#clip230)\" d=\"M229.676 839.737 Q226.065 839.737 224.236 843.302 Q222.431 846.843 222.431 853.973 Q222.431 861.079 224.236 864.644 Q226.065 868.186 229.676 868.186 Q233.31 868.186 235.116 864.644 Q236.945 861.079 236.945 853.973 Q236.945 846.843 235.116 843.302 Q233.31 839.737 229.676 839.737 M229.676 836.033 Q235.486 836.033 238.542 840.64 Q241.621 845.223 241.621 853.973 Q241.621 862.7 238.542 867.306 Q235.486 871.889 229.676 871.889 Q223.866 871.889 220.787 867.306 Q217.732 862.7 217.732 853.973 Q217.732 845.223 220.787 840.64 Q223.866 836.033 229.676 836.033 Z\" fill=\"#000000\" fill-rule=\"nonzero\" fill-opacity=\"1\" /><path clip-path=\"url(#clip230)\" d=\"M115.927 650.399 L123.566 650.399 L123.566 624.033 L115.256 625.7 L115.256 621.441 L123.519 619.774 L128.195 619.774 L128.195 650.399 L135.834 650.399 L135.834 654.334 L115.927 654.334 L115.927 650.399 Z\" fill=\"#000000\" fill-rule=\"nonzero\" fill-opacity=\"1\" /><path clip-path=\"url(#clip230)\" d=\"M145.325 619.774 L163.681 619.774 L163.681 623.709 L149.607 623.709 L149.607 632.181 Q150.626 631.834 151.644 631.672 Q152.663 631.487 153.681 631.487 Q159.468 631.487 162.848 634.658 Q166.227 637.829 166.227 643.246 Q166.227 648.825 162.755 651.926 Q159.283 655.005 152.964 655.005 Q150.788 655.005 148.519 654.635 Q146.274 654.264 143.866 653.524 L143.866 648.825 Q145.95 649.959 148.172 650.514 Q150.394 651.07 152.871 651.07 Q156.876 651.07 159.214 648.964 Q161.552 646.857 161.552 643.246 Q161.552 639.635 159.214 637.528 Q156.876 635.422 152.871 635.422 Q150.996 635.422 149.121 635.839 Q147.269 636.255 145.325 637.135 L145.325 619.774 Z\" fill=\"#000000\" fill-rule=\"nonzero\" fill-opacity=\"1\" /><path clip-path=\"url(#clip230)\" d=\"M175.44 648.454 L180.325 648.454 L180.325 654.334 L175.44 654.334 L175.44 648.454 Z\" fill=\"#000000\" fill-rule=\"nonzero\" fill-opacity=\"1\" /><path clip-path=\"url(#clip230)\" d=\"M194.538 650.399 L210.857 650.399 L210.857 654.334 L188.913 654.334 L188.913 650.399 Q191.575 647.644 196.158 643.014 Q200.764 638.362 201.945 637.019 Q204.19 634.496 205.07 632.76 Q205.973 631.001 205.973 629.311 Q205.973 626.556 204.028 624.82 Q202.107 623.084 199.005 623.084 Q196.806 623.084 194.352 623.848 Q191.922 624.612 189.144 626.163 L189.144 621.441 Q191.968 620.306 194.422 619.728 Q196.875 619.149 198.912 619.149 Q204.283 619.149 207.477 621.834 Q210.672 624.519 210.672 629.01 Q210.672 631.14 209.861 633.061 Q209.074 634.959 206.968 637.552 Q206.389 638.223 203.287 641.44 Q200.186 644.635 194.538 650.399 Z\" fill=\"#000000\" fill-rule=\"nonzero\" fill-opacity=\"1\" /><path clip-path=\"url(#clip230)\" d=\"M220.718 619.774 L239.074 619.774 L239.074 623.709 L225 623.709 L225 632.181 Q226.019 631.834 227.037 631.672 Q228.056 631.487 229.074 631.487 Q234.861 631.487 238.241 634.658 Q241.621 637.829 241.621 643.246 Q241.621 648.825 238.148 651.926 Q234.676 655.005 228.357 655.005 Q226.181 655.005 223.912 654.635 Q221.667 654.264 219.26 653.524 L219.26 648.825 Q221.343 649.959 223.565 650.514 Q225.787 651.07 228.264 651.07 Q232.269 651.07 234.607 648.964 Q236.945 646.857 236.945 643.246 Q236.945 639.635 234.607 637.528 Q232.269 635.422 228.264 635.422 Q226.389 635.422 224.514 635.839 Q222.662 636.255 220.718 637.135 L220.718 619.774 Z\" fill=\"#000000\" fill-rule=\"nonzero\" fill-opacity=\"1\" /><path clip-path=\"url(#clip230)\" d=\"M114.931 433.515 L122.57 433.515 L122.57 407.149 L114.26 408.816 L114.26 404.556 L122.524 402.89 L127.2 402.89 L127.2 433.515 L134.839 433.515 L134.839 437.45 L114.931 437.45 L114.931 433.515 Z\" fill=\"#000000\" fill-rule=\"nonzero\" fill-opacity=\"1\" /><path clip-path=\"url(#clip230)\" d=\"M144.329 402.89 L162.686 402.89 L162.686 406.825 L148.612 406.825 L148.612 415.297 Q149.63 414.95 150.649 414.788 Q151.667 414.603 152.686 414.603 Q158.473 414.603 161.852 417.774 Q165.232 420.945 165.232 426.362 Q165.232 431.94 161.76 435.042 Q158.288 438.121 151.968 438.121 Q149.792 438.121 147.524 437.751 Q145.279 437.38 142.871 436.64 L142.871 431.94 Q144.954 433.075 147.177 433.63 Q149.399 434.186 151.876 434.186 Q155.88 434.186 158.218 432.079 Q160.556 429.973 160.556 426.362 Q160.556 422.751 158.218 420.644 Q155.88 418.538 151.876 418.538 Q150.001 418.538 148.126 418.954 Q146.274 419.371 144.329 420.251 L144.329 402.89 Z\" fill=\"#000000\" fill-rule=\"nonzero\" fill-opacity=\"1\" /><path clip-path=\"url(#clip230)\" d=\"M174.445 431.57 L179.329 431.57 L179.329 437.45 L174.445 437.45 L174.445 431.57 Z\" fill=\"#000000\" fill-rule=\"nonzero\" fill-opacity=\"1\" /><path clip-path=\"url(#clip230)\" d=\"M189.561 402.89 L207.917 402.89 L207.917 406.825 L193.843 406.825 L193.843 415.297 Q194.862 414.95 195.88 414.788 Q196.899 414.603 197.917 414.603 Q203.704 414.603 207.084 417.774 Q210.463 420.945 210.463 426.362 Q210.463 431.94 206.991 435.042 Q203.519 438.121 197.2 438.121 Q195.024 438.121 192.755 437.751 Q190.51 437.38 188.102 436.64 L188.102 431.94 Q190.186 433.075 192.408 433.63 Q194.63 434.186 197.107 434.186 Q201.112 434.186 203.449 432.079 Q205.787 429.973 205.787 426.362 Q205.787 422.751 203.449 420.644 Q201.112 418.538 197.107 418.538 Q195.232 418.538 193.357 418.954 Q191.505 419.371 189.561 420.251 L189.561 402.89 Z\" fill=\"#000000\" fill-rule=\"nonzero\" fill-opacity=\"1\" /><path clip-path=\"url(#clip230)\" d=\"M229.676 405.968 Q226.065 405.968 224.236 409.533 Q222.431 413.075 222.431 420.204 Q222.431 427.311 224.236 430.876 Q226.065 434.417 229.676 434.417 Q233.31 434.417 235.116 430.876 Q236.945 427.311 236.945 420.204 Q236.945 413.075 235.116 409.533 Q233.31 405.968 229.676 405.968 M229.676 402.265 Q235.486 402.265 238.542 406.871 Q241.621 411.454 241.621 420.204 Q241.621 428.931 238.542 433.538 Q235.486 438.121 229.676 438.121 Q223.866 438.121 220.787 433.538 Q217.732 428.931 217.732 420.204 Q217.732 411.454 220.787 406.871 Q223.866 402.265 229.676 402.265 Z\" fill=\"#000000\" fill-rule=\"nonzero\" fill-opacity=\"1\" /><path clip-path=\"url(#clip230)\" d=\"M115.927 216.63 L123.566 216.63 L123.566 190.265 L115.256 191.931 L115.256 187.672 L123.519 186.006 L128.195 186.006 L128.195 216.63 L135.834 216.63 L135.834 220.566 L115.927 220.566 L115.927 216.63 Z\" fill=\"#000000\" fill-rule=\"nonzero\" fill-opacity=\"1\" /><path clip-path=\"url(#clip230)\" d=\"M145.325 186.006 L163.681 186.006 L163.681 189.941 L149.607 189.941 L149.607 198.413 Q150.626 198.066 151.644 197.904 Q152.663 197.718 153.681 197.718 Q159.468 197.718 162.848 200.89 Q166.227 204.061 166.227 209.478 Q166.227 215.056 162.755 218.158 Q159.283 221.237 152.964 221.237 Q150.788 221.237 148.519 220.866 Q146.274 220.496 143.866 219.755 L143.866 215.056 Q145.95 216.191 148.172 216.746 Q150.394 217.302 152.871 217.302 Q156.876 217.302 159.214 215.195 Q161.552 213.089 161.552 209.478 Q161.552 205.867 159.214 203.76 Q156.876 201.654 152.871 201.654 Q150.996 201.654 149.121 202.07 Q147.269 202.487 145.325 203.367 L145.325 186.006 Z\" fill=\"#000000\" fill-rule=\"nonzero\" fill-opacity=\"1\" /><path clip-path=\"url(#clip230)\" d=\"M175.44 214.686 L180.325 214.686 L180.325 220.566 L175.44 220.566 L175.44 214.686 Z\" fill=\"#000000\" fill-rule=\"nonzero\" fill-opacity=\"1\" /><path clip-path=\"url(#clip230)\" d=\"M189.329 186.006 L211.551 186.006 L211.551 187.996 L199.005 220.566 L194.121 220.566 L205.926 189.941 L189.329 189.941 L189.329 186.006 Z\" fill=\"#000000\" fill-rule=\"nonzero\" fill-opacity=\"1\" /><path clip-path=\"url(#clip230)\" d=\"M220.718 186.006 L239.074 186.006 L239.074 189.941 L225 189.941 L225 198.413 Q226.019 198.066 227.037 197.904 Q228.056 197.718 229.074 197.718 Q234.861 197.718 238.241 200.89 Q241.621 204.061 241.621 209.478 Q241.621 215.056 238.148 218.158 Q234.676 221.237 228.357 221.237 Q226.181 221.237 223.912 220.866 Q221.667 220.496 219.26 219.755 L219.26 215.056 Q221.343 216.191 223.565 216.746 Q225.787 217.302 228.264 217.302 Q232.269 217.302 234.607 215.195 Q236.945 213.089 236.945 209.478 Q236.945 205.867 234.607 203.76 Q232.269 201.654 228.264 201.654 Q226.389 201.654 224.514 202.07 Q222.662 202.487 220.718 203.367 L220.718 186.006 Z\" fill=\"#000000\" fill-rule=\"nonzero\" fill-opacity=\"1\" /><path clip-path=\"url(#clip230)\" d=\"M18.2347 959.254 L28.3562 959.254 L28.3562 947.191 L32.9077 947.191 L32.9077 959.254 L52.2594 959.254 Q56.6199 959.254 57.8613 958.076 Q59.1026 956.867 59.1026 953.206 L59.1026 947.191 L64.0042 947.191 L64.0042 953.206 Q64.0042 959.986 61.4897 962.564 Q58.9434 965.142 52.2594 965.142 L32.9077 965.142 L32.9077 969.439 L28.3562 969.439 L28.3562 965.142 L18.2347 965.142 L18.2347 959.254 Z\" fill=\"#000000\" fill-rule=\"nonzero\" fill-opacity=\"1\" /><path clip-path=\"url(#clip230)\" d=\"M44.7161 908.996 L47.5806 908.996 L47.5806 935.923 Q53.6281 935.541 56.8109 932.295 Q59.9619 929.017 59.9619 923.192 Q59.9619 919.818 59.1344 916.667 Q58.3069 913.484 56.6518 910.365 L62.1899 910.365 Q63.5267 913.516 64.227 916.826 Q64.9272 920.136 64.9272 923.542 Q64.9272 932.072 59.9619 937.069 Q54.9967 942.034 46.5303 942.034 Q37.7774 942.034 32.6531 937.324 Q27.4968 932.581 27.4968 924.561 Q27.4968 917.367 32.1438 913.198 Q36.7589 908.996 44.7161 908.996 M42.9973 914.853 Q38.1912 914.917 35.3266 917.558 Q32.4621 920.168 32.4621 924.497 Q32.4621 929.399 35.2312 932.359 Q38.0002 935.287 43.0292 935.732 L42.9973 914.853 Z\" fill=\"#000000\" fill-rule=\"nonzero\" fill-opacity=\"1\" /><path clip-path=\"url(#clip230)\" d=\"M35.1993 871.63 Q31.2526 869.434 29.3747 866.378 Q27.4968 863.322 27.4968 859.185 Q27.4968 853.615 31.4117 850.591 Q35.2948 847.567 42.4881 847.567 L64.0042 847.567 L64.0042 853.456 L42.679 853.456 Q37.5546 853.456 35.072 855.27 Q32.5894 857.084 32.5894 860.808 Q32.5894 865.359 35.6131 868.001 Q38.6368 870.643 43.8567 870.643 L64.0042 870.643 L64.0042 876.531 L42.679 876.531 Q37.5228 876.531 35.072 878.346 Q32.5894 880.16 32.5894 883.947 Q32.5894 888.435 35.6449 891.077 Q38.6686 893.719 43.8567 893.719 L64.0042 893.719 L64.0042 899.607 L28.3562 899.607 L28.3562 893.719 L33.8944 893.719 Q30.616 891.714 29.0564 888.913 Q27.4968 886.112 27.4968 882.26 Q27.4968 878.377 29.4702 875.672 Q31.4436 872.935 35.1993 871.63 Z\" fill=\"#000000\" fill-rule=\"nonzero\" fill-opacity=\"1\" /><path clip-path=\"url(#clip230)\" d=\"M58.657 830.221 L77.5631 830.221 L77.5631 836.109 L28.3562 836.109 L28.3562 830.221 L33.7671 830.221 Q30.5842 828.375 29.0564 825.574 Q27.4968 822.741 27.4968 818.826 Q27.4968 812.333 32.6531 808.291 Q37.8093 804.217 46.212 804.217 Q54.6147 804.217 59.771 808.291 Q64.9272 812.333 64.9272 818.826 Q64.9272 822.741 63.3994 825.574 Q61.8398 828.375 58.657 830.221 M46.212 810.296 Q39.7508 810.296 36.0905 812.97 Q32.3984 815.611 32.3984 820.258 Q32.3984 824.905 36.0905 827.579 Q39.7508 830.221 46.212 830.221 Q52.6732 830.221 56.3653 827.579 Q60.0256 824.905 60.0256 820.258 Q60.0256 815.611 56.3653 812.97 Q52.6732 810.296 46.212 810.296 Z\" fill=\"#000000\" fill-rule=\"nonzero\" fill-opacity=\"1\" /><path clip-path=\"url(#clip230)\" d=\"M44.7161 764.017 L47.5806 764.017 L47.5806 790.944 Q53.6281 790.562 56.8109 787.316 Q59.9619 784.038 59.9619 778.213 Q59.9619 774.839 59.1344 771.688 Q58.3069 768.505 56.6518 765.386 L62.1899 765.386 Q63.5267 768.537 64.227 771.847 Q64.9272 775.157 64.9272 778.563 Q64.9272 787.093 59.9619 792.09 Q54.9967 797.055 46.5303 797.055 Q37.7774 797.055 32.6531 792.345 Q27.4968 787.602 27.4968 779.582 Q27.4968 772.388 32.1438 768.219 Q36.7589 764.017 44.7161 764.017 M42.9973 769.874 Q38.1912 769.938 35.3266 772.579 Q32.4621 775.189 32.4621 779.518 Q32.4621 784.42 35.2312 787.38 Q38.0002 790.308 43.0292 790.753 L42.9973 769.874 Z\" fill=\"#000000\" fill-rule=\"nonzero\" fill-opacity=\"1\" /><path clip-path=\"url(#clip230)\" d=\"M33.8307 733.749 Q33.2578 734.735 33.0032 735.913 Q32.7167 737.059 32.7167 738.459 Q32.7167 743.424 35.9632 746.098 Q39.1779 748.74 45.2253 748.74 L64.0042 748.74 L64.0042 754.628 L28.3562 754.628 L28.3562 748.74 L33.8944 748.74 Q30.6479 746.894 29.0883 743.934 Q27.4968 740.974 27.4968 736.74 Q27.4968 736.136 27.5923 735.404 Q27.656 734.672 27.8151 733.78 L33.8307 733.749 Z\" fill=\"#000000\" fill-rule=\"nonzero\" fill-opacity=\"1\" /><path clip-path=\"url(#clip230)\" d=\"M46.0847 711.405 Q46.0847 718.503 47.7079 721.24 Q49.3312 723.977 53.2461 723.977 Q56.3653 723.977 58.2114 721.94 Q60.0256 719.871 60.0256 716.338 Q60.0256 711.469 56.5881 708.54 Q53.1188 705.58 47.3897 705.58 L46.0847 705.58 L46.0847 711.405 M43.6657 699.724 L64.0042 699.724 L64.0042 705.58 L58.5933 705.58 Q61.8398 707.585 63.3994 710.577 Q64.9272 713.569 64.9272 717.898 Q64.9272 723.372 61.8716 726.619 Q58.7843 729.834 53.6281 729.834 Q47.6125 729.834 44.5569 725.823 Q41.5014 721.781 41.5014 713.792 L41.5014 705.58 L40.9285 705.58 Q36.8862 705.58 34.6901 708.254 Q32.4621 710.896 32.4621 715.702 Q32.4621 718.757 33.1941 721.654 Q33.9262 724.55 35.3903 727.224 L29.9795 727.224 Q28.7381 724.009 28.1334 720.985 Q27.4968 717.962 27.4968 715.097 Q27.4968 707.363 31.5072 703.543 Q35.5176 699.724 43.6657 699.724 Z\" fill=\"#000000\" fill-rule=\"nonzero\" fill-opacity=\"1\" /><path clip-path=\"url(#clip230)\" d=\"M18.2347 681.868 L28.3562 681.868 L28.3562 669.805 L32.9077 669.805 L32.9077 681.868 L52.2594 681.868 Q56.6199 681.868 57.8613 680.69 Q59.1026 679.481 59.1026 675.821 L59.1026 669.805 L64.0042 669.805 L64.0042 675.821 Q64.0042 682.6 61.4897 685.178 Q58.9434 687.756 52.2594 687.756 L32.9077 687.756 L32.9077 692.053 L28.3562 692.053 L28.3562 687.756 L18.2347 687.756 L18.2347 681.868 Z\" fill=\"#000000\" fill-rule=\"nonzero\" fill-opacity=\"1\" /><path clip-path=\"url(#clip230)\" d=\"M49.9359 662.707 L28.3562 662.707 L28.3562 656.851 L49.7131 656.851 Q54.7739 656.851 57.3202 654.877 Q59.8346 652.904 59.8346 648.957 Q59.8346 644.215 56.8109 641.478 Q53.7872 638.709 48.5673 638.709 L28.3562 638.709 L28.3562 632.852 L64.0042 632.852 L64.0042 638.709 L58.5296 638.709 Q61.7762 640.841 63.3676 643.674 Q64.9272 646.475 64.9272 650.199 Q64.9272 656.342 61.1078 659.524 Q57.2883 662.707 49.9359 662.707 M27.4968 647.971 L27.4968 647.971 Z\" fill=\"#000000\" fill-rule=\"nonzero\" fill-opacity=\"1\" /><path clip-path=\"url(#clip230)\" d=\"M33.8307 600.132 Q33.2578 601.119 33.0032 602.297 Q32.7167 603.442 32.7167 604.843 Q32.7167 609.808 35.9632 612.482 Q39.1779 615.124 45.2253 615.124 L64.0042 615.124 L64.0042 621.012 L28.3562 621.012 L28.3562 615.124 L33.8944 615.124 Q30.6479 613.278 29.0883 610.317 Q27.4968 607.357 27.4968 603.124 Q27.4968 602.519 27.5923 601.787 Q27.656 601.055 27.8151 600.164 L33.8307 600.132 Z\" fill=\"#000000\" fill-rule=\"nonzero\" fill-opacity=\"1\" /><path clip-path=\"url(#clip230)\" d=\"M44.7161 564.93 L47.5806 564.93 L47.5806 591.857 Q53.6281 591.475 56.8109 588.228 Q59.9619 584.95 59.9619 579.125 Q59.9619 575.752 59.1344 572.601 Q58.3069 569.418 56.6518 566.299 L62.1899 566.299 Q63.5267 569.45 64.227 572.76 Q64.9272 576.07 64.9272 579.476 Q64.9272 588.006 59.9619 593.003 Q54.9967 597.968 46.5303 597.968 Q37.7774 597.968 32.6531 593.257 Q27.4968 588.515 27.4968 580.494 Q27.4968 573.301 32.1438 569.131 Q36.7589 564.93 44.7161 564.93 M42.9973 570.786 Q38.1912 570.85 35.3266 573.492 Q32.4621 576.102 32.4621 580.43 Q32.4621 585.332 35.2312 588.292 Q38.0002 591.22 43.0292 591.666 L42.9973 570.786 Z\" fill=\"#000000\" fill-rule=\"nonzero\" fill-opacity=\"1\" /><path clip-path=\"url(#clip230)\" d=\"M1224.29 14.324 L1224.29 27.2059 L1239.64 27.2059 L1239.64 32.9987 L1224.29 32.9987 L1224.29 57.6282 Q1224.29 63.1779 1225.78 64.7578 Q1227.32 66.3376 1231.98 66.3376 L1239.64 66.3376 L1239.64 72.576 L1231.98 72.576 Q1223.35 72.576 1220.07 69.3758 Q1216.79 66.1351 1216.79 57.6282 L1216.79 32.9987 L1211.32 32.9987 L1211.32 27.2059 L1216.79 27.2059 L1216.79 14.324 L1224.29 14.324 Z\" fill=\"#000000\" fill-rule=\"nonzero\" fill-opacity=\"1\" /><path clip-path=\"url(#clip230)\" d=\"M1249.44 27.2059 L1256.9 27.2059 L1256.9 72.576 L1249.44 72.576 L1249.44 27.2059 M1249.44 9.54393 L1256.9 9.54393 L1256.9 18.9825 L1249.44 18.9825 L1249.44 9.54393 Z\" fill=\"#000000\" fill-rule=\"nonzero\" fill-opacity=\"1\" /><path clip-path=\"url(#clip230)\" d=\"M1279.86 14.324 L1279.86 27.2059 L1295.22 27.2059 L1295.22 32.9987 L1279.86 32.9987 L1279.86 57.6282 Q1279.86 63.1779 1281.36 64.7578 Q1282.9 66.3376 1287.56 66.3376 L1295.22 66.3376 L1295.22 72.576 L1287.56 72.576 Q1278.93 72.576 1275.65 69.3758 Q1272.37 66.1351 1272.37 57.6282 L1272.37 32.9987 L1266.9 32.9987 L1266.9 27.2059 L1272.37 27.2059 L1272.37 14.324 L1279.86 14.324 Z\" fill=\"#000000\" fill-rule=\"nonzero\" fill-opacity=\"1\" /><path clip-path=\"url(#clip230)\" d=\"M1304.25 54.671 L1304.25 27.2059 L1311.7 27.2059 L1311.7 54.3874 Q1311.7 60.8284 1314.22 64.0691 Q1316.73 67.2693 1321.75 67.2693 Q1327.79 67.2693 1331.27 63.421 Q1334.79 59.5726 1334.79 52.9291 L1334.79 27.2059 L1342.25 27.2059 L1342.25 72.576 L1334.79 72.576 L1334.79 65.6084 Q1332.08 69.7404 1328.48 71.7658 Q1324.91 73.7508 1320.17 73.7508 Q1312.35 73.7508 1308.3 68.8897 Q1304.25 64.0286 1304.25 54.671 M1323.01 26.1121 L1323.01 26.1121 Z\" fill=\"#000000\" fill-rule=\"nonzero\" fill-opacity=\"1\" /><path clip-path=\"url(#clip230)\" d=\"M1357.6 9.54393 L1365.05 9.54393 L1365.05 72.576 L1357.6 72.576 L1357.6 9.54393 Z\" fill=\"#000000\" fill-rule=\"nonzero\" fill-opacity=\"1\" /><path clip-path=\"url(#clip230)\" d=\"M1398.23 32.4315 Q1392.24 32.4315 1388.75 37.1306 Q1385.27 41.7891 1385.27 49.9314 Q1385.27 58.0738 1388.71 62.7728 Q1392.2 67.4314 1398.23 67.4314 Q1404.19 67.4314 1407.67 62.7323 Q1411.15 58.0333 1411.15 49.9314 Q1411.15 41.8701 1407.67 37.1711 Q1404.19 32.4315 1398.23 32.4315 M1398.23 26.1121 Q1407.95 26.1121 1413.5 32.4315 Q1419.05 38.7509 1419.05 49.9314 Q1419.05 61.0714 1413.5 67.4314 Q1407.95 73.7508 1398.23 73.7508 Q1388.47 73.7508 1382.92 67.4314 Q1377.41 61.0714 1377.41 49.9314 Q1377.41 38.7509 1382.92 32.4315 Q1388.47 26.1121 1398.23 26.1121 Z\" fill=\"#000000\" fill-rule=\"nonzero\" fill-opacity=\"1\" /><polyline clip-path=\"url(#clip232)\" style=\"stroke:#009af9; stroke-linecap:round; stroke-linejoin:round; stroke-width:4; stroke-opacity:1; fill:none\" points=\"2294.03,1374.46 1206.02,1287.71 988.416,1027.45 553.213,680.431 353.019,420.17 336.351,159.909 \"/>\n",
       "<circle clip-path=\"url(#clip232)\" cx=\"2294.03\" cy=\"1374.46\" r=\"14.4\" fill=\"#e26f46\" fill-rule=\"evenodd\" fill-opacity=\"1\" stroke=\"#000000\" stroke-opacity=\"1\" stroke-width=\"3.2\"/>\n",
       "<circle clip-path=\"url(#clip232)\" cx=\"1206.02\" cy=\"1287.71\" r=\"14.4\" fill=\"#e26f46\" fill-rule=\"evenodd\" fill-opacity=\"1\" stroke=\"#000000\" stroke-opacity=\"1\" stroke-width=\"3.2\"/>\n",
       "<circle clip-path=\"url(#clip232)\" cx=\"988.416\" cy=\"1027.45\" r=\"14.4\" fill=\"#e26f46\" fill-rule=\"evenodd\" fill-opacity=\"1\" stroke=\"#000000\" stroke-opacity=\"1\" stroke-width=\"3.2\"/>\n",
       "<circle clip-path=\"url(#clip232)\" cx=\"553.213\" cy=\"680.431\" r=\"14.4\" fill=\"#e26f46\" fill-rule=\"evenodd\" fill-opacity=\"1\" stroke=\"#000000\" stroke-opacity=\"1\" stroke-width=\"3.2\"/>\n",
       "<circle clip-path=\"url(#clip232)\" cx=\"353.019\" cy=\"420.17\" r=\"14.4\" fill=\"#e26f46\" fill-rule=\"evenodd\" fill-opacity=\"1\" stroke=\"#000000\" stroke-opacity=\"1\" stroke-width=\"3.2\"/>\n",
       "<circle clip-path=\"url(#clip232)\" cx=\"336.351\" cy=\"159.909\" r=\"14.4\" fill=\"#e26f46\" fill-rule=\"evenodd\" fill-opacity=\"1\" stroke=\"#000000\" stroke-opacity=\"1\" stroke-width=\"3.2\"/>\n",
       "<path clip-path=\"url(#clip230)\" d=\"M1937.09 321.906 L2283.58 321.906 L2283.58 166.386 L1937.09 166.386  Z\" fill=\"#ffffff\" fill-rule=\"evenodd\" fill-opacity=\"1\"/>\n",
       "<polyline clip-path=\"url(#clip230)\" style=\"stroke:#000000; stroke-linecap:round; stroke-linejoin:round; stroke-width:4; stroke-opacity:1; fill:none\" points=\"1937.09,321.906 2283.58,321.906 2283.58,166.386 1937.09,166.386 1937.09,321.906 \"/>\n",
       "<polyline clip-path=\"url(#clip230)\" style=\"stroke:#009af9; stroke-linecap:round; stroke-linejoin:round; stroke-width:4; stroke-opacity:1; fill:none\" points=\"1960.15,218.226 2098.49,218.226 \"/>\n",
       "<path clip-path=\"url(#clip230)\" d=\"M2121.55 199.488 L2125.81 199.488 L2125.81 235.506 L2121.55 235.506 L2121.55 199.488 Z\" fill=\"#000000\" fill-rule=\"nonzero\" fill-opacity=\"1\" /><path clip-path=\"url(#clip230)\" d=\"M2134.72 209.58 L2138.98 209.58 L2138.98 235.506 L2134.72 235.506 L2134.72 209.58 M2134.72 199.488 L2138.98 199.488 L2138.98 204.881 L2134.72 204.881 L2134.72 199.488 Z\" fill=\"#000000\" fill-rule=\"nonzero\" fill-opacity=\"1\" /><path clip-path=\"url(#clip230)\" d=\"M2169.44 219.858 L2169.44 235.506 L2165.18 235.506 L2165.18 219.997 Q2165.18 216.317 2163.75 214.488 Q2162.31 212.659 2159.44 212.659 Q2155.99 212.659 2154 214.858 Q2152.01 217.057 2152.01 220.854 L2152.01 235.506 L2147.73 235.506 L2147.73 209.58 L2152.01 209.58 L2152.01 213.608 Q2153.54 211.27 2155.6 210.113 Q2157.68 208.955 2160.39 208.955 Q2164.86 208.955 2167.15 211.733 Q2169.44 214.488 2169.44 219.858 Z\" fill=\"#000000\" fill-rule=\"nonzero\" fill-opacity=\"1\" /><path clip-path=\"url(#clip230)\" d=\"M2200.11 221.479 L2200.11 223.562 L2180.53 223.562 Q2180.81 227.96 2183.17 230.275 Q2185.55 232.566 2189.79 232.566 Q2192.24 232.566 2194.53 231.965 Q2196.85 231.363 2199.12 230.159 L2199.12 234.187 Q2196.82 235.159 2194.42 235.668 Q2192.01 236.178 2189.53 236.178 Q2183.33 236.178 2179.69 232.566 Q2176.08 228.955 2176.08 222.798 Q2176.08 216.432 2179.51 212.705 Q2182.96 208.955 2188.79 208.955 Q2194.02 208.955 2197.06 212.335 Q2200.11 215.692 2200.11 221.479 M2195.85 220.229 Q2195.81 216.733 2193.88 214.65 Q2191.99 212.567 2188.84 212.567 Q2185.27 212.567 2183.12 214.58 Q2180.99 216.594 2180.67 220.252 L2195.85 220.229 Z\" fill=\"#000000\" fill-rule=\"nonzero\" fill-opacity=\"1\" /><circle clip-path=\"url(#clip230)\" cx=\"2029.32\" cy=\"270.066\" r=\"20.48\" fill=\"#e26f46\" fill-rule=\"evenodd\" fill-opacity=\"1\" stroke=\"#000000\" stroke-opacity=\"1\" stroke-width=\"4.55111\"/>\n",
       "<path clip-path=\"url(#clip230)\" d=\"M2125.83 283.457 L2125.83 297.207 L2121.55 297.207 L2121.55 261.42 L2125.83 261.42 L2125.83 265.356 Q2127.17 263.041 2129.21 261.93 Q2131.27 260.795 2134.12 260.795 Q2138.84 260.795 2141.78 264.545 Q2144.74 268.295 2144.74 274.407 Q2144.74 280.518 2141.78 284.268 Q2138.84 288.018 2134.12 288.018 Q2131.27 288.018 2129.21 286.906 Q2127.17 285.772 2125.83 283.457 M2140.32 274.407 Q2140.32 269.707 2138.38 267.045 Q2136.45 264.36 2133.07 264.36 Q2129.7 264.36 2127.75 267.045 Q2125.83 269.707 2125.83 274.407 Q2125.83 279.106 2127.75 281.791 Q2129.7 284.453 2133.07 284.453 Q2136.45 284.453 2138.38 281.791 Q2140.32 279.106 2140.32 274.407 Z\" fill=\"#000000\" fill-rule=\"nonzero\" fill-opacity=\"1\" /><path clip-path=\"url(#clip230)\" d=\"M2161.85 264.407 Q2158.42 264.407 2156.43 267.092 Q2154.44 269.754 2154.44 274.407 Q2154.44 279.059 2156.41 281.744 Q2158.4 284.406 2161.85 284.406 Q2165.25 284.406 2167.24 281.721 Q2169.23 279.036 2169.23 274.407 Q2169.23 269.8 2167.24 267.115 Q2165.25 264.407 2161.85 264.407 M2161.85 260.795 Q2167.4 260.795 2170.57 264.407 Q2173.75 268.018 2173.75 274.407 Q2173.75 280.772 2170.57 284.406 Q2167.4 288.018 2161.85 288.018 Q2156.27 288.018 2153.1 284.406 Q2149.95 280.772 2149.95 274.407 Q2149.95 268.018 2153.1 264.407 Q2156.27 260.795 2161.85 260.795 Z\" fill=\"#000000\" fill-rule=\"nonzero\" fill-opacity=\"1\" /><path clip-path=\"url(#clip230)\" d=\"M2180.81 261.42 L2185.07 261.42 L2185.07 287.346 L2180.81 287.346 L2180.81 261.42 M2180.81 251.328 L2185.07 251.328 L2185.07 256.721 L2180.81 256.721 L2180.81 251.328 Z\" fill=\"#000000\" fill-rule=\"nonzero\" fill-opacity=\"1\" /><path clip-path=\"url(#clip230)\" d=\"M2215.53 271.698 L2215.53 287.346 L2211.27 287.346 L2211.27 271.837 Q2211.27 268.157 2209.83 266.328 Q2208.4 264.499 2205.53 264.499 Q2202.08 264.499 2200.09 266.698 Q2198.1 268.897 2198.1 272.694 L2198.1 287.346 L2193.82 287.346 L2193.82 261.42 L2198.1 261.42 L2198.1 265.448 Q2199.63 263.11 2201.69 261.953 Q2203.77 260.795 2206.48 260.795 Q2210.94 260.795 2213.24 263.573 Q2215.53 266.328 2215.53 271.698 Z\" fill=\"#000000\" fill-rule=\"nonzero\" fill-opacity=\"1\" /><path clip-path=\"url(#clip230)\" d=\"M2228.24 254.059 L2228.24 261.42 L2237.01 261.42 L2237.01 264.731 L2228.24 264.731 L2228.24 278.805 Q2228.24 281.976 2229.09 282.879 Q2229.97 283.781 2232.63 283.781 L2237.01 283.781 L2237.01 287.346 L2232.63 287.346 Q2227.7 287.346 2225.83 285.518 Q2223.95 283.666 2223.95 278.805 L2223.95 264.731 L2220.83 264.731 L2220.83 261.42 L2223.95 261.42 L2223.95 254.059 L2228.24 254.059 Z\" fill=\"#000000\" fill-rule=\"nonzero\" fill-opacity=\"1\" /><path clip-path=\"url(#clip230)\" d=\"M2259.14 262.184 L2259.14 266.212 Q2257.33 265.286 2255.39 264.823 Q2253.44 264.36 2251.36 264.36 Q2248.19 264.36 2246.59 265.333 Q2245.02 266.305 2245.02 268.249 Q2245.02 269.731 2246.15 270.587 Q2247.29 271.42 2250.71 272.184 L2252.17 272.508 Q2256.71 273.481 2258.61 275.263 Q2260.53 277.022 2260.53 280.194 Q2260.53 283.805 2257.66 285.911 Q2254.81 288.018 2249.81 288.018 Q2247.73 288.018 2245.46 287.601 Q2243.21 287.207 2240.71 286.397 L2240.71 281.999 Q2243.07 283.226 2245.37 283.851 Q2247.66 284.453 2249.9 284.453 Q2252.91 284.453 2254.53 283.434 Q2256.15 282.393 2256.15 280.518 Q2256.15 278.782 2254.97 277.856 Q2253.81 276.93 2249.86 276.073 L2248.37 275.726 Q2244.42 274.893 2242.66 273.18 Q2240.9 271.444 2240.9 268.434 Q2240.9 264.777 2243.49 262.786 Q2246.08 260.795 2250.85 260.795 Q2253.21 260.795 2255.3 261.143 Q2257.38 261.49 2259.14 262.184 Z\" fill=\"#000000\" fill-rule=\"nonzero\" fill-opacity=\"1\" /></svg>\n"
      ],
      "text/html": [
       "<?xml version=\"1.0\" encoding=\"utf-8\"?>\n",
       "<svg xmlns=\"http://www.w3.org/2000/svg\" xmlns:xlink=\"http://www.w3.org/1999/xlink\" width=\"600\" height=\"400\" viewBox=\"0 0 2400 1600\">\n",
       "<defs>\n",
       "  <clipPath id=\"clip280\">\n",
       "    <rect x=\"0\" y=\"0\" width=\"2400\" height=\"1600\"/>\n",
       "  </clipPath>\n",
       "</defs>\n",
       "<path clip-path=\"url(#clip280)\" d=\"M0 1600 L2400 1600 L2400 0 L0 0  Z\" fill=\"#ffffff\" fill-rule=\"evenodd\" fill-opacity=\"1\"/>\n",
       "<defs>\n",
       "  <clipPath id=\"clip281\">\n",
       "    <rect x=\"480\" y=\"0\" width=\"1681\" height=\"1600\"/>\n",
       "  </clipPath>\n",
       "</defs>\n",
       "<path clip-path=\"url(#clip280)\" d=\"M277.621 1410.9 L2352.76 1410.9 L2352.76 123.472 L277.621 123.472  Z\" fill=\"#ffffff\" fill-rule=\"evenodd\" fill-opacity=\"1\"/>\n",
       "<defs>\n",
       "  <clipPath id=\"clip282\">\n",
       "    <rect x=\"277\" y=\"123\" width=\"2076\" height=\"1288\"/>\n",
       "  </clipPath>\n",
       "</defs>\n",
       "<polyline clip-path=\"url(#clip282)\" style=\"stroke:#000000; stroke-linecap:round; stroke-linejoin:round; stroke-width:2; stroke-opacity:0.1; fill:none\" points=\"335.611,1410.9 335.611,123.472 \"/>\n",
       "<polyline clip-path=\"url(#clip282)\" style=\"stroke:#000000; stroke-linecap:round; stroke-linejoin:round; stroke-width:2; stroke-opacity:0.1; fill:none\" points=\"770.814,1410.9 770.814,123.472 \"/>\n",
       "<polyline clip-path=\"url(#clip282)\" style=\"stroke:#000000; stroke-linecap:round; stroke-linejoin:round; stroke-width:2; stroke-opacity:0.1; fill:none\" points=\"1206.02,1410.9 1206.02,123.472 \"/>\n",
       "<polyline clip-path=\"url(#clip282)\" style=\"stroke:#000000; stroke-linecap:round; stroke-linejoin:round; stroke-width:2; stroke-opacity:0.1; fill:none\" points=\"1641.22,1410.9 1641.22,123.472 \"/>\n",
       "<polyline clip-path=\"url(#clip282)\" style=\"stroke:#000000; stroke-linecap:round; stroke-linejoin:round; stroke-width:2; stroke-opacity:0.1; fill:none\" points=\"2076.42,1410.9 2076.42,123.472 \"/>\n",
       "<polyline clip-path=\"url(#clip280)\" style=\"stroke:#000000; stroke-linecap:round; stroke-linejoin:round; stroke-width:4; stroke-opacity:1; fill:none\" points=\"277.621,1410.9 2352.76,1410.9 \"/>\n",
       "<polyline clip-path=\"url(#clip280)\" style=\"stroke:#000000; stroke-linecap:round; stroke-linejoin:round; stroke-width:4; stroke-opacity:1; fill:none\" points=\"335.611,1410.9 335.611,1392 \"/>\n",
       "<polyline clip-path=\"url(#clip280)\" style=\"stroke:#000000; stroke-linecap:round; stroke-linejoin:round; stroke-width:4; stroke-opacity:1; fill:none\" points=\"770.814,1410.9 770.814,1392 \"/>\n",
       "<polyline clip-path=\"url(#clip280)\" style=\"stroke:#000000; stroke-linecap:round; stroke-linejoin:round; stroke-width:4; stroke-opacity:1; fill:none\" points=\"1206.02,1410.9 1206.02,1392 \"/>\n",
       "<polyline clip-path=\"url(#clip280)\" style=\"stroke:#000000; stroke-linecap:round; stroke-linejoin:round; stroke-width:4; stroke-opacity:1; fill:none\" points=\"1641.22,1410.9 1641.22,1392 \"/>\n",
       "<polyline clip-path=\"url(#clip280)\" style=\"stroke:#000000; stroke-linecap:round; stroke-linejoin:round; stroke-width:4; stroke-opacity:1; fill:none\" points=\"2076.42,1410.9 2076.42,1392 \"/>\n",
       "<path clip-path=\"url(#clip280)\" d=\"M335.611 1441.82 Q332 1441.82 330.171 1445.38 Q328.366 1448.92 328.366 1456.05 Q328.366 1463.16 330.171 1466.72 Q332 1470.26 335.611 1470.26 Q339.245 1470.26 341.051 1466.72 Q342.879 1463.16 342.879 1456.05 Q342.879 1448.92 341.051 1445.38 Q339.245 1441.82 335.611 1441.82 M335.611 1438.11 Q341.421 1438.11 344.477 1442.72 Q347.555 1447.3 347.555 1456.05 Q347.555 1464.78 344.477 1469.38 Q341.421 1473.97 335.611 1473.97 Q329.801 1473.97 326.722 1469.38 Q323.667 1464.78 323.667 1456.05 Q323.667 1447.3 326.722 1442.72 Q329.801 1438.11 335.611 1438.11 Z\" fill=\"#000000\" fill-rule=\"nonzero\" fill-opacity=\"1\" /><path clip-path=\"url(#clip280)\" d=\"M677.713 1485.02 L685.352 1485.02 L685.352 1458.66 L677.042 1460.32 L677.042 1456.06 L685.305 1454.4 L689.981 1454.4 L689.981 1485.02 L697.62 1485.02 L697.62 1488.96 L677.713 1488.96 L677.713 1485.02 Z\" fill=\"#000000\" fill-rule=\"nonzero\" fill-opacity=\"1\" /><path clip-path=\"url(#clip280)\" d=\"M707.065 1483.08 L711.949 1483.08 L711.949 1488.96 L707.065 1488.96 L707.065 1483.08 Z\" fill=\"#000000\" fill-rule=\"nonzero\" fill-opacity=\"1\" /><path clip-path=\"url(#clip280)\" d=\"M732.134 1457.48 Q728.523 1457.48 726.694 1461.04 Q724.889 1464.58 724.889 1471.71 Q724.889 1478.82 726.694 1482.38 Q728.523 1485.92 732.134 1485.92 Q735.768 1485.92 737.574 1482.38 Q739.402 1478.82 739.402 1471.71 Q739.402 1464.58 737.574 1461.04 Q735.768 1457.48 732.134 1457.48 M732.134 1453.77 Q737.944 1453.77 741 1458.38 Q744.078 1462.96 744.078 1471.71 Q744.078 1480.44 741 1485.04 Q737.944 1489.63 732.134 1489.63 Q726.324 1489.63 723.245 1485.04 Q720.19 1480.44 720.19 1471.71 Q720.19 1462.96 723.245 1458.38 Q726.324 1453.77 732.134 1453.77 Z\" fill=\"#000000\" fill-rule=\"nonzero\" fill-opacity=\"1\" /><path clip-path=\"url(#clip280)\" d=\"M780.467 1463.49 L769.888 1474.12 L780.467 1484.7 L777.712 1487.5 L767.087 1476.87 L756.462 1487.5 L753.731 1484.7 L764.287 1474.12 L753.731 1463.49 L756.462 1460.69 L767.087 1471.32 L777.712 1460.69 L780.467 1463.49 Z\" fill=\"#000000\" fill-rule=\"nonzero\" fill-opacity=\"1\" /><path clip-path=\"url(#clip280)\" d=\"M792.828 1485.02 L800.467 1485.02 L800.467 1458.66 L792.157 1460.32 L792.157 1456.06 L800.421 1454.4 L805.096 1454.4 L805.096 1485.02 L812.735 1485.02 L812.735 1488.96 L792.828 1488.96 L792.828 1485.02 Z\" fill=\"#000000\" fill-rule=\"nonzero\" fill-opacity=\"1\" /><path clip-path=\"url(#clip280)\" d=\"M832.18 1457.48 Q828.569 1457.48 826.74 1461.04 Q824.934 1464.58 824.934 1471.71 Q824.934 1478.82 826.74 1482.38 Q828.569 1485.92 832.18 1485.92 Q835.814 1485.92 837.619 1482.38 Q839.448 1478.82 839.448 1471.71 Q839.448 1464.58 837.619 1461.04 Q835.814 1457.48 832.18 1457.48 M832.18 1453.77 Q837.99 1453.77 841.045 1458.38 Q844.124 1462.96 844.124 1471.71 Q844.124 1480.44 841.045 1485.04 Q837.99 1489.63 832.18 1489.63 Q826.37 1489.63 823.291 1485.04 Q820.235 1480.44 820.235 1471.71 Q820.235 1462.96 823.291 1458.38 Q826.37 1453.77 832.18 1453.77 Z\" fill=\"#000000\" fill-rule=\"nonzero\" fill-opacity=\"1\" /><path clip-path=\"url(#clip280)\" d=\"M856.8 1436.78 L847.209 1451.77 L856.8 1451.77 L856.8 1436.78 M855.804 1433.47 L860.581 1433.47 L860.581 1451.77 L864.587 1451.77 L864.587 1454.93 L860.581 1454.93 L860.581 1461.55 L856.8 1461.55 L856.8 1454.93 L844.124 1454.93 L844.124 1451.26 L855.804 1433.47 Z\" fill=\"#000000\" fill-rule=\"nonzero\" fill-opacity=\"1\" /><path clip-path=\"url(#clip280)\" d=\"M1117 1485.02 L1133.32 1485.02 L1133.32 1488.96 L1111.38 1488.96 L1111.38 1485.02 Q1114.04 1482.27 1118.62 1477.64 Q1123.23 1472.98 1124.41 1471.64 Q1126.65 1469.12 1127.53 1467.38 Q1128.44 1465.62 1128.44 1463.93 Q1128.44 1461.18 1126.49 1459.44 Q1124.57 1457.71 1121.47 1457.71 Q1119.27 1457.71 1116.82 1458.47 Q1114.39 1459.23 1111.61 1460.79 L1111.61 1456.06 Q1114.43 1454.93 1116.89 1454.35 Q1119.34 1453.77 1121.38 1453.77 Q1126.75 1453.77 1129.94 1456.46 Q1133.14 1459.14 1133.14 1463.63 Q1133.14 1465.76 1132.33 1467.68 Q1131.54 1469.58 1129.43 1472.17 Q1128.85 1472.85 1125.75 1476.06 Q1122.65 1479.26 1117 1485.02 Z\" fill=\"#000000\" fill-rule=\"nonzero\" fill-opacity=\"1\" /><path clip-path=\"url(#clip280)\" d=\"M1143.14 1483.08 L1148.02 1483.08 L1148.02 1488.96 L1143.14 1488.96 L1143.14 1483.08 Z\" fill=\"#000000\" fill-rule=\"nonzero\" fill-opacity=\"1\" /><path clip-path=\"url(#clip280)\" d=\"M1168.21 1457.48 Q1164.59 1457.48 1162.77 1461.04 Q1160.96 1464.58 1160.96 1471.71 Q1160.96 1478.82 1162.77 1482.38 Q1164.59 1485.92 1168.21 1485.92 Q1171.84 1485.92 1173.64 1482.38 Q1175.47 1478.82 1175.47 1471.71 Q1175.47 1464.58 1173.64 1461.04 Q1171.84 1457.48 1168.21 1457.48 M1168.21 1453.77 Q1174.02 1453.77 1177.07 1458.38 Q1180.15 1462.96 1180.15 1471.71 Q1180.15 1480.44 1177.07 1485.04 Q1174.02 1489.63 1168.21 1489.63 Q1162.4 1489.63 1159.32 1485.04 Q1156.26 1480.44 1156.26 1471.71 Q1156.26 1462.96 1159.32 1458.38 Q1162.4 1453.77 1168.21 1453.77 Z\" fill=\"#000000\" fill-rule=\"nonzero\" fill-opacity=\"1\" /><path clip-path=\"url(#clip280)\" d=\"M1216.54 1463.49 L1205.96 1474.12 L1216.54 1484.7 L1213.78 1487.5 L1203.16 1476.87 L1192.53 1487.5 L1189.8 1484.7 L1200.36 1474.12 L1189.8 1463.49 L1192.53 1460.69 L1203.16 1471.32 L1213.78 1460.69 L1216.54 1463.49 Z\" fill=\"#000000\" fill-rule=\"nonzero\" fill-opacity=\"1\" /><path clip-path=\"url(#clip280)\" d=\"M1228.9 1485.02 L1236.54 1485.02 L1236.54 1458.66 L1228.23 1460.32 L1228.23 1456.06 L1236.49 1454.4 L1241.17 1454.4 L1241.17 1485.02 L1248.81 1485.02 L1248.81 1488.96 L1228.9 1488.96 L1228.9 1485.02 Z\" fill=\"#000000\" fill-rule=\"nonzero\" fill-opacity=\"1\" /><path clip-path=\"url(#clip280)\" d=\"M1268.25 1457.48 Q1264.64 1457.48 1262.81 1461.04 Q1261.01 1464.58 1261.01 1471.71 Q1261.01 1478.82 1262.81 1482.38 Q1264.64 1485.92 1268.25 1485.92 Q1271.89 1485.92 1273.69 1482.38 Q1275.52 1478.82 1275.52 1471.71 Q1275.52 1464.58 1273.69 1461.04 Q1271.89 1457.48 1268.25 1457.48 M1268.25 1453.77 Q1274.06 1453.77 1277.12 1458.38 Q1280.2 1462.96 1280.2 1471.71 Q1280.2 1480.44 1277.12 1485.04 Q1274.06 1489.63 1268.25 1489.63 Q1262.44 1489.63 1259.36 1485.04 Q1256.31 1480.44 1256.31 1471.71 Q1256.31 1462.96 1259.36 1458.38 Q1262.44 1453.77 1268.25 1453.77 Z\" fill=\"#000000\" fill-rule=\"nonzero\" fill-opacity=\"1\" /><path clip-path=\"url(#clip280)\" d=\"M1292.87 1436.78 L1283.28 1451.77 L1292.87 1451.77 L1292.87 1436.78 M1291.87 1433.47 L1296.65 1433.47 L1296.65 1451.77 L1300.66 1451.77 L1300.66 1454.93 L1296.65 1454.93 L1296.65 1461.55 L1292.87 1461.55 L1292.87 1454.93 L1280.2 1454.93 L1280.2 1451.26 L1291.87 1433.47 Z\" fill=\"#000000\" fill-rule=\"nonzero\" fill-opacity=\"1\" /><path clip-path=\"url(#clip280)\" d=\"M1562.27 1470.32 Q1565.63 1471.04 1567.51 1473.31 Q1569.4 1475.58 1569.4 1478.91 Q1569.4 1484.03 1565.89 1486.83 Q1562.37 1489.63 1555.89 1489.63 Q1553.71 1489.63 1551.39 1489.19 Q1549.1 1488.77 1546.65 1487.91 L1546.65 1483.4 Q1548.59 1484.54 1550.91 1485.11 Q1553.22 1485.69 1555.75 1485.69 Q1560.14 1485.69 1562.44 1483.96 Q1564.75 1482.22 1564.75 1478.91 Q1564.75 1475.85 1562.6 1474.14 Q1560.47 1472.41 1556.65 1472.41 L1552.62 1472.41 L1552.62 1468.56 L1556.83 1468.56 Q1560.28 1468.56 1562.11 1467.2 Q1563.94 1465.81 1563.94 1463.22 Q1563.94 1460.55 1562.04 1459.14 Q1560.17 1457.71 1556.65 1457.71 Q1554.73 1457.71 1552.53 1458.12 Q1550.33 1458.54 1547.69 1459.42 L1547.69 1455.25 Q1550.35 1454.51 1552.67 1454.14 Q1555.01 1453.77 1557.07 1453.77 Q1562.39 1453.77 1565.49 1456.2 Q1568.59 1458.61 1568.59 1462.73 Q1568.59 1465.6 1566.95 1467.59 Q1565.31 1469.56 1562.27 1470.32 Z\" fill=\"#000000\" fill-rule=\"nonzero\" fill-opacity=\"1\" /><path clip-path=\"url(#clip280)\" d=\"M1578.27 1483.08 L1583.15 1483.08 L1583.15 1488.96 L1578.27 1488.96 L1578.27 1483.08 Z\" fill=\"#000000\" fill-rule=\"nonzero\" fill-opacity=\"1\" /><path clip-path=\"url(#clip280)\" d=\"M1603.34 1457.48 Q1599.73 1457.48 1597.9 1461.04 Q1596.09 1464.58 1596.09 1471.71 Q1596.09 1478.82 1597.9 1482.38 Q1599.73 1485.92 1603.34 1485.92 Q1606.97 1485.92 1608.78 1482.38 Q1610.61 1478.82 1610.61 1471.71 Q1610.61 1464.58 1608.78 1461.04 Q1606.97 1457.48 1603.34 1457.48 M1603.34 1453.77 Q1609.15 1453.77 1612.2 1458.38 Q1615.28 1462.96 1615.28 1471.71 Q1615.28 1480.44 1612.2 1485.04 Q1609.15 1489.63 1603.34 1489.63 Q1597.53 1489.63 1594.45 1485.04 Q1591.39 1480.44 1591.39 1471.71 Q1591.39 1462.96 1594.45 1458.38 Q1597.53 1453.77 1603.34 1453.77 Z\" fill=\"#000000\" fill-rule=\"nonzero\" fill-opacity=\"1\" /><path clip-path=\"url(#clip280)\" d=\"M1651.67 1463.49 L1641.09 1474.12 L1651.67 1484.7 L1648.92 1487.5 L1638.29 1476.87 L1627.67 1487.5 L1624.94 1484.7 L1635.49 1474.12 L1624.94 1463.49 L1627.67 1460.69 L1638.29 1471.32 L1648.92 1460.69 L1651.67 1463.49 Z\" fill=\"#000000\" fill-rule=\"nonzero\" fill-opacity=\"1\" /><path clip-path=\"url(#clip280)\" d=\"M1664.03 1485.02 L1671.67 1485.02 L1671.67 1458.66 L1663.36 1460.32 L1663.36 1456.06 L1671.63 1454.4 L1676.3 1454.4 L1676.3 1485.02 L1683.94 1485.02 L1683.94 1488.96 L1664.03 1488.96 L1664.03 1485.02 Z\" fill=\"#000000\" fill-rule=\"nonzero\" fill-opacity=\"1\" /><path clip-path=\"url(#clip280)\" d=\"M1703.38 1457.48 Q1699.77 1457.48 1697.95 1461.04 Q1696.14 1464.58 1696.14 1471.71 Q1696.14 1478.82 1697.95 1482.38 Q1699.77 1485.92 1703.38 1485.92 Q1707.02 1485.92 1708.82 1482.38 Q1710.65 1478.82 1710.65 1471.71 Q1710.65 1464.58 1708.82 1461.04 Q1707.02 1457.48 1703.38 1457.48 M1703.38 1453.77 Q1709.19 1453.77 1712.25 1458.38 Q1715.33 1462.96 1715.33 1471.71 Q1715.33 1480.44 1712.25 1485.04 Q1709.19 1489.63 1703.38 1489.63 Q1697.57 1489.63 1694.5 1485.04 Q1691.44 1480.44 1691.44 1471.71 Q1691.44 1462.96 1694.5 1458.38 Q1697.57 1453.77 1703.38 1453.77 Z\" fill=\"#000000\" fill-rule=\"nonzero\" fill-opacity=\"1\" /><path clip-path=\"url(#clip280)\" d=\"M1728.01 1436.78 L1718.41 1451.77 L1728.01 1451.77 L1728.01 1436.78 M1727.01 1433.47 L1731.79 1433.47 L1731.79 1451.77 L1735.79 1451.77 L1735.79 1454.93 L1731.79 1454.93 L1731.79 1461.55 L1728.01 1461.55 L1728.01 1454.93 L1715.33 1454.93 L1715.33 1451.26 L1727.01 1433.47 Z\" fill=\"#000000\" fill-rule=\"nonzero\" fill-opacity=\"1\" /><path clip-path=\"url(#clip280)\" d=\"M1996.81 1458.47 L1985 1476.92 L1996.81 1476.92 L1996.81 1458.47 M1995.58 1454.4 L2001.46 1454.4 L2001.46 1476.92 L2006.39 1476.92 L2006.39 1480.81 L2001.46 1480.81 L2001.46 1488.96 L1996.81 1488.96 L1996.81 1480.81 L1981.2 1480.81 L1981.2 1476.29 L1995.58 1454.4 Z\" fill=\"#000000\" fill-rule=\"nonzero\" fill-opacity=\"1\" /><path clip-path=\"url(#clip280)\" d=\"M2014.12 1483.08 L2019.01 1483.08 L2019.01 1488.96 L2014.12 1488.96 L2014.12 1483.08 Z\" fill=\"#000000\" fill-rule=\"nonzero\" fill-opacity=\"1\" /><path clip-path=\"url(#clip280)\" d=\"M2039.19 1457.48 Q2035.58 1457.48 2033.75 1461.04 Q2031.95 1464.58 2031.95 1471.71 Q2031.95 1478.82 2033.75 1482.38 Q2035.58 1485.92 2039.19 1485.92 Q2042.82 1485.92 2044.63 1482.38 Q2046.46 1478.82 2046.46 1471.71 Q2046.46 1464.58 2044.63 1461.04 Q2042.82 1457.48 2039.19 1457.48 M2039.19 1453.77 Q2045 1453.77 2048.06 1458.38 Q2051.13 1462.96 2051.13 1471.71 Q2051.13 1480.44 2048.06 1485.04 Q2045 1489.63 2039.19 1489.63 Q2033.38 1489.63 2030.3 1485.04 Q2027.25 1480.44 2027.25 1471.71 Q2027.25 1462.96 2030.3 1458.38 Q2033.38 1453.77 2039.19 1453.77 Z\" fill=\"#000000\" fill-rule=\"nonzero\" fill-opacity=\"1\" /><path clip-path=\"url(#clip280)\" d=\"M2087.52 1463.49 L2076.94 1474.12 L2087.52 1484.7 L2084.77 1487.5 L2074.14 1476.87 L2063.52 1487.5 L2060.79 1484.7 L2071.34 1474.12 L2060.79 1463.49 L2063.52 1460.69 L2074.14 1471.32 L2084.77 1460.69 L2087.52 1463.49 Z\" fill=\"#000000\" fill-rule=\"nonzero\" fill-opacity=\"1\" /><path clip-path=\"url(#clip280)\" d=\"M2099.88 1485.02 L2107.52 1485.02 L2107.52 1458.66 L2099.21 1460.32 L2099.21 1456.06 L2107.48 1454.4 L2112.15 1454.4 L2112.15 1485.02 L2119.79 1485.02 L2119.79 1488.96 L2099.88 1488.96 L2099.88 1485.02 Z\" fill=\"#000000\" fill-rule=\"nonzero\" fill-opacity=\"1\" /><path clip-path=\"url(#clip280)\" d=\"M2139.24 1457.48 Q2135.63 1457.48 2133.8 1461.04 Q2131.99 1464.58 2131.99 1471.71 Q2131.99 1478.82 2133.8 1482.38 Q2135.63 1485.92 2139.24 1485.92 Q2142.87 1485.92 2144.68 1482.38 Q2146.5 1478.82 2146.5 1471.71 Q2146.5 1464.58 2144.68 1461.04 Q2142.87 1457.48 2139.24 1457.48 M2139.24 1453.77 Q2145.05 1453.77 2148.1 1458.38 Q2151.18 1462.96 2151.18 1471.71 Q2151.18 1480.44 2148.1 1485.04 Q2145.05 1489.63 2139.24 1489.63 Q2133.43 1489.63 2130.35 1485.04 Q2127.29 1480.44 2127.29 1471.71 Q2127.29 1462.96 2130.35 1458.38 Q2133.43 1453.77 2139.24 1453.77 Z\" fill=\"#000000\" fill-rule=\"nonzero\" fill-opacity=\"1\" /><path clip-path=\"url(#clip280)\" d=\"M2163.86 1436.78 L2154.27 1451.77 L2163.86 1451.77 L2163.86 1436.78 M2162.86 1433.47 L2167.64 1433.47 L2167.64 1451.77 L2171.64 1451.77 L2171.64 1454.93 L2167.64 1454.93 L2167.64 1461.55 L2163.86 1461.55 L2163.86 1454.93 L2151.18 1454.93 L2151.18 1451.26 L2162.86 1433.47 Z\" fill=\"#000000\" fill-rule=\"nonzero\" fill-opacity=\"1\" /><path clip-path=\"url(#clip280)\" d=\"M1215.23 1531.95 L1215.23 1549.8 L1223.32 1549.8 Q1227.8 1549.8 1230.25 1547.48 Q1232.7 1545.16 1232.7 1540.86 Q1232.7 1536.6 1230.25 1534.27 Q1227.8 1531.95 1223.32 1531.95 L1215.23 1531.95 M1208.8 1526.67 L1223.32 1526.67 Q1231.3 1526.67 1235.38 1530.29 Q1239.48 1533.89 1239.48 1540.86 Q1239.48 1547.9 1235.38 1551.49 Q1231.3 1555.09 1223.32 1555.09 L1215.23 1555.09 L1215.23 1574.19 L1208.8 1574.19 L1208.8 1526.67 Z\" fill=\"#000000\" fill-rule=\"nonzero\" fill-opacity=\"1\" /><path clip-path=\"url(#clip280)\" d=\"M1246.42 1538.54 L1252.28 1538.54 L1252.28 1574.19 L1246.42 1574.19 L1246.42 1538.54 M1246.42 1524.66 L1252.28 1524.66 L1252.28 1532.08 L1246.42 1532.08 L1246.42 1524.66 Z\" fill=\"#000000\" fill-rule=\"nonzero\" fill-opacity=\"1\" /><path clip-path=\"url(#clip280)\" d=\"M1285.19 1544.01 Q1284.2 1543.44 1283.03 1543.18 Q1281.88 1542.9 1280.48 1542.9 Q1275.51 1542.9 1272.84 1546.14 Q1270.2 1549.36 1270.2 1555.41 L1270.2 1574.19 L1264.31 1574.19 L1264.31 1538.54 L1270.2 1538.54 L1270.2 1544.08 Q1272.04 1540.83 1275 1539.27 Q1277.96 1537.68 1282.2 1537.68 Q1282.8 1537.68 1283.53 1537.77 Q1284.27 1537.84 1285.16 1538 L1285.19 1544.01 Z\" fill=\"#000000\" fill-rule=\"nonzero\" fill-opacity=\"1\" /><path clip-path=\"url(#clip280)\" d=\"M1307.53 1556.27 Q1300.44 1556.27 1297.7 1557.89 Q1294.96 1559.51 1294.96 1563.43 Q1294.96 1566.55 1297 1568.39 Q1299.07 1570.21 1302.6 1570.21 Q1307.47 1570.21 1310.4 1566.77 Q1313.36 1563.3 1313.36 1557.57 L1313.36 1556.27 L1307.53 1556.27 M1319.21 1553.85 L1319.21 1574.19 L1313.36 1574.19 L1313.36 1568.77 Q1311.35 1572.02 1308.36 1573.58 Q1305.37 1575.11 1301.04 1575.11 Q1295.57 1575.11 1292.32 1572.05 Q1289.1 1568.97 1289.1 1563.81 Q1289.1 1557.79 1293.12 1554.74 Q1297.16 1551.68 1305.15 1551.68 L1313.36 1551.68 L1313.36 1551.11 Q1313.36 1547.07 1310.68 1544.87 Q1308.04 1542.64 1303.24 1542.64 Q1300.18 1542.64 1297.28 1543.38 Q1294.39 1544.11 1291.71 1545.57 L1291.71 1540.16 Q1294.93 1538.92 1297.95 1538.31 Q1300.98 1537.68 1303.84 1537.68 Q1311.58 1537.68 1315.4 1541.69 Q1319.21 1545.7 1319.21 1553.85 Z\" fill=\"#000000\" fill-rule=\"nonzero\" fill-opacity=\"1\" /><path clip-path=\"url(#clip280)\" d=\"M1337.07 1528.42 L1337.07 1538.54 L1349.13 1538.54 L1349.13 1543.09 L1337.07 1543.09 L1337.07 1562.44 Q1337.07 1566.8 1338.25 1568.04 Q1339.46 1569.28 1343.12 1569.28 L1349.13 1569.28 L1349.13 1574.19 L1343.12 1574.19 Q1336.34 1574.19 1333.76 1571.67 Q1331.18 1569.12 1331.18 1562.44 L1331.18 1543.09 L1326.89 1543.09 L1326.89 1538.54 L1331.18 1538.54 L1331.18 1528.42 L1337.07 1528.42 Z\" fill=\"#000000\" fill-rule=\"nonzero\" fill-opacity=\"1\" /><path clip-path=\"url(#clip280)\" d=\"M1387.33 1554.9 L1387.33 1557.76 L1360.4 1557.76 Q1360.78 1563.81 1364.03 1566.99 Q1367.31 1570.14 1373.13 1570.14 Q1376.51 1570.14 1379.66 1569.32 Q1382.84 1568.49 1385.96 1566.83 L1385.96 1572.37 Q1382.81 1573.71 1379.5 1574.41 Q1376.19 1575.11 1372.78 1575.11 Q1364.25 1575.11 1359.25 1570.14 Q1354.29 1565.18 1354.29 1556.71 Q1354.29 1547.96 1359 1542.83 Q1363.74 1537.68 1371.76 1537.68 Q1378.96 1537.68 1383.13 1542.33 Q1387.33 1546.94 1387.33 1554.9 M1381.47 1553.18 Q1381.41 1548.37 1378.77 1545.51 Q1376.16 1542.64 1371.83 1542.64 Q1366.93 1542.64 1363.97 1545.41 Q1361.04 1548.18 1360.59 1553.21 L1381.47 1553.18 Z\" fill=\"#000000\" fill-rule=\"nonzero\" fill-opacity=\"1\" /><path clip-path=\"url(#clip280)\" d=\"M1419.67 1539.59 L1419.67 1545.13 Q1417.18 1543.85 1414.51 1543.22 Q1411.84 1542.58 1408.97 1542.58 Q1404.61 1542.58 1402.41 1543.92 Q1400.25 1545.25 1400.25 1547.93 Q1400.25 1549.96 1401.81 1551.14 Q1403.37 1552.29 1408.08 1553.34 L1410.09 1553.78 Q1416.32 1555.12 1418.93 1557.57 Q1421.58 1559.99 1421.58 1564.35 Q1421.58 1569.32 1417.63 1572.21 Q1413.71 1575.11 1406.84 1575.11 Q1403.97 1575.11 1400.85 1574.54 Q1397.77 1573.99 1394.33 1572.88 L1394.33 1566.83 Q1397.58 1568.52 1400.73 1569.38 Q1403.88 1570.21 1406.97 1570.21 Q1411.1 1570.21 1413.33 1568.81 Q1415.56 1567.37 1415.56 1564.8 Q1415.56 1562.41 1413.94 1561.14 Q1412.34 1559.86 1406.9 1558.68 L1404.87 1558.21 Q1399.42 1557.06 1397 1554.71 Q1394.58 1552.32 1394.58 1548.18 Q1394.58 1543.15 1398.15 1540.42 Q1401.71 1537.68 1408.27 1537.68 Q1411.52 1537.68 1414.38 1538.16 Q1417.25 1538.63 1419.67 1539.59 Z\" fill=\"#000000\" fill-rule=\"nonzero\" fill-opacity=\"1\" /><polyline clip-path=\"url(#clip282)\" style=\"stroke:#000000; stroke-linecap:round; stroke-linejoin:round; stroke-width:2; stroke-opacity:0.1; fill:none\" points=\"277.621,1287.71 2352.76,1287.71 \"/>\n",
       "<polyline clip-path=\"url(#clip282)\" style=\"stroke:#000000; stroke-linecap:round; stroke-linejoin:round; stroke-width:2; stroke-opacity:0.1; fill:none\" points=\"277.621,1070.82 2352.76,1070.82 \"/>\n",
       "<polyline clip-path=\"url(#clip282)\" style=\"stroke:#000000; stroke-linecap:round; stroke-linejoin:round; stroke-width:2; stroke-opacity:0.1; fill:none\" points=\"277.621,853.938 2352.76,853.938 \"/>\n",
       "<polyline clip-path=\"url(#clip282)\" style=\"stroke:#000000; stroke-linecap:round; stroke-linejoin:round; stroke-width:2; stroke-opacity:0.1; fill:none\" points=\"277.621,637.054 2352.76,637.054 \"/>\n",
       "<polyline clip-path=\"url(#clip282)\" style=\"stroke:#000000; stroke-linecap:round; stroke-linejoin:round; stroke-width:2; stroke-opacity:0.1; fill:none\" points=\"277.621,420.17 2352.76,420.17 \"/>\n",
       "<polyline clip-path=\"url(#clip282)\" style=\"stroke:#000000; stroke-linecap:round; stroke-linejoin:round; stroke-width:2; stroke-opacity:0.1; fill:none\" points=\"277.621,203.286 2352.76,203.286 \"/>\n",
       "<polyline clip-path=\"url(#clip280)\" style=\"stroke:#000000; stroke-linecap:round; stroke-linejoin:round; stroke-width:4; stroke-opacity:1; fill:none\" points=\"277.621,1410.9 277.621,123.472 \"/>\n",
       "<polyline clip-path=\"url(#clip280)\" style=\"stroke:#000000; stroke-linecap:round; stroke-linejoin:round; stroke-width:4; stroke-opacity:1; fill:none\" points=\"277.621,1287.71 296.518,1287.71 \"/>\n",
       "<polyline clip-path=\"url(#clip280)\" style=\"stroke:#000000; stroke-linecap:round; stroke-linejoin:round; stroke-width:4; stroke-opacity:1; fill:none\" points=\"277.621,1070.82 296.518,1070.82 \"/>\n",
       "<polyline clip-path=\"url(#clip280)\" style=\"stroke:#000000; stroke-linecap:round; stroke-linejoin:round; stroke-width:4; stroke-opacity:1; fill:none\" points=\"277.621,853.938 296.518,853.938 \"/>\n",
       "<polyline clip-path=\"url(#clip280)\" style=\"stroke:#000000; stroke-linecap:round; stroke-linejoin:round; stroke-width:4; stroke-opacity:1; fill:none\" points=\"277.621,637.054 296.518,637.054 \"/>\n",
       "<polyline clip-path=\"url(#clip280)\" style=\"stroke:#000000; stroke-linecap:round; stroke-linejoin:round; stroke-width:4; stroke-opacity:1; fill:none\" points=\"277.621,420.17 296.518,420.17 \"/>\n",
       "<polyline clip-path=\"url(#clip280)\" style=\"stroke:#000000; stroke-linecap:round; stroke-linejoin:round; stroke-width:4; stroke-opacity:1; fill:none\" points=\"277.621,203.286 296.518,203.286 \"/>\n",
       "<path clip-path=\"url(#clip280)\" d=\"M114.931 1301.05 L122.57 1301.05 L122.57 1274.69 L114.26 1276.35 L114.26 1272.09 L122.524 1270.43 L127.2 1270.43 L127.2 1301.05 L134.839 1301.05 L134.839 1304.99 L114.931 1304.99 L114.931 1301.05 Z\" fill=\"#000000\" fill-rule=\"nonzero\" fill-opacity=\"1\" /><path clip-path=\"url(#clip280)\" d=\"M157.13 1274.5 L145.325 1292.95 L157.13 1292.95 L157.13 1274.5 M155.903 1270.43 L161.783 1270.43 L161.783 1292.95 L166.714 1292.95 L166.714 1296.84 L161.783 1296.84 L161.783 1304.99 L157.13 1304.99 L157.13 1296.84 L141.529 1296.84 L141.529 1292.32 L155.903 1270.43 Z\" fill=\"#000000\" fill-rule=\"nonzero\" fill-opacity=\"1\" /><path clip-path=\"url(#clip280)\" d=\"M174.445 1299.11 L179.329 1299.11 L179.329 1304.99 L174.445 1304.99 L174.445 1299.11 Z\" fill=\"#000000\" fill-rule=\"nonzero\" fill-opacity=\"1\" /><path clip-path=\"url(#clip280)\" d=\"M189.561 1270.43 L207.917 1270.43 L207.917 1274.36 L193.843 1274.36 L193.843 1282.83 Q194.862 1282.49 195.88 1282.32 Q196.899 1282.14 197.917 1282.14 Q203.704 1282.14 207.084 1285.31 Q210.463 1288.48 210.463 1293.9 Q210.463 1299.48 206.991 1302.58 Q203.519 1305.66 197.2 1305.66 Q195.024 1305.66 192.755 1305.29 Q190.51 1304.92 188.102 1304.18 L188.102 1299.48 Q190.186 1300.61 192.408 1301.17 Q194.63 1301.72 197.107 1301.72 Q201.112 1301.72 203.449 1299.62 Q205.787 1297.51 205.787 1293.9 Q205.787 1290.29 203.449 1288.18 Q201.112 1286.07 197.107 1286.07 Q195.232 1286.07 193.357 1286.49 Q191.505 1286.91 189.561 1287.79 L189.561 1270.43 Z\" fill=\"#000000\" fill-rule=\"nonzero\" fill-opacity=\"1\" /><path clip-path=\"url(#clip280)\" d=\"M229.676 1273.51 Q226.065 1273.51 224.236 1277.07 Q222.431 1280.61 222.431 1287.74 Q222.431 1294.85 224.236 1298.41 Q226.065 1301.95 229.676 1301.95 Q233.31 1301.95 235.116 1298.41 Q236.945 1294.85 236.945 1287.74 Q236.945 1280.61 235.116 1277.07 Q233.31 1273.51 229.676 1273.51 M229.676 1269.8 Q235.486 1269.8 238.542 1274.41 Q241.621 1278.99 241.621 1287.74 Q241.621 1296.47 238.542 1301.07 Q235.486 1305.66 229.676 1305.66 Q223.866 1305.66 220.787 1301.07 Q217.732 1296.47 217.732 1287.74 Q217.732 1278.99 220.787 1274.41 Q223.866 1269.8 229.676 1269.8 Z\" fill=\"#000000\" fill-rule=\"nonzero\" fill-opacity=\"1\" /><path clip-path=\"url(#clip280)\" d=\"M115.927 1084.17 L123.566 1084.17 L123.566 1057.8 L115.256 1059.47 L115.256 1055.21 L123.519 1053.54 L128.195 1053.54 L128.195 1084.17 L135.834 1084.17 L135.834 1088.1 L115.927 1088.1 L115.927 1084.17 Z\" fill=\"#000000\" fill-rule=\"nonzero\" fill-opacity=\"1\" /><path clip-path=\"url(#clip280)\" d=\"M158.126 1057.62 L146.32 1076.07 L158.126 1076.07 L158.126 1057.62 M156.899 1053.54 L162.778 1053.54 L162.778 1076.07 L167.709 1076.07 L167.709 1079.95 L162.778 1079.95 L162.778 1088.1 L158.126 1088.1 L158.126 1079.95 L142.524 1079.95 L142.524 1075.44 L156.899 1053.54 Z\" fill=\"#000000\" fill-rule=\"nonzero\" fill-opacity=\"1\" /><path clip-path=\"url(#clip280)\" d=\"M175.44 1082.22 L180.325 1082.22 L180.325 1088.1 L175.44 1088.1 L175.44 1082.22 Z\" fill=\"#000000\" fill-rule=\"nonzero\" fill-opacity=\"1\" /><path clip-path=\"url(#clip280)\" d=\"M189.329 1053.54 L211.551 1053.54 L211.551 1055.53 L199.005 1088.1 L194.121 1088.1 L205.926 1057.48 L189.329 1057.48 L189.329 1053.54 Z\" fill=\"#000000\" fill-rule=\"nonzero\" fill-opacity=\"1\" /><path clip-path=\"url(#clip280)\" d=\"M220.718 1053.54 L239.074 1053.54 L239.074 1057.48 L225 1057.48 L225 1065.95 Q226.019 1065.6 227.037 1065.44 Q228.056 1065.26 229.074 1065.26 Q234.861 1065.26 238.241 1068.43 Q241.621 1071.6 241.621 1077.01 Q241.621 1082.59 238.148 1085.69 Q234.676 1088.77 228.357 1088.77 Q226.181 1088.77 223.912 1088.4 Q221.667 1088.03 219.26 1087.29 L219.26 1082.59 Q221.343 1083.73 223.565 1084.28 Q225.787 1084.84 228.264 1084.84 Q232.269 1084.84 234.607 1082.73 Q236.945 1080.63 236.945 1077.01 Q236.945 1073.4 234.607 1071.3 Q232.269 1069.19 228.264 1069.19 Q226.389 1069.19 224.514 1069.61 Q222.662 1070.02 220.718 1070.9 L220.718 1053.54 Z\" fill=\"#000000\" fill-rule=\"nonzero\" fill-opacity=\"1\" /><path clip-path=\"url(#clip280)\" d=\"M114.931 867.283 L122.57 867.283 L122.57 840.917 L114.26 842.584 L114.26 838.325 L122.524 836.658 L127.2 836.658 L127.2 867.283 L134.839 867.283 L134.839 871.218 L114.931 871.218 L114.931 867.283 Z\" fill=\"#000000\" fill-rule=\"nonzero\" fill-opacity=\"1\" /><path clip-path=\"url(#clip280)\" d=\"M144.329 836.658 L162.686 836.658 L162.686 840.593 L148.612 840.593 L148.612 849.065 Q149.63 848.718 150.649 848.556 Q151.667 848.371 152.686 848.371 Q158.473 848.371 161.852 851.542 Q165.232 854.714 165.232 860.13 Q165.232 865.709 161.76 868.811 Q158.288 871.889 151.968 871.889 Q149.792 871.889 147.524 871.519 Q145.279 871.149 142.871 870.408 L142.871 865.709 Q144.954 866.843 147.177 867.399 Q149.399 867.954 151.876 867.954 Q155.88 867.954 158.218 865.848 Q160.556 863.741 160.556 860.13 Q160.556 856.519 158.218 854.413 Q155.88 852.306 151.876 852.306 Q150.001 852.306 148.126 852.723 Q146.274 853.139 144.329 854.019 L144.329 836.658 Z\" fill=\"#000000\" fill-rule=\"nonzero\" fill-opacity=\"1\" /><path clip-path=\"url(#clip280)\" d=\"M174.445 865.338 L179.329 865.338 L179.329 871.218 L174.445 871.218 L174.445 865.338 Z\" fill=\"#000000\" fill-rule=\"nonzero\" fill-opacity=\"1\" /><path clip-path=\"url(#clip280)\" d=\"M199.514 839.737 Q195.903 839.737 194.075 843.302 Q192.269 846.843 192.269 853.973 Q192.269 861.079 194.075 864.644 Q195.903 868.186 199.514 868.186 Q203.149 868.186 204.954 864.644 Q206.783 861.079 206.783 853.973 Q206.783 846.843 204.954 843.302 Q203.149 839.737 199.514 839.737 M199.514 836.033 Q205.324 836.033 208.38 840.64 Q211.459 845.223 211.459 853.973 Q211.459 862.7 208.38 867.306 Q205.324 871.889 199.514 871.889 Q193.704 871.889 190.625 867.306 Q187.57 862.7 187.57 853.973 Q187.57 845.223 190.625 840.64 Q193.704 836.033 199.514 836.033 Z\" fill=\"#000000\" fill-rule=\"nonzero\" fill-opacity=\"1\" /><path clip-path=\"url(#clip280)\" d=\"M229.676 839.737 Q226.065 839.737 224.236 843.302 Q222.431 846.843 222.431 853.973 Q222.431 861.079 224.236 864.644 Q226.065 868.186 229.676 868.186 Q233.31 868.186 235.116 864.644 Q236.945 861.079 236.945 853.973 Q236.945 846.843 235.116 843.302 Q233.31 839.737 229.676 839.737 M229.676 836.033 Q235.486 836.033 238.542 840.64 Q241.621 845.223 241.621 853.973 Q241.621 862.7 238.542 867.306 Q235.486 871.889 229.676 871.889 Q223.866 871.889 220.787 867.306 Q217.732 862.7 217.732 853.973 Q217.732 845.223 220.787 840.64 Q223.866 836.033 229.676 836.033 Z\" fill=\"#000000\" fill-rule=\"nonzero\" fill-opacity=\"1\" /><path clip-path=\"url(#clip280)\" d=\"M115.927 650.399 L123.566 650.399 L123.566 624.033 L115.256 625.7 L115.256 621.441 L123.519 619.774 L128.195 619.774 L128.195 650.399 L135.834 650.399 L135.834 654.334 L115.927 654.334 L115.927 650.399 Z\" fill=\"#000000\" fill-rule=\"nonzero\" fill-opacity=\"1\" /><path clip-path=\"url(#clip280)\" d=\"M145.325 619.774 L163.681 619.774 L163.681 623.709 L149.607 623.709 L149.607 632.181 Q150.626 631.834 151.644 631.672 Q152.663 631.487 153.681 631.487 Q159.468 631.487 162.848 634.658 Q166.227 637.829 166.227 643.246 Q166.227 648.825 162.755 651.926 Q159.283 655.005 152.964 655.005 Q150.788 655.005 148.519 654.635 Q146.274 654.264 143.866 653.524 L143.866 648.825 Q145.95 649.959 148.172 650.514 Q150.394 651.07 152.871 651.07 Q156.876 651.07 159.214 648.964 Q161.552 646.857 161.552 643.246 Q161.552 639.635 159.214 637.528 Q156.876 635.422 152.871 635.422 Q150.996 635.422 149.121 635.839 Q147.269 636.255 145.325 637.135 L145.325 619.774 Z\" fill=\"#000000\" fill-rule=\"nonzero\" fill-opacity=\"1\" /><path clip-path=\"url(#clip280)\" d=\"M175.44 648.454 L180.325 648.454 L180.325 654.334 L175.44 654.334 L175.44 648.454 Z\" fill=\"#000000\" fill-rule=\"nonzero\" fill-opacity=\"1\" /><path clip-path=\"url(#clip280)\" d=\"M194.538 650.399 L210.857 650.399 L210.857 654.334 L188.913 654.334 L188.913 650.399 Q191.575 647.644 196.158 643.014 Q200.764 638.362 201.945 637.019 Q204.19 634.496 205.07 632.76 Q205.973 631.001 205.973 629.311 Q205.973 626.556 204.028 624.82 Q202.107 623.084 199.005 623.084 Q196.806 623.084 194.352 623.848 Q191.922 624.612 189.144 626.163 L189.144 621.441 Q191.968 620.306 194.422 619.728 Q196.875 619.149 198.912 619.149 Q204.283 619.149 207.477 621.834 Q210.672 624.519 210.672 629.01 Q210.672 631.14 209.861 633.061 Q209.074 634.959 206.968 637.552 Q206.389 638.223 203.287 641.44 Q200.186 644.635 194.538 650.399 Z\" fill=\"#000000\" fill-rule=\"nonzero\" fill-opacity=\"1\" /><path clip-path=\"url(#clip280)\" d=\"M220.718 619.774 L239.074 619.774 L239.074 623.709 L225 623.709 L225 632.181 Q226.019 631.834 227.037 631.672 Q228.056 631.487 229.074 631.487 Q234.861 631.487 238.241 634.658 Q241.621 637.829 241.621 643.246 Q241.621 648.825 238.148 651.926 Q234.676 655.005 228.357 655.005 Q226.181 655.005 223.912 654.635 Q221.667 654.264 219.26 653.524 L219.26 648.825 Q221.343 649.959 223.565 650.514 Q225.787 651.07 228.264 651.07 Q232.269 651.07 234.607 648.964 Q236.945 646.857 236.945 643.246 Q236.945 639.635 234.607 637.528 Q232.269 635.422 228.264 635.422 Q226.389 635.422 224.514 635.839 Q222.662 636.255 220.718 637.135 L220.718 619.774 Z\" fill=\"#000000\" fill-rule=\"nonzero\" fill-opacity=\"1\" /><path clip-path=\"url(#clip280)\" d=\"M114.931 433.515 L122.57 433.515 L122.57 407.149 L114.26 408.816 L114.26 404.556 L122.524 402.89 L127.2 402.89 L127.2 433.515 L134.839 433.515 L134.839 437.45 L114.931 437.45 L114.931 433.515 Z\" fill=\"#000000\" fill-rule=\"nonzero\" fill-opacity=\"1\" /><path clip-path=\"url(#clip280)\" d=\"M144.329 402.89 L162.686 402.89 L162.686 406.825 L148.612 406.825 L148.612 415.297 Q149.63 414.95 150.649 414.788 Q151.667 414.603 152.686 414.603 Q158.473 414.603 161.852 417.774 Q165.232 420.945 165.232 426.362 Q165.232 431.94 161.76 435.042 Q158.288 438.121 151.968 438.121 Q149.792 438.121 147.524 437.751 Q145.279 437.38 142.871 436.64 L142.871 431.94 Q144.954 433.075 147.177 433.63 Q149.399 434.186 151.876 434.186 Q155.88 434.186 158.218 432.079 Q160.556 429.973 160.556 426.362 Q160.556 422.751 158.218 420.644 Q155.88 418.538 151.876 418.538 Q150.001 418.538 148.126 418.954 Q146.274 419.371 144.329 420.251 L144.329 402.89 Z\" fill=\"#000000\" fill-rule=\"nonzero\" fill-opacity=\"1\" /><path clip-path=\"url(#clip280)\" d=\"M174.445 431.57 L179.329 431.57 L179.329 437.45 L174.445 437.45 L174.445 431.57 Z\" fill=\"#000000\" fill-rule=\"nonzero\" fill-opacity=\"1\" /><path clip-path=\"url(#clip280)\" d=\"M189.561 402.89 L207.917 402.89 L207.917 406.825 L193.843 406.825 L193.843 415.297 Q194.862 414.95 195.88 414.788 Q196.899 414.603 197.917 414.603 Q203.704 414.603 207.084 417.774 Q210.463 420.945 210.463 426.362 Q210.463 431.94 206.991 435.042 Q203.519 438.121 197.2 438.121 Q195.024 438.121 192.755 437.751 Q190.51 437.38 188.102 436.64 L188.102 431.94 Q190.186 433.075 192.408 433.63 Q194.63 434.186 197.107 434.186 Q201.112 434.186 203.449 432.079 Q205.787 429.973 205.787 426.362 Q205.787 422.751 203.449 420.644 Q201.112 418.538 197.107 418.538 Q195.232 418.538 193.357 418.954 Q191.505 419.371 189.561 420.251 L189.561 402.89 Z\" fill=\"#000000\" fill-rule=\"nonzero\" fill-opacity=\"1\" /><path clip-path=\"url(#clip280)\" d=\"M229.676 405.968 Q226.065 405.968 224.236 409.533 Q222.431 413.075 222.431 420.204 Q222.431 427.311 224.236 430.876 Q226.065 434.417 229.676 434.417 Q233.31 434.417 235.116 430.876 Q236.945 427.311 236.945 420.204 Q236.945 413.075 235.116 409.533 Q233.31 405.968 229.676 405.968 M229.676 402.265 Q235.486 402.265 238.542 406.871 Q241.621 411.454 241.621 420.204 Q241.621 428.931 238.542 433.538 Q235.486 438.121 229.676 438.121 Q223.866 438.121 220.787 433.538 Q217.732 428.931 217.732 420.204 Q217.732 411.454 220.787 406.871 Q223.866 402.265 229.676 402.265 Z\" fill=\"#000000\" fill-rule=\"nonzero\" fill-opacity=\"1\" /><path clip-path=\"url(#clip280)\" d=\"M115.927 216.63 L123.566 216.63 L123.566 190.265 L115.256 191.931 L115.256 187.672 L123.519 186.006 L128.195 186.006 L128.195 216.63 L135.834 216.63 L135.834 220.566 L115.927 220.566 L115.927 216.63 Z\" fill=\"#000000\" fill-rule=\"nonzero\" fill-opacity=\"1\" /><path clip-path=\"url(#clip280)\" d=\"M145.325 186.006 L163.681 186.006 L163.681 189.941 L149.607 189.941 L149.607 198.413 Q150.626 198.066 151.644 197.904 Q152.663 197.718 153.681 197.718 Q159.468 197.718 162.848 200.89 Q166.227 204.061 166.227 209.478 Q166.227 215.056 162.755 218.158 Q159.283 221.237 152.964 221.237 Q150.788 221.237 148.519 220.866 Q146.274 220.496 143.866 219.755 L143.866 215.056 Q145.95 216.191 148.172 216.746 Q150.394 217.302 152.871 217.302 Q156.876 217.302 159.214 215.195 Q161.552 213.089 161.552 209.478 Q161.552 205.867 159.214 203.76 Q156.876 201.654 152.871 201.654 Q150.996 201.654 149.121 202.07 Q147.269 202.487 145.325 203.367 L145.325 186.006 Z\" fill=\"#000000\" fill-rule=\"nonzero\" fill-opacity=\"1\" /><path clip-path=\"url(#clip280)\" d=\"M175.44 214.686 L180.325 214.686 L180.325 220.566 L175.44 220.566 L175.44 214.686 Z\" fill=\"#000000\" fill-rule=\"nonzero\" fill-opacity=\"1\" /><path clip-path=\"url(#clip280)\" d=\"M189.329 186.006 L211.551 186.006 L211.551 187.996 L199.005 220.566 L194.121 220.566 L205.926 189.941 L189.329 189.941 L189.329 186.006 Z\" fill=\"#000000\" fill-rule=\"nonzero\" fill-opacity=\"1\" /><path clip-path=\"url(#clip280)\" d=\"M220.718 186.006 L239.074 186.006 L239.074 189.941 L225 189.941 L225 198.413 Q226.019 198.066 227.037 197.904 Q228.056 197.718 229.074 197.718 Q234.861 197.718 238.241 200.89 Q241.621 204.061 241.621 209.478 Q241.621 215.056 238.148 218.158 Q234.676 221.237 228.357 221.237 Q226.181 221.237 223.912 220.866 Q221.667 220.496 219.26 219.755 L219.26 215.056 Q221.343 216.191 223.565 216.746 Q225.787 217.302 228.264 217.302 Q232.269 217.302 234.607 215.195 Q236.945 213.089 236.945 209.478 Q236.945 205.867 234.607 203.76 Q232.269 201.654 228.264 201.654 Q226.389 201.654 224.514 202.07 Q222.662 202.487 220.718 203.367 L220.718 186.006 Z\" fill=\"#000000\" fill-rule=\"nonzero\" fill-opacity=\"1\" /><path clip-path=\"url(#clip280)\" d=\"M18.2347 959.254 L28.3562 959.254 L28.3562 947.191 L32.9077 947.191 L32.9077 959.254 L52.2594 959.254 Q56.6199 959.254 57.8613 958.076 Q59.1026 956.867 59.1026 953.206 L59.1026 947.191 L64.0042 947.191 L64.0042 953.206 Q64.0042 959.986 61.4897 962.564 Q58.9434 965.142 52.2594 965.142 L32.9077 965.142 L32.9077 969.439 L28.3562 969.439 L28.3562 965.142 L18.2347 965.142 L18.2347 959.254 Z\" fill=\"#000000\" fill-rule=\"nonzero\" fill-opacity=\"1\" /><path clip-path=\"url(#clip280)\" d=\"M44.7161 908.996 L47.5806 908.996 L47.5806 935.923 Q53.6281 935.541 56.8109 932.295 Q59.9619 929.017 59.9619 923.192 Q59.9619 919.818 59.1344 916.667 Q58.3069 913.484 56.6518 910.365 L62.1899 910.365 Q63.5267 913.516 64.227 916.826 Q64.9272 920.136 64.9272 923.542 Q64.9272 932.072 59.9619 937.069 Q54.9967 942.034 46.5303 942.034 Q37.7774 942.034 32.6531 937.324 Q27.4968 932.581 27.4968 924.561 Q27.4968 917.367 32.1438 913.198 Q36.7589 908.996 44.7161 908.996 M42.9973 914.853 Q38.1912 914.917 35.3266 917.558 Q32.4621 920.168 32.4621 924.497 Q32.4621 929.399 35.2312 932.359 Q38.0002 935.287 43.0292 935.732 L42.9973 914.853 Z\" fill=\"#000000\" fill-rule=\"nonzero\" fill-opacity=\"1\" /><path clip-path=\"url(#clip280)\" d=\"M35.1993 871.63 Q31.2526 869.434 29.3747 866.378 Q27.4968 863.322 27.4968 859.185 Q27.4968 853.615 31.4117 850.591 Q35.2948 847.567 42.4881 847.567 L64.0042 847.567 L64.0042 853.456 L42.679 853.456 Q37.5546 853.456 35.072 855.27 Q32.5894 857.084 32.5894 860.808 Q32.5894 865.359 35.6131 868.001 Q38.6368 870.643 43.8567 870.643 L64.0042 870.643 L64.0042 876.531 L42.679 876.531 Q37.5228 876.531 35.072 878.346 Q32.5894 880.16 32.5894 883.947 Q32.5894 888.435 35.6449 891.077 Q38.6686 893.719 43.8567 893.719 L64.0042 893.719 L64.0042 899.607 L28.3562 899.607 L28.3562 893.719 L33.8944 893.719 Q30.616 891.714 29.0564 888.913 Q27.4968 886.112 27.4968 882.26 Q27.4968 878.377 29.4702 875.672 Q31.4436 872.935 35.1993 871.63 Z\" fill=\"#000000\" fill-rule=\"nonzero\" fill-opacity=\"1\" /><path clip-path=\"url(#clip280)\" d=\"M58.657 830.221 L77.5631 830.221 L77.5631 836.109 L28.3562 836.109 L28.3562 830.221 L33.7671 830.221 Q30.5842 828.375 29.0564 825.574 Q27.4968 822.741 27.4968 818.826 Q27.4968 812.333 32.6531 808.291 Q37.8093 804.217 46.212 804.217 Q54.6147 804.217 59.771 808.291 Q64.9272 812.333 64.9272 818.826 Q64.9272 822.741 63.3994 825.574 Q61.8398 828.375 58.657 830.221 M46.212 810.296 Q39.7508 810.296 36.0905 812.97 Q32.3984 815.611 32.3984 820.258 Q32.3984 824.905 36.0905 827.579 Q39.7508 830.221 46.212 830.221 Q52.6732 830.221 56.3653 827.579 Q60.0256 824.905 60.0256 820.258 Q60.0256 815.611 56.3653 812.97 Q52.6732 810.296 46.212 810.296 Z\" fill=\"#000000\" fill-rule=\"nonzero\" fill-opacity=\"1\" /><path clip-path=\"url(#clip280)\" d=\"M44.7161 764.017 L47.5806 764.017 L47.5806 790.944 Q53.6281 790.562 56.8109 787.316 Q59.9619 784.038 59.9619 778.213 Q59.9619 774.839 59.1344 771.688 Q58.3069 768.505 56.6518 765.386 L62.1899 765.386 Q63.5267 768.537 64.227 771.847 Q64.9272 775.157 64.9272 778.563 Q64.9272 787.093 59.9619 792.09 Q54.9967 797.055 46.5303 797.055 Q37.7774 797.055 32.6531 792.345 Q27.4968 787.602 27.4968 779.582 Q27.4968 772.388 32.1438 768.219 Q36.7589 764.017 44.7161 764.017 M42.9973 769.874 Q38.1912 769.938 35.3266 772.579 Q32.4621 775.189 32.4621 779.518 Q32.4621 784.42 35.2312 787.38 Q38.0002 790.308 43.0292 790.753 L42.9973 769.874 Z\" fill=\"#000000\" fill-rule=\"nonzero\" fill-opacity=\"1\" /><path clip-path=\"url(#clip280)\" d=\"M33.8307 733.749 Q33.2578 734.735 33.0032 735.913 Q32.7167 737.059 32.7167 738.459 Q32.7167 743.424 35.9632 746.098 Q39.1779 748.74 45.2253 748.74 L64.0042 748.74 L64.0042 754.628 L28.3562 754.628 L28.3562 748.74 L33.8944 748.74 Q30.6479 746.894 29.0883 743.934 Q27.4968 740.974 27.4968 736.74 Q27.4968 736.136 27.5923 735.404 Q27.656 734.672 27.8151 733.78 L33.8307 733.749 Z\" fill=\"#000000\" fill-rule=\"nonzero\" fill-opacity=\"1\" /><path clip-path=\"url(#clip280)\" d=\"M46.0847 711.405 Q46.0847 718.503 47.7079 721.24 Q49.3312 723.977 53.2461 723.977 Q56.3653 723.977 58.2114 721.94 Q60.0256 719.871 60.0256 716.338 Q60.0256 711.469 56.5881 708.54 Q53.1188 705.58 47.3897 705.58 L46.0847 705.58 L46.0847 711.405 M43.6657 699.724 L64.0042 699.724 L64.0042 705.58 L58.5933 705.58 Q61.8398 707.585 63.3994 710.577 Q64.9272 713.569 64.9272 717.898 Q64.9272 723.372 61.8716 726.619 Q58.7843 729.834 53.6281 729.834 Q47.6125 729.834 44.5569 725.823 Q41.5014 721.781 41.5014 713.792 L41.5014 705.58 L40.9285 705.58 Q36.8862 705.58 34.6901 708.254 Q32.4621 710.896 32.4621 715.702 Q32.4621 718.757 33.1941 721.654 Q33.9262 724.55 35.3903 727.224 L29.9795 727.224 Q28.7381 724.009 28.1334 720.985 Q27.4968 717.962 27.4968 715.097 Q27.4968 707.363 31.5072 703.543 Q35.5176 699.724 43.6657 699.724 Z\" fill=\"#000000\" fill-rule=\"nonzero\" fill-opacity=\"1\" /><path clip-path=\"url(#clip280)\" d=\"M18.2347 681.868 L28.3562 681.868 L28.3562 669.805 L32.9077 669.805 L32.9077 681.868 L52.2594 681.868 Q56.6199 681.868 57.8613 680.69 Q59.1026 679.481 59.1026 675.821 L59.1026 669.805 L64.0042 669.805 L64.0042 675.821 Q64.0042 682.6 61.4897 685.178 Q58.9434 687.756 52.2594 687.756 L32.9077 687.756 L32.9077 692.053 L28.3562 692.053 L28.3562 687.756 L18.2347 687.756 L18.2347 681.868 Z\" fill=\"#000000\" fill-rule=\"nonzero\" fill-opacity=\"1\" /><path clip-path=\"url(#clip280)\" d=\"M49.9359 662.707 L28.3562 662.707 L28.3562 656.851 L49.7131 656.851 Q54.7739 656.851 57.3202 654.877 Q59.8346 652.904 59.8346 648.957 Q59.8346 644.215 56.8109 641.478 Q53.7872 638.709 48.5673 638.709 L28.3562 638.709 L28.3562 632.852 L64.0042 632.852 L64.0042 638.709 L58.5296 638.709 Q61.7762 640.841 63.3676 643.674 Q64.9272 646.475 64.9272 650.199 Q64.9272 656.342 61.1078 659.524 Q57.2883 662.707 49.9359 662.707 M27.4968 647.971 L27.4968 647.971 Z\" fill=\"#000000\" fill-rule=\"nonzero\" fill-opacity=\"1\" /><path clip-path=\"url(#clip280)\" d=\"M33.8307 600.132 Q33.2578 601.119 33.0032 602.297 Q32.7167 603.442 32.7167 604.843 Q32.7167 609.808 35.9632 612.482 Q39.1779 615.124 45.2253 615.124 L64.0042 615.124 L64.0042 621.012 L28.3562 621.012 L28.3562 615.124 L33.8944 615.124 Q30.6479 613.278 29.0883 610.317 Q27.4968 607.357 27.4968 603.124 Q27.4968 602.519 27.5923 601.787 Q27.656 601.055 27.8151 600.164 L33.8307 600.132 Z\" fill=\"#000000\" fill-rule=\"nonzero\" fill-opacity=\"1\" /><path clip-path=\"url(#clip280)\" d=\"M44.7161 564.93 L47.5806 564.93 L47.5806 591.857 Q53.6281 591.475 56.8109 588.228 Q59.9619 584.95 59.9619 579.125 Q59.9619 575.752 59.1344 572.601 Q58.3069 569.418 56.6518 566.299 L62.1899 566.299 Q63.5267 569.45 64.227 572.76 Q64.9272 576.07 64.9272 579.476 Q64.9272 588.006 59.9619 593.003 Q54.9967 597.968 46.5303 597.968 Q37.7774 597.968 32.6531 593.257 Q27.4968 588.515 27.4968 580.494 Q27.4968 573.301 32.1438 569.131 Q36.7589 564.93 44.7161 564.93 M42.9973 570.786 Q38.1912 570.85 35.3266 573.492 Q32.4621 576.102 32.4621 580.43 Q32.4621 585.332 35.2312 588.292 Q38.0002 591.22 43.0292 591.666 L42.9973 570.786 Z\" fill=\"#000000\" fill-rule=\"nonzero\" fill-opacity=\"1\" /><path clip-path=\"url(#clip280)\" d=\"M1224.29 14.324 L1224.29 27.2059 L1239.64 27.2059 L1239.64 32.9987 L1224.29 32.9987 L1224.29 57.6282 Q1224.29 63.1779 1225.78 64.7578 Q1227.32 66.3376 1231.98 66.3376 L1239.64 66.3376 L1239.64 72.576 L1231.98 72.576 Q1223.35 72.576 1220.07 69.3758 Q1216.79 66.1351 1216.79 57.6282 L1216.79 32.9987 L1211.32 32.9987 L1211.32 27.2059 L1216.79 27.2059 L1216.79 14.324 L1224.29 14.324 Z\" fill=\"#000000\" fill-rule=\"nonzero\" fill-opacity=\"1\" /><path clip-path=\"url(#clip280)\" d=\"M1249.44 27.2059 L1256.9 27.2059 L1256.9 72.576 L1249.44 72.576 L1249.44 27.2059 M1249.44 9.54393 L1256.9 9.54393 L1256.9 18.9825 L1249.44 18.9825 L1249.44 9.54393 Z\" fill=\"#000000\" fill-rule=\"nonzero\" fill-opacity=\"1\" /><path clip-path=\"url(#clip280)\" d=\"M1279.86 14.324 L1279.86 27.2059 L1295.22 27.2059 L1295.22 32.9987 L1279.86 32.9987 L1279.86 57.6282 Q1279.86 63.1779 1281.36 64.7578 Q1282.9 66.3376 1287.56 66.3376 L1295.22 66.3376 L1295.22 72.576 L1287.56 72.576 Q1278.93 72.576 1275.65 69.3758 Q1272.37 66.1351 1272.37 57.6282 L1272.37 32.9987 L1266.9 32.9987 L1266.9 27.2059 L1272.37 27.2059 L1272.37 14.324 L1279.86 14.324 Z\" fill=\"#000000\" fill-rule=\"nonzero\" fill-opacity=\"1\" /><path clip-path=\"url(#clip280)\" d=\"M1304.25 54.671 L1304.25 27.2059 L1311.7 27.2059 L1311.7 54.3874 Q1311.7 60.8284 1314.22 64.0691 Q1316.73 67.2693 1321.75 67.2693 Q1327.79 67.2693 1331.27 63.421 Q1334.79 59.5726 1334.79 52.9291 L1334.79 27.2059 L1342.25 27.2059 L1342.25 72.576 L1334.79 72.576 L1334.79 65.6084 Q1332.08 69.7404 1328.48 71.7658 Q1324.91 73.7508 1320.17 73.7508 Q1312.35 73.7508 1308.3 68.8897 Q1304.25 64.0286 1304.25 54.671 M1323.01 26.1121 L1323.01 26.1121 Z\" fill=\"#000000\" fill-rule=\"nonzero\" fill-opacity=\"1\" /><path clip-path=\"url(#clip280)\" d=\"M1357.6 9.54393 L1365.05 9.54393 L1365.05 72.576 L1357.6 72.576 L1357.6 9.54393 Z\" fill=\"#000000\" fill-rule=\"nonzero\" fill-opacity=\"1\" /><path clip-path=\"url(#clip280)\" d=\"M1398.23 32.4315 Q1392.24 32.4315 1388.75 37.1306 Q1385.27 41.7891 1385.27 49.9314 Q1385.27 58.0738 1388.71 62.7728 Q1392.2 67.4314 1398.23 67.4314 Q1404.19 67.4314 1407.67 62.7323 Q1411.15 58.0333 1411.15 49.9314 Q1411.15 41.8701 1407.67 37.1711 Q1404.19 32.4315 1398.23 32.4315 M1398.23 26.1121 Q1407.95 26.1121 1413.5 32.4315 Q1419.05 38.7509 1419.05 49.9314 Q1419.05 61.0714 1413.5 67.4314 Q1407.95 73.7508 1398.23 73.7508 Q1388.47 73.7508 1382.92 67.4314 Q1377.41 61.0714 1377.41 49.9314 Q1377.41 38.7509 1382.92 32.4315 Q1388.47 26.1121 1398.23 26.1121 Z\" fill=\"#000000\" fill-rule=\"nonzero\" fill-opacity=\"1\" /><polyline clip-path=\"url(#clip282)\" style=\"stroke:#009af9; stroke-linecap:round; stroke-linejoin:round; stroke-width:4; stroke-opacity:1; fill:none\" points=\"2294.03,1374.46 1206.02,1287.71 988.416,1027.45 553.213,680.431 353.019,420.17 336.351,159.909 \"/>\n",
       "<circle clip-path=\"url(#clip282)\" cx=\"2294.03\" cy=\"1374.46\" r=\"14.4\" fill=\"#e26f46\" fill-rule=\"evenodd\" fill-opacity=\"1\" stroke=\"#000000\" stroke-opacity=\"1\" stroke-width=\"3.2\"/>\n",
       "<circle clip-path=\"url(#clip282)\" cx=\"1206.02\" cy=\"1287.71\" r=\"14.4\" fill=\"#e26f46\" fill-rule=\"evenodd\" fill-opacity=\"1\" stroke=\"#000000\" stroke-opacity=\"1\" stroke-width=\"3.2\"/>\n",
       "<circle clip-path=\"url(#clip282)\" cx=\"988.416\" cy=\"1027.45\" r=\"14.4\" fill=\"#e26f46\" fill-rule=\"evenodd\" fill-opacity=\"1\" stroke=\"#000000\" stroke-opacity=\"1\" stroke-width=\"3.2\"/>\n",
       "<circle clip-path=\"url(#clip282)\" cx=\"553.213\" cy=\"680.431\" r=\"14.4\" fill=\"#e26f46\" fill-rule=\"evenodd\" fill-opacity=\"1\" stroke=\"#000000\" stroke-opacity=\"1\" stroke-width=\"3.2\"/>\n",
       "<circle clip-path=\"url(#clip282)\" cx=\"353.019\" cy=\"420.17\" r=\"14.4\" fill=\"#e26f46\" fill-rule=\"evenodd\" fill-opacity=\"1\" stroke=\"#000000\" stroke-opacity=\"1\" stroke-width=\"3.2\"/>\n",
       "<circle clip-path=\"url(#clip282)\" cx=\"336.351\" cy=\"159.909\" r=\"14.4\" fill=\"#e26f46\" fill-rule=\"evenodd\" fill-opacity=\"1\" stroke=\"#000000\" stroke-opacity=\"1\" stroke-width=\"3.2\"/>\n",
       "<path clip-path=\"url(#clip280)\" d=\"M1937.09 321.906 L2283.58 321.906 L2283.58 166.386 L1937.09 166.386  Z\" fill=\"#ffffff\" fill-rule=\"evenodd\" fill-opacity=\"1\"/>\n",
       "<polyline clip-path=\"url(#clip280)\" style=\"stroke:#000000; stroke-linecap:round; stroke-linejoin:round; stroke-width:4; stroke-opacity:1; fill:none\" points=\"1937.09,321.906 2283.58,321.906 2283.58,166.386 1937.09,166.386 1937.09,321.906 \"/>\n",
       "<polyline clip-path=\"url(#clip280)\" style=\"stroke:#009af9; stroke-linecap:round; stroke-linejoin:round; stroke-width:4; stroke-opacity:1; fill:none\" points=\"1960.15,218.226 2098.49,218.226 \"/>\n",
       "<path clip-path=\"url(#clip280)\" d=\"M2121.55 199.488 L2125.81 199.488 L2125.81 235.506 L2121.55 235.506 L2121.55 199.488 Z\" fill=\"#000000\" fill-rule=\"nonzero\" fill-opacity=\"1\" /><path clip-path=\"url(#clip280)\" d=\"M2134.72 209.58 L2138.98 209.58 L2138.98 235.506 L2134.72 235.506 L2134.72 209.58 M2134.72 199.488 L2138.98 199.488 L2138.98 204.881 L2134.72 204.881 L2134.72 199.488 Z\" fill=\"#000000\" fill-rule=\"nonzero\" fill-opacity=\"1\" /><path clip-path=\"url(#clip280)\" d=\"M2169.44 219.858 L2169.44 235.506 L2165.18 235.506 L2165.18 219.997 Q2165.18 216.317 2163.75 214.488 Q2162.31 212.659 2159.44 212.659 Q2155.99 212.659 2154 214.858 Q2152.01 217.057 2152.01 220.854 L2152.01 235.506 L2147.73 235.506 L2147.73 209.58 L2152.01 209.58 L2152.01 213.608 Q2153.54 211.27 2155.6 210.113 Q2157.68 208.955 2160.39 208.955 Q2164.86 208.955 2167.15 211.733 Q2169.44 214.488 2169.44 219.858 Z\" fill=\"#000000\" fill-rule=\"nonzero\" fill-opacity=\"1\" /><path clip-path=\"url(#clip280)\" d=\"M2200.11 221.479 L2200.11 223.562 L2180.53 223.562 Q2180.81 227.96 2183.17 230.275 Q2185.55 232.566 2189.79 232.566 Q2192.24 232.566 2194.53 231.965 Q2196.85 231.363 2199.12 230.159 L2199.12 234.187 Q2196.82 235.159 2194.42 235.668 Q2192.01 236.178 2189.53 236.178 Q2183.33 236.178 2179.69 232.566 Q2176.08 228.955 2176.08 222.798 Q2176.08 216.432 2179.51 212.705 Q2182.96 208.955 2188.79 208.955 Q2194.02 208.955 2197.06 212.335 Q2200.11 215.692 2200.11 221.479 M2195.85 220.229 Q2195.81 216.733 2193.88 214.65 Q2191.99 212.567 2188.84 212.567 Q2185.27 212.567 2183.12 214.58 Q2180.99 216.594 2180.67 220.252 L2195.85 220.229 Z\" fill=\"#000000\" fill-rule=\"nonzero\" fill-opacity=\"1\" /><circle clip-path=\"url(#clip280)\" cx=\"2029.32\" cy=\"270.066\" r=\"20.48\" fill=\"#e26f46\" fill-rule=\"evenodd\" fill-opacity=\"1\" stroke=\"#000000\" stroke-opacity=\"1\" stroke-width=\"4.55111\"/>\n",
       "<path clip-path=\"url(#clip280)\" d=\"M2125.83 283.457 L2125.83 297.207 L2121.55 297.207 L2121.55 261.42 L2125.83 261.42 L2125.83 265.356 Q2127.17 263.041 2129.21 261.93 Q2131.27 260.795 2134.12 260.795 Q2138.84 260.795 2141.78 264.545 Q2144.74 268.295 2144.74 274.407 Q2144.74 280.518 2141.78 284.268 Q2138.84 288.018 2134.12 288.018 Q2131.27 288.018 2129.21 286.906 Q2127.17 285.772 2125.83 283.457 M2140.32 274.407 Q2140.32 269.707 2138.38 267.045 Q2136.45 264.36 2133.07 264.36 Q2129.7 264.36 2127.75 267.045 Q2125.83 269.707 2125.83 274.407 Q2125.83 279.106 2127.75 281.791 Q2129.7 284.453 2133.07 284.453 Q2136.45 284.453 2138.38 281.791 Q2140.32 279.106 2140.32 274.407 Z\" fill=\"#000000\" fill-rule=\"nonzero\" fill-opacity=\"1\" /><path clip-path=\"url(#clip280)\" d=\"M2161.85 264.407 Q2158.42 264.407 2156.43 267.092 Q2154.44 269.754 2154.44 274.407 Q2154.44 279.059 2156.41 281.744 Q2158.4 284.406 2161.85 284.406 Q2165.25 284.406 2167.24 281.721 Q2169.23 279.036 2169.23 274.407 Q2169.23 269.8 2167.24 267.115 Q2165.25 264.407 2161.85 264.407 M2161.85 260.795 Q2167.4 260.795 2170.57 264.407 Q2173.75 268.018 2173.75 274.407 Q2173.75 280.772 2170.57 284.406 Q2167.4 288.018 2161.85 288.018 Q2156.27 288.018 2153.1 284.406 Q2149.95 280.772 2149.95 274.407 Q2149.95 268.018 2153.1 264.407 Q2156.27 260.795 2161.85 260.795 Z\" fill=\"#000000\" fill-rule=\"nonzero\" fill-opacity=\"1\" /><path clip-path=\"url(#clip280)\" d=\"M2180.81 261.42 L2185.07 261.42 L2185.07 287.346 L2180.81 287.346 L2180.81 261.42 M2180.81 251.328 L2185.07 251.328 L2185.07 256.721 L2180.81 256.721 L2180.81 251.328 Z\" fill=\"#000000\" fill-rule=\"nonzero\" fill-opacity=\"1\" /><path clip-path=\"url(#clip280)\" d=\"M2215.53 271.698 L2215.53 287.346 L2211.27 287.346 L2211.27 271.837 Q2211.27 268.157 2209.83 266.328 Q2208.4 264.499 2205.53 264.499 Q2202.08 264.499 2200.09 266.698 Q2198.1 268.897 2198.1 272.694 L2198.1 287.346 L2193.82 287.346 L2193.82 261.42 L2198.1 261.42 L2198.1 265.448 Q2199.63 263.11 2201.69 261.953 Q2203.77 260.795 2206.48 260.795 Q2210.94 260.795 2213.24 263.573 Q2215.53 266.328 2215.53 271.698 Z\" fill=\"#000000\" fill-rule=\"nonzero\" fill-opacity=\"1\" /><path clip-path=\"url(#clip280)\" d=\"M2228.24 254.059 L2228.24 261.42 L2237.01 261.42 L2237.01 264.731 L2228.24 264.731 L2228.24 278.805 Q2228.24 281.976 2229.09 282.879 Q2229.97 283.781 2232.63 283.781 L2237.01 283.781 L2237.01 287.346 L2232.63 287.346 Q2227.7 287.346 2225.83 285.518 Q2223.95 283.666 2223.95 278.805 L2223.95 264.731 L2220.83 264.731 L2220.83 261.42 L2223.95 261.42 L2223.95 254.059 L2228.24 254.059 Z\" fill=\"#000000\" fill-rule=\"nonzero\" fill-opacity=\"1\" /><path clip-path=\"url(#clip280)\" d=\"M2259.14 262.184 L2259.14 266.212 Q2257.33 265.286 2255.39 264.823 Q2253.44 264.36 2251.36 264.36 Q2248.19 264.36 2246.59 265.333 Q2245.02 266.305 2245.02 268.249 Q2245.02 269.731 2246.15 270.587 Q2247.29 271.42 2250.71 272.184 L2252.17 272.508 Q2256.71 273.481 2258.61 275.263 Q2260.53 277.022 2260.53 280.194 Q2260.53 283.805 2257.66 285.911 Q2254.81 288.018 2249.81 288.018 Q2247.73 288.018 2245.46 287.601 Q2243.21 287.207 2240.71 286.397 L2240.71 281.999 Q2243.07 283.226 2245.37 283.851 Q2247.66 284.453 2249.9 284.453 Q2252.91 284.453 2254.53 283.434 Q2256.15 282.393 2256.15 280.518 Q2256.15 278.782 2254.97 277.856 Q2253.81 276.93 2249.86 276.073 L2248.37 275.726 Q2244.42 274.893 2242.66 273.18 Q2240.9 271.444 2240.9 268.434 Q2240.9 264.777 2243.49 262.786 Q2246.08 260.795 2250.85 260.795 Q2253.21 260.795 2255.3 261.143 Q2257.38 261.49 2259.14 262.184 Z\" fill=\"#000000\" fill-rule=\"nonzero\" fill-opacity=\"1\" /></svg>\n"
      ]
     },
     "metadata": {},
     "output_type": "display_data"
    }
   ],
   "source": [
    "xlabel!(\"Pirates\")\n",
    "ylabel!(\"temperature\")\n",
    "title!(\"titulo\")"
   ]
  },
  {
   "cell_type": "code",
   "execution_count": 16,
   "metadata": {},
   "outputs": [
    {
     "data": {
      "image/png": "[encoded data removed]",
      "image/svg+xml": [
       "<?xml version=\"1.0\" encoding=\"utf-8\"?>\n",
       "<svg xmlns=\"http://www.w3.org/2000/svg\" xmlns:xlink=\"http://www.w3.org/1999/xlink\" width=\"600\" height=\"400\" viewBox=\"0 0 2400 1600\">\n",
       "<defs>\n",
       "  <clipPath id=\"clip320\">\n",
       "    <rect x=\"0\" y=\"0\" width=\"2400\" height=\"1600\"/>\n",
       "  </clipPath>\n",
       "</defs>\n",
       "<path clip-path=\"url(#clip320)\" d=\"M0 1600 L2400 1600 L2400 0 L0 0  Z\" fill=\"#ffffff\" fill-rule=\"evenodd\" fill-opacity=\"1\"/>\n",
       "<defs>\n",
       "  <clipPath id=\"clip321\">\n",
       "    <rect x=\"480\" y=\"0\" width=\"1681\" height=\"1600\"/>\n",
       "  </clipPath>\n",
       "</defs>\n",
       "<path clip-path=\"url(#clip320)\" d=\"M277.621 1410.9 L2352.76 1410.9 L2352.76 123.472 L277.621 123.472  Z\" fill=\"#ffffff\" fill-rule=\"evenodd\" fill-opacity=\"1\"/>\n",
       "<defs>\n",
       "  <clipPath id=\"clip322\">\n",
       "    <rect x=\"277\" y=\"123\" width=\"2076\" height=\"1288\"/>\n",
       "  </clipPath>\n",
       "</defs>\n",
       "<polyline clip-path=\"url(#clip322)\" style=\"stroke:#000000; stroke-linecap:round; stroke-linejoin:round; stroke-width:2; stroke-opacity:0.1; fill:none\" points=\"2294.77,1410.9 2294.77,123.472 \"/>\n",
       "<polyline clip-path=\"url(#clip322)\" style=\"stroke:#000000; stroke-linecap:round; stroke-linejoin:round; stroke-width:2; stroke-opacity:0.1; fill:none\" points=\"1859.56,1410.9 1859.56,123.472 \"/>\n",
       "<polyline clip-path=\"url(#clip322)\" style=\"stroke:#000000; stroke-linecap:round; stroke-linejoin:round; stroke-width:2; stroke-opacity:0.1; fill:none\" points=\"1424.36,1410.9 1424.36,123.472 \"/>\n",
       "<polyline clip-path=\"url(#clip322)\" style=\"stroke:#000000; stroke-linecap:round; stroke-linejoin:round; stroke-width:2; stroke-opacity:0.1; fill:none\" points=\"989.156,1410.9 989.156,123.472 \"/>\n",
       "<polyline clip-path=\"url(#clip322)\" style=\"stroke:#000000; stroke-linecap:round; stroke-linejoin:round; stroke-width:2; stroke-opacity:0.1; fill:none\" points=\"553.952,1410.9 553.952,123.472 \"/>\n",
       "<polyline clip-path=\"url(#clip320)\" style=\"stroke:#000000; stroke-linecap:round; stroke-linejoin:round; stroke-width:4; stroke-opacity:1; fill:none\" points=\"2352.76,1410.9 277.621,1410.9 \"/>\n",
       "<polyline clip-path=\"url(#clip320)\" style=\"stroke:#000000; stroke-linecap:round; stroke-linejoin:round; stroke-width:4; stroke-opacity:1; fill:none\" points=\"2294.77,1410.9 2294.77,1392 \"/>\n",
       "<polyline clip-path=\"url(#clip320)\" style=\"stroke:#000000; stroke-linecap:round; stroke-linejoin:round; stroke-width:4; stroke-opacity:1; fill:none\" points=\"1859.56,1410.9 1859.56,1392 \"/>\n",
       "<polyline clip-path=\"url(#clip320)\" style=\"stroke:#000000; stroke-linecap:round; stroke-linejoin:round; stroke-width:4; stroke-opacity:1; fill:none\" points=\"1424.36,1410.9 1424.36,1392 \"/>\n",
       "<polyline clip-path=\"url(#clip320)\" style=\"stroke:#000000; stroke-linecap:round; stroke-linejoin:round; stroke-width:4; stroke-opacity:1; fill:none\" points=\"989.156,1410.9 989.156,1392 \"/>\n",
       "<polyline clip-path=\"url(#clip320)\" style=\"stroke:#000000; stroke-linecap:round; stroke-linejoin:round; stroke-width:4; stroke-opacity:1; fill:none\" points=\"553.952,1410.9 553.952,1392 \"/>\n",
       "<path clip-path=\"url(#clip320)\" d=\"M2294.77 1441.82 Q2291.15 1441.82 2289.33 1445.38 Q2287.52 1448.92 2287.52 1456.05 Q2287.52 1463.16 2289.33 1466.72 Q2291.15 1470.26 2294.77 1470.26 Q2298.4 1470.26 2300.21 1466.72 Q2302.03 1463.16 2302.03 1456.05 Q2302.03 1448.92 2300.21 1445.38 Q2298.4 1441.82 2294.77 1441.82 M2294.77 1438.11 Q2300.58 1438.11 2303.63 1442.72 Q2306.71 1447.3 2306.71 1456.05 Q2306.71 1464.78 2303.63 1469.38 Q2300.58 1473.97 2294.77 1473.97 Q2288.96 1473.97 2285.88 1469.38 Q2282.82 1464.78 2282.82 1456.05 Q2282.82 1447.3 2285.88 1442.72 Q2288.96 1438.11 2294.77 1438.11 Z\" fill=\"#000000\" fill-rule=\"nonzero\" fill-opacity=\"1\" /><path clip-path=\"url(#clip320)\" d=\"M1766.46 1485.02 L1774.1 1485.02 L1774.1 1458.66 L1765.79 1460.32 L1765.79 1456.06 L1774.05 1454.4 L1778.73 1454.4 L1778.73 1485.02 L1786.37 1485.02 L1786.37 1488.96 L1766.46 1488.96 L1766.46 1485.02 Z\" fill=\"#000000\" fill-rule=\"nonzero\" fill-opacity=\"1\" /><path clip-path=\"url(#clip320)\" d=\"M1795.81 1483.08 L1800.7 1483.08 L1800.7 1488.96 L1795.81 1488.96 L1795.81 1483.08 Z\" fill=\"#000000\" fill-rule=\"nonzero\" fill-opacity=\"1\" /><path clip-path=\"url(#clip320)\" d=\"M1820.88 1457.48 Q1817.27 1457.48 1815.44 1461.04 Q1813.64 1464.58 1813.64 1471.71 Q1813.64 1478.82 1815.44 1482.38 Q1817.27 1485.92 1820.88 1485.92 Q1824.52 1485.92 1826.32 1482.38 Q1828.15 1478.82 1828.15 1471.71 Q1828.15 1464.58 1826.32 1461.04 Q1824.52 1457.48 1820.88 1457.48 M1820.88 1453.77 Q1826.69 1453.77 1829.75 1458.38 Q1832.83 1462.96 1832.83 1471.71 Q1832.83 1480.44 1829.75 1485.04 Q1826.69 1489.63 1820.88 1489.63 Q1815.07 1489.63 1811.99 1485.04 Q1808.94 1480.44 1808.94 1471.71 Q1808.94 1462.96 1811.99 1458.38 Q1815.07 1453.77 1820.88 1453.77 Z\" fill=\"#000000\" fill-rule=\"nonzero\" fill-opacity=\"1\" /><path clip-path=\"url(#clip320)\" d=\"M1869.21 1463.49 L1858.64 1474.12 L1869.21 1484.7 L1866.46 1487.5 L1855.84 1476.87 L1845.21 1487.5 L1842.48 1484.7 L1853.03 1474.12 L1842.48 1463.49 L1845.21 1460.69 L1855.84 1471.32 L1866.46 1460.69 L1869.21 1463.49 Z\" fill=\"#000000\" fill-rule=\"nonzero\" fill-opacity=\"1\" /><path clip-path=\"url(#clip320)\" d=\"M1881.58 1485.02 L1889.21 1485.02 L1889.21 1458.66 L1880.9 1460.32 L1880.9 1456.06 L1889.17 1454.4 L1893.84 1454.4 L1893.84 1485.02 L1901.48 1485.02 L1901.48 1488.96 L1881.58 1488.96 L1881.58 1485.02 Z\" fill=\"#000000\" fill-rule=\"nonzero\" fill-opacity=\"1\" /><path clip-path=\"url(#clip320)\" d=\"M1920.93 1457.48 Q1917.32 1457.48 1915.49 1461.04 Q1913.68 1464.58 1913.68 1471.71 Q1913.68 1478.82 1915.49 1482.38 Q1917.32 1485.92 1920.93 1485.92 Q1924.56 1485.92 1926.37 1482.38 Q1928.2 1478.82 1928.2 1471.71 Q1928.2 1464.58 1926.37 1461.04 Q1924.56 1457.48 1920.93 1457.48 M1920.93 1453.77 Q1926.74 1453.77 1929.79 1458.38 Q1932.87 1462.96 1932.87 1471.71 Q1932.87 1480.44 1929.79 1485.04 Q1926.74 1489.63 1920.93 1489.63 Q1915.12 1489.63 1912.04 1485.04 Q1908.98 1480.44 1908.98 1471.71 Q1908.98 1462.96 1912.04 1458.38 Q1915.12 1453.77 1920.93 1453.77 Z\" fill=\"#000000\" fill-rule=\"nonzero\" fill-opacity=\"1\" /><path clip-path=\"url(#clip320)\" d=\"M1945.55 1436.78 L1935.96 1451.77 L1945.55 1451.77 L1945.55 1436.78 M1944.55 1433.47 L1949.33 1433.47 L1949.33 1451.77 L1953.33 1451.77 L1953.33 1454.93 L1949.33 1454.93 L1949.33 1461.55 L1945.55 1461.55 L1945.55 1454.93 L1932.87 1454.93 L1932.87 1451.26 L1944.55 1433.47 Z\" fill=\"#000000\" fill-rule=\"nonzero\" fill-opacity=\"1\" /><path clip-path=\"url(#clip320)\" d=\"M1335.34 1485.02 L1351.66 1485.02 L1351.66 1488.96 L1329.72 1488.96 L1329.72 1485.02 Q1332.38 1482.27 1336.96 1477.64 Q1341.57 1472.98 1342.75 1471.64 Q1345 1469.12 1345.88 1467.38 Q1346.78 1465.62 1346.78 1463.93 Q1346.78 1461.18 1344.83 1459.44 Q1342.91 1457.71 1339.81 1457.71 Q1337.61 1457.71 1335.16 1458.47 Q1332.73 1459.23 1329.95 1460.79 L1329.95 1456.06 Q1332.77 1454.93 1335.23 1454.35 Q1337.68 1453.77 1339.72 1453.77 Q1345.09 1453.77 1348.28 1456.46 Q1351.48 1459.14 1351.48 1463.63 Q1351.48 1465.76 1350.67 1467.68 Q1349.88 1469.58 1347.77 1472.17 Q1347.2 1472.85 1344.09 1476.06 Q1340.99 1479.26 1335.34 1485.02 Z\" fill=\"#000000\" fill-rule=\"nonzero\" fill-opacity=\"1\" /><path clip-path=\"url(#clip320)\" d=\"M1361.48 1483.08 L1366.36 1483.08 L1366.36 1488.96 L1361.48 1488.96 L1361.48 1483.08 Z\" fill=\"#000000\" fill-rule=\"nonzero\" fill-opacity=\"1\" /><path clip-path=\"url(#clip320)\" d=\"M1386.55 1457.48 Q1382.94 1457.48 1381.11 1461.04 Q1379.3 1464.58 1379.3 1471.71 Q1379.3 1478.82 1381.11 1482.38 Q1382.94 1485.92 1386.55 1485.92 Q1390.18 1485.92 1391.99 1482.38 Q1393.82 1478.82 1393.82 1471.71 Q1393.82 1464.58 1391.99 1461.04 Q1390.18 1457.48 1386.55 1457.48 M1386.55 1453.77 Q1392.36 1453.77 1395.41 1458.38 Q1398.49 1462.96 1398.49 1471.71 Q1398.49 1480.44 1395.41 1485.04 Q1392.36 1489.63 1386.55 1489.63 Q1380.74 1489.63 1377.66 1485.04 Q1374.6 1480.44 1374.6 1471.71 Q1374.6 1462.96 1377.66 1458.38 Q1380.74 1453.77 1386.55 1453.77 Z\" fill=\"#000000\" fill-rule=\"nonzero\" fill-opacity=\"1\" /><path clip-path=\"url(#clip320)\" d=\"M1434.88 1463.49 L1424.3 1474.12 L1434.88 1484.7 L1432.13 1487.5 L1421.5 1476.87 L1410.88 1487.5 L1408.14 1484.7 L1418.7 1474.12 L1408.14 1463.49 L1410.88 1460.69 L1421.5 1471.32 L1432.13 1460.69 L1434.88 1463.49 Z\" fill=\"#000000\" fill-rule=\"nonzero\" fill-opacity=\"1\" /><path clip-path=\"url(#clip320)\" d=\"M1447.24 1485.02 L1454.88 1485.02 L1454.88 1458.66 L1446.57 1460.32 L1446.57 1456.06 L1454.83 1454.4 L1459.51 1454.4 L1459.51 1485.02 L1467.15 1485.02 L1467.15 1488.96 L1447.24 1488.96 L1447.24 1485.02 Z\" fill=\"#000000\" fill-rule=\"nonzero\" fill-opacity=\"1\" /><path clip-path=\"url(#clip320)\" d=\"M1486.59 1457.48 Q1482.98 1457.48 1481.15 1461.04 Q1479.35 1464.58 1479.35 1471.71 Q1479.35 1478.82 1481.15 1482.38 Q1482.98 1485.92 1486.59 1485.92 Q1490.23 1485.92 1492.03 1482.38 Q1493.86 1478.82 1493.86 1471.71 Q1493.86 1464.58 1492.03 1461.04 Q1490.23 1457.48 1486.59 1457.48 M1486.59 1453.77 Q1492.4 1453.77 1495.46 1458.38 Q1498.54 1462.96 1498.54 1471.71 Q1498.54 1480.44 1495.46 1485.04 Q1492.4 1489.63 1486.59 1489.63 Q1480.78 1489.63 1477.7 1485.04 Q1474.65 1480.44 1474.65 1471.71 Q1474.65 1462.96 1477.7 1458.38 Q1480.78 1453.77 1486.59 1453.77 Z\" fill=\"#000000\" fill-rule=\"nonzero\" fill-opacity=\"1\" /><path clip-path=\"url(#clip320)\" d=\"M1511.21 1436.78 L1501.62 1451.77 L1511.21 1451.77 L1511.21 1436.78 M1510.22 1433.47 L1514.99 1433.47 L1514.99 1451.77 L1519 1451.77 L1519 1454.93 L1514.99 1454.93 L1514.99 1461.55 L1511.21 1461.55 L1511.21 1454.93 L1498.54 1454.93 L1498.54 1451.26 L1510.22 1433.47 Z\" fill=\"#000000\" fill-rule=\"nonzero\" fill-opacity=\"1\" /><path clip-path=\"url(#clip320)\" d=\"M910.209 1470.32 Q913.566 1471.04 915.441 1473.31 Q917.339 1475.58 917.339 1478.91 Q917.339 1484.03 913.82 1486.83 Q910.302 1489.63 903.821 1489.63 Q901.645 1489.63 899.33 1489.19 Q897.038 1488.77 894.584 1487.91 L894.584 1483.4 Q896.529 1484.54 898.844 1485.11 Q901.159 1485.69 903.682 1485.69 Q908.08 1485.69 910.371 1483.96 Q912.686 1482.22 912.686 1478.91 Q912.686 1475.85 910.533 1474.14 Q908.404 1472.41 904.584 1472.41 L900.557 1472.41 L900.557 1468.56 L904.77 1468.56 Q908.219 1468.56 910.047 1467.2 Q911.876 1465.81 911.876 1463.22 Q911.876 1460.55 909.978 1459.14 Q908.103 1457.71 904.584 1457.71 Q902.663 1457.71 900.464 1458.12 Q898.265 1458.54 895.626 1459.42 L895.626 1455.25 Q898.288 1454.51 900.603 1454.14 Q902.941 1453.77 905.001 1453.77 Q910.325 1453.77 913.427 1456.2 Q916.529 1458.61 916.529 1462.73 Q916.529 1465.6 914.885 1467.59 Q913.242 1469.56 910.209 1470.32 Z\" fill=\"#000000\" fill-rule=\"nonzero\" fill-opacity=\"1\" /><path clip-path=\"url(#clip320)\" d=\"M926.205 1483.08 L931.089 1483.08 L931.089 1488.96 L926.205 1488.96 L926.205 1483.08 Z\" fill=\"#000000\" fill-rule=\"nonzero\" fill-opacity=\"1\" /><path clip-path=\"url(#clip320)\" d=\"M951.274 1457.48 Q947.663 1457.48 945.834 1461.04 Q944.029 1464.58 944.029 1471.71 Q944.029 1478.82 945.834 1482.38 Q947.663 1485.92 951.274 1485.92 Q954.908 1485.92 956.714 1482.38 Q958.542 1478.82 958.542 1471.71 Q958.542 1464.58 956.714 1461.04 Q954.908 1457.48 951.274 1457.48 M951.274 1453.77 Q957.084 1453.77 960.14 1458.38 Q963.218 1462.96 963.218 1471.71 Q963.218 1480.44 960.14 1485.04 Q957.084 1489.63 951.274 1489.63 Q945.464 1489.63 942.385 1485.04 Q939.33 1480.44 939.33 1471.71 Q939.33 1462.96 942.385 1458.38 Q945.464 1453.77 951.274 1453.77 Z\" fill=\"#000000\" fill-rule=\"nonzero\" fill-opacity=\"1\" /><path clip-path=\"url(#clip320)\" d=\"M999.607 1463.49 L989.028 1474.12 L999.607 1484.7 L996.852 1487.5 L986.227 1476.87 L975.603 1487.5 L972.871 1484.7 L983.427 1474.12 L972.871 1463.49 L975.603 1460.69 L986.227 1471.32 L996.852 1460.69 L999.607 1463.49 Z\" fill=\"#000000\" fill-rule=\"nonzero\" fill-opacity=\"1\" /><path clip-path=\"url(#clip320)\" d=\"M1011.97 1485.02 L1019.61 1485.02 L1019.61 1458.66 L1011.3 1460.32 L1011.3 1456.06 L1019.56 1454.4 L1024.24 1454.4 L1024.24 1485.02 L1031.88 1485.02 L1031.88 1488.96 L1011.97 1488.96 L1011.97 1485.02 Z\" fill=\"#000000\" fill-rule=\"nonzero\" fill-opacity=\"1\" /><path clip-path=\"url(#clip320)\" d=\"M1051.32 1457.48 Q1047.71 1457.48 1045.88 1461.04 Q1044.07 1464.58 1044.07 1471.71 Q1044.07 1478.82 1045.88 1482.38 Q1047.71 1485.92 1051.32 1485.92 Q1054.95 1485.92 1056.76 1482.38 Q1058.59 1478.82 1058.59 1471.71 Q1058.59 1464.58 1056.76 1461.04 Q1054.95 1457.48 1051.32 1457.48 M1051.32 1453.77 Q1057.13 1453.77 1060.19 1458.38 Q1063.26 1462.96 1063.26 1471.71 Q1063.26 1480.44 1060.19 1485.04 Q1057.13 1489.63 1051.32 1489.63 Q1045.51 1489.63 1042.43 1485.04 Q1039.38 1480.44 1039.38 1471.71 Q1039.38 1462.96 1042.43 1458.38 Q1045.51 1453.77 1051.32 1453.77 Z\" fill=\"#000000\" fill-rule=\"nonzero\" fill-opacity=\"1\" /><path clip-path=\"url(#clip320)\" d=\"M1075.94 1436.78 L1066.35 1451.77 L1075.94 1451.77 L1075.94 1436.78 M1074.94 1433.47 L1079.72 1433.47 L1079.72 1451.77 L1083.73 1451.77 L1083.73 1454.93 L1079.72 1454.93 L1079.72 1461.55 L1075.94 1461.55 L1075.94 1454.93 L1063.26 1454.93 L1063.26 1451.26 L1074.94 1433.47 Z\" fill=\"#000000\" fill-rule=\"nonzero\" fill-opacity=\"1\" /><path clip-path=\"url(#clip320)\" d=\"M474.335 1458.47 L462.529 1476.92 L474.335 1476.92 L474.335 1458.47 M473.108 1454.4 L478.988 1454.4 L478.988 1476.92 L483.918 1476.92 L483.918 1480.81 L478.988 1480.81 L478.988 1488.96 L474.335 1488.96 L474.335 1480.81 L458.733 1480.81 L458.733 1476.29 L473.108 1454.4 Z\" fill=\"#000000\" fill-rule=\"nonzero\" fill-opacity=\"1\" /><path clip-path=\"url(#clip320)\" d=\"M491.65 1483.08 L496.534 1483.08 L496.534 1488.96 L491.65 1488.96 L491.65 1483.08 Z\" fill=\"#000000\" fill-rule=\"nonzero\" fill-opacity=\"1\" /><path clip-path=\"url(#clip320)\" d=\"M516.719 1457.48 Q513.108 1457.48 511.279 1461.04 Q509.474 1464.58 509.474 1471.71 Q509.474 1478.82 511.279 1482.38 Q513.108 1485.92 516.719 1485.92 Q520.353 1485.92 522.159 1482.38 Q523.987 1478.82 523.987 1471.71 Q523.987 1464.58 522.159 1461.04 Q520.353 1457.48 516.719 1457.48 M516.719 1453.77 Q522.529 1453.77 525.585 1458.38 Q528.663 1462.96 528.663 1471.71 Q528.663 1480.44 525.585 1485.04 Q522.529 1489.63 516.719 1489.63 Q510.909 1489.63 507.83 1485.04 Q504.774 1480.44 504.774 1471.71 Q504.774 1462.96 507.83 1458.38 Q510.909 1453.77 516.719 1453.77 Z\" fill=\"#000000\" fill-rule=\"nonzero\" fill-opacity=\"1\" /><path clip-path=\"url(#clip320)\" d=\"M565.052 1463.49 L554.473 1474.12 L565.052 1484.7 L562.297 1487.5 L551.672 1476.87 L541.047 1487.5 L538.316 1484.7 L548.871 1474.12 L538.316 1463.49 L541.047 1460.69 L551.672 1471.32 L562.297 1460.69 L565.052 1463.49 Z\" fill=\"#000000\" fill-rule=\"nonzero\" fill-opacity=\"1\" /><path clip-path=\"url(#clip320)\" d=\"M577.413 1485.02 L585.052 1485.02 L585.052 1458.66 L576.742 1460.32 L576.742 1456.06 L585.006 1454.4 L589.681 1454.4 L589.681 1485.02 L597.32 1485.02 L597.32 1488.96 L577.413 1488.96 L577.413 1485.02 Z\" fill=\"#000000\" fill-rule=\"nonzero\" fill-opacity=\"1\" /><path clip-path=\"url(#clip320)\" d=\"M616.765 1457.48 Q613.154 1457.48 611.325 1461.04 Q609.519 1464.58 609.519 1471.71 Q609.519 1478.82 611.325 1482.38 Q613.154 1485.92 616.765 1485.92 Q620.399 1485.92 622.204 1482.38 Q624.033 1478.82 624.033 1471.71 Q624.033 1464.58 622.204 1461.04 Q620.399 1457.48 616.765 1457.48 M616.765 1453.77 Q622.575 1453.77 625.63 1458.38 Q628.709 1462.96 628.709 1471.71 Q628.709 1480.44 625.63 1485.04 Q622.575 1489.63 616.765 1489.63 Q610.954 1489.63 607.876 1485.04 Q604.82 1480.44 604.82 1471.71 Q604.82 1462.96 607.876 1458.38 Q610.954 1453.77 616.765 1453.77 Z\" fill=\"#000000\" fill-rule=\"nonzero\" fill-opacity=\"1\" /><path clip-path=\"url(#clip320)\" d=\"M641.385 1436.78 L631.793 1451.77 L641.385 1451.77 L641.385 1436.78 M640.389 1433.47 L645.166 1433.47 L645.166 1451.77 L649.172 1451.77 L649.172 1454.93 L645.166 1454.93 L645.166 1461.55 L641.385 1461.55 L641.385 1454.93 L628.709 1454.93 L628.709 1451.26 L640.389 1433.47 Z\" fill=\"#000000\" fill-rule=\"nonzero\" fill-opacity=\"1\" /><path clip-path=\"url(#clip320)\" d=\"M1215.23 1531.95 L1215.23 1549.8 L1223.32 1549.8 Q1227.8 1549.8 1230.25 1547.48 Q1232.7 1545.16 1232.7 1540.86 Q1232.7 1536.6 1230.25 1534.27 Q1227.8 1531.95 1223.32 1531.95 L1215.23 1531.95 M1208.8 1526.67 L1223.32 1526.67 Q1231.3 1526.67 1235.38 1530.29 Q1239.48 1533.89 1239.48 1540.86 Q1239.48 1547.9 1235.38 1551.49 Q1231.3 1555.09 1223.32 1555.09 L1215.23 1555.09 L1215.23 1574.19 L1208.8 1574.19 L1208.8 1526.67 Z\" fill=\"#000000\" fill-rule=\"nonzero\" fill-opacity=\"1\" /><path clip-path=\"url(#clip320)\" d=\"M1246.42 1538.54 L1252.28 1538.54 L1252.28 1574.19 L1246.42 1574.19 L1246.42 1538.54 M1246.42 1524.66 L1252.28 1524.66 L1252.28 1532.08 L1246.42 1532.08 L1246.42 1524.66 Z\" fill=\"#000000\" fill-rule=\"nonzero\" fill-opacity=\"1\" /><path clip-path=\"url(#clip320)\" d=\"M1285.19 1544.01 Q1284.2 1543.44 1283.03 1543.18 Q1281.88 1542.9 1280.48 1542.9 Q1275.51 1542.9 1272.84 1546.14 Q1270.2 1549.36 1270.2 1555.41 L1270.2 1574.19 L1264.31 1574.19 L1264.31 1538.54 L1270.2 1538.54 L1270.2 1544.08 Q1272.04 1540.83 1275 1539.27 Q1277.96 1537.68 1282.2 1537.68 Q1282.8 1537.68 1283.53 1537.77 Q1284.27 1537.84 1285.16 1538 L1285.19 1544.01 Z\" fill=\"#000000\" fill-rule=\"nonzero\" fill-opacity=\"1\" /><path clip-path=\"url(#clip320)\" d=\"M1307.53 1556.27 Q1300.44 1556.27 1297.7 1557.89 Q1294.96 1559.51 1294.96 1563.43 Q1294.96 1566.55 1297 1568.39 Q1299.07 1570.21 1302.6 1570.21 Q1307.47 1570.21 1310.4 1566.77 Q1313.36 1563.3 1313.36 1557.57 L1313.36 1556.27 L1307.53 1556.27 M1319.21 1553.85 L1319.21 1574.19 L1313.36 1574.19 L1313.36 1568.77 Q1311.35 1572.02 1308.36 1573.58 Q1305.37 1575.11 1301.04 1575.11 Q1295.57 1575.11 1292.32 1572.05 Q1289.1 1568.97 1289.1 1563.81 Q1289.1 1557.79 1293.12 1554.74 Q1297.16 1551.68 1305.15 1551.68 L1313.36 1551.68 L1313.36 1551.11 Q1313.36 1547.07 1310.68 1544.87 Q1308.04 1542.64 1303.24 1542.64 Q1300.18 1542.64 1297.28 1543.38 Q1294.39 1544.11 1291.71 1545.57 L1291.71 1540.16 Q1294.93 1538.92 1297.95 1538.31 Q1300.98 1537.68 1303.84 1537.68 Q1311.58 1537.68 1315.4 1541.69 Q1319.21 1545.7 1319.21 1553.85 Z\" fill=\"#000000\" fill-rule=\"nonzero\" fill-opacity=\"1\" /><path clip-path=\"url(#clip320)\" d=\"M1337.07 1528.42 L1337.07 1538.54 L1349.13 1538.54 L1349.13 1543.09 L1337.07 1543.09 L1337.07 1562.44 Q1337.07 1566.8 1338.25 1568.04 Q1339.46 1569.28 1343.12 1569.28 L1349.13 1569.28 L1349.13 1574.19 L1343.12 1574.19 Q1336.34 1574.19 1333.76 1571.67 Q1331.18 1569.12 1331.18 1562.44 L1331.18 1543.09 L1326.89 1543.09 L1326.89 1538.54 L1331.18 1538.54 L1331.18 1528.42 L1337.07 1528.42 Z\" fill=\"#000000\" fill-rule=\"nonzero\" fill-opacity=\"1\" /><path clip-path=\"url(#clip320)\" d=\"M1387.33 1554.9 L1387.33 1557.76 L1360.4 1557.76 Q1360.78 1563.81 1364.03 1566.99 Q1367.31 1570.14 1373.13 1570.14 Q1376.51 1570.14 1379.66 1569.32 Q1382.84 1568.49 1385.96 1566.83 L1385.96 1572.37 Q1382.81 1573.71 1379.5 1574.41 Q1376.19 1575.11 1372.78 1575.11 Q1364.25 1575.11 1359.25 1570.14 Q1354.29 1565.18 1354.29 1556.71 Q1354.29 1547.96 1359 1542.83 Q1363.74 1537.68 1371.76 1537.68 Q1378.96 1537.68 1383.13 1542.33 Q1387.33 1546.94 1387.33 1554.9 M1381.47 1553.18 Q1381.41 1548.37 1378.77 1545.51 Q1376.16 1542.64 1371.83 1542.64 Q1366.93 1542.64 1363.97 1545.41 Q1361.04 1548.18 1360.59 1553.21 L1381.47 1553.18 Z\" fill=\"#000000\" fill-rule=\"nonzero\" fill-opacity=\"1\" /><path clip-path=\"url(#clip320)\" d=\"M1419.67 1539.59 L1419.67 1545.13 Q1417.18 1543.85 1414.51 1543.22 Q1411.84 1542.58 1408.97 1542.58 Q1404.61 1542.58 1402.41 1543.92 Q1400.25 1545.25 1400.25 1547.93 Q1400.25 1549.96 1401.81 1551.14 Q1403.37 1552.29 1408.08 1553.34 L1410.09 1553.78 Q1416.32 1555.12 1418.93 1557.57 Q1421.58 1559.99 1421.58 1564.35 Q1421.58 1569.32 1417.63 1572.21 Q1413.71 1575.11 1406.84 1575.11 Q1403.97 1575.11 1400.85 1574.54 Q1397.77 1573.99 1394.33 1572.88 L1394.33 1566.83 Q1397.58 1568.52 1400.73 1569.38 Q1403.88 1570.21 1406.97 1570.21 Q1411.1 1570.21 1413.33 1568.81 Q1415.56 1567.37 1415.56 1564.8 Q1415.56 1562.41 1413.94 1561.14 Q1412.34 1559.86 1406.9 1558.68 L1404.87 1558.21 Q1399.42 1557.06 1397 1554.71 Q1394.58 1552.32 1394.58 1548.18 Q1394.58 1543.15 1398.15 1540.42 Q1401.71 1537.68 1408.27 1537.68 Q1411.52 1537.68 1414.38 1538.16 Q1417.25 1538.63 1419.67 1539.59 Z\" fill=\"#000000\" fill-rule=\"nonzero\" fill-opacity=\"1\" /><polyline clip-path=\"url(#clip322)\" style=\"stroke:#000000; stroke-linecap:round; stroke-linejoin:round; stroke-width:2; stroke-opacity:0.1; fill:none\" points=\"2352.76,1287.71 277.621,1287.71 \"/>\n",
       "<polyline clip-path=\"url(#clip322)\" style=\"stroke:#000000; stroke-linecap:round; stroke-linejoin:round; stroke-width:2; stroke-opacity:0.1; fill:none\" points=\"2352.76,1070.82 277.621,1070.82 \"/>\n",
       "<polyline clip-path=\"url(#clip322)\" style=\"stroke:#000000; stroke-linecap:round; stroke-linejoin:round; stroke-width:2; stroke-opacity:0.1; fill:none\" points=\"2352.76,853.938 277.621,853.938 \"/>\n",
       "<polyline clip-path=\"url(#clip322)\" style=\"stroke:#000000; stroke-linecap:round; stroke-linejoin:round; stroke-width:2; stroke-opacity:0.1; fill:none\" points=\"2352.76,637.054 277.621,637.054 \"/>\n",
       "<polyline clip-path=\"url(#clip322)\" style=\"stroke:#000000; stroke-linecap:round; stroke-linejoin:round; stroke-width:2; stroke-opacity:0.1; fill:none\" points=\"2352.76,420.17 277.621,420.17 \"/>\n",
       "<polyline clip-path=\"url(#clip322)\" style=\"stroke:#000000; stroke-linecap:round; stroke-linejoin:round; stroke-width:2; stroke-opacity:0.1; fill:none\" points=\"2352.76,203.286 277.621,203.286 \"/>\n",
       "<polyline clip-path=\"url(#clip320)\" style=\"stroke:#000000; stroke-linecap:round; stroke-linejoin:round; stroke-width:4; stroke-opacity:1; fill:none\" points=\"277.621,1410.9 277.621,123.472 \"/>\n",
       "<polyline clip-path=\"url(#clip320)\" style=\"stroke:#000000; stroke-linecap:round; stroke-linejoin:round; stroke-width:4; stroke-opacity:1; fill:none\" points=\"277.621,1287.71 296.518,1287.71 \"/>\n",
       "<polyline clip-path=\"url(#clip320)\" style=\"stroke:#000000; stroke-linecap:round; stroke-linejoin:round; stroke-width:4; stroke-opacity:1; fill:none\" points=\"277.621,1070.82 296.518,1070.82 \"/>\n",
       "<polyline clip-path=\"url(#clip320)\" style=\"stroke:#000000; stroke-linecap:round; stroke-linejoin:round; stroke-width:4; stroke-opacity:1; fill:none\" points=\"277.621,853.938 296.518,853.938 \"/>\n",
       "<polyline clip-path=\"url(#clip320)\" style=\"stroke:#000000; stroke-linecap:round; stroke-linejoin:round; stroke-width:4; stroke-opacity:1; fill:none\" points=\"277.621,637.054 296.518,637.054 \"/>\n",
       "<polyline clip-path=\"url(#clip320)\" style=\"stroke:#000000; stroke-linecap:round; stroke-linejoin:round; stroke-width:4; stroke-opacity:1; fill:none\" points=\"277.621,420.17 296.518,420.17 \"/>\n",
       "<polyline clip-path=\"url(#clip320)\" style=\"stroke:#000000; stroke-linecap:round; stroke-linejoin:round; stroke-width:4; stroke-opacity:1; fill:none\" points=\"277.621,203.286 296.518,203.286 \"/>\n",
       "<path clip-path=\"url(#clip320)\" d=\"M114.931 1301.05 L122.57 1301.05 L122.57 1274.69 L114.26 1276.35 L114.26 1272.09 L122.524 1270.43 L127.2 1270.43 L127.2 1301.05 L134.839 1301.05 L134.839 1304.99 L114.931 1304.99 L114.931 1301.05 Z\" fill=\"#000000\" fill-rule=\"nonzero\" fill-opacity=\"1\" /><path clip-path=\"url(#clip320)\" d=\"M157.13 1274.5 L145.325 1292.95 L157.13 1292.95 L157.13 1274.5 M155.903 1270.43 L161.783 1270.43 L161.783 1292.95 L166.714 1292.95 L166.714 1296.84 L161.783 1296.84 L161.783 1304.99 L157.13 1304.99 L157.13 1296.84 L141.529 1296.84 L141.529 1292.32 L155.903 1270.43 Z\" fill=\"#000000\" fill-rule=\"nonzero\" fill-opacity=\"1\" /><path clip-path=\"url(#clip320)\" d=\"M174.445 1299.11 L179.329 1299.11 L179.329 1304.99 L174.445 1304.99 L174.445 1299.11 Z\" fill=\"#000000\" fill-rule=\"nonzero\" fill-opacity=\"1\" /><path clip-path=\"url(#clip320)\" d=\"M189.561 1270.43 L207.917 1270.43 L207.917 1274.36 L193.843 1274.36 L193.843 1282.83 Q194.862 1282.49 195.88 1282.32 Q196.899 1282.14 197.917 1282.14 Q203.704 1282.14 207.084 1285.31 Q210.463 1288.48 210.463 1293.9 Q210.463 1299.48 206.991 1302.58 Q203.519 1305.66 197.2 1305.66 Q195.024 1305.66 192.755 1305.29 Q190.51 1304.92 188.102 1304.18 L188.102 1299.48 Q190.186 1300.61 192.408 1301.17 Q194.63 1301.72 197.107 1301.72 Q201.112 1301.72 203.449 1299.62 Q205.787 1297.51 205.787 1293.9 Q205.787 1290.29 203.449 1288.18 Q201.112 1286.07 197.107 1286.07 Q195.232 1286.07 193.357 1286.49 Q191.505 1286.91 189.561 1287.79 L189.561 1270.43 Z\" fill=\"#000000\" fill-rule=\"nonzero\" fill-opacity=\"1\" /><path clip-path=\"url(#clip320)\" d=\"M229.676 1273.51 Q226.065 1273.51 224.236 1277.07 Q222.431 1280.61 222.431 1287.74 Q222.431 1294.85 224.236 1298.41 Q226.065 1301.95 229.676 1301.95 Q233.31 1301.95 235.116 1298.41 Q236.945 1294.85 236.945 1287.74 Q236.945 1280.61 235.116 1277.07 Q233.31 1273.51 229.676 1273.51 M229.676 1269.8 Q235.486 1269.8 238.542 1274.41 Q241.621 1278.99 241.621 1287.74 Q241.621 1296.47 238.542 1301.07 Q235.486 1305.66 229.676 1305.66 Q223.866 1305.66 220.787 1301.07 Q217.732 1296.47 217.732 1287.74 Q217.732 1278.99 220.787 1274.41 Q223.866 1269.8 229.676 1269.8 Z\" fill=\"#000000\" fill-rule=\"nonzero\" fill-opacity=\"1\" /><path clip-path=\"url(#clip320)\" d=\"M115.927 1084.17 L123.566 1084.17 L123.566 1057.8 L115.256 1059.47 L115.256 1055.21 L123.519 1053.54 L128.195 1053.54 L128.195 1084.17 L135.834 1084.17 L135.834 1088.1 L115.927 1088.1 L115.927 1084.17 Z\" fill=\"#000000\" fill-rule=\"nonzero\" fill-opacity=\"1\" /><path clip-path=\"url(#clip320)\" d=\"M158.126 1057.62 L146.32 1076.07 L158.126 1076.07 L158.126 1057.62 M156.899 1053.54 L162.778 1053.54 L162.778 1076.07 L167.709 1076.07 L167.709 1079.95 L162.778 1079.95 L162.778 1088.1 L158.126 1088.1 L158.126 1079.95 L142.524 1079.95 L142.524 1075.44 L156.899 1053.54 Z\" fill=\"#000000\" fill-rule=\"nonzero\" fill-opacity=\"1\" /><path clip-path=\"url(#clip320)\" d=\"M175.44 1082.22 L180.325 1082.22 L180.325 1088.1 L175.44 1088.1 L175.44 1082.22 Z\" fill=\"#000000\" fill-rule=\"nonzero\" fill-opacity=\"1\" /><path clip-path=\"url(#clip320)\" d=\"M189.329 1053.54 L211.551 1053.54 L211.551 1055.53 L199.005 1088.1 L194.121 1088.1 L205.926 1057.48 L189.329 1057.48 L189.329 1053.54 Z\" fill=\"#000000\" fill-rule=\"nonzero\" fill-opacity=\"1\" /><path clip-path=\"url(#clip320)\" d=\"M220.718 1053.54 L239.074 1053.54 L239.074 1057.48 L225 1057.48 L225 1065.95 Q226.019 1065.6 227.037 1065.44 Q228.056 1065.26 229.074 1065.26 Q234.861 1065.26 238.241 1068.43 Q241.621 1071.6 241.621 1077.01 Q241.621 1082.59 238.148 1085.69 Q234.676 1088.77 228.357 1088.77 Q226.181 1088.77 223.912 1088.4 Q221.667 1088.03 219.26 1087.29 L219.26 1082.59 Q221.343 1083.73 223.565 1084.28 Q225.787 1084.84 228.264 1084.84 Q232.269 1084.84 234.607 1082.73 Q236.945 1080.63 236.945 1077.01 Q236.945 1073.4 234.607 1071.3 Q232.269 1069.19 228.264 1069.19 Q226.389 1069.19 224.514 1069.61 Q222.662 1070.02 220.718 1070.9 L220.718 1053.54 Z\" fill=\"#000000\" fill-rule=\"nonzero\" fill-opacity=\"1\" /><path clip-path=\"url(#clip320)\" d=\"M114.931 867.283 L122.57 867.283 L122.57 840.917 L114.26 842.584 L114.26 838.325 L122.524 836.658 L127.2 836.658 L127.2 867.283 L134.839 867.283 L134.839 871.218 L114.931 871.218 L114.931 867.283 Z\" fill=\"#000000\" fill-rule=\"nonzero\" fill-opacity=\"1\" /><path clip-path=\"url(#clip320)\" d=\"M144.329 836.658 L162.686 836.658 L162.686 840.593 L148.612 840.593 L148.612 849.065 Q149.63 848.718 150.649 848.556 Q151.667 848.371 152.686 848.371 Q158.473 848.371 161.852 851.542 Q165.232 854.714 165.232 860.13 Q165.232 865.709 161.76 868.811 Q158.288 871.889 151.968 871.889 Q149.792 871.889 147.524 871.519 Q145.279 871.149 142.871 870.408 L142.871 865.709 Q144.954 866.843 147.177 867.399 Q149.399 867.954 151.876 867.954 Q155.88 867.954 158.218 865.848 Q160.556 863.741 160.556 860.13 Q160.556 856.519 158.218 854.413 Q155.88 852.306 151.876 852.306 Q150.001 852.306 148.126 852.723 Q146.274 853.139 144.329 854.019 L144.329 836.658 Z\" fill=\"#000000\" fill-rule=\"nonzero\" fill-opacity=\"1\" /><path clip-path=\"url(#clip320)\" d=\"M174.445 865.338 L179.329 865.338 L179.329 871.218 L174.445 871.218 L174.445 865.338 Z\" fill=\"#000000\" fill-rule=\"nonzero\" fill-opacity=\"1\" /><path clip-path=\"url(#clip320)\" d=\"M199.514 839.737 Q195.903 839.737 194.075 843.302 Q192.269 846.843 192.269 853.973 Q192.269 861.079 194.075 864.644 Q195.903 868.186 199.514 868.186 Q203.149 868.186 204.954 864.644 Q206.783 861.079 206.783 853.973 Q206.783 846.843 204.954 843.302 Q203.149 839.737 199.514 839.737 M199.514 836.033 Q205.324 836.033 208.38 840.64 Q211.459 845.223 211.459 853.973 Q211.459 862.7 208.38 867.306 Q205.324 871.889 199.514 871.889 Q193.704 871.889 190.625 867.306 Q187.57 862.7 187.57 853.973 Q187.57 845.223 190.625 840.64 Q193.704 836.033 199.514 836.033 Z\" fill=\"#000000\" fill-rule=\"nonzero\" fill-opacity=\"1\" /><path clip-path=\"url(#clip320)\" d=\"M229.676 839.737 Q226.065 839.737 224.236 843.302 Q222.431 846.843 222.431 853.973 Q222.431 861.079 224.236 864.644 Q226.065 868.186 229.676 868.186 Q233.31 868.186 235.116 864.644 Q236.945 861.079 236.945 853.973 Q236.945 846.843 235.116 843.302 Q233.31 839.737 229.676 839.737 M229.676 836.033 Q235.486 836.033 238.542 840.64 Q241.621 845.223 241.621 853.973 Q241.621 862.7 238.542 867.306 Q235.486 871.889 229.676 871.889 Q223.866 871.889 220.787 867.306 Q217.732 862.7 217.732 853.973 Q217.732 845.223 220.787 840.64 Q223.866 836.033 229.676 836.033 Z\" fill=\"#000000\" fill-rule=\"nonzero\" fill-opacity=\"1\" /><path clip-path=\"url(#clip320)\" d=\"M115.927 650.399 L123.566 650.399 L123.566 624.033 L115.256 625.7 L115.256 621.441 L123.519 619.774 L128.195 619.774 L128.195 650.399 L135.834 650.399 L135.834 654.334 L115.927 654.334 L115.927 650.399 Z\" fill=\"#000000\" fill-rule=\"nonzero\" fill-opacity=\"1\" /><path clip-path=\"url(#clip320)\" d=\"M145.325 619.774 L163.681 619.774 L163.681 623.709 L149.607 623.709 L149.607 632.181 Q150.626 631.834 151.644 631.672 Q152.663 631.487 153.681 631.487 Q159.468 631.487 162.848 634.658 Q166.227 637.829 166.227 643.246 Q166.227 648.825 162.755 651.926 Q159.283 655.005 152.964 655.005 Q150.788 655.005 148.519 654.635 Q146.274 654.264 143.866 653.524 L143.866 648.825 Q145.95 649.959 148.172 650.514 Q150.394 651.07 152.871 651.07 Q156.876 651.07 159.214 648.964 Q161.552 646.857 161.552 643.246 Q161.552 639.635 159.214 637.528 Q156.876 635.422 152.871 635.422 Q150.996 635.422 149.121 635.839 Q147.269 636.255 145.325 637.135 L145.325 619.774 Z\" fill=\"#000000\" fill-rule=\"nonzero\" fill-opacity=\"1\" /><path clip-path=\"url(#clip320)\" d=\"M175.44 648.454 L180.325 648.454 L180.325 654.334 L175.44 654.334 L175.44 648.454 Z\" fill=\"#000000\" fill-rule=\"nonzero\" fill-opacity=\"1\" /><path clip-path=\"url(#clip320)\" d=\"M194.538 650.399 L210.857 650.399 L210.857 654.334 L188.913 654.334 L188.913 650.399 Q191.575 647.644 196.158 643.014 Q200.764 638.362 201.945 637.019 Q204.19 634.496 205.07 632.76 Q205.973 631.001 205.973 629.311 Q205.973 626.556 204.028 624.82 Q202.107 623.084 199.005 623.084 Q196.806 623.084 194.352 623.848 Q191.922 624.612 189.144 626.163 L189.144 621.441 Q191.968 620.306 194.422 619.728 Q196.875 619.149 198.912 619.149 Q204.283 619.149 207.477 621.834 Q210.672 624.519 210.672 629.01 Q210.672 631.14 209.861 633.061 Q209.074 634.959 206.968 637.552 Q206.389 638.223 203.287 641.44 Q200.186 644.635 194.538 650.399 Z\" fill=\"#000000\" fill-rule=\"nonzero\" fill-opacity=\"1\" /><path clip-path=\"url(#clip320)\" d=\"M220.718 619.774 L239.074 619.774 L239.074 623.709 L225 623.709 L225 632.181 Q226.019 631.834 227.037 631.672 Q228.056 631.487 229.074 631.487 Q234.861 631.487 238.241 634.658 Q241.621 637.829 241.621 643.246 Q241.621 648.825 238.148 651.926 Q234.676 655.005 228.357 655.005 Q226.181 655.005 223.912 654.635 Q221.667 654.264 219.26 653.524 L219.26 648.825 Q221.343 649.959 223.565 650.514 Q225.787 651.07 228.264 651.07 Q232.269 651.07 234.607 648.964 Q236.945 646.857 236.945 643.246 Q236.945 639.635 234.607 637.528 Q232.269 635.422 228.264 635.422 Q226.389 635.422 224.514 635.839 Q222.662 636.255 220.718 637.135 L220.718 619.774 Z\" fill=\"#000000\" fill-rule=\"nonzero\" fill-opacity=\"1\" /><path clip-path=\"url(#clip320)\" d=\"M114.931 433.515 L122.57 433.515 L122.57 407.149 L114.26 408.816 L114.26 404.556 L122.524 402.89 L127.2 402.89 L127.2 433.515 L134.839 433.515 L134.839 437.45 L114.931 437.45 L114.931 433.515 Z\" fill=\"#000000\" fill-rule=\"nonzero\" fill-opacity=\"1\" /><path clip-path=\"url(#clip320)\" d=\"M144.329 402.89 L162.686 402.89 L162.686 406.825 L148.612 406.825 L148.612 415.297 Q149.63 414.95 150.649 414.788 Q151.667 414.603 152.686 414.603 Q158.473 414.603 161.852 417.774 Q165.232 420.945 165.232 426.362 Q165.232 431.94 161.76 435.042 Q158.288 438.121 151.968 438.121 Q149.792 438.121 147.524 437.751 Q145.279 437.38 142.871 436.64 L142.871 431.94 Q144.954 433.075 147.177 433.63 Q149.399 434.186 151.876 434.186 Q155.88 434.186 158.218 432.079 Q160.556 429.973 160.556 426.362 Q160.556 422.751 158.218 420.644 Q155.88 418.538 151.876 418.538 Q150.001 418.538 148.126 418.954 Q146.274 419.371 144.329 420.251 L144.329 402.89 Z\" fill=\"#000000\" fill-rule=\"nonzero\" fill-opacity=\"1\" /><path clip-path=\"url(#clip320)\" d=\"M174.445 431.57 L179.329 431.57 L179.329 437.45 L174.445 437.45 L174.445 431.57 Z\" fill=\"#000000\" fill-rule=\"nonzero\" fill-opacity=\"1\" /><path clip-path=\"url(#clip320)\" d=\"M189.561 402.89 L207.917 402.89 L207.917 406.825 L193.843 406.825 L193.843 415.297 Q194.862 414.95 195.88 414.788 Q196.899 414.603 197.917 414.603 Q203.704 414.603 207.084 417.774 Q210.463 420.945 210.463 426.362 Q210.463 431.94 206.991 435.042 Q203.519 438.121 197.2 438.121 Q195.024 438.121 192.755 437.751 Q190.51 437.38 188.102 436.64 L188.102 431.94 Q190.186 433.075 192.408 433.63 Q194.63 434.186 197.107 434.186 Q201.112 434.186 203.449 432.079 Q205.787 429.973 205.787 426.362 Q205.787 422.751 203.449 420.644 Q201.112 418.538 197.107 418.538 Q195.232 418.538 193.357 418.954 Q191.505 419.371 189.561 420.251 L189.561 402.89 Z\" fill=\"#000000\" fill-rule=\"nonzero\" fill-opacity=\"1\" /><path clip-path=\"url(#clip320)\" d=\"M229.676 405.968 Q226.065 405.968 224.236 409.533 Q222.431 413.075 222.431 420.204 Q222.431 427.311 224.236 430.876 Q226.065 434.417 229.676 434.417 Q233.31 434.417 235.116 430.876 Q236.945 427.311 236.945 420.204 Q236.945 413.075 235.116 409.533 Q233.31 405.968 229.676 405.968 M229.676 402.265 Q235.486 402.265 238.542 406.871 Q241.621 411.454 241.621 420.204 Q241.621 428.931 238.542 433.538 Q235.486 438.121 229.676 438.121 Q223.866 438.121 220.787 433.538 Q217.732 428.931 217.732 420.204 Q217.732 411.454 220.787 406.871 Q223.866 402.265 229.676 402.265 Z\" fill=\"#000000\" fill-rule=\"nonzero\" fill-opacity=\"1\" /><path clip-path=\"url(#clip320)\" d=\"M115.927 216.63 L123.566 216.63 L123.566 190.265 L115.256 191.931 L115.256 187.672 L123.519 186.006 L128.195 186.006 L128.195 216.63 L135.834 216.63 L135.834 220.566 L115.927 220.566 L115.927 216.63 Z\" fill=\"#000000\" fill-rule=\"nonzero\" fill-opacity=\"1\" /><path clip-path=\"url(#clip320)\" d=\"M145.325 186.006 L163.681 186.006 L163.681 189.941 L149.607 189.941 L149.607 198.413 Q150.626 198.066 151.644 197.904 Q152.663 197.718 153.681 197.718 Q159.468 197.718 162.848 200.89 Q166.227 204.061 166.227 209.478 Q166.227 215.056 162.755 218.158 Q159.283 221.237 152.964 221.237 Q150.788 221.237 148.519 220.866 Q146.274 220.496 143.866 219.755 L143.866 215.056 Q145.95 216.191 148.172 216.746 Q150.394 217.302 152.871 217.302 Q156.876 217.302 159.214 215.195 Q161.552 213.089 161.552 209.478 Q161.552 205.867 159.214 203.76 Q156.876 201.654 152.871 201.654 Q150.996 201.654 149.121 202.07 Q147.269 202.487 145.325 203.367 L145.325 186.006 Z\" fill=\"#000000\" fill-rule=\"nonzero\" fill-opacity=\"1\" /><path clip-path=\"url(#clip320)\" d=\"M175.44 214.686 L180.325 214.686 L180.325 220.566 L175.44 220.566 L175.44 214.686 Z\" fill=\"#000000\" fill-rule=\"nonzero\" fill-opacity=\"1\" /><path clip-path=\"url(#clip320)\" d=\"M189.329 186.006 L211.551 186.006 L211.551 187.996 L199.005 220.566 L194.121 220.566 L205.926 189.941 L189.329 189.941 L189.329 186.006 Z\" fill=\"#000000\" fill-rule=\"nonzero\" fill-opacity=\"1\" /><path clip-path=\"url(#clip320)\" d=\"M220.718 186.006 L239.074 186.006 L239.074 189.941 L225 189.941 L225 198.413 Q226.019 198.066 227.037 197.904 Q228.056 197.718 229.074 197.718 Q234.861 197.718 238.241 200.89 Q241.621 204.061 241.621 209.478 Q241.621 215.056 238.148 218.158 Q234.676 221.237 228.357 221.237 Q226.181 221.237 223.912 220.866 Q221.667 220.496 219.26 219.755 L219.26 215.056 Q221.343 216.191 223.565 216.746 Q225.787 217.302 228.264 217.302 Q232.269 217.302 234.607 215.195 Q236.945 213.089 236.945 209.478 Q236.945 205.867 234.607 203.76 Q232.269 201.654 228.264 201.654 Q226.389 201.654 224.514 202.07 Q222.662 202.487 220.718 203.367 L220.718 186.006 Z\" fill=\"#000000\" fill-rule=\"nonzero\" fill-opacity=\"1\" /><path clip-path=\"url(#clip320)\" d=\"M18.2347 959.254 L28.3562 959.254 L28.3562 947.191 L32.9077 947.191 L32.9077 959.254 L52.2594 959.254 Q56.6199 959.254 57.8613 958.076 Q59.1026 956.867 59.1026 953.206 L59.1026 947.191 L64.0042 947.191 L64.0042 953.206 Q64.0042 959.986 61.4897 962.564 Q58.9434 965.142 52.2594 965.142 L32.9077 965.142 L32.9077 969.439 L28.3562 969.439 L28.3562 965.142 L18.2347 965.142 L18.2347 959.254 Z\" fill=\"#000000\" fill-rule=\"nonzero\" fill-opacity=\"1\" /><path clip-path=\"url(#clip320)\" d=\"M44.7161 908.996 L47.5806 908.996 L47.5806 935.923 Q53.6281 935.541 56.8109 932.295 Q59.9619 929.017 59.9619 923.192 Q59.9619 919.818 59.1344 916.667 Q58.3069 913.484 56.6518 910.365 L62.1899 910.365 Q63.5267 913.516 64.227 916.826 Q64.9272 920.136 64.9272 923.542 Q64.9272 932.072 59.9619 937.069 Q54.9967 942.034 46.5303 942.034 Q37.7774 942.034 32.6531 937.324 Q27.4968 932.581 27.4968 924.561 Q27.4968 917.367 32.1438 913.198 Q36.7589 908.996 44.7161 908.996 M42.9973 914.853 Q38.1912 914.917 35.3266 917.558 Q32.4621 920.168 32.4621 924.497 Q32.4621 929.399 35.2312 932.359 Q38.0002 935.287 43.0292 935.732 L42.9973 914.853 Z\" fill=\"#000000\" fill-rule=\"nonzero\" fill-opacity=\"1\" /><path clip-path=\"url(#clip320)\" d=\"M35.1993 871.63 Q31.2526 869.434 29.3747 866.378 Q27.4968 863.322 27.4968 859.185 Q27.4968 853.615 31.4117 850.591 Q35.2948 847.567 42.4881 847.567 L64.0042 847.567 L64.0042 853.456 L42.679 853.456 Q37.5546 853.456 35.072 855.27 Q32.5894 857.084 32.5894 860.808 Q32.5894 865.359 35.6131 868.001 Q38.6368 870.643 43.8567 870.643 L64.0042 870.643 L64.0042 876.531 L42.679 876.531 Q37.5228 876.531 35.072 878.346 Q32.5894 880.16 32.5894 883.947 Q32.5894 888.435 35.6449 891.077 Q38.6686 893.719 43.8567 893.719 L64.0042 893.719 L64.0042 899.607 L28.3562 899.607 L28.3562 893.719 L33.8944 893.719 Q30.616 891.714 29.0564 888.913 Q27.4968 886.112 27.4968 882.26 Q27.4968 878.377 29.4702 875.672 Q31.4436 872.935 35.1993 871.63 Z\" fill=\"#000000\" fill-rule=\"nonzero\" fill-opacity=\"1\" /><path clip-path=\"url(#clip320)\" d=\"M58.657 830.221 L77.5631 830.221 L77.5631 836.109 L28.3562 836.109 L28.3562 830.221 L33.7671 830.221 Q30.5842 828.375 29.0564 825.574 Q27.4968 822.741 27.4968 818.826 Q27.4968 812.333 32.6531 808.291 Q37.8093 804.217 46.212 804.217 Q54.6147 804.217 59.771 808.291 Q64.9272 812.333 64.9272 818.826 Q64.9272 822.741 63.3994 825.574 Q61.8398 828.375 58.657 830.221 M46.212 810.296 Q39.7508 810.296 36.0905 812.97 Q32.3984 815.611 32.3984 820.258 Q32.3984 824.905 36.0905 827.579 Q39.7508 830.221 46.212 830.221 Q52.6732 830.221 56.3653 827.579 Q60.0256 824.905 60.0256 820.258 Q60.0256 815.611 56.3653 812.97 Q52.6732 810.296 46.212 810.296 Z\" fill=\"#000000\" fill-rule=\"nonzero\" fill-opacity=\"1\" /><path clip-path=\"url(#clip320)\" d=\"M44.7161 764.017 L47.5806 764.017 L47.5806 790.944 Q53.6281 790.562 56.8109 787.316 Q59.9619 784.038 59.9619 778.213 Q59.9619 774.839 59.1344 771.688 Q58.3069 768.505 56.6518 765.386 L62.1899 765.386 Q63.5267 768.537 64.227 771.847 Q64.9272 775.157 64.9272 778.563 Q64.9272 787.093 59.9619 792.09 Q54.9967 797.055 46.5303 797.055 Q37.7774 797.055 32.6531 792.345 Q27.4968 787.602 27.4968 779.582 Q27.4968 772.388 32.1438 768.219 Q36.7589 764.017 44.7161 764.017 M42.9973 769.874 Q38.1912 769.938 35.3266 772.579 Q32.4621 775.189 32.4621 779.518 Q32.4621 784.42 35.2312 787.38 Q38.0002 790.308 43.0292 790.753 L42.9973 769.874 Z\" fill=\"#000000\" fill-rule=\"nonzero\" fill-opacity=\"1\" /><path clip-path=\"url(#clip320)\" d=\"M33.8307 733.749 Q33.2578 734.735 33.0032 735.913 Q32.7167 737.059 32.7167 738.459 Q32.7167 743.424 35.9632 746.098 Q39.1779 748.74 45.2253 748.74 L64.0042 748.74 L64.0042 754.628 L28.3562 754.628 L28.3562 748.74 L33.8944 748.74 Q30.6479 746.894 29.0883 743.934 Q27.4968 740.974 27.4968 736.74 Q27.4968 736.136 27.5923 735.404 Q27.656 734.672 27.8151 733.78 L33.8307 733.749 Z\" fill=\"#000000\" fill-rule=\"nonzero\" fill-opacity=\"1\" /><path clip-path=\"url(#clip320)\" d=\"M46.0847 711.405 Q46.0847 718.503 47.7079 721.24 Q49.3312 723.977 53.2461 723.977 Q56.3653 723.977 58.2114 721.94 Q60.0256 719.871 60.0256 716.338 Q60.0256 711.469 56.5881 708.54 Q53.1188 705.58 47.3897 705.58 L46.0847 705.58 L46.0847 711.405 M43.6657 699.724 L64.0042 699.724 L64.0042 705.58 L58.5933 705.58 Q61.8398 707.585 63.3994 710.577 Q64.9272 713.569 64.9272 717.898 Q64.9272 723.372 61.8716 726.619 Q58.7843 729.834 53.6281 729.834 Q47.6125 729.834 44.5569 725.823 Q41.5014 721.781 41.5014 713.792 L41.5014 705.58 L40.9285 705.58 Q36.8862 705.58 34.6901 708.254 Q32.4621 710.896 32.4621 715.702 Q32.4621 718.757 33.1941 721.654 Q33.9262 724.55 35.3903 727.224 L29.9795 727.224 Q28.7381 724.009 28.1334 720.985 Q27.4968 717.962 27.4968 715.097 Q27.4968 707.363 31.5072 703.543 Q35.5176 699.724 43.6657 699.724 Z\" fill=\"#000000\" fill-rule=\"nonzero\" fill-opacity=\"1\" /><path clip-path=\"url(#clip320)\" d=\"M18.2347 681.868 L28.3562 681.868 L28.3562 669.805 L32.9077 669.805 L32.9077 681.868 L52.2594 681.868 Q56.6199 681.868 57.8613 680.69 Q59.1026 679.481 59.1026 675.821 L59.1026 669.805 L64.0042 669.805 L64.0042 675.821 Q64.0042 682.6 61.4897 685.178 Q58.9434 687.756 52.2594 687.756 L32.9077 687.756 L32.9077 692.053 L28.3562 692.053 L28.3562 687.756 L18.2347 687.756 L18.2347 681.868 Z\" fill=\"#000000\" fill-rule=\"nonzero\" fill-opacity=\"1\" /><path clip-path=\"url(#clip320)\" d=\"M49.9359 662.707 L28.3562 662.707 L28.3562 656.851 L49.7131 656.851 Q54.7739 656.851 57.3202 654.877 Q59.8346 652.904 59.8346 648.957 Q59.8346 644.215 56.8109 641.478 Q53.7872 638.709 48.5673 638.709 L28.3562 638.709 L28.3562 632.852 L64.0042 632.852 L64.0042 638.709 L58.5296 638.709 Q61.7762 640.841 63.3676 643.674 Q64.9272 646.475 64.9272 650.199 Q64.9272 656.342 61.1078 659.524 Q57.2883 662.707 49.9359 662.707 M27.4968 647.971 L27.4968 647.971 Z\" fill=\"#000000\" fill-rule=\"nonzero\" fill-opacity=\"1\" /><path clip-path=\"url(#clip320)\" d=\"M33.8307 600.132 Q33.2578 601.119 33.0032 602.297 Q32.7167 603.442 32.7167 604.843 Q32.7167 609.808 35.9632 612.482 Q39.1779 615.124 45.2253 615.124 L64.0042 615.124 L64.0042 621.012 L28.3562 621.012 L28.3562 615.124 L33.8944 615.124 Q30.6479 613.278 29.0883 610.317 Q27.4968 607.357 27.4968 603.124 Q27.4968 602.519 27.5923 601.787 Q27.656 601.055 27.8151 600.164 L33.8307 600.132 Z\" fill=\"#000000\" fill-rule=\"nonzero\" fill-opacity=\"1\" /><path clip-path=\"url(#clip320)\" d=\"M44.7161 564.93 L47.5806 564.93 L47.5806 591.857 Q53.6281 591.475 56.8109 588.228 Q59.9619 584.95 59.9619 579.125 Q59.9619 575.752 59.1344 572.601 Q58.3069 569.418 56.6518 566.299 L62.1899 566.299 Q63.5267 569.45 64.227 572.76 Q64.9272 576.07 64.9272 579.476 Q64.9272 588.006 59.9619 593.003 Q54.9967 597.968 46.5303 597.968 Q37.7774 597.968 32.6531 593.257 Q27.4968 588.515 27.4968 580.494 Q27.4968 573.301 32.1438 569.131 Q36.7589 564.93 44.7161 564.93 M42.9973 570.786 Q38.1912 570.85 35.3266 573.492 Q32.4621 576.102 32.4621 580.43 Q32.4621 585.332 35.2312 588.292 Q38.0002 591.22 43.0292 591.666 L42.9973 570.786 Z\" fill=\"#000000\" fill-rule=\"nonzero\" fill-opacity=\"1\" /><path clip-path=\"url(#clip320)\" d=\"M1224.29 14.324 L1224.29 27.2059 L1239.64 27.2059 L1239.64 32.9987 L1224.29 32.9987 L1224.29 57.6282 Q1224.29 63.1779 1225.78 64.7578 Q1227.32 66.3376 1231.98 66.3376 L1239.64 66.3376 L1239.64 72.576 L1231.98 72.576 Q1223.35 72.576 1220.07 69.3758 Q1216.79 66.1351 1216.79 57.6282 L1216.79 32.9987 L1211.32 32.9987 L1211.32 27.2059 L1216.79 27.2059 L1216.79 14.324 L1224.29 14.324 Z\" fill=\"#000000\" fill-rule=\"nonzero\" fill-opacity=\"1\" /><path clip-path=\"url(#clip320)\" d=\"M1249.44 27.2059 L1256.9 27.2059 L1256.9 72.576 L1249.44 72.576 L1249.44 27.2059 M1249.44 9.54393 L1256.9 9.54393 L1256.9 18.9825 L1249.44 18.9825 L1249.44 9.54393 Z\" fill=\"#000000\" fill-rule=\"nonzero\" fill-opacity=\"1\" /><path clip-path=\"url(#clip320)\" d=\"M1279.86 14.324 L1279.86 27.2059 L1295.22 27.2059 L1295.22 32.9987 L1279.86 32.9987 L1279.86 57.6282 Q1279.86 63.1779 1281.36 64.7578 Q1282.9 66.3376 1287.56 66.3376 L1295.22 66.3376 L1295.22 72.576 L1287.56 72.576 Q1278.93 72.576 1275.65 69.3758 Q1272.37 66.1351 1272.37 57.6282 L1272.37 32.9987 L1266.9 32.9987 L1266.9 27.2059 L1272.37 27.2059 L1272.37 14.324 L1279.86 14.324 Z\" fill=\"#000000\" fill-rule=\"nonzero\" fill-opacity=\"1\" /><path clip-path=\"url(#clip320)\" d=\"M1304.25 54.671 L1304.25 27.2059 L1311.7 27.2059 L1311.7 54.3874 Q1311.7 60.8284 1314.22 64.0691 Q1316.73 67.2693 1321.75 67.2693 Q1327.79 67.2693 1331.27 63.421 Q1334.79 59.5726 1334.79 52.9291 L1334.79 27.2059 L1342.25 27.2059 L1342.25 72.576 L1334.79 72.576 L1334.79 65.6084 Q1332.08 69.7404 1328.48 71.7658 Q1324.91 73.7508 1320.17 73.7508 Q1312.35 73.7508 1308.3 68.8897 Q1304.25 64.0286 1304.25 54.671 M1323.01 26.1121 L1323.01 26.1121 Z\" fill=\"#000000\" fill-rule=\"nonzero\" fill-opacity=\"1\" /><path clip-path=\"url(#clip320)\" d=\"M1357.6 9.54393 L1365.05 9.54393 L1365.05 72.576 L1357.6 72.576 L1357.6 9.54393 Z\" fill=\"#000000\" fill-rule=\"nonzero\" fill-opacity=\"1\" /><path clip-path=\"url(#clip320)\" d=\"M1398.23 32.4315 Q1392.24 32.4315 1388.75 37.1306 Q1385.27 41.7891 1385.27 49.9314 Q1385.27 58.0738 1388.71 62.7728 Q1392.2 67.4314 1398.23 67.4314 Q1404.19 67.4314 1407.67 62.7323 Q1411.15 58.0333 1411.15 49.9314 Q1411.15 41.8701 1407.67 37.1711 Q1404.19 32.4315 1398.23 32.4315 M1398.23 26.1121 Q1407.95 26.1121 1413.5 32.4315 Q1419.05 38.7509 1419.05 49.9314 Q1419.05 61.0714 1413.5 67.4314 Q1407.95 73.7508 1398.23 73.7508 Q1388.47 73.7508 1382.92 67.4314 Q1377.41 61.0714 1377.41 49.9314 Q1377.41 38.7509 1382.92 32.4315 Q1388.47 26.1121 1398.23 26.1121 Z\" fill=\"#000000\" fill-rule=\"nonzero\" fill-opacity=\"1\" /><polyline clip-path=\"url(#clip322)\" style=\"stroke:#009af9; stroke-linecap:round; stroke-linejoin:round; stroke-width:4; stroke-opacity:1; fill:none\" points=\"336.351,1374.46 1424.36,1287.71 1641.96,1027.45 2077.16,680.431 2277.36,420.17 2294.03,159.909 \"/>\n",
       "<circle clip-path=\"url(#clip322)\" cx=\"336.351\" cy=\"1374.46\" r=\"14.4\" fill=\"#e26f46\" fill-rule=\"evenodd\" fill-opacity=\"1\" stroke=\"#000000\" stroke-opacity=\"1\" stroke-width=\"3.2\"/>\n",
       "<circle clip-path=\"url(#clip322)\" cx=\"1424.36\" cy=\"1287.71\" r=\"14.4\" fill=\"#e26f46\" fill-rule=\"evenodd\" fill-opacity=\"1\" stroke=\"#000000\" stroke-opacity=\"1\" stroke-width=\"3.2\"/>\n",
       "<circle clip-path=\"url(#clip322)\" cx=\"1641.96\" cy=\"1027.45\" r=\"14.4\" fill=\"#e26f46\" fill-rule=\"evenodd\" fill-opacity=\"1\" stroke=\"#000000\" stroke-opacity=\"1\" stroke-width=\"3.2\"/>\n",
       "<circle clip-path=\"url(#clip322)\" cx=\"2077.16\" cy=\"680.431\" r=\"14.4\" fill=\"#e26f46\" fill-rule=\"evenodd\" fill-opacity=\"1\" stroke=\"#000000\" stroke-opacity=\"1\" stroke-width=\"3.2\"/>\n",
       "<circle clip-path=\"url(#clip322)\" cx=\"2277.36\" cy=\"420.17\" r=\"14.4\" fill=\"#e26f46\" fill-rule=\"evenodd\" fill-opacity=\"1\" stroke=\"#000000\" stroke-opacity=\"1\" stroke-width=\"3.2\"/>\n",
       "<circle clip-path=\"url(#clip322)\" cx=\"2294.03\" cy=\"159.909\" r=\"14.4\" fill=\"#e26f46\" fill-rule=\"evenodd\" fill-opacity=\"1\" stroke=\"#000000\" stroke-opacity=\"1\" stroke-width=\"3.2\"/>\n",
       "<path clip-path=\"url(#clip320)\" d=\"M1937.09 321.906 L2283.58 321.906 L2283.58 166.386 L1937.09 166.386  Z\" fill=\"#ffffff\" fill-rule=\"evenodd\" fill-opacity=\"1\"/>\n",
       "<polyline clip-path=\"url(#clip320)\" style=\"stroke:#000000; stroke-linecap:round; stroke-linejoin:round; stroke-width:4; stroke-opacity:1; fill:none\" points=\"1937.09,321.906 2283.58,321.906 2283.58,166.386 1937.09,166.386 1937.09,321.906 \"/>\n",
       "<polyline clip-path=\"url(#clip320)\" style=\"stroke:#009af9; stroke-linecap:round; stroke-linejoin:round; stroke-width:4; stroke-opacity:1; fill:none\" points=\"1960.15,218.226 2098.49,218.226 \"/>\n",
       "<path clip-path=\"url(#clip320)\" d=\"M2121.55 199.488 L2125.81 199.488 L2125.81 235.506 L2121.55 235.506 L2121.55 199.488 Z\" fill=\"#000000\" fill-rule=\"nonzero\" fill-opacity=\"1\" /><path clip-path=\"url(#clip320)\" d=\"M2134.72 209.58 L2138.98 209.58 L2138.98 235.506 L2134.72 235.506 L2134.72 209.58 M2134.72 199.488 L2138.98 199.488 L2138.98 204.881 L2134.72 204.881 L2134.72 199.488 Z\" fill=\"#000000\" fill-rule=\"nonzero\" fill-opacity=\"1\" /><path clip-path=\"url(#clip320)\" d=\"M2169.44 219.858 L2169.44 235.506 L2165.18 235.506 L2165.18 219.997 Q2165.18 216.317 2163.75 214.488 Q2162.31 212.659 2159.44 212.659 Q2155.99 212.659 2154 214.858 Q2152.01 217.057 2152.01 220.854 L2152.01 235.506 L2147.73 235.506 L2147.73 209.58 L2152.01 209.58 L2152.01 213.608 Q2153.54 211.27 2155.6 210.113 Q2157.68 208.955 2160.39 208.955 Q2164.86 208.955 2167.15 211.733 Q2169.44 214.488 2169.44 219.858 Z\" fill=\"#000000\" fill-rule=\"nonzero\" fill-opacity=\"1\" /><path clip-path=\"url(#clip320)\" d=\"M2200.11 221.479 L2200.11 223.562 L2180.53 223.562 Q2180.81 227.96 2183.17 230.275 Q2185.55 232.566 2189.79 232.566 Q2192.24 232.566 2194.53 231.965 Q2196.85 231.363 2199.12 230.159 L2199.12 234.187 Q2196.82 235.159 2194.42 235.668 Q2192.01 236.178 2189.53 236.178 Q2183.33 236.178 2179.69 232.566 Q2176.08 228.955 2176.08 222.798 Q2176.08 216.432 2179.51 212.705 Q2182.96 208.955 2188.79 208.955 Q2194.02 208.955 2197.06 212.335 Q2200.11 215.692 2200.11 221.479 M2195.85 220.229 Q2195.81 216.733 2193.88 214.65 Q2191.99 212.567 2188.84 212.567 Q2185.27 212.567 2183.12 214.58 Q2180.99 216.594 2180.67 220.252 L2195.85 220.229 Z\" fill=\"#000000\" fill-rule=\"nonzero\" fill-opacity=\"1\" /><circle clip-path=\"url(#clip320)\" cx=\"2029.32\" cy=\"270.066\" r=\"20.48\" fill=\"#e26f46\" fill-rule=\"evenodd\" fill-opacity=\"1\" stroke=\"#000000\" stroke-opacity=\"1\" stroke-width=\"4.55111\"/>\n",
       "<path clip-path=\"url(#clip320)\" d=\"M2125.83 283.457 L2125.83 297.207 L2121.55 297.207 L2121.55 261.42 L2125.83 261.42 L2125.83 265.356 Q2127.17 263.041 2129.21 261.93 Q2131.27 260.795 2134.12 260.795 Q2138.84 260.795 2141.78 264.545 Q2144.74 268.295 2144.74 274.407 Q2144.74 280.518 2141.78 284.268 Q2138.84 288.018 2134.12 288.018 Q2131.27 288.018 2129.21 286.906 Q2127.17 285.772 2125.83 283.457 M2140.32 274.407 Q2140.32 269.707 2138.38 267.045 Q2136.45 264.36 2133.07 264.36 Q2129.7 264.36 2127.75 267.045 Q2125.83 269.707 2125.83 274.407 Q2125.83 279.106 2127.75 281.791 Q2129.7 284.453 2133.07 284.453 Q2136.45 284.453 2138.38 281.791 Q2140.32 279.106 2140.32 274.407 Z\" fill=\"#000000\" fill-rule=\"nonzero\" fill-opacity=\"1\" /><path clip-path=\"url(#clip320)\" d=\"M2161.85 264.407 Q2158.42 264.407 2156.43 267.092 Q2154.44 269.754 2154.44 274.407 Q2154.44 279.059 2156.41 281.744 Q2158.4 284.406 2161.85 284.406 Q2165.25 284.406 2167.24 281.721 Q2169.23 279.036 2169.23 274.407 Q2169.23 269.8 2167.24 267.115 Q2165.25 264.407 2161.85 264.407 M2161.85 260.795 Q2167.4 260.795 2170.57 264.407 Q2173.75 268.018 2173.75 274.407 Q2173.75 280.772 2170.57 284.406 Q2167.4 288.018 2161.85 288.018 Q2156.27 288.018 2153.1 284.406 Q2149.95 280.772 2149.95 274.407 Q2149.95 268.018 2153.1 264.407 Q2156.27 260.795 2161.85 260.795 Z\" fill=\"#000000\" fill-rule=\"nonzero\" fill-opacity=\"1\" /><path clip-path=\"url(#clip320)\" d=\"M2180.81 261.42 L2185.07 261.42 L2185.07 287.346 L2180.81 287.346 L2180.81 261.42 M2180.81 251.328 L2185.07 251.328 L2185.07 256.721 L2180.81 256.721 L2180.81 251.328 Z\" fill=\"#000000\" fill-rule=\"nonzero\" fill-opacity=\"1\" /><path clip-path=\"url(#clip320)\" d=\"M2215.53 271.698 L2215.53 287.346 L2211.27 287.346 L2211.27 271.837 Q2211.27 268.157 2209.83 266.328 Q2208.4 264.499 2205.53 264.499 Q2202.08 264.499 2200.09 266.698 Q2198.1 268.897 2198.1 272.694 L2198.1 287.346 L2193.82 287.346 L2193.82 261.42 L2198.1 261.42 L2198.1 265.448 Q2199.63 263.11 2201.69 261.953 Q2203.77 260.795 2206.48 260.795 Q2210.94 260.795 2213.24 263.573 Q2215.53 266.328 2215.53 271.698 Z\" fill=\"#000000\" fill-rule=\"nonzero\" fill-opacity=\"1\" /><path clip-path=\"url(#clip320)\" d=\"M2228.24 254.059 L2228.24 261.42 L2237.01 261.42 L2237.01 264.731 L2228.24 264.731 L2228.24 278.805 Q2228.24 281.976 2229.09 282.879 Q2229.97 283.781 2232.63 283.781 L2237.01 283.781 L2237.01 287.346 L2232.63 287.346 Q2227.7 287.346 2225.83 285.518 Q2223.95 283.666 2223.95 278.805 L2223.95 264.731 L2220.83 264.731 L2220.83 261.42 L2223.95 261.42 L2223.95 254.059 L2228.24 254.059 Z\" fill=\"#000000\" fill-rule=\"nonzero\" fill-opacity=\"1\" /><path clip-path=\"url(#clip320)\" d=\"M2259.14 262.184 L2259.14 266.212 Q2257.33 265.286 2255.39 264.823 Q2253.44 264.36 2251.36 264.36 Q2248.19 264.36 2246.59 265.333 Q2245.02 266.305 2245.02 268.249 Q2245.02 269.731 2246.15 270.587 Q2247.29 271.42 2250.71 272.184 L2252.17 272.508 Q2256.71 273.481 2258.61 275.263 Q2260.53 277.022 2260.53 280.194 Q2260.53 283.805 2257.66 285.911 Q2254.81 288.018 2249.81 288.018 Q2247.73 288.018 2245.46 287.601 Q2243.21 287.207 2240.71 286.397 L2240.71 281.999 Q2243.07 283.226 2245.37 283.851 Q2247.66 284.453 2249.9 284.453 Q2252.91 284.453 2254.53 283.434 Q2256.15 282.393 2256.15 280.518 Q2256.15 278.782 2254.97 277.856 Q2253.81 276.93 2249.86 276.073 L2248.37 275.726 Q2244.42 274.893 2242.66 273.18 Q2240.9 271.444 2240.9 268.434 Q2240.9 264.777 2243.49 262.786 Q2246.08 260.795 2250.85 260.795 Q2253.21 260.795 2255.3 261.143 Q2257.38 261.49 2259.14 262.184 Z\" fill=\"#000000\" fill-rule=\"nonzero\" fill-opacity=\"1\" /></svg>\n"
      ],
      "text/html": [
       "<?xml version=\"1.0\" encoding=\"utf-8\"?>\n",
       "<svg xmlns=\"http://www.w3.org/2000/svg\" xmlns:xlink=\"http://www.w3.org/1999/xlink\" width=\"600\" height=\"400\" viewBox=\"0 0 2400 1600\">\n",
       "<defs>\n",
       "  <clipPath id=\"clip370\">\n",
       "    <rect x=\"0\" y=\"0\" width=\"2400\" height=\"1600\"/>\n",
       "  </clipPath>\n",
       "</defs>\n",
       "<path clip-path=\"url(#clip370)\" d=\"M0 1600 L2400 1600 L2400 0 L0 0  Z\" fill=\"#ffffff\" fill-rule=\"evenodd\" fill-opacity=\"1\"/>\n",
       "<defs>\n",
       "  <clipPath id=\"clip371\">\n",
       "    <rect x=\"480\" y=\"0\" width=\"1681\" height=\"1600\"/>\n",
       "  </clipPath>\n",
       "</defs>\n",
       "<path clip-path=\"url(#clip370)\" d=\"M277.621 1410.9 L2352.76 1410.9 L2352.76 123.472 L277.621 123.472  Z\" fill=\"#ffffff\" fill-rule=\"evenodd\" fill-opacity=\"1\"/>\n",
       "<defs>\n",
       "  <clipPath id=\"clip372\">\n",
       "    <rect x=\"277\" y=\"123\" width=\"2076\" height=\"1288\"/>\n",
       "  </clipPath>\n",
       "</defs>\n",
       "<polyline clip-path=\"url(#clip372)\" style=\"stroke:#000000; stroke-linecap:round; stroke-linejoin:round; stroke-width:2; stroke-opacity:0.1; fill:none\" points=\"2294.77,1410.9 2294.77,123.472 \"/>\n",
       "<polyline clip-path=\"url(#clip372)\" style=\"stroke:#000000; stroke-linecap:round; stroke-linejoin:round; stroke-width:2; stroke-opacity:0.1; fill:none\" points=\"1859.56,1410.9 1859.56,123.472 \"/>\n",
       "<polyline clip-path=\"url(#clip372)\" style=\"stroke:#000000; stroke-linecap:round; stroke-linejoin:round; stroke-width:2; stroke-opacity:0.1; fill:none\" points=\"1424.36,1410.9 1424.36,123.472 \"/>\n",
       "<polyline clip-path=\"url(#clip372)\" style=\"stroke:#000000; stroke-linecap:round; stroke-linejoin:round; stroke-width:2; stroke-opacity:0.1; fill:none\" points=\"989.156,1410.9 989.156,123.472 \"/>\n",
       "<polyline clip-path=\"url(#clip372)\" style=\"stroke:#000000; stroke-linecap:round; stroke-linejoin:round; stroke-width:2; stroke-opacity:0.1; fill:none\" points=\"553.952,1410.9 553.952,123.472 \"/>\n",
       "<polyline clip-path=\"url(#clip370)\" style=\"stroke:#000000; stroke-linecap:round; stroke-linejoin:round; stroke-width:4; stroke-opacity:1; fill:none\" points=\"2352.76,1410.9 277.621,1410.9 \"/>\n",
       "<polyline clip-path=\"url(#clip370)\" style=\"stroke:#000000; stroke-linecap:round; stroke-linejoin:round; stroke-width:4; stroke-opacity:1; fill:none\" points=\"2294.77,1410.9 2294.77,1392 \"/>\n",
       "<polyline clip-path=\"url(#clip370)\" style=\"stroke:#000000; stroke-linecap:round; stroke-linejoin:round; stroke-width:4; stroke-opacity:1; fill:none\" points=\"1859.56,1410.9 1859.56,1392 \"/>\n",
       "<polyline clip-path=\"url(#clip370)\" style=\"stroke:#000000; stroke-linecap:round; stroke-linejoin:round; stroke-width:4; stroke-opacity:1; fill:none\" points=\"1424.36,1410.9 1424.36,1392 \"/>\n",
       "<polyline clip-path=\"url(#clip370)\" style=\"stroke:#000000; stroke-linecap:round; stroke-linejoin:round; stroke-width:4; stroke-opacity:1; fill:none\" points=\"989.156,1410.9 989.156,1392 \"/>\n",
       "<polyline clip-path=\"url(#clip370)\" style=\"stroke:#000000; stroke-linecap:round; stroke-linejoin:round; stroke-width:4; stroke-opacity:1; fill:none\" points=\"553.952,1410.9 553.952,1392 \"/>\n",
       "<path clip-path=\"url(#clip370)\" d=\"M2294.77 1441.82 Q2291.15 1441.82 2289.33 1445.38 Q2287.52 1448.92 2287.52 1456.05 Q2287.52 1463.16 2289.33 1466.72 Q2291.15 1470.26 2294.77 1470.26 Q2298.4 1470.26 2300.21 1466.72 Q2302.03 1463.16 2302.03 1456.05 Q2302.03 1448.92 2300.21 1445.38 Q2298.4 1441.82 2294.77 1441.82 M2294.77 1438.11 Q2300.58 1438.11 2303.63 1442.72 Q2306.71 1447.3 2306.71 1456.05 Q2306.71 1464.78 2303.63 1469.38 Q2300.58 1473.97 2294.77 1473.97 Q2288.96 1473.97 2285.88 1469.38 Q2282.82 1464.78 2282.82 1456.05 Q2282.82 1447.3 2285.88 1442.72 Q2288.96 1438.11 2294.77 1438.11 Z\" fill=\"#000000\" fill-rule=\"nonzero\" fill-opacity=\"1\" /><path clip-path=\"url(#clip370)\" d=\"M1766.46 1485.02 L1774.1 1485.02 L1774.1 1458.66 L1765.79 1460.32 L1765.79 1456.06 L1774.05 1454.4 L1778.73 1454.4 L1778.73 1485.02 L1786.37 1485.02 L1786.37 1488.96 L1766.46 1488.96 L1766.46 1485.02 Z\" fill=\"#000000\" fill-rule=\"nonzero\" fill-opacity=\"1\" /><path clip-path=\"url(#clip370)\" d=\"M1795.81 1483.08 L1800.7 1483.08 L1800.7 1488.96 L1795.81 1488.96 L1795.81 1483.08 Z\" fill=\"#000000\" fill-rule=\"nonzero\" fill-opacity=\"1\" /><path clip-path=\"url(#clip370)\" d=\"M1820.88 1457.48 Q1817.27 1457.48 1815.44 1461.04 Q1813.64 1464.58 1813.64 1471.71 Q1813.64 1478.82 1815.44 1482.38 Q1817.27 1485.92 1820.88 1485.92 Q1824.52 1485.92 1826.32 1482.38 Q1828.15 1478.82 1828.15 1471.71 Q1828.15 1464.58 1826.32 1461.04 Q1824.52 1457.48 1820.88 1457.48 M1820.88 1453.77 Q1826.69 1453.77 1829.75 1458.38 Q1832.83 1462.96 1832.83 1471.71 Q1832.83 1480.44 1829.75 1485.04 Q1826.69 1489.63 1820.88 1489.63 Q1815.07 1489.63 1811.99 1485.04 Q1808.94 1480.44 1808.94 1471.71 Q1808.94 1462.96 1811.99 1458.38 Q1815.07 1453.77 1820.88 1453.77 Z\" fill=\"#000000\" fill-rule=\"nonzero\" fill-opacity=\"1\" /><path clip-path=\"url(#clip370)\" d=\"M1869.21 1463.49 L1858.64 1474.12 L1869.21 1484.7 L1866.46 1487.5 L1855.84 1476.87 L1845.21 1487.5 L1842.48 1484.7 L1853.03 1474.12 L1842.48 1463.49 L1845.21 1460.69 L1855.84 1471.32 L1866.46 1460.69 L1869.21 1463.49 Z\" fill=\"#000000\" fill-rule=\"nonzero\" fill-opacity=\"1\" /><path clip-path=\"url(#clip370)\" d=\"M1881.58 1485.02 L1889.21 1485.02 L1889.21 1458.66 L1880.9 1460.32 L1880.9 1456.06 L1889.17 1454.4 L1893.84 1454.4 L1893.84 1485.02 L1901.48 1485.02 L1901.48 1488.96 L1881.58 1488.96 L1881.58 1485.02 Z\" fill=\"#000000\" fill-rule=\"nonzero\" fill-opacity=\"1\" /><path clip-path=\"url(#clip370)\" d=\"M1920.93 1457.48 Q1917.32 1457.48 1915.49 1461.04 Q1913.68 1464.58 1913.68 1471.71 Q1913.68 1478.82 1915.49 1482.38 Q1917.32 1485.92 1920.93 1485.92 Q1924.56 1485.92 1926.37 1482.38 Q1928.2 1478.82 1928.2 1471.71 Q1928.2 1464.58 1926.37 1461.04 Q1924.56 1457.48 1920.93 1457.48 M1920.93 1453.77 Q1926.74 1453.77 1929.79 1458.38 Q1932.87 1462.96 1932.87 1471.71 Q1932.87 1480.44 1929.79 1485.04 Q1926.74 1489.63 1920.93 1489.63 Q1915.12 1489.63 1912.04 1485.04 Q1908.98 1480.44 1908.98 1471.71 Q1908.98 1462.96 1912.04 1458.38 Q1915.12 1453.77 1920.93 1453.77 Z\" fill=\"#000000\" fill-rule=\"nonzero\" fill-opacity=\"1\" /><path clip-path=\"url(#clip370)\" d=\"M1945.55 1436.78 L1935.96 1451.77 L1945.55 1451.77 L1945.55 1436.78 M1944.55 1433.47 L1949.33 1433.47 L1949.33 1451.77 L1953.33 1451.77 L1953.33 1454.93 L1949.33 1454.93 L1949.33 1461.55 L1945.55 1461.55 L1945.55 1454.93 L1932.87 1454.93 L1932.87 1451.26 L1944.55 1433.47 Z\" fill=\"#000000\" fill-rule=\"nonzero\" fill-opacity=\"1\" /><path clip-path=\"url(#clip370)\" d=\"M1335.34 1485.02 L1351.66 1485.02 L1351.66 1488.96 L1329.72 1488.96 L1329.72 1485.02 Q1332.38 1482.27 1336.96 1477.64 Q1341.57 1472.98 1342.75 1471.64 Q1345 1469.12 1345.88 1467.38 Q1346.78 1465.62 1346.78 1463.93 Q1346.78 1461.18 1344.83 1459.44 Q1342.91 1457.71 1339.81 1457.71 Q1337.61 1457.71 1335.16 1458.47 Q1332.73 1459.23 1329.95 1460.79 L1329.95 1456.06 Q1332.77 1454.93 1335.23 1454.35 Q1337.68 1453.77 1339.72 1453.77 Q1345.09 1453.77 1348.28 1456.46 Q1351.48 1459.14 1351.48 1463.63 Q1351.48 1465.76 1350.67 1467.68 Q1349.88 1469.58 1347.77 1472.17 Q1347.2 1472.85 1344.09 1476.06 Q1340.99 1479.26 1335.34 1485.02 Z\" fill=\"#000000\" fill-rule=\"nonzero\" fill-opacity=\"1\" /><path clip-path=\"url(#clip370)\" d=\"M1361.48 1483.08 L1366.36 1483.08 L1366.36 1488.96 L1361.48 1488.96 L1361.48 1483.08 Z\" fill=\"#000000\" fill-rule=\"nonzero\" fill-opacity=\"1\" /><path clip-path=\"url(#clip370)\" d=\"M1386.55 1457.48 Q1382.94 1457.48 1381.11 1461.04 Q1379.3 1464.58 1379.3 1471.71 Q1379.3 1478.82 1381.11 1482.38 Q1382.94 1485.92 1386.55 1485.92 Q1390.18 1485.92 1391.99 1482.38 Q1393.82 1478.82 1393.82 1471.71 Q1393.82 1464.58 1391.99 1461.04 Q1390.18 1457.48 1386.55 1457.48 M1386.55 1453.77 Q1392.36 1453.77 1395.41 1458.38 Q1398.49 1462.96 1398.49 1471.71 Q1398.49 1480.44 1395.41 1485.04 Q1392.36 1489.63 1386.55 1489.63 Q1380.74 1489.63 1377.66 1485.04 Q1374.6 1480.44 1374.6 1471.71 Q1374.6 1462.96 1377.66 1458.38 Q1380.74 1453.77 1386.55 1453.77 Z\" fill=\"#000000\" fill-rule=\"nonzero\" fill-opacity=\"1\" /><path clip-path=\"url(#clip370)\" d=\"M1434.88 1463.49 L1424.3 1474.12 L1434.88 1484.7 L1432.13 1487.5 L1421.5 1476.87 L1410.88 1487.5 L1408.14 1484.7 L1418.7 1474.12 L1408.14 1463.49 L1410.88 1460.69 L1421.5 1471.32 L1432.13 1460.69 L1434.88 1463.49 Z\" fill=\"#000000\" fill-rule=\"nonzero\" fill-opacity=\"1\" /><path clip-path=\"url(#clip370)\" d=\"M1447.24 1485.02 L1454.88 1485.02 L1454.88 1458.66 L1446.57 1460.32 L1446.57 1456.06 L1454.83 1454.4 L1459.51 1454.4 L1459.51 1485.02 L1467.15 1485.02 L1467.15 1488.96 L1447.24 1488.96 L1447.24 1485.02 Z\" fill=\"#000000\" fill-rule=\"nonzero\" fill-opacity=\"1\" /><path clip-path=\"url(#clip370)\" d=\"M1486.59 1457.48 Q1482.98 1457.48 1481.15 1461.04 Q1479.35 1464.58 1479.35 1471.71 Q1479.35 1478.82 1481.15 1482.38 Q1482.98 1485.92 1486.59 1485.92 Q1490.23 1485.92 1492.03 1482.38 Q1493.86 1478.82 1493.86 1471.71 Q1493.86 1464.58 1492.03 1461.04 Q1490.23 1457.48 1486.59 1457.48 M1486.59 1453.77 Q1492.4 1453.77 1495.46 1458.38 Q1498.54 1462.96 1498.54 1471.71 Q1498.54 1480.44 1495.46 1485.04 Q1492.4 1489.63 1486.59 1489.63 Q1480.78 1489.63 1477.7 1485.04 Q1474.65 1480.44 1474.65 1471.71 Q1474.65 1462.96 1477.7 1458.38 Q1480.78 1453.77 1486.59 1453.77 Z\" fill=\"#000000\" fill-rule=\"nonzero\" fill-opacity=\"1\" /><path clip-path=\"url(#clip370)\" d=\"M1511.21 1436.78 L1501.62 1451.77 L1511.21 1451.77 L1511.21 1436.78 M1510.22 1433.47 L1514.99 1433.47 L1514.99 1451.77 L1519 1451.77 L1519 1454.93 L1514.99 1454.93 L1514.99 1461.55 L1511.21 1461.55 L1511.21 1454.93 L1498.54 1454.93 L1498.54 1451.26 L1510.22 1433.47 Z\" fill=\"#000000\" fill-rule=\"nonzero\" fill-opacity=\"1\" /><path clip-path=\"url(#clip370)\" d=\"M910.209 1470.32 Q913.566 1471.04 915.441 1473.31 Q917.339 1475.58 917.339 1478.91 Q917.339 1484.03 913.82 1486.83 Q910.302 1489.63 903.821 1489.63 Q901.645 1489.63 899.33 1489.19 Q897.038 1488.77 894.584 1487.91 L894.584 1483.4 Q896.529 1484.54 898.844 1485.11 Q901.159 1485.69 903.682 1485.69 Q908.08 1485.69 910.371 1483.96 Q912.686 1482.22 912.686 1478.91 Q912.686 1475.85 910.533 1474.14 Q908.404 1472.41 904.584 1472.41 L900.557 1472.41 L900.557 1468.56 L904.77 1468.56 Q908.219 1468.56 910.047 1467.2 Q911.876 1465.81 911.876 1463.22 Q911.876 1460.55 909.978 1459.14 Q908.103 1457.71 904.584 1457.71 Q902.663 1457.71 900.464 1458.12 Q898.265 1458.54 895.626 1459.42 L895.626 1455.25 Q898.288 1454.51 900.603 1454.14 Q902.941 1453.77 905.001 1453.77 Q910.325 1453.77 913.427 1456.2 Q916.529 1458.61 916.529 1462.73 Q916.529 1465.6 914.885 1467.59 Q913.242 1469.56 910.209 1470.32 Z\" fill=\"#000000\" fill-rule=\"nonzero\" fill-opacity=\"1\" /><path clip-path=\"url(#clip370)\" d=\"M926.205 1483.08 L931.089 1483.08 L931.089 1488.96 L926.205 1488.96 L926.205 1483.08 Z\" fill=\"#000000\" fill-rule=\"nonzero\" fill-opacity=\"1\" /><path clip-path=\"url(#clip370)\" d=\"M951.274 1457.48 Q947.663 1457.48 945.834 1461.04 Q944.029 1464.58 944.029 1471.71 Q944.029 1478.82 945.834 1482.38 Q947.663 1485.92 951.274 1485.92 Q954.908 1485.92 956.714 1482.38 Q958.542 1478.82 958.542 1471.71 Q958.542 1464.58 956.714 1461.04 Q954.908 1457.48 951.274 1457.48 M951.274 1453.77 Q957.084 1453.77 960.14 1458.38 Q963.218 1462.96 963.218 1471.71 Q963.218 1480.44 960.14 1485.04 Q957.084 1489.63 951.274 1489.63 Q945.464 1489.63 942.385 1485.04 Q939.33 1480.44 939.33 1471.71 Q939.33 1462.96 942.385 1458.38 Q945.464 1453.77 951.274 1453.77 Z\" fill=\"#000000\" fill-rule=\"nonzero\" fill-opacity=\"1\" /><path clip-path=\"url(#clip370)\" d=\"M999.607 1463.49 L989.028 1474.12 L999.607 1484.7 L996.852 1487.5 L986.227 1476.87 L975.603 1487.5 L972.871 1484.7 L983.427 1474.12 L972.871 1463.49 L975.603 1460.69 L986.227 1471.32 L996.852 1460.69 L999.607 1463.49 Z\" fill=\"#000000\" fill-rule=\"nonzero\" fill-opacity=\"1\" /><path clip-path=\"url(#clip370)\" d=\"M1011.97 1485.02 L1019.61 1485.02 L1019.61 1458.66 L1011.3 1460.32 L1011.3 1456.06 L1019.56 1454.4 L1024.24 1454.4 L1024.24 1485.02 L1031.88 1485.02 L1031.88 1488.96 L1011.97 1488.96 L1011.97 1485.02 Z\" fill=\"#000000\" fill-rule=\"nonzero\" fill-opacity=\"1\" /><path clip-path=\"url(#clip370)\" d=\"M1051.32 1457.48 Q1047.71 1457.48 1045.88 1461.04 Q1044.07 1464.58 1044.07 1471.71 Q1044.07 1478.82 1045.88 1482.38 Q1047.71 1485.92 1051.32 1485.92 Q1054.95 1485.92 1056.76 1482.38 Q1058.59 1478.82 1058.59 1471.71 Q1058.59 1464.58 1056.76 1461.04 Q1054.95 1457.48 1051.32 1457.48 M1051.32 1453.77 Q1057.13 1453.77 1060.19 1458.38 Q1063.26 1462.96 1063.26 1471.71 Q1063.26 1480.44 1060.19 1485.04 Q1057.13 1489.63 1051.32 1489.63 Q1045.51 1489.63 1042.43 1485.04 Q1039.38 1480.44 1039.38 1471.71 Q1039.38 1462.96 1042.43 1458.38 Q1045.51 1453.77 1051.32 1453.77 Z\" fill=\"#000000\" fill-rule=\"nonzero\" fill-opacity=\"1\" /><path clip-path=\"url(#clip370)\" d=\"M1075.94 1436.78 L1066.35 1451.77 L1075.94 1451.77 L1075.94 1436.78 M1074.94 1433.47 L1079.72 1433.47 L1079.72 1451.77 L1083.73 1451.77 L1083.73 1454.93 L1079.72 1454.93 L1079.72 1461.55 L1075.94 1461.55 L1075.94 1454.93 L1063.26 1454.93 L1063.26 1451.26 L1074.94 1433.47 Z\" fill=\"#000000\" fill-rule=\"nonzero\" fill-opacity=\"1\" /><path clip-path=\"url(#clip370)\" d=\"M474.335 1458.47 L462.529 1476.92 L474.335 1476.92 L474.335 1458.47 M473.108 1454.4 L478.988 1454.4 L478.988 1476.92 L483.918 1476.92 L483.918 1480.81 L478.988 1480.81 L478.988 1488.96 L474.335 1488.96 L474.335 1480.81 L458.733 1480.81 L458.733 1476.29 L473.108 1454.4 Z\" fill=\"#000000\" fill-rule=\"nonzero\" fill-opacity=\"1\" /><path clip-path=\"url(#clip370)\" d=\"M491.65 1483.08 L496.534 1483.08 L496.534 1488.96 L491.65 1488.96 L491.65 1483.08 Z\" fill=\"#000000\" fill-rule=\"nonzero\" fill-opacity=\"1\" /><path clip-path=\"url(#clip370)\" d=\"M516.719 1457.48 Q513.108 1457.48 511.279 1461.04 Q509.474 1464.58 509.474 1471.71 Q509.474 1478.82 511.279 1482.38 Q513.108 1485.92 516.719 1485.92 Q520.353 1485.92 522.159 1482.38 Q523.987 1478.82 523.987 1471.71 Q523.987 1464.58 522.159 1461.04 Q520.353 1457.48 516.719 1457.48 M516.719 1453.77 Q522.529 1453.77 525.585 1458.38 Q528.663 1462.96 528.663 1471.71 Q528.663 1480.44 525.585 1485.04 Q522.529 1489.63 516.719 1489.63 Q510.909 1489.63 507.83 1485.04 Q504.774 1480.44 504.774 1471.71 Q504.774 1462.96 507.83 1458.38 Q510.909 1453.77 516.719 1453.77 Z\" fill=\"#000000\" fill-rule=\"nonzero\" fill-opacity=\"1\" /><path clip-path=\"url(#clip370)\" d=\"M565.052 1463.49 L554.473 1474.12 L565.052 1484.7 L562.297 1487.5 L551.672 1476.87 L541.047 1487.5 L538.316 1484.7 L548.871 1474.12 L538.316 1463.49 L541.047 1460.69 L551.672 1471.32 L562.297 1460.69 L565.052 1463.49 Z\" fill=\"#000000\" fill-rule=\"nonzero\" fill-opacity=\"1\" /><path clip-path=\"url(#clip370)\" d=\"M577.413 1485.02 L585.052 1485.02 L585.052 1458.66 L576.742 1460.32 L576.742 1456.06 L585.006 1454.4 L589.681 1454.4 L589.681 1485.02 L597.32 1485.02 L597.32 1488.96 L577.413 1488.96 L577.413 1485.02 Z\" fill=\"#000000\" fill-rule=\"nonzero\" fill-opacity=\"1\" /><path clip-path=\"url(#clip370)\" d=\"M616.765 1457.48 Q613.154 1457.48 611.325 1461.04 Q609.519 1464.58 609.519 1471.71 Q609.519 1478.82 611.325 1482.38 Q613.154 1485.92 616.765 1485.92 Q620.399 1485.92 622.204 1482.38 Q624.033 1478.82 624.033 1471.71 Q624.033 1464.58 622.204 1461.04 Q620.399 1457.48 616.765 1457.48 M616.765 1453.77 Q622.575 1453.77 625.63 1458.38 Q628.709 1462.96 628.709 1471.71 Q628.709 1480.44 625.63 1485.04 Q622.575 1489.63 616.765 1489.63 Q610.954 1489.63 607.876 1485.04 Q604.82 1480.44 604.82 1471.71 Q604.82 1462.96 607.876 1458.38 Q610.954 1453.77 616.765 1453.77 Z\" fill=\"#000000\" fill-rule=\"nonzero\" fill-opacity=\"1\" /><path clip-path=\"url(#clip370)\" d=\"M641.385 1436.78 L631.793 1451.77 L641.385 1451.77 L641.385 1436.78 M640.389 1433.47 L645.166 1433.47 L645.166 1451.77 L649.172 1451.77 L649.172 1454.93 L645.166 1454.93 L645.166 1461.55 L641.385 1461.55 L641.385 1454.93 L628.709 1454.93 L628.709 1451.26 L640.389 1433.47 Z\" fill=\"#000000\" fill-rule=\"nonzero\" fill-opacity=\"1\" /><path clip-path=\"url(#clip370)\" d=\"M1215.23 1531.95 L1215.23 1549.8 L1223.32 1549.8 Q1227.8 1549.8 1230.25 1547.48 Q1232.7 1545.16 1232.7 1540.86 Q1232.7 1536.6 1230.25 1534.27 Q1227.8 1531.95 1223.32 1531.95 L1215.23 1531.95 M1208.8 1526.67 L1223.32 1526.67 Q1231.3 1526.67 1235.38 1530.29 Q1239.48 1533.89 1239.48 1540.86 Q1239.48 1547.9 1235.38 1551.49 Q1231.3 1555.09 1223.32 1555.09 L1215.23 1555.09 L1215.23 1574.19 L1208.8 1574.19 L1208.8 1526.67 Z\" fill=\"#000000\" fill-rule=\"nonzero\" fill-opacity=\"1\" /><path clip-path=\"url(#clip370)\" d=\"M1246.42 1538.54 L1252.28 1538.54 L1252.28 1574.19 L1246.42 1574.19 L1246.42 1538.54 M1246.42 1524.66 L1252.28 1524.66 L1252.28 1532.08 L1246.42 1532.08 L1246.42 1524.66 Z\" fill=\"#000000\" fill-rule=\"nonzero\" fill-opacity=\"1\" /><path clip-path=\"url(#clip370)\" d=\"M1285.19 1544.01 Q1284.2 1543.44 1283.03 1543.18 Q1281.88 1542.9 1280.48 1542.9 Q1275.51 1542.9 1272.84 1546.14 Q1270.2 1549.36 1270.2 1555.41 L1270.2 1574.19 L1264.31 1574.19 L1264.31 1538.54 L1270.2 1538.54 L1270.2 1544.08 Q1272.04 1540.83 1275 1539.27 Q1277.96 1537.68 1282.2 1537.68 Q1282.8 1537.68 1283.53 1537.77 Q1284.27 1537.84 1285.16 1538 L1285.19 1544.01 Z\" fill=\"#000000\" fill-rule=\"nonzero\" fill-opacity=\"1\" /><path clip-path=\"url(#clip370)\" d=\"M1307.53 1556.27 Q1300.44 1556.27 1297.7 1557.89 Q1294.96 1559.51 1294.96 1563.43 Q1294.96 1566.55 1297 1568.39 Q1299.07 1570.21 1302.6 1570.21 Q1307.47 1570.21 1310.4 1566.77 Q1313.36 1563.3 1313.36 1557.57 L1313.36 1556.27 L1307.53 1556.27 M1319.21 1553.85 L1319.21 1574.19 L1313.36 1574.19 L1313.36 1568.77 Q1311.35 1572.02 1308.36 1573.58 Q1305.37 1575.11 1301.04 1575.11 Q1295.57 1575.11 1292.32 1572.05 Q1289.1 1568.97 1289.1 1563.81 Q1289.1 1557.79 1293.12 1554.74 Q1297.16 1551.68 1305.15 1551.68 L1313.36 1551.68 L1313.36 1551.11 Q1313.36 1547.07 1310.68 1544.87 Q1308.04 1542.64 1303.24 1542.64 Q1300.18 1542.64 1297.28 1543.38 Q1294.39 1544.11 1291.71 1545.57 L1291.71 1540.16 Q1294.93 1538.92 1297.95 1538.31 Q1300.98 1537.68 1303.84 1537.68 Q1311.58 1537.68 1315.4 1541.69 Q1319.21 1545.7 1319.21 1553.85 Z\" fill=\"#000000\" fill-rule=\"nonzero\" fill-opacity=\"1\" /><path clip-path=\"url(#clip370)\" d=\"M1337.07 1528.42 L1337.07 1538.54 L1349.13 1538.54 L1349.13 1543.09 L1337.07 1543.09 L1337.07 1562.44 Q1337.07 1566.8 1338.25 1568.04 Q1339.46 1569.28 1343.12 1569.28 L1349.13 1569.28 L1349.13 1574.19 L1343.12 1574.19 Q1336.34 1574.19 1333.76 1571.67 Q1331.18 1569.12 1331.18 1562.44 L1331.18 1543.09 L1326.89 1543.09 L1326.89 1538.54 L1331.18 1538.54 L1331.18 1528.42 L1337.07 1528.42 Z\" fill=\"#000000\" fill-rule=\"nonzero\" fill-opacity=\"1\" /><path clip-path=\"url(#clip370)\" d=\"M1387.33 1554.9 L1387.33 1557.76 L1360.4 1557.76 Q1360.78 1563.81 1364.03 1566.99 Q1367.31 1570.14 1373.13 1570.14 Q1376.51 1570.14 1379.66 1569.32 Q1382.84 1568.49 1385.96 1566.83 L1385.96 1572.37 Q1382.81 1573.71 1379.5 1574.41 Q1376.19 1575.11 1372.78 1575.11 Q1364.25 1575.11 1359.25 1570.14 Q1354.29 1565.18 1354.29 1556.71 Q1354.29 1547.96 1359 1542.83 Q1363.74 1537.68 1371.76 1537.68 Q1378.96 1537.68 1383.13 1542.33 Q1387.33 1546.94 1387.33 1554.9 M1381.47 1553.18 Q1381.41 1548.37 1378.77 1545.51 Q1376.16 1542.64 1371.83 1542.64 Q1366.93 1542.64 1363.97 1545.41 Q1361.04 1548.18 1360.59 1553.21 L1381.47 1553.18 Z\" fill=\"#000000\" fill-rule=\"nonzero\" fill-opacity=\"1\" /><path clip-path=\"url(#clip370)\" d=\"M1419.67 1539.59 L1419.67 1545.13 Q1417.18 1543.85 1414.51 1543.22 Q1411.84 1542.58 1408.97 1542.58 Q1404.61 1542.58 1402.41 1543.92 Q1400.25 1545.25 1400.25 1547.93 Q1400.25 1549.96 1401.81 1551.14 Q1403.37 1552.29 1408.08 1553.34 L1410.09 1553.78 Q1416.32 1555.12 1418.93 1557.57 Q1421.58 1559.99 1421.58 1564.35 Q1421.58 1569.32 1417.63 1572.21 Q1413.71 1575.11 1406.84 1575.11 Q1403.97 1575.11 1400.85 1574.54 Q1397.77 1573.99 1394.33 1572.88 L1394.33 1566.83 Q1397.58 1568.52 1400.73 1569.38 Q1403.88 1570.21 1406.97 1570.21 Q1411.1 1570.21 1413.33 1568.81 Q1415.56 1567.37 1415.56 1564.8 Q1415.56 1562.41 1413.94 1561.14 Q1412.34 1559.86 1406.9 1558.68 L1404.87 1558.21 Q1399.42 1557.06 1397 1554.71 Q1394.58 1552.32 1394.58 1548.18 Q1394.58 1543.15 1398.15 1540.42 Q1401.71 1537.68 1408.27 1537.68 Q1411.52 1537.68 1414.38 1538.16 Q1417.25 1538.63 1419.67 1539.59 Z\" fill=\"#000000\" fill-rule=\"nonzero\" fill-opacity=\"1\" /><polyline clip-path=\"url(#clip372)\" style=\"stroke:#000000; stroke-linecap:round; stroke-linejoin:round; stroke-width:2; stroke-opacity:0.1; fill:none\" points=\"2352.76,1287.71 277.621,1287.71 \"/>\n",
       "<polyline clip-path=\"url(#clip372)\" style=\"stroke:#000000; stroke-linecap:round; stroke-linejoin:round; stroke-width:2; stroke-opacity:0.1; fill:none\" points=\"2352.76,1070.82 277.621,1070.82 \"/>\n",
       "<polyline clip-path=\"url(#clip372)\" style=\"stroke:#000000; stroke-linecap:round; stroke-linejoin:round; stroke-width:2; stroke-opacity:0.1; fill:none\" points=\"2352.76,853.938 277.621,853.938 \"/>\n",
       "<polyline clip-path=\"url(#clip372)\" style=\"stroke:#000000; stroke-linecap:round; stroke-linejoin:round; stroke-width:2; stroke-opacity:0.1; fill:none\" points=\"2352.76,637.054 277.621,637.054 \"/>\n",
       "<polyline clip-path=\"url(#clip372)\" style=\"stroke:#000000; stroke-linecap:round; stroke-linejoin:round; stroke-width:2; stroke-opacity:0.1; fill:none\" points=\"2352.76,420.17 277.621,420.17 \"/>\n",
       "<polyline clip-path=\"url(#clip372)\" style=\"stroke:#000000; stroke-linecap:round; stroke-linejoin:round; stroke-width:2; stroke-opacity:0.1; fill:none\" points=\"2352.76,203.286 277.621,203.286 \"/>\n",
       "<polyline clip-path=\"url(#clip370)\" style=\"stroke:#000000; stroke-linecap:round; stroke-linejoin:round; stroke-width:4; stroke-opacity:1; fill:none\" points=\"277.621,1410.9 277.621,123.472 \"/>\n",
       "<polyline clip-path=\"url(#clip370)\" style=\"stroke:#000000; stroke-linecap:round; stroke-linejoin:round; stroke-width:4; stroke-opacity:1; fill:none\" points=\"277.621,1287.71 296.518,1287.71 \"/>\n",
       "<polyline clip-path=\"url(#clip370)\" style=\"stroke:#000000; stroke-linecap:round; stroke-linejoin:round; stroke-width:4; stroke-opacity:1; fill:none\" points=\"277.621,1070.82 296.518,1070.82 \"/>\n",
       "<polyline clip-path=\"url(#clip370)\" style=\"stroke:#000000; stroke-linecap:round; stroke-linejoin:round; stroke-width:4; stroke-opacity:1; fill:none\" points=\"277.621,853.938 296.518,853.938 \"/>\n",
       "<polyline clip-path=\"url(#clip370)\" style=\"stroke:#000000; stroke-linecap:round; stroke-linejoin:round; stroke-width:4; stroke-opacity:1; fill:none\" points=\"277.621,637.054 296.518,637.054 \"/>\n",
       "<polyline clip-path=\"url(#clip370)\" style=\"stroke:#000000; stroke-linecap:round; stroke-linejoin:round; stroke-width:4; stroke-opacity:1; fill:none\" points=\"277.621,420.17 296.518,420.17 \"/>\n",
       "<polyline clip-path=\"url(#clip370)\" style=\"stroke:#000000; stroke-linecap:round; stroke-linejoin:round; stroke-width:4; stroke-opacity:1; fill:none\" points=\"277.621,203.286 296.518,203.286 \"/>\n",
       "<path clip-path=\"url(#clip370)\" d=\"M114.931 1301.05 L122.57 1301.05 L122.57 1274.69 L114.26 1276.35 L114.26 1272.09 L122.524 1270.43 L127.2 1270.43 L127.2 1301.05 L134.839 1301.05 L134.839 1304.99 L114.931 1304.99 L114.931 1301.05 Z\" fill=\"#000000\" fill-rule=\"nonzero\" fill-opacity=\"1\" /><path clip-path=\"url(#clip370)\" d=\"M157.13 1274.5 L145.325 1292.95 L157.13 1292.95 L157.13 1274.5 M155.903 1270.43 L161.783 1270.43 L161.783 1292.95 L166.714 1292.95 L166.714 1296.84 L161.783 1296.84 L161.783 1304.99 L157.13 1304.99 L157.13 1296.84 L141.529 1296.84 L141.529 1292.32 L155.903 1270.43 Z\" fill=\"#000000\" fill-rule=\"nonzero\" fill-opacity=\"1\" /><path clip-path=\"url(#clip370)\" d=\"M174.445 1299.11 L179.329 1299.11 L179.329 1304.99 L174.445 1304.99 L174.445 1299.11 Z\" fill=\"#000000\" fill-rule=\"nonzero\" fill-opacity=\"1\" /><path clip-path=\"url(#clip370)\" d=\"M189.561 1270.43 L207.917 1270.43 L207.917 1274.36 L193.843 1274.36 L193.843 1282.83 Q194.862 1282.49 195.88 1282.32 Q196.899 1282.14 197.917 1282.14 Q203.704 1282.14 207.084 1285.31 Q210.463 1288.48 210.463 1293.9 Q210.463 1299.48 206.991 1302.58 Q203.519 1305.66 197.2 1305.66 Q195.024 1305.66 192.755 1305.29 Q190.51 1304.92 188.102 1304.18 L188.102 1299.48 Q190.186 1300.61 192.408 1301.17 Q194.63 1301.72 197.107 1301.72 Q201.112 1301.72 203.449 1299.62 Q205.787 1297.51 205.787 1293.9 Q205.787 1290.29 203.449 1288.18 Q201.112 1286.07 197.107 1286.07 Q195.232 1286.07 193.357 1286.49 Q191.505 1286.91 189.561 1287.79 L189.561 1270.43 Z\" fill=\"#000000\" fill-rule=\"nonzero\" fill-opacity=\"1\" /><path clip-path=\"url(#clip370)\" d=\"M229.676 1273.51 Q226.065 1273.51 224.236 1277.07 Q222.431 1280.61 222.431 1287.74 Q222.431 1294.85 224.236 1298.41 Q226.065 1301.95 229.676 1301.95 Q233.31 1301.95 235.116 1298.41 Q236.945 1294.85 236.945 1287.74 Q236.945 1280.61 235.116 1277.07 Q233.31 1273.51 229.676 1273.51 M229.676 1269.8 Q235.486 1269.8 238.542 1274.41 Q241.621 1278.99 241.621 1287.74 Q241.621 1296.47 238.542 1301.07 Q235.486 1305.66 229.676 1305.66 Q223.866 1305.66 220.787 1301.07 Q217.732 1296.47 217.732 1287.74 Q217.732 1278.99 220.787 1274.41 Q223.866 1269.8 229.676 1269.8 Z\" fill=\"#000000\" fill-rule=\"nonzero\" fill-opacity=\"1\" /><path clip-path=\"url(#clip370)\" d=\"M115.927 1084.17 L123.566 1084.17 L123.566 1057.8 L115.256 1059.47 L115.256 1055.21 L123.519 1053.54 L128.195 1053.54 L128.195 1084.17 L135.834 1084.17 L135.834 1088.1 L115.927 1088.1 L115.927 1084.17 Z\" fill=\"#000000\" fill-rule=\"nonzero\" fill-opacity=\"1\" /><path clip-path=\"url(#clip370)\" d=\"M158.126 1057.62 L146.32 1076.07 L158.126 1076.07 L158.126 1057.62 M156.899 1053.54 L162.778 1053.54 L162.778 1076.07 L167.709 1076.07 L167.709 1079.95 L162.778 1079.95 L162.778 1088.1 L158.126 1088.1 L158.126 1079.95 L142.524 1079.95 L142.524 1075.44 L156.899 1053.54 Z\" fill=\"#000000\" fill-rule=\"nonzero\" fill-opacity=\"1\" /><path clip-path=\"url(#clip370)\" d=\"M175.44 1082.22 L180.325 1082.22 L180.325 1088.1 L175.44 1088.1 L175.44 1082.22 Z\" fill=\"#000000\" fill-rule=\"nonzero\" fill-opacity=\"1\" /><path clip-path=\"url(#clip370)\" d=\"M189.329 1053.54 L211.551 1053.54 L211.551 1055.53 L199.005 1088.1 L194.121 1088.1 L205.926 1057.48 L189.329 1057.48 L189.329 1053.54 Z\" fill=\"#000000\" fill-rule=\"nonzero\" fill-opacity=\"1\" /><path clip-path=\"url(#clip370)\" d=\"M220.718 1053.54 L239.074 1053.54 L239.074 1057.48 L225 1057.48 L225 1065.95 Q226.019 1065.6 227.037 1065.44 Q228.056 1065.26 229.074 1065.26 Q234.861 1065.26 238.241 1068.43 Q241.621 1071.6 241.621 1077.01 Q241.621 1082.59 238.148 1085.69 Q234.676 1088.77 228.357 1088.77 Q226.181 1088.77 223.912 1088.4 Q221.667 1088.03 219.26 1087.29 L219.26 1082.59 Q221.343 1083.73 223.565 1084.28 Q225.787 1084.84 228.264 1084.84 Q232.269 1084.84 234.607 1082.73 Q236.945 1080.63 236.945 1077.01 Q236.945 1073.4 234.607 1071.3 Q232.269 1069.19 228.264 1069.19 Q226.389 1069.19 224.514 1069.61 Q222.662 1070.02 220.718 1070.9 L220.718 1053.54 Z\" fill=\"#000000\" fill-rule=\"nonzero\" fill-opacity=\"1\" /><path clip-path=\"url(#clip370)\" d=\"M114.931 867.283 L122.57 867.283 L122.57 840.917 L114.26 842.584 L114.26 838.325 L122.524 836.658 L127.2 836.658 L127.2 867.283 L134.839 867.283 L134.839 871.218 L114.931 871.218 L114.931 867.283 Z\" fill=\"#000000\" fill-rule=\"nonzero\" fill-opacity=\"1\" /><path clip-path=\"url(#clip370)\" d=\"M144.329 836.658 L162.686 836.658 L162.686 840.593 L148.612 840.593 L148.612 849.065 Q149.63 848.718 150.649 848.556 Q151.667 848.371 152.686 848.371 Q158.473 848.371 161.852 851.542 Q165.232 854.714 165.232 860.13 Q165.232 865.709 161.76 868.811 Q158.288 871.889 151.968 871.889 Q149.792 871.889 147.524 871.519 Q145.279 871.149 142.871 870.408 L142.871 865.709 Q144.954 866.843 147.177 867.399 Q149.399 867.954 151.876 867.954 Q155.88 867.954 158.218 865.848 Q160.556 863.741 160.556 860.13 Q160.556 856.519 158.218 854.413 Q155.88 852.306 151.876 852.306 Q150.001 852.306 148.126 852.723 Q146.274 853.139 144.329 854.019 L144.329 836.658 Z\" fill=\"#000000\" fill-rule=\"nonzero\" fill-opacity=\"1\" /><path clip-path=\"url(#clip370)\" d=\"M174.445 865.338 L179.329 865.338 L179.329 871.218 L174.445 871.218 L174.445 865.338 Z\" fill=\"#000000\" fill-rule=\"nonzero\" fill-opacity=\"1\" /><path clip-path=\"url(#clip370)\" d=\"M199.514 839.737 Q195.903 839.737 194.075 843.302 Q192.269 846.843 192.269 853.973 Q192.269 861.079 194.075 864.644 Q195.903 868.186 199.514 868.186 Q203.149 868.186 204.954 864.644 Q206.783 861.079 206.783 853.973 Q206.783 846.843 204.954 843.302 Q203.149 839.737 199.514 839.737 M199.514 836.033 Q205.324 836.033 208.38 840.64 Q211.459 845.223 211.459 853.973 Q211.459 862.7 208.38 867.306 Q205.324 871.889 199.514 871.889 Q193.704 871.889 190.625 867.306 Q187.57 862.7 187.57 853.973 Q187.57 845.223 190.625 840.64 Q193.704 836.033 199.514 836.033 Z\" fill=\"#000000\" fill-rule=\"nonzero\" fill-opacity=\"1\" /><path clip-path=\"url(#clip370)\" d=\"M229.676 839.737 Q226.065 839.737 224.236 843.302 Q222.431 846.843 222.431 853.973 Q222.431 861.079 224.236 864.644 Q226.065 868.186 229.676 868.186 Q233.31 868.186 235.116 864.644 Q236.945 861.079 236.945 853.973 Q236.945 846.843 235.116 843.302 Q233.31 839.737 229.676 839.737 M229.676 836.033 Q235.486 836.033 238.542 840.64 Q241.621 845.223 241.621 853.973 Q241.621 862.7 238.542 867.306 Q235.486 871.889 229.676 871.889 Q223.866 871.889 220.787 867.306 Q217.732 862.7 217.732 853.973 Q217.732 845.223 220.787 840.64 Q223.866 836.033 229.676 836.033 Z\" fill=\"#000000\" fill-rule=\"nonzero\" fill-opacity=\"1\" /><path clip-path=\"url(#clip370)\" d=\"M115.927 650.399 L123.566 650.399 L123.566 624.033 L115.256 625.7 L115.256 621.441 L123.519 619.774 L128.195 619.774 L128.195 650.399 L135.834 650.399 L135.834 654.334 L115.927 654.334 L115.927 650.399 Z\" fill=\"#000000\" fill-rule=\"nonzero\" fill-opacity=\"1\" /><path clip-path=\"url(#clip370)\" d=\"M145.325 619.774 L163.681 619.774 L163.681 623.709 L149.607 623.709 L149.607 632.181 Q150.626 631.834 151.644 631.672 Q152.663 631.487 153.681 631.487 Q159.468 631.487 162.848 634.658 Q166.227 637.829 166.227 643.246 Q166.227 648.825 162.755 651.926 Q159.283 655.005 152.964 655.005 Q150.788 655.005 148.519 654.635 Q146.274 654.264 143.866 653.524 L143.866 648.825 Q145.95 649.959 148.172 650.514 Q150.394 651.07 152.871 651.07 Q156.876 651.07 159.214 648.964 Q161.552 646.857 161.552 643.246 Q161.552 639.635 159.214 637.528 Q156.876 635.422 152.871 635.422 Q150.996 635.422 149.121 635.839 Q147.269 636.255 145.325 637.135 L145.325 619.774 Z\" fill=\"#000000\" fill-rule=\"nonzero\" fill-opacity=\"1\" /><path clip-path=\"url(#clip370)\" d=\"M175.44 648.454 L180.325 648.454 L180.325 654.334 L175.44 654.334 L175.44 648.454 Z\" fill=\"#000000\" fill-rule=\"nonzero\" fill-opacity=\"1\" /><path clip-path=\"url(#clip370)\" d=\"M194.538 650.399 L210.857 650.399 L210.857 654.334 L188.913 654.334 L188.913 650.399 Q191.575 647.644 196.158 643.014 Q200.764 638.362 201.945 637.019 Q204.19 634.496 205.07 632.76 Q205.973 631.001 205.973 629.311 Q205.973 626.556 204.028 624.82 Q202.107 623.084 199.005 623.084 Q196.806 623.084 194.352 623.848 Q191.922 624.612 189.144 626.163 L189.144 621.441 Q191.968 620.306 194.422 619.728 Q196.875 619.149 198.912 619.149 Q204.283 619.149 207.477 621.834 Q210.672 624.519 210.672 629.01 Q210.672 631.14 209.861 633.061 Q209.074 634.959 206.968 637.552 Q206.389 638.223 203.287 641.44 Q200.186 644.635 194.538 650.399 Z\" fill=\"#000000\" fill-rule=\"nonzero\" fill-opacity=\"1\" /><path clip-path=\"url(#clip370)\" d=\"M220.718 619.774 L239.074 619.774 L239.074 623.709 L225 623.709 L225 632.181 Q226.019 631.834 227.037 631.672 Q228.056 631.487 229.074 631.487 Q234.861 631.487 238.241 634.658 Q241.621 637.829 241.621 643.246 Q241.621 648.825 238.148 651.926 Q234.676 655.005 228.357 655.005 Q226.181 655.005 223.912 654.635 Q221.667 654.264 219.26 653.524 L219.26 648.825 Q221.343 649.959 223.565 650.514 Q225.787 651.07 228.264 651.07 Q232.269 651.07 234.607 648.964 Q236.945 646.857 236.945 643.246 Q236.945 639.635 234.607 637.528 Q232.269 635.422 228.264 635.422 Q226.389 635.422 224.514 635.839 Q222.662 636.255 220.718 637.135 L220.718 619.774 Z\" fill=\"#000000\" fill-rule=\"nonzero\" fill-opacity=\"1\" /><path clip-path=\"url(#clip370)\" d=\"M114.931 433.515 L122.57 433.515 L122.57 407.149 L114.26 408.816 L114.26 404.556 L122.524 402.89 L127.2 402.89 L127.2 433.515 L134.839 433.515 L134.839 437.45 L114.931 437.45 L114.931 433.515 Z\" fill=\"#000000\" fill-rule=\"nonzero\" fill-opacity=\"1\" /><path clip-path=\"url(#clip370)\" d=\"M144.329 402.89 L162.686 402.89 L162.686 406.825 L148.612 406.825 L148.612 415.297 Q149.63 414.95 150.649 414.788 Q151.667 414.603 152.686 414.603 Q158.473 414.603 161.852 417.774 Q165.232 420.945 165.232 426.362 Q165.232 431.94 161.76 435.042 Q158.288 438.121 151.968 438.121 Q149.792 438.121 147.524 437.751 Q145.279 437.38 142.871 436.64 L142.871 431.94 Q144.954 433.075 147.177 433.63 Q149.399 434.186 151.876 434.186 Q155.88 434.186 158.218 432.079 Q160.556 429.973 160.556 426.362 Q160.556 422.751 158.218 420.644 Q155.88 418.538 151.876 418.538 Q150.001 418.538 148.126 418.954 Q146.274 419.371 144.329 420.251 L144.329 402.89 Z\" fill=\"#000000\" fill-rule=\"nonzero\" fill-opacity=\"1\" /><path clip-path=\"url(#clip370)\" d=\"M174.445 431.57 L179.329 431.57 L179.329 437.45 L174.445 437.45 L174.445 431.57 Z\" fill=\"#000000\" fill-rule=\"nonzero\" fill-opacity=\"1\" /><path clip-path=\"url(#clip370)\" d=\"M189.561 402.89 L207.917 402.89 L207.917 406.825 L193.843 406.825 L193.843 415.297 Q194.862 414.95 195.88 414.788 Q196.899 414.603 197.917 414.603 Q203.704 414.603 207.084 417.774 Q210.463 420.945 210.463 426.362 Q210.463 431.94 206.991 435.042 Q203.519 438.121 197.2 438.121 Q195.024 438.121 192.755 437.751 Q190.51 437.38 188.102 436.64 L188.102 431.94 Q190.186 433.075 192.408 433.63 Q194.63 434.186 197.107 434.186 Q201.112 434.186 203.449 432.079 Q205.787 429.973 205.787 426.362 Q205.787 422.751 203.449 420.644 Q201.112 418.538 197.107 418.538 Q195.232 418.538 193.357 418.954 Q191.505 419.371 189.561 420.251 L189.561 402.89 Z\" fill=\"#000000\" fill-rule=\"nonzero\" fill-opacity=\"1\" /><path clip-path=\"url(#clip370)\" d=\"M229.676 405.968 Q226.065 405.968 224.236 409.533 Q222.431 413.075 222.431 420.204 Q222.431 427.311 224.236 430.876 Q226.065 434.417 229.676 434.417 Q233.31 434.417 235.116 430.876 Q236.945 427.311 236.945 420.204 Q236.945 413.075 235.116 409.533 Q233.31 405.968 229.676 405.968 M229.676 402.265 Q235.486 402.265 238.542 406.871 Q241.621 411.454 241.621 420.204 Q241.621 428.931 238.542 433.538 Q235.486 438.121 229.676 438.121 Q223.866 438.121 220.787 433.538 Q217.732 428.931 217.732 420.204 Q217.732 411.454 220.787 406.871 Q223.866 402.265 229.676 402.265 Z\" fill=\"#000000\" fill-rule=\"nonzero\" fill-opacity=\"1\" /><path clip-path=\"url(#clip370)\" d=\"M115.927 216.63 L123.566 216.63 L123.566 190.265 L115.256 191.931 L115.256 187.672 L123.519 186.006 L128.195 186.006 L128.195 216.63 L135.834 216.63 L135.834 220.566 L115.927 220.566 L115.927 216.63 Z\" fill=\"#000000\" fill-rule=\"nonzero\" fill-opacity=\"1\" /><path clip-path=\"url(#clip370)\" d=\"M145.325 186.006 L163.681 186.006 L163.681 189.941 L149.607 189.941 L149.607 198.413 Q150.626 198.066 151.644 197.904 Q152.663 197.718 153.681 197.718 Q159.468 197.718 162.848 200.89 Q166.227 204.061 166.227 209.478 Q166.227 215.056 162.755 218.158 Q159.283 221.237 152.964 221.237 Q150.788 221.237 148.519 220.866 Q146.274 220.496 143.866 219.755 L143.866 215.056 Q145.95 216.191 148.172 216.746 Q150.394 217.302 152.871 217.302 Q156.876 217.302 159.214 215.195 Q161.552 213.089 161.552 209.478 Q161.552 205.867 159.214 203.76 Q156.876 201.654 152.871 201.654 Q150.996 201.654 149.121 202.07 Q147.269 202.487 145.325 203.367 L145.325 186.006 Z\" fill=\"#000000\" fill-rule=\"nonzero\" fill-opacity=\"1\" /><path clip-path=\"url(#clip370)\" d=\"M175.44 214.686 L180.325 214.686 L180.325 220.566 L175.44 220.566 L175.44 214.686 Z\" fill=\"#000000\" fill-rule=\"nonzero\" fill-opacity=\"1\" /><path clip-path=\"url(#clip370)\" d=\"M189.329 186.006 L211.551 186.006 L211.551 187.996 L199.005 220.566 L194.121 220.566 L205.926 189.941 L189.329 189.941 L189.329 186.006 Z\" fill=\"#000000\" fill-rule=\"nonzero\" fill-opacity=\"1\" /><path clip-path=\"url(#clip370)\" d=\"M220.718 186.006 L239.074 186.006 L239.074 189.941 L225 189.941 L225 198.413 Q226.019 198.066 227.037 197.904 Q228.056 197.718 229.074 197.718 Q234.861 197.718 238.241 200.89 Q241.621 204.061 241.621 209.478 Q241.621 215.056 238.148 218.158 Q234.676 221.237 228.357 221.237 Q226.181 221.237 223.912 220.866 Q221.667 220.496 219.26 219.755 L219.26 215.056 Q221.343 216.191 223.565 216.746 Q225.787 217.302 228.264 217.302 Q232.269 217.302 234.607 215.195 Q236.945 213.089 236.945 209.478 Q236.945 205.867 234.607 203.76 Q232.269 201.654 228.264 201.654 Q226.389 201.654 224.514 202.07 Q222.662 202.487 220.718 203.367 L220.718 186.006 Z\" fill=\"#000000\" fill-rule=\"nonzero\" fill-opacity=\"1\" /><path clip-path=\"url(#clip370)\" d=\"M18.2347 959.254 L28.3562 959.254 L28.3562 947.191 L32.9077 947.191 L32.9077 959.254 L52.2594 959.254 Q56.6199 959.254 57.8613 958.076 Q59.1026 956.867 59.1026 953.206 L59.1026 947.191 L64.0042 947.191 L64.0042 953.206 Q64.0042 959.986 61.4897 962.564 Q58.9434 965.142 52.2594 965.142 L32.9077 965.142 L32.9077 969.439 L28.3562 969.439 L28.3562 965.142 L18.2347 965.142 L18.2347 959.254 Z\" fill=\"#000000\" fill-rule=\"nonzero\" fill-opacity=\"1\" /><path clip-path=\"url(#clip370)\" d=\"M44.7161 908.996 L47.5806 908.996 L47.5806 935.923 Q53.6281 935.541 56.8109 932.295 Q59.9619 929.017 59.9619 923.192 Q59.9619 919.818 59.1344 916.667 Q58.3069 913.484 56.6518 910.365 L62.1899 910.365 Q63.5267 913.516 64.227 916.826 Q64.9272 920.136 64.9272 923.542 Q64.9272 932.072 59.9619 937.069 Q54.9967 942.034 46.5303 942.034 Q37.7774 942.034 32.6531 937.324 Q27.4968 932.581 27.4968 924.561 Q27.4968 917.367 32.1438 913.198 Q36.7589 908.996 44.7161 908.996 M42.9973 914.853 Q38.1912 914.917 35.3266 917.558 Q32.4621 920.168 32.4621 924.497 Q32.4621 929.399 35.2312 932.359 Q38.0002 935.287 43.0292 935.732 L42.9973 914.853 Z\" fill=\"#000000\" fill-rule=\"nonzero\" fill-opacity=\"1\" /><path clip-path=\"url(#clip370)\" d=\"M35.1993 871.63 Q31.2526 869.434 29.3747 866.378 Q27.4968 863.322 27.4968 859.185 Q27.4968 853.615 31.4117 850.591 Q35.2948 847.567 42.4881 847.567 L64.0042 847.567 L64.0042 853.456 L42.679 853.456 Q37.5546 853.456 35.072 855.27 Q32.5894 857.084 32.5894 860.808 Q32.5894 865.359 35.6131 868.001 Q38.6368 870.643 43.8567 870.643 L64.0042 870.643 L64.0042 876.531 L42.679 876.531 Q37.5228 876.531 35.072 878.346 Q32.5894 880.16 32.5894 883.947 Q32.5894 888.435 35.6449 891.077 Q38.6686 893.719 43.8567 893.719 L64.0042 893.719 L64.0042 899.607 L28.3562 899.607 L28.3562 893.719 L33.8944 893.719 Q30.616 891.714 29.0564 888.913 Q27.4968 886.112 27.4968 882.26 Q27.4968 878.377 29.4702 875.672 Q31.4436 872.935 35.1993 871.63 Z\" fill=\"#000000\" fill-rule=\"nonzero\" fill-opacity=\"1\" /><path clip-path=\"url(#clip370)\" d=\"M58.657 830.221 L77.5631 830.221 L77.5631 836.109 L28.3562 836.109 L28.3562 830.221 L33.7671 830.221 Q30.5842 828.375 29.0564 825.574 Q27.4968 822.741 27.4968 818.826 Q27.4968 812.333 32.6531 808.291 Q37.8093 804.217 46.212 804.217 Q54.6147 804.217 59.771 808.291 Q64.9272 812.333 64.9272 818.826 Q64.9272 822.741 63.3994 825.574 Q61.8398 828.375 58.657 830.221 M46.212 810.296 Q39.7508 810.296 36.0905 812.97 Q32.3984 815.611 32.3984 820.258 Q32.3984 824.905 36.0905 827.579 Q39.7508 830.221 46.212 830.221 Q52.6732 830.221 56.3653 827.579 Q60.0256 824.905 60.0256 820.258 Q60.0256 815.611 56.3653 812.97 Q52.6732 810.296 46.212 810.296 Z\" fill=\"#000000\" fill-rule=\"nonzero\" fill-opacity=\"1\" /><path clip-path=\"url(#clip370)\" d=\"M44.7161 764.017 L47.5806 764.017 L47.5806 790.944 Q53.6281 790.562 56.8109 787.316 Q59.9619 784.038 59.9619 778.213 Q59.9619 774.839 59.1344 771.688 Q58.3069 768.505 56.6518 765.386 L62.1899 765.386 Q63.5267 768.537 64.227 771.847 Q64.9272 775.157 64.9272 778.563 Q64.9272 787.093 59.9619 792.09 Q54.9967 797.055 46.5303 797.055 Q37.7774 797.055 32.6531 792.345 Q27.4968 787.602 27.4968 779.582 Q27.4968 772.388 32.1438 768.219 Q36.7589 764.017 44.7161 764.017 M42.9973 769.874 Q38.1912 769.938 35.3266 772.579 Q32.4621 775.189 32.4621 779.518 Q32.4621 784.42 35.2312 787.38 Q38.0002 790.308 43.0292 790.753 L42.9973 769.874 Z\" fill=\"#000000\" fill-rule=\"nonzero\" fill-opacity=\"1\" /><path clip-path=\"url(#clip370)\" d=\"M33.8307 733.749 Q33.2578 734.735 33.0032 735.913 Q32.7167 737.059 32.7167 738.459 Q32.7167 743.424 35.9632 746.098 Q39.1779 748.74 45.2253 748.74 L64.0042 748.74 L64.0042 754.628 L28.3562 754.628 L28.3562 748.74 L33.8944 748.74 Q30.6479 746.894 29.0883 743.934 Q27.4968 740.974 27.4968 736.74 Q27.4968 736.136 27.5923 735.404 Q27.656 734.672 27.8151 733.78 L33.8307 733.749 Z\" fill=\"#000000\" fill-rule=\"nonzero\" fill-opacity=\"1\" /><path clip-path=\"url(#clip370)\" d=\"M46.0847 711.405 Q46.0847 718.503 47.7079 721.24 Q49.3312 723.977 53.2461 723.977 Q56.3653 723.977 58.2114 721.94 Q60.0256 719.871 60.0256 716.338 Q60.0256 711.469 56.5881 708.54 Q53.1188 705.58 47.3897 705.58 L46.0847 705.58 L46.0847 711.405 M43.6657 699.724 L64.0042 699.724 L64.0042 705.58 L58.5933 705.58 Q61.8398 707.585 63.3994 710.577 Q64.9272 713.569 64.9272 717.898 Q64.9272 723.372 61.8716 726.619 Q58.7843 729.834 53.6281 729.834 Q47.6125 729.834 44.5569 725.823 Q41.5014 721.781 41.5014 713.792 L41.5014 705.58 L40.9285 705.58 Q36.8862 705.58 34.6901 708.254 Q32.4621 710.896 32.4621 715.702 Q32.4621 718.757 33.1941 721.654 Q33.9262 724.55 35.3903 727.224 L29.9795 727.224 Q28.7381 724.009 28.1334 720.985 Q27.4968 717.962 27.4968 715.097 Q27.4968 707.363 31.5072 703.543 Q35.5176 699.724 43.6657 699.724 Z\" fill=\"#000000\" fill-rule=\"nonzero\" fill-opacity=\"1\" /><path clip-path=\"url(#clip370)\" d=\"M18.2347 681.868 L28.3562 681.868 L28.3562 669.805 L32.9077 669.805 L32.9077 681.868 L52.2594 681.868 Q56.6199 681.868 57.8613 680.69 Q59.1026 679.481 59.1026 675.821 L59.1026 669.805 L64.0042 669.805 L64.0042 675.821 Q64.0042 682.6 61.4897 685.178 Q58.9434 687.756 52.2594 687.756 L32.9077 687.756 L32.9077 692.053 L28.3562 692.053 L28.3562 687.756 L18.2347 687.756 L18.2347 681.868 Z\" fill=\"#000000\" fill-rule=\"nonzero\" fill-opacity=\"1\" /><path clip-path=\"url(#clip370)\" d=\"M49.9359 662.707 L28.3562 662.707 L28.3562 656.851 L49.7131 656.851 Q54.7739 656.851 57.3202 654.877 Q59.8346 652.904 59.8346 648.957 Q59.8346 644.215 56.8109 641.478 Q53.7872 638.709 48.5673 638.709 L28.3562 638.709 L28.3562 632.852 L64.0042 632.852 L64.0042 638.709 L58.5296 638.709 Q61.7762 640.841 63.3676 643.674 Q64.9272 646.475 64.9272 650.199 Q64.9272 656.342 61.1078 659.524 Q57.2883 662.707 49.9359 662.707 M27.4968 647.971 L27.4968 647.971 Z\" fill=\"#000000\" fill-rule=\"nonzero\" fill-opacity=\"1\" /><path clip-path=\"url(#clip370)\" d=\"M33.8307 600.132 Q33.2578 601.119 33.0032 602.297 Q32.7167 603.442 32.7167 604.843 Q32.7167 609.808 35.9632 612.482 Q39.1779 615.124 45.2253 615.124 L64.0042 615.124 L64.0042 621.012 L28.3562 621.012 L28.3562 615.124 L33.8944 615.124 Q30.6479 613.278 29.0883 610.317 Q27.4968 607.357 27.4968 603.124 Q27.4968 602.519 27.5923 601.787 Q27.656 601.055 27.8151 600.164 L33.8307 600.132 Z\" fill=\"#000000\" fill-rule=\"nonzero\" fill-opacity=\"1\" /><path clip-path=\"url(#clip370)\" d=\"M44.7161 564.93 L47.5806 564.93 L47.5806 591.857 Q53.6281 591.475 56.8109 588.228 Q59.9619 584.95 59.9619 579.125 Q59.9619 575.752 59.1344 572.601 Q58.3069 569.418 56.6518 566.299 L62.1899 566.299 Q63.5267 569.45 64.227 572.76 Q64.9272 576.07 64.9272 579.476 Q64.9272 588.006 59.9619 593.003 Q54.9967 597.968 46.5303 597.968 Q37.7774 597.968 32.6531 593.257 Q27.4968 588.515 27.4968 580.494 Q27.4968 573.301 32.1438 569.131 Q36.7589 564.93 44.7161 564.93 M42.9973 570.786 Q38.1912 570.85 35.3266 573.492 Q32.4621 576.102 32.4621 580.43 Q32.4621 585.332 35.2312 588.292 Q38.0002 591.22 43.0292 591.666 L42.9973 570.786 Z\" fill=\"#000000\" fill-rule=\"nonzero\" fill-opacity=\"1\" /><path clip-path=\"url(#clip370)\" d=\"M1224.29 14.324 L1224.29 27.2059 L1239.64 27.2059 L1239.64 32.9987 L1224.29 32.9987 L1224.29 57.6282 Q1224.29 63.1779 1225.78 64.7578 Q1227.32 66.3376 1231.98 66.3376 L1239.64 66.3376 L1239.64 72.576 L1231.98 72.576 Q1223.35 72.576 1220.07 69.3758 Q1216.79 66.1351 1216.79 57.6282 L1216.79 32.9987 L1211.32 32.9987 L1211.32 27.2059 L1216.79 27.2059 L1216.79 14.324 L1224.29 14.324 Z\" fill=\"#000000\" fill-rule=\"nonzero\" fill-opacity=\"1\" /><path clip-path=\"url(#clip370)\" d=\"M1249.44 27.2059 L1256.9 27.2059 L1256.9 72.576 L1249.44 72.576 L1249.44 27.2059 M1249.44 9.54393 L1256.9 9.54393 L1256.9 18.9825 L1249.44 18.9825 L1249.44 9.54393 Z\" fill=\"#000000\" fill-rule=\"nonzero\" fill-opacity=\"1\" /><path clip-path=\"url(#clip370)\" d=\"M1279.86 14.324 L1279.86 27.2059 L1295.22 27.2059 L1295.22 32.9987 L1279.86 32.9987 L1279.86 57.6282 Q1279.86 63.1779 1281.36 64.7578 Q1282.9 66.3376 1287.56 66.3376 L1295.22 66.3376 L1295.22 72.576 L1287.56 72.576 Q1278.93 72.576 1275.65 69.3758 Q1272.37 66.1351 1272.37 57.6282 L1272.37 32.9987 L1266.9 32.9987 L1266.9 27.2059 L1272.37 27.2059 L1272.37 14.324 L1279.86 14.324 Z\" fill=\"#000000\" fill-rule=\"nonzero\" fill-opacity=\"1\" /><path clip-path=\"url(#clip370)\" d=\"M1304.25 54.671 L1304.25 27.2059 L1311.7 27.2059 L1311.7 54.3874 Q1311.7 60.8284 1314.22 64.0691 Q1316.73 67.2693 1321.75 67.2693 Q1327.79 67.2693 1331.27 63.421 Q1334.79 59.5726 1334.79 52.9291 L1334.79 27.2059 L1342.25 27.2059 L1342.25 72.576 L1334.79 72.576 L1334.79 65.6084 Q1332.08 69.7404 1328.48 71.7658 Q1324.91 73.7508 1320.17 73.7508 Q1312.35 73.7508 1308.3 68.8897 Q1304.25 64.0286 1304.25 54.671 M1323.01 26.1121 L1323.01 26.1121 Z\" fill=\"#000000\" fill-rule=\"nonzero\" fill-opacity=\"1\" /><path clip-path=\"url(#clip370)\" d=\"M1357.6 9.54393 L1365.05 9.54393 L1365.05 72.576 L1357.6 72.576 L1357.6 9.54393 Z\" fill=\"#000000\" fill-rule=\"nonzero\" fill-opacity=\"1\" /><path clip-path=\"url(#clip370)\" d=\"M1398.23 32.4315 Q1392.24 32.4315 1388.75 37.1306 Q1385.27 41.7891 1385.27 49.9314 Q1385.27 58.0738 1388.71 62.7728 Q1392.2 67.4314 1398.23 67.4314 Q1404.19 67.4314 1407.67 62.7323 Q1411.15 58.0333 1411.15 49.9314 Q1411.15 41.8701 1407.67 37.1711 Q1404.19 32.4315 1398.23 32.4315 M1398.23 26.1121 Q1407.95 26.1121 1413.5 32.4315 Q1419.05 38.7509 1419.05 49.9314 Q1419.05 61.0714 1413.5 67.4314 Q1407.95 73.7508 1398.23 73.7508 Q1388.47 73.7508 1382.92 67.4314 Q1377.41 61.0714 1377.41 49.9314 Q1377.41 38.7509 1382.92 32.4315 Q1388.47 26.1121 1398.23 26.1121 Z\" fill=\"#000000\" fill-rule=\"nonzero\" fill-opacity=\"1\" /><polyline clip-path=\"url(#clip372)\" style=\"stroke:#009af9; stroke-linecap:round; stroke-linejoin:round; stroke-width:4; stroke-opacity:1; fill:none\" points=\"336.351,1374.46 1424.36,1287.71 1641.96,1027.45 2077.16,680.431 2277.36,420.17 2294.03,159.909 \"/>\n",
       "<circle clip-path=\"url(#clip372)\" cx=\"336.351\" cy=\"1374.46\" r=\"14.4\" fill=\"#e26f46\" fill-rule=\"evenodd\" fill-opacity=\"1\" stroke=\"#000000\" stroke-opacity=\"1\" stroke-width=\"3.2\"/>\n",
       "<circle clip-path=\"url(#clip372)\" cx=\"1424.36\" cy=\"1287.71\" r=\"14.4\" fill=\"#e26f46\" fill-rule=\"evenodd\" fill-opacity=\"1\" stroke=\"#000000\" stroke-opacity=\"1\" stroke-width=\"3.2\"/>\n",
       "<circle clip-path=\"url(#clip372)\" cx=\"1641.96\" cy=\"1027.45\" r=\"14.4\" fill=\"#e26f46\" fill-rule=\"evenodd\" fill-opacity=\"1\" stroke=\"#000000\" stroke-opacity=\"1\" stroke-width=\"3.2\"/>\n",
       "<circle clip-path=\"url(#clip372)\" cx=\"2077.16\" cy=\"680.431\" r=\"14.4\" fill=\"#e26f46\" fill-rule=\"evenodd\" fill-opacity=\"1\" stroke=\"#000000\" stroke-opacity=\"1\" stroke-width=\"3.2\"/>\n",
       "<circle clip-path=\"url(#clip372)\" cx=\"2277.36\" cy=\"420.17\" r=\"14.4\" fill=\"#e26f46\" fill-rule=\"evenodd\" fill-opacity=\"1\" stroke=\"#000000\" stroke-opacity=\"1\" stroke-width=\"3.2\"/>\n",
       "<circle clip-path=\"url(#clip372)\" cx=\"2294.03\" cy=\"159.909\" r=\"14.4\" fill=\"#e26f46\" fill-rule=\"evenodd\" fill-opacity=\"1\" stroke=\"#000000\" stroke-opacity=\"1\" stroke-width=\"3.2\"/>\n",
       "<path clip-path=\"url(#clip370)\" d=\"M1937.09 321.906 L2283.58 321.906 L2283.58 166.386 L1937.09 166.386  Z\" fill=\"#ffffff\" fill-rule=\"evenodd\" fill-opacity=\"1\"/>\n",
       "<polyline clip-path=\"url(#clip370)\" style=\"stroke:#000000; stroke-linecap:round; stroke-linejoin:round; stroke-width:4; stroke-opacity:1; fill:none\" points=\"1937.09,321.906 2283.58,321.906 2283.58,166.386 1937.09,166.386 1937.09,321.906 \"/>\n",
       "<polyline clip-path=\"url(#clip370)\" style=\"stroke:#009af9; stroke-linecap:round; stroke-linejoin:round; stroke-width:4; stroke-opacity:1; fill:none\" points=\"1960.15,218.226 2098.49,218.226 \"/>\n",
       "<path clip-path=\"url(#clip370)\" d=\"M2121.55 199.488 L2125.81 199.488 L2125.81 235.506 L2121.55 235.506 L2121.55 199.488 Z\" fill=\"#000000\" fill-rule=\"nonzero\" fill-opacity=\"1\" /><path clip-path=\"url(#clip370)\" d=\"M2134.72 209.58 L2138.98 209.58 L2138.98 235.506 L2134.72 235.506 L2134.72 209.58 M2134.72 199.488 L2138.98 199.488 L2138.98 204.881 L2134.72 204.881 L2134.72 199.488 Z\" fill=\"#000000\" fill-rule=\"nonzero\" fill-opacity=\"1\" /><path clip-path=\"url(#clip370)\" d=\"M2169.44 219.858 L2169.44 235.506 L2165.18 235.506 L2165.18 219.997 Q2165.18 216.317 2163.75 214.488 Q2162.31 212.659 2159.44 212.659 Q2155.99 212.659 2154 214.858 Q2152.01 217.057 2152.01 220.854 L2152.01 235.506 L2147.73 235.506 L2147.73 209.58 L2152.01 209.58 L2152.01 213.608 Q2153.54 211.27 2155.6 210.113 Q2157.68 208.955 2160.39 208.955 Q2164.86 208.955 2167.15 211.733 Q2169.44 214.488 2169.44 219.858 Z\" fill=\"#000000\" fill-rule=\"nonzero\" fill-opacity=\"1\" /><path clip-path=\"url(#clip370)\" d=\"M2200.11 221.479 L2200.11 223.562 L2180.53 223.562 Q2180.81 227.96 2183.17 230.275 Q2185.55 232.566 2189.79 232.566 Q2192.24 232.566 2194.53 231.965 Q2196.85 231.363 2199.12 230.159 L2199.12 234.187 Q2196.82 235.159 2194.42 235.668 Q2192.01 236.178 2189.53 236.178 Q2183.33 236.178 2179.69 232.566 Q2176.08 228.955 2176.08 222.798 Q2176.08 216.432 2179.51 212.705 Q2182.96 208.955 2188.79 208.955 Q2194.02 208.955 2197.06 212.335 Q2200.11 215.692 2200.11 221.479 M2195.85 220.229 Q2195.81 216.733 2193.88 214.65 Q2191.99 212.567 2188.84 212.567 Q2185.27 212.567 2183.12 214.58 Q2180.99 216.594 2180.67 220.252 L2195.85 220.229 Z\" fill=\"#000000\" fill-rule=\"nonzero\" fill-opacity=\"1\" /><circle clip-path=\"url(#clip370)\" cx=\"2029.32\" cy=\"270.066\" r=\"20.48\" fill=\"#e26f46\" fill-rule=\"evenodd\" fill-opacity=\"1\" stroke=\"#000000\" stroke-opacity=\"1\" stroke-width=\"4.55111\"/>\n",
       "<path clip-path=\"url(#clip370)\" d=\"M2125.83 283.457 L2125.83 297.207 L2121.55 297.207 L2121.55 261.42 L2125.83 261.42 L2125.83 265.356 Q2127.17 263.041 2129.21 261.93 Q2131.27 260.795 2134.12 260.795 Q2138.84 260.795 2141.78 264.545 Q2144.74 268.295 2144.74 274.407 Q2144.74 280.518 2141.78 284.268 Q2138.84 288.018 2134.12 288.018 Q2131.27 288.018 2129.21 286.906 Q2127.17 285.772 2125.83 283.457 M2140.32 274.407 Q2140.32 269.707 2138.38 267.045 Q2136.45 264.36 2133.07 264.36 Q2129.7 264.36 2127.75 267.045 Q2125.83 269.707 2125.83 274.407 Q2125.83 279.106 2127.75 281.791 Q2129.7 284.453 2133.07 284.453 Q2136.45 284.453 2138.38 281.791 Q2140.32 279.106 2140.32 274.407 Z\" fill=\"#000000\" fill-rule=\"nonzero\" fill-opacity=\"1\" /><path clip-path=\"url(#clip370)\" d=\"M2161.85 264.407 Q2158.42 264.407 2156.43 267.092 Q2154.44 269.754 2154.44 274.407 Q2154.44 279.059 2156.41 281.744 Q2158.4 284.406 2161.85 284.406 Q2165.25 284.406 2167.24 281.721 Q2169.23 279.036 2169.23 274.407 Q2169.23 269.8 2167.24 267.115 Q2165.25 264.407 2161.85 264.407 M2161.85 260.795 Q2167.4 260.795 2170.57 264.407 Q2173.75 268.018 2173.75 274.407 Q2173.75 280.772 2170.57 284.406 Q2167.4 288.018 2161.85 288.018 Q2156.27 288.018 2153.1 284.406 Q2149.95 280.772 2149.95 274.407 Q2149.95 268.018 2153.1 264.407 Q2156.27 260.795 2161.85 260.795 Z\" fill=\"#000000\" fill-rule=\"nonzero\" fill-opacity=\"1\" /><path clip-path=\"url(#clip370)\" d=\"M2180.81 261.42 L2185.07 261.42 L2185.07 287.346 L2180.81 287.346 L2180.81 261.42 M2180.81 251.328 L2185.07 251.328 L2185.07 256.721 L2180.81 256.721 L2180.81 251.328 Z\" fill=\"#000000\" fill-rule=\"nonzero\" fill-opacity=\"1\" /><path clip-path=\"url(#clip370)\" d=\"M2215.53 271.698 L2215.53 287.346 L2211.27 287.346 L2211.27 271.837 Q2211.27 268.157 2209.83 266.328 Q2208.4 264.499 2205.53 264.499 Q2202.08 264.499 2200.09 266.698 Q2198.1 268.897 2198.1 272.694 L2198.1 287.346 L2193.82 287.346 L2193.82 261.42 L2198.1 261.42 L2198.1 265.448 Q2199.63 263.11 2201.69 261.953 Q2203.77 260.795 2206.48 260.795 Q2210.94 260.795 2213.24 263.573 Q2215.53 266.328 2215.53 271.698 Z\" fill=\"#000000\" fill-rule=\"nonzero\" fill-opacity=\"1\" /><path clip-path=\"url(#clip370)\" d=\"M2228.24 254.059 L2228.24 261.42 L2237.01 261.42 L2237.01 264.731 L2228.24 264.731 L2228.24 278.805 Q2228.24 281.976 2229.09 282.879 Q2229.97 283.781 2232.63 283.781 L2237.01 283.781 L2237.01 287.346 L2232.63 287.346 Q2227.7 287.346 2225.83 285.518 Q2223.95 283.666 2223.95 278.805 L2223.95 264.731 L2220.83 264.731 L2220.83 261.42 L2223.95 261.42 L2223.95 254.059 L2228.24 254.059 Z\" fill=\"#000000\" fill-rule=\"nonzero\" fill-opacity=\"1\" /><path clip-path=\"url(#clip370)\" d=\"M2259.14 262.184 L2259.14 266.212 Q2257.33 265.286 2255.39 264.823 Q2253.44 264.36 2251.36 264.36 Q2248.19 264.36 2246.59 265.333 Q2245.02 266.305 2245.02 268.249 Q2245.02 269.731 2246.15 270.587 Q2247.29 271.42 2250.71 272.184 L2252.17 272.508 Q2256.71 273.481 2258.61 275.263 Q2260.53 277.022 2260.53 280.194 Q2260.53 283.805 2257.66 285.911 Q2254.81 288.018 2249.81 288.018 Q2247.73 288.018 2245.46 287.601 Q2243.21 287.207 2240.71 286.397 L2240.71 281.999 Q2243.07 283.226 2245.37 283.851 Q2247.66 284.453 2249.9 284.453 Q2252.91 284.453 2254.53 283.434 Q2256.15 282.393 2256.15 280.518 Q2256.15 278.782 2254.97 277.856 Q2253.81 276.93 2249.86 276.073 L2248.37 275.726 Q2244.42 274.893 2242.66 273.18 Q2240.9 271.444 2240.9 268.434 Q2240.9 264.777 2243.49 262.786 Q2246.08 260.795 2250.85 260.795 Q2253.21 260.795 2255.3 261.143 Q2257.38 261.49 2259.14 262.184 Z\" fill=\"#000000\" fill-rule=\"nonzero\" fill-opacity=\"1\" /></svg>\n"
      ]
     },
     "metadata": {},
     "output_type": "display_data"
    }
   ],
   "source": [
    "xflip!()"
   ]
  },
  {
   "cell_type": "code",
   "execution_count": 17,
   "metadata": {},
   "outputs": [
    {
     "name": "stderr",
     "output_type": "stream",
     "text": [
      "\u001b[32m\u001b[1m   Resolving\u001b[22m\u001b[39m package versions...\n"
     ]
    },
    {
     "name": "stderr",
     "output_type": "stream",
     "text": [
      "\u001b[32m\u001b[1m  No Changes\u001b[22m\u001b[39m to `~/.julia/environments/v1.9/Project.toml`\n",
      "\u001b[32m\u001b[1m  No Changes\u001b[22m\u001b[39m to `~/.julia/environments/v1.9/Manifest.toml`\n"
     ]
    },
    {
     "name": "stderr",
     "output_type": "stream",
     "text": [
      "\u001b[32m\u001b[1m   Resolving\u001b[22m\u001b[39m package versions...\n"
     ]
    },
    {
     "name": "stderr",
     "output_type": "stream",
     "text": [
      "\u001b[32m\u001b[1m   Installed\u001b[22m\u001b[39m Conda ────────── v1.8.0\n"
     ]
    },
    {
     "name": "stderr",
     "output_type": "stream",
     "text": [
      "\u001b[32m\u001b[1m   Installed\u001b[22m\u001b[39m VersionParsing ─ v1.3.0\n"
     ]
    },
    {
     "name": "stderr",
     "output_type": "stream",
     "text": [
      "\u001b[32m\u001b[1m   Installed\u001b[22m\u001b[39m PyPlot ───────── v2.11.1\n"
     ]
    },
    {
     "name": "stderr",
     "output_type": "stream",
     "text": [
      "\u001b[32m\u001b[1m   Installed\u001b[22m\u001b[39m PyCall ───────── v1.95.1\n"
     ]
    },
    {
     "name": "stderr",
     "output_type": "stream",
     "text": [
      "\u001b[32m\u001b[1m    Updating\u001b[22m\u001b[39m `~/.julia/environments/v1.9/Project.toml`\n",
      "  \u001b[90m[d330b81b] \u001b[39m\u001b[92m+ PyPlot v2.11.1\u001b[39m\n",
      "\u001b[32m\u001b[1m    Updating\u001b[22m\u001b[39m `~/.julia/environments/v1.9/Manifest.toml`\n",
      " "
     ]
    },
    {
     "name": "stderr",
     "output_type": "stream",
     "text": [
      " \u001b[90m[8f4d0f93] \u001b[39m\u001b[92m+ Conda v1.8.0\u001b[39m\n",
      "  \u001b[90m[438e738f] \u001b[39m\u001b[92m+ PyCall v1.95.1\u001b[39m\n",
      "  \u001b[90m[d330b81b] \u001b[39m\u001b[92m+ PyPlot v2.11.1\u001b[39m\n",
      "  \u001b[90m[81def892] \u001b[39m\u001b[92m+ VersionParsing v1.3.0\u001b[39m\n",
      "\u001b[32m\u001b[1m    Building\u001b[22m\u001b[39m Conda ─→ `~/.julia/scratchspaces/44cfe95a-1eb2-52ea-b672-e2afdf69b78f/e32a90da027ca45d84678b826fffd3110bb3fc90/build.log`\n"
     ]
    },
    {
     "name": "stderr",
     "output_type": "stream",
     "text": [
      "\u001b[32m\u001b[1m    Building\u001b[22m\u001b[39m PyCall → `~/.julia/scratchspaces/44cfe95a-1eb2-52ea-b672-e2afdf69b78f/62f417f6ad727987c755549e9cd88c46578da562/build.log`\n"
     ]
    },
    {
     "name": "stderr",
     "output_type": "stream",
     "text": [
      "\u001b[32m\u001b[1mPrecompiling\u001b[22m\u001b[39m project...\n"
     ]
    },
    {
     "name": "stderr",
     "output_type": "stream",
     "text": [
      "\u001b[32m  ✓ \u001b[39m\u001b[90mVersionParsing\u001b[39m\n"
     ]
    },
    {
     "name": "stderr",
     "output_type": "stream",
     "text": [
      "\u001b[32m  ✓ \u001b[39m\u001b[90mConda\u001b[39m\n"
     ]
    },
    {
     "name": "stderr",
     "output_type": "stream",
     "text": [
      "\u001b[32m  ✓ \u001b[39m\u001b[90mPyCall\u001b[39m\n"
     ]
    },
    {
     "name": "stderr",
     "output_type": "stream",
     "text": [
      "\u001b[32m  ✓ \u001b[39mPyPlot\n",
      "  4 dependencies successfully precompiled in 22 seconds. 144 already precompiled.\n"
     ]
    },
    {
     "name": "stderr",
     "output_type": "stream",
     "text": [
      "┌ Info: Installing matplotlib via the Conda matplotlib package...\n",
      "└ @ PyCall /Users/manuelmartinezflores/.julia/packages/PyCall/twYvK/src/PyCall.jl:719\n",
      "┌ Info: Running `conda install -y matplotlib` in root environment\n",
      "└ @ Conda /Users/manuelmartinezflores/.julia/packages/Conda/kOnIE/src/Conda.jl:127\n"
     ]
    },
    {
     "name": "stdout",
     "output_type": "stream",
     "text": [
      "Collecting package metadata (current_repodata.json): ...working... "
     ]
    },
    {
     "name": "stdout",
     "output_type": "stream",
     "text": [
      "done\n",
      "Solving environment: ...working... "
     ]
    },
    {
     "name": "stdout",
     "output_type": "stream",
     "text": [
      "done\n"
     ]
    },
    {
     "name": "stdout",
     "output_type": "stream",
     "text": [
      "\n",
      "## Package Plan ##\n",
      "\n",
      "  environment location: /Users/manuelmartinezflores/.julia/conda/3/x86_64\n",
      "\n",
      "  added / updated specs:\n",
      "    - matplotlib\n",
      "\n",
      "\n",
      "The following packages will be downloaded:\n",
      "\n",
      "    package                    |            build\n",
      "    ---------------------------|-----------------\n",
      "    brotli-1.0.9               |       hb7f2c08_8          19 KB  conda-forge\n",
      "    brotli-bin-1.0.9           |       hb7f2c08_8          17 KB  conda-forge\n",
      "    contourpy-1.0.7            |  py310ha23aa8a_0         204 KB  conda-forge\n",
      "    cycler-0.11.0              |     pyhd8ed1ab_0          10 KB  conda-forge\n",
      "    fonttools-4.39.4           |  py310h6729b98_0         2.0 MB  conda-forge\n",
      "    freetype-2.12.1            |       h3f81eb7_1         586 KB  conda-forge\n",
      "    kiwisolver-1.4.4           |  py310ha23aa8a_1          63 KB  conda-forge\n",
      "    lcms2-2.15                 |       h2dcdeff_1         222 KB  conda-forge\n",
      "    lerc-4.0.0                 |       hb486fe8_0         284 KB  conda-forge\n",
      "    libbrotlicommon-1.0.9      |       hb7f2c08_8          64 KB  conda-forge\n",
      "    libbrotlidec-1.0.9         |       hb7f2c08_8          33 KB  conda-forge\n",
      "    libbrotlienc-1.0.9         |       hb7f2c08_8         303 KB  conda-forge\n",
      "    libdeflate-1.18            |       hac1461d_0          65 KB  conda-forge\n",
      "    libjpeg-turbo-2.1.5.1      |       hb7f2c08_0         448 KB  conda-forge\n",
      "    libpng-1.6.39              |       ha978bb4_0         265 KB  conda-forge\n",
      "    libtiff-4.5.0              |       hedf67fa_6         384 KB  conda-forge\n",
      "    libwebp-base-1.3.0         |       hb7f2c08_0         338 KB  conda-forge\n",
      "    libxcb-1.15                |       hb7f2c08_0         306 KB  conda-forge\n",
      "    matplotlib-3.7.1           |  py310h2ec42d9_0           8 KB  conda-forge\n",
      "    matplotlib-base-3.7.1      |  py310he725631_0         6.4 MB  conda-forge\n",
      "    munkres-1.1.4              |     pyh9f0ad1d_0          12 KB  conda-forge\n",
      "    openjpeg-2.5.0             |       h13ac156_2         322 KB  conda-forge\n",
      "    pillow-9.5.0               |  py310hd63a8c7_1        44.0 MB  conda-forge\n",
      "    pthread-stubs-0.4          |    hc929b4f_1001           6 KB  conda-forge\n",
      "    pyparsing-3.0.9            |     pyhd8ed1ab_0          79 KB  conda-forge\n",
      "    python-dateutil-2.8.2      |     pyhd8ed1ab_0         240 KB  conda-forge\n",
      "    six-1.16.0                 |     pyh6c4a22f_0          14 KB  conda-forge\n",
      "    tornado-6.3.2              |  py310h6729b98_0         626 KB  conda-forge\n",
      "    unicodedata2-15.0.0        |  py310h90acd4f_0         486 KB  conda-forge\n",
      "    xorg-libxau-1.0.11         |       h0dc2134_0          13 KB  conda-forge\n",
      "    xorg-libxdmcp-1.1.3        |       h35c211d_0          17 KB  conda-forge\n",
      "    ------------------------------------------------------------\n",
      "                                           Total:        57.6 MB\n",
      "\n",
      "The following NEW packages will be INSTALLED:\n",
      "\n",
      "  brotli             conda-forge/osx-64::brotli-1.0.9-hb7f2c08_8 \n",
      "  brotli-bin         conda-forge/osx-64::brotli-bin-1.0.9-hb7f2c08_8 \n",
      "  contourpy          conda-forge/osx-64::contourpy-1.0.7-py310ha23aa8a_0 \n",
      "  cycler             conda-forge/noarch::cycler-0.11.0-pyhd8ed1ab_0 \n",
      "  fonttools          conda-forge/osx-64::fonttools-4.39.4-py310h6729b98_0 \n",
      "  freetype           conda-forge/osx-64::freetype-2.12.1-h3f81eb7_1 \n",
      "  kiwisolver         conda-forge/osx-64::kiwisolver-1.4.4-py310ha23aa8a_1 \n",
      "  lcms2              conda-forge/osx-64::lcms2-2.15-h2dcdeff_1 \n",
      "  lerc               conda-forge/osx-64::lerc-4.0.0-hb486fe8_0 \n",
      "  libbrotlicommon    conda-forge/osx-64::libbrotlicommon-1.0.9-hb7f2c08_8 \n",
      "  libbrotlidec       conda-forge/osx-64::libbrotlidec-1.0.9-hb7f2c08_8 \n",
      "  libbrotlienc       conda-forge/osx-64::libbrotlienc-1.0.9-hb7f2c08_8 \n",
      "  libdeflate         conda-forge/osx-64::libdeflate-1.18-hac1461d_0 \n",
      "  libjpeg-turbo      conda-forge/osx-64::libjpeg-turbo-2.1.5.1-hb7f2c08_0 \n",
      "  libpng             conda-forge/osx-64::libpng-1.6.39-ha978bb4_0 \n",
      "  libtiff            conda-forge/osx-64::libtiff-4.5.0-hedf67fa_6 \n",
      "  libwebp-base       conda-forge/osx-64::libwebp-base-1.3.0-hb7f2c08_0 \n",
      "  libxcb             conda-forge/osx-64::libxcb-1.15-hb7f2c08_0 \n",
      "  matplotlib         conda-forge/osx-64::matplotlib-3.7.1-py310h2ec42d9_0 \n",
      "  matplotlib-base    conda-forge/osx-64::matplotlib-base-3.7.1-py310he725631_0 \n",
      "  munkres            conda-forge/noarch::munkres-1.1.4-pyh9f0ad1d_0 \n",
      "  openjpeg           conda-forge/osx-64::openjpeg-2.5.0-h13ac156_2 \n",
      "  pillow             conda-forge/osx-64::pillow-9.5.0-py310hd63a8c7_1 \n",
      "  pthread-stubs      conda-forge/osx-64::pthread-stubs-0.4-hc929b4f_1001 \n",
      "  pyparsing          conda-forge/noarch::pyparsing-3.0.9-pyhd8ed1ab_0 \n",
      "  python-dateutil    conda-forge/noarch::python-dateutil-2.8.2-pyhd8ed1ab_0 \n",
      "  six                conda-forge/noarch::six-1.16.0-pyh6c4a22f_0 \n",
      "  tornado            conda-forge/osx-64::tornado-6.3.2-py310h6729b98_0 \n",
      "  unicodedata2       conda-forge/osx-64::unicodedata2-15.0.0-py310h90acd4f_0 \n",
      "  xorg-libxau        conda-forge/osx-64::xorg-libxau-1.0.11-h0dc2134_0 \n",
      "  xorg-libxdmcp      conda-forge/osx-64::xorg-libxdmcp-1.1.3-h35c211d_0 \n",
      "\n",
      "\n",
      "\n",
      "Downloading and Extracting Packages\n",
      "\rtornado-6.3.2        | 626 KB    |            |   0% \n",
      "\rfonttools-4.39.4     | 2.0 MB    |            |   0% \u001b[A\n",
      "\n",
      "\rlibjpeg-turbo-2.1.5. | 448 KB    |            |   0% \u001b[A\u001b[A\n",
      "\n",
      "\n",
      "\rlibbrotlidec-1.0.9   | 33 KB     |            |   0% \u001b[A\u001b[A\u001b[A\n",
      "\n",
      "\n",
      "\n",
      "\rlibdeflate-1.18      | 65 KB     |            |   0% \u001b[A\u001b[A\u001b[A\u001b[A\n",
      "\n",
      "\n",
      "\n",
      "\n",
      "\rkiwisolver-1.4.4     | 63 KB     |            |   0% \u001b[A\u001b[A\u001b[A\u001b[A\u001b[A\n",
      "\n",
      "\n",
      "\n",
      "\n",
      "\n",
      "\rpython-dateutil-2.8. | 240 KB    |            |   0% \u001b[A\u001b[A\u001b[A\u001b[A\u001b[A\u001b[A\n",
      "\n",
      "\n",
      "\n",
      "\n",
      "\n",
      "\n",
      "\rcontourpy-1.0.7      | 204 KB    |            |   0% \u001b[A\u001b[A\u001b[A\u001b[A\u001b[A\u001b[A\u001b[A\n",
      "\n",
      "\n",
      "\n",
      "\n",
      "\n",
      "\n",
      "\n",
      "\rlibbrotlienc-1.0.9   | 303 KB    |            |   0% \u001b[A\u001b[A\u001b[A\u001b[A\u001b[A\u001b[A\u001b[A\u001b[A\n",
      "\n",
      "\n",
      "\n",
      "\n",
      "\n",
      "\n",
      "\n",
      "\n",
      "\rmatplotlib-base-3.7. | 6.4 MB    |            |   0% \u001b[A\u001b[A\u001b[A\u001b[A\u001b[A\u001b[A\u001b[A\u001b[A\u001b[A\n",
      "\n",
      "\n",
      "\n",
      "\n",
      "\n",
      "\n",
      "\n",
      "\n",
      "\n",
      "\rpthread-stubs-0.4    | 6 KB      |            |   0% \u001b[A\u001b[A\u001b[A\u001b[A\u001b[A\u001b[A\u001b[A\u001b[A\u001b[A\u001b[A\n",
      "\n",
      "\n",
      "\n",
      "\n",
      "\n",
      "\n",
      "\n",
      "\n",
      "\n",
      "\n",
      "\rlibbrotlicommon-1.0. | 64 KB     |            |   0% \u001b[A\u001b[A\u001b[A\u001b[A\u001b[A\u001b[A\u001b[A\u001b[A\u001b[A\u001b[A\u001b[A\n",
      "\n",
      "\n",
      "\n",
      "\n",
      "\n",
      "\n",
      "\n",
      "\n",
      "\n",
      "\n",
      "\n",
      "\rpyparsing-3.0.9      | 79 KB     |            |   0% \u001b[A\u001b[A\u001b[A\u001b[A\u001b[A\u001b[A\u001b[A\u001b[A\u001b[A\u001b[A\u001b[A\u001b[A\n",
      "\n",
      "\n",
      "\n",
      "\n",
      "\n",
      "\n",
      "\n",
      "\n",
      "\n",
      "\n",
      "\n",
      "\n",
      "\runicodedata2-15.0.0  | 486 KB    |            |   0% \u001b[A\u001b[A\u001b[A\u001b[A\u001b[A\u001b[A\u001b[A\u001b[A\u001b[A\u001b[A\u001b[A\u001b[A\u001b[A\n",
      "\n",
      "\n",
      "\n",
      "\n",
      "\n",
      "\n",
      "\n",
      "\n",
      "\n",
      "\n",
      "\n",
      "\n",
      "\n",
      "\ropenjpeg-2.5.0       | 322 KB    |            |   0% \u001b[A\u001b[A\u001b[A\u001b[A\u001b[A\u001b[A\u001b[A\u001b[A\u001b[A\u001b[A\u001b[A\u001b[A\u001b[A\u001b[A\n",
      "\n",
      "\n",
      "\n",
      "\n",
      "\n",
      "\n",
      "\n",
      "\n",
      "\n",
      "\n",
      "\n",
      "\n",
      "\n",
      "\n",
      "\rbrotli-bin-1.0.9     | 17 KB     |            |   0% \u001b[A\u001b[A\u001b[A\u001b[A\u001b[A\u001b[A\u001b[A\u001b[A\u001b[A\u001b[A\u001b[A\u001b[A\u001b[A\u001b[A\u001b[A\n",
      "\n",
      "\n",
      "\n",
      "\n",
      "\n",
      "\n",
      "\n",
      "\n",
      "\n",
      "\n",
      "\n",
      "\n",
      "\n",
      "\n",
      "\n",
      "\rlibxcb-1.15          | 306 KB    |            |   0% \u001b[A\u001b[A\u001b[A\u001b[A\u001b[A\u001b[A\u001b[A\u001b[A\u001b[A\u001b[A\u001b[A\u001b[A\u001b[A\u001b[A\u001b[A\u001b[A\n",
      "\n",
      "\n",
      "\n",
      "\n",
      "\n",
      "\n",
      "\n",
      "\n",
      "\n",
      "\n",
      "\n",
      "\n",
      "\n",
      "\n",
      "\n",
      "\n",
      "\rxorg-libxau-1.0.11   | 13 KB     |            |   0% \u001b[A\u001b[A\u001b[A\u001b[A\u001b[A\u001b[A\u001b[A\u001b[A\u001b[A\u001b[A\u001b[A\u001b[A\u001b[A\u001b[A\u001b[A\u001b[A\u001b[A\n",
      "\n",
      "\n",
      "\n",
      "\n",
      "\n",
      "\n",
      "\n",
      "\n",
      "\n",
      "\n",
      "\n",
      "\n",
      "\n",
      "\n",
      "\n",
      "\n",
      "\n",
      "\rbrotli-1.0.9         | 19 KB     |            |   0% \u001b[A\u001b[A\u001b[A\u001b[A\u001b[A\u001b[A\u001b[A\u001b[A\u001b[A\u001b[A\u001b[A\u001b[A\u001b[A\u001b[A\u001b[A\u001b[A\u001b[A\u001b[A\n",
      "\n",
      "\n",
      "\n",
      "\n",
      "\n",
      "\n",
      "\n",
      "\n",
      "\n",
      "\n",
      "\n",
      "\n",
      "\n",
      "\n",
      "\n",
      "\n",
      "\n",
      "\n",
      "\r ... (more hidden) ...\u001b[A\u001b[A\u001b[A\u001b[A\u001b[A\u001b[A\u001b[A\u001b[A\u001b[A\u001b[A\u001b[A\u001b[A\u001b[A\u001b[A\u001b[A\u001b[A\u001b[A\u001b[A\u001b[A"
     ]
    },
    {
     "name": "stdout",
     "output_type": "stream",
     "text": [
      "\n",
      "\n",
      "\n",
      "\n",
      "\rlibdeflate-1.18      | 65 KB     | ##4        |  24% \u001b[A\u001b[A\u001b[A\u001b[A"
     ]
    },
    {
     "name": "stdout",
     "output_type": "stream",
     "text": [
      "\n",
      "\n",
      "\n",
      "\rlibbrotlidec-1.0.9   | 33 KB     | ####9      |  49% \u001b[A\u001b[A\u001b[A"
     ]
    },
    {
     "name": "stdout",
     "output_type": "stream",
     "text": [
      "\n",
      "\n",
      "\n",
      "\rlibbrotlidec-1.0.9   | 33 KB     | ########## | 100% \u001b[A\u001b[A\u001b[A\n",
      "\n",
      "\n",
      "\rlibbrotlidec-1.0.9   | 33 KB     | ########## | 100% \u001b[A\u001b[A\u001b[A\n",
      "\n",
      "\n",
      "\n",
      "\rlibdeflate-1.18      | 65 KB     | ####8      |  49% \u001b[A\u001b[A\u001b[A\u001b[A"
     ]
    },
    {
     "name": "stdout",
     "output_type": "stream",
     "text": [
      "\n",
      "\n",
      "\n",
      "\n",
      "\rlibdeflate-1.18      | 65 KB     | ########## | 100% \u001b[A\u001b[A\u001b[A\u001b[A"
     ]
    },
    {
     "name": "stdout",
     "output_type": "stream",
     "text": [
      "\n",
      "\n",
      "\n",
      "\n",
      "\n",
      "\rkiwisolver-1.4.4     | 63 KB     | ##5        |  25% \u001b[A\u001b[A\u001b[A\u001b[A\u001b[A"
     ]
    },
    {
     "name": "stdout",
     "output_type": "stream",
     "text": [
      "\n",
      "\n",
      "\n",
      "\n",
      "\n",
      "\n",
      "\rpython-dateutil-2.8. | 240 KB    | 6          |   7% \u001b[A\u001b[A\u001b[A\u001b[A\u001b[A\u001b[A"
     ]
    },
    {
     "name": "stdout",
     "output_type": "stream",
     "text": [
      "\n",
      "\n",
      "\n",
      "\n",
      "\n",
      "\n",
      "\rpython-dateutil-2.8. | 240 KB    | #####9     |  60% \u001b[A\u001b[A\u001b[A\u001b[A\u001b[A\u001b[A"
     ]
    },
    {
     "name": "stdout",
     "output_type": "stream",
     "text": [
      "\n",
      "\rfonttools-4.39.4     | 2.0 MB    |            |   1% \u001b[A\n",
      "\n",
      "\rlibjpeg-turbo-2.1.5. | 448 KB    | 3          |   4% \u001b[A\u001b[A"
     ]
    },
    {
     "name": "stdout",
     "output_type": "stream",
     "text": [
      "\n",
      "\n",
      "\n",
      "\n",
      "\n",
      "\rkiwisolver-1.4.4     | 63 KB     | #######5   |  76% \u001b[A\u001b[A\u001b[A\u001b[A\u001b[A"
     ]
    },
    {
     "name": "stdout",
     "output_type": "stream",
     "text": [
      "\n",
      "\n",
      "\n",
      "\n",
      "\n",
      "\rkiwisolver-1.4.4     | 63 KB     | ########## | 100% \u001b[A\u001b[A\u001b[A\u001b[A\u001b[A\n",
      "\n",
      "\rlibjpeg-turbo-2.1.5. | 448 KB    | #          |  11% \u001b[A\u001b[A"
     ]
    },
    {
     "name": "stdout",
     "output_type": "stream",
     "text": [
      "\rtornado-6.3.2        | 626 KB    | 2          |   3% \n",
      "\rfonttools-4.39.4     | 2.0 MB    | 2          |   2% \u001b[A"
     ]
    },
    {
     "name": "stdout",
     "output_type": "stream",
     "text": [
      "\n",
      "\n",
      "\n",
      "\n",
      "\n",
      "\n",
      "\n",
      "\rcontourpy-1.0.7      | 204 KB    | 7          |   8% \u001b[A\u001b[A\u001b[A\u001b[A\u001b[A\u001b[A\u001b[A\n",
      "\n",
      "\rlibjpeg-turbo-2.1.5. | 448 KB    | ##8        |  29% \u001b[A\u001b[A\n",
      "\rfonttools-4.39.4     | 2.0 MB    | 3          |   3% \u001b[A"
     ]
    },
    {
     "name": "stdout",
     "output_type": "stream",
     "text": [
      "\rtornado-6.3.2        | 626 KB    | #2         |  13% "
     ]
    },
    {
     "name": "stdout",
     "output_type": "stream",
     "text": [
      "\n",
      "\rfonttools-4.39.4     | 2.0 MB    | 9          |  10% \u001b[A\n",
      "\n",
      "\rlibjpeg-turbo-2.1.5. | 448 KB    | ###5       |  36% \u001b[A\u001b[A"
     ]
    },
    {
     "name": "stdout",
     "output_type": "stream",
     "text": [
      "\n",
      "\n",
      "\n",
      "\n",
      "\n",
      "\n",
      "\n",
      "\rcontourpy-1.0.7      | 204 KB    | ###9       |  39% \u001b[A\u001b[A\u001b[A\u001b[A\u001b[A\u001b[A\u001b[A\n",
      "\n",
      "\rlibjpeg-turbo-2.1.5. | 448 KB    | #####3     |  54% \u001b[A\u001b[A"
     ]
    },
    {
     "name": "stdout",
     "output_type": "stream",
     "text": [
      "\n",
      "\n",
      "\n",
      "\n",
      "\n",
      "\n",
      "\n",
      "\rcontourpy-1.0.7      | 204 KB    | ####7      |  47% \u001b[A\u001b[A\u001b[A\u001b[A\u001b[A\u001b[A\u001b[A"
     ]
    },
    {
     "name": "stdout",
     "output_type": "stream",
     "text": [
      "\n",
      "\rfonttools-4.39.4     | 2.0 MB    | #1         |  12% \u001b[A"
     ]
    },
    {
     "name": "stdout",
     "output_type": "stream",
     "text": [
      "\rtornado-6.3.2        | 626 KB    | #7         |  18% \n",
      "\n",
      "\n",
      "\n",
      "\n",
      "\n",
      "\n",
      "\rcontourpy-1.0.7      | 204 KB    | ######2    |  63% \u001b[A\u001b[A\u001b[A\u001b[A\u001b[A\u001b[A\u001b[A\n",
      "\rfonttools-4.39.4     | 2.0 MB    | #7         |  17% \u001b[A\n",
      "\n",
      "\rlibjpeg-turbo-2.1.5. | 448 KB    | ######4    |  64% \u001b[A\u001b[A"
     ]
    },
    {
     "name": "stdout",
     "output_type": "stream",
     "text": [
      "\n",
      "\n",
      "\n",
      "\n",
      "\n",
      "\n",
      "\n",
      "\rcontourpy-1.0.7      | 204 KB    | #######    |  71% \u001b[A\u001b[A\u001b[A\u001b[A\u001b[A\u001b[A\u001b[A\rtornado-6.3.2        | 626 KB    | ##5        |  26% \n",
      "\n",
      "\rlibjpeg-turbo-2.1.5. | 448 KB    | #######5   |  75% \u001b[A\u001b[A"
     ]
    },
    {
     "name": "stdout",
     "output_type": "stream",
     "text": [
      "\n",
      "\n",
      "\n",
      "\n",
      "\n",
      "\n",
      "\n",
      "\rcontourpy-1.0.7      | 204 KB    | ########## | 100% \u001b[A\u001b[A\u001b[A\u001b[A\u001b[A\u001b[A\u001b[A\n",
      "\n",
      "\n",
      "\n",
      "\n",
      "\n",
      "\n",
      "\rcontourpy-1.0.7      | 204 KB    | ########## | 100% \u001b[A\u001b[A\u001b[A\u001b[A\u001b[A\u001b[A\u001b[A\n",
      "\rfonttools-4.39.4     | 2.0 MB    | ##         |  21% \u001b[A"
     ]
    },
    {
     "name": "stdout",
     "output_type": "stream",
     "text": [
      "\n",
      "\n",
      "\n",
      "\n",
      "\n",
      "\n",
      "\rpython-dateutil-2.8. | 240 KB    | ########6  |  87% \u001b[A\u001b[A\u001b[A\u001b[A\u001b[A\u001b[A\rtornado-6.3.2        | 626 KB    | ###        |  31% \n",
      "\n",
      "\rlibjpeg-turbo-2.1.5. | 448 KB    | ########## | 100% \u001b[A\u001b[A\n",
      "\n",
      "\rlibjpeg-turbo-2.1.5. | 448 KB    | ########## | 100% \u001b[A\u001b[A\n",
      "\n",
      "\n",
      "\n",
      "\n",
      "\n",
      "\rpython-dateutil-2.8. | 240 KB    | ########## | 100% \u001b[A\u001b[A\u001b[A\u001b[A\u001b[A\u001b[A"
     ]
    },
    {
     "name": "stdout",
     "output_type": "stream",
     "text": [
      "\n",
      "\n",
      "\n",
      "\n",
      "\n",
      "\n",
      "\n",
      "\n",
      "\rlibbrotlienc-1.0.9   | 303 KB    | 5          |   5% \u001b[A\u001b[A\u001b[A\u001b[A\u001b[A\u001b[A\u001b[A\u001b[A\n",
      "\rfonttools-4.39.4     | 2.0 MB    | ##4        |  25% \u001b[A\rtornado-6.3.2        | 626 KB    | ###5       |  36% "
     ]
    },
    {
     "name": "stdout",
     "output_type": "stream",
     "text": [
      "\n",
      "\n",
      "\n",
      "\n",
      "\n",
      "\n",
      "\n",
      "\n",
      "\n",
      "\rmatplotlib-base-3.7. | 6.4 MB    |            |   0% \u001b[A\u001b[A\u001b[A\u001b[A\u001b[A\u001b[A\u001b[A\u001b[A\u001b[A\n",
      "\n",
      "\n",
      "\n",
      "\n",
      "\n",
      "\n",
      "\n",
      "\rlibbrotlienc-1.0.9   | 303 KB    | #          |  11% \u001b[A\u001b[A\u001b[A\u001b[A\u001b[A\u001b[A\u001b[A\u001b[A"
     ]
    },
    {
     "name": "stdout",
     "output_type": "stream",
     "text": [
      "\n",
      "\n",
      "\n",
      "\n",
      "\n",
      "\n",
      "\n",
      "\n",
      "\rlibbrotlienc-1.0.9   | 303 KB    | ##1        |  21% \u001b[A\u001b[A\u001b[A\u001b[A\u001b[A\u001b[A\u001b[A\u001b[A"
     ]
    },
    {
     "name": "stdout",
     "output_type": "stream",
     "text": [
      "\n",
      "\n",
      "\n",
      "\n",
      "\n",
      "\n",
      "\n",
      "\n",
      "\n",
      "\rmatplotlib-base-3.7. | 6.4 MB    |            |   1% \u001b[A\u001b[A\u001b[A\u001b[A\u001b[A\u001b[A\u001b[A\u001b[A\u001b[A\n",
      "\rfonttools-4.39.4     | 2.0 MB    | ##7        |  28% \u001b[A"
     ]
    },
    {
     "name": "stdout",
     "output_type": "stream",
     "text": [
      "\rtornado-6.3.2        | 626 KB    | ####       |  41% "
     ]
    },
    {
     "name": "stdout",
     "output_type": "stream",
     "text": [
      "\n",
      "\rfonttools-4.39.4     | 2.0 MB    | ###        |  31% \u001b[A\n",
      "\n",
      "\n",
      "\n",
      "\n",
      "\n",
      "\n",
      "\n",
      "\n",
      "\rmatplotlib-base-3.7. | 6.4 MB    | 1          |   2% \u001b[A\u001b[A\u001b[A\u001b[A\u001b[A\u001b[A\u001b[A\u001b[A\u001b[A\n",
      "\n",
      "\n",
      "\n",
      "\n",
      "\n",
      "\n",
      "\n",
      "\n",
      "\n",
      "\rpthread-stubs-0.4    | 6 KB      | ########## | 100% \u001b[A\u001b[A\u001b[A\u001b[A\u001b[A\u001b[A\u001b[A\u001b[A\u001b[A\u001b[A\n",
      "\n",
      "\n",
      "\n",
      "\n",
      "\n",
      "\n",
      "\n",
      "\n",
      "\n",
      "\rpthread-stubs-0.4    | 6 KB      | ########## | 100% \u001b[A\u001b[A\u001b[A\u001b[A\u001b[A\u001b[A\u001b[A\u001b[A\u001b[A\u001b[A"
     ]
    },
    {
     "name": "stdout",
     "output_type": "stream",
     "text": [
      "\n",
      "\n",
      "\n",
      "\n",
      "\n",
      "\n",
      "\n",
      "\n",
      "\rlibbrotlienc-1.0.9   | 303 KB    | ###1       |  32% \u001b[A\u001b[A\u001b[A\u001b[A\u001b[A\u001b[A\u001b[A\u001b[A\n",
      "\rfonttools-4.39.4     | 2.0 MB    | ###4       |  34% \u001b[A\n",
      "\n",
      "\n",
      "\n",
      "\n",
      "\n",
      "\n",
      "\n",
      "\n",
      "\rmatplotlib-base-3.7. | 6.4 MB    | 2          |   3% \u001b[A\u001b[A\u001b[A\u001b[A\u001b[A\u001b[A\u001b[A\u001b[A\u001b[A\rtornado-6.3.2        | 626 KB    | ####6      |  46% "
     ]
    },
    {
     "name": "stdout",
     "output_type": "stream",
     "text": [
      "\n",
      "\n",
      "\n",
      "\n",
      "\n",
      "\n",
      "\n",
      "\n",
      "\rlibbrotlienc-1.0.9   | 303 KB    | #####8     |  58% \u001b[A\u001b[A\u001b[A\u001b[A\u001b[A\u001b[A\u001b[A\u001b[A"
     ]
    },
    {
     "name": "stdout",
     "output_type": "stream",
     "text": [
      "\rtornado-6.3.2        | 626 KB    | ####8      |  49% \n",
      "\n",
      "\n",
      "\n",
      "\n",
      "\n",
      "\n",
      "\n",
      "\n",
      "\rmatplotlib-base-3.7. | 6.4 MB    | 3          |   4% \u001b[A\u001b[A\u001b[A\u001b[A\u001b[A\u001b[A\u001b[A\u001b[A\u001b[A"
     ]
    },
    {
     "name": "stdout",
     "output_type": "stream",
     "text": [
      "\n",
      "\rfonttools-4.39.4     | 2.0 MB    | ###6       |  37% \u001b[A\n",
      "\n",
      "\n",
      "\n",
      "\n",
      "\n",
      "\n",
      "\n",
      "\n",
      "\rmatplotlib-base-3.7. | 6.4 MB    | 4          |   4% \u001b[A\u001b[A\u001b[A\u001b[A\u001b[A\u001b[A\u001b[A\u001b[A\u001b[A"
     ]
    },
    {
     "name": "stdout",
     "output_type": "stream",
     "text": [
      "\n",
      "\rfonttools-4.39.4     | 2.0 MB    | ###8       |  39% \u001b[A\rtornado-6.3.2        | 626 KB    | #####1     |  51% "
     ]
    },
    {
     "name": "stdout",
     "output_type": "stream",
     "text": [
      "\n",
      "\n",
      "\n",
      "\n",
      "\n",
      "\n",
      "\n",
      "\n",
      "\rlibbrotlienc-1.0.9   | 303 KB    | ######8    |  69% \u001b[A\u001b[A\u001b[A\u001b[A\u001b[A\u001b[A\u001b[A\u001b[A\n",
      "\n",
      "\n",
      "\n",
      "\n",
      "\n",
      "\n",
      "\n",
      "\n",
      "\rmatplotlib-base-3.7. | 6.4 MB    | 4          |   5% \u001b[A\u001b[A\u001b[A\u001b[A\u001b[A\u001b[A\u001b[A\u001b[A\u001b[A\rtornado-6.3.2        | 626 KB    | #####3     |  54% \n",
      "\n",
      "\n",
      "\n",
      "\n",
      "\n",
      "\n",
      "\n",
      "\n",
      "\n",
      "\n",
      "\rlibbrotlicommon-1.0. | 64 KB     | ##4        |  25% \u001b[A\u001b[A\u001b[A\u001b[A\u001b[A\u001b[A\u001b[A\u001b[A\u001b[A\u001b[A\u001b[A"
     ]
    },
    {
     "name": "stdout",
     "output_type": "stream",
     "text": [
      "\n",
      "\rfonttools-4.39.4     | 2.0 MB    | ####1      |  41% \u001b[A\n",
      "\n",
      "\n",
      "\n",
      "\n",
      "\n",
      "\n",
      "\n",
      "\rlibbrotlienc-1.0.9   | 303 KB    | #######9   |  79% \u001b[A\u001b[A\u001b[A\u001b[A\u001b[A\u001b[A\u001b[A\u001b[A"
     ]
    },
    {
     "name": "stdout",
     "output_type": "stream",
     "text": [
      "\n",
      "\n",
      "\n",
      "\n",
      "\n",
      "\n",
      "\n",
      "\n",
      "\n",
      "\rmatplotlib-base-3.7. | 6.4 MB    | 5          |   5% \u001b[A\u001b[A\u001b[A\u001b[A\u001b[A\u001b[A\u001b[A\u001b[A\u001b[A\n",
      "\rfonttools-4.39.4     | 2.0 MB    | ####2      |  43% \u001b[A"
     ]
    },
    {
     "name": "stdout",
     "output_type": "stream",
     "text": [
      "\n",
      "\n",
      "\n",
      "\n",
      "\n",
      "\n",
      "\n",
      "\n",
      "\rlibbrotlienc-1.0.9   | 303 KB    | ########9  |  90% \u001b[A\u001b[A\u001b[A\u001b[A\u001b[A\u001b[A\u001b[A\u001b[A\rtornado-6.3.2        | 626 KB    | ######1    |  61% \n",
      "\n",
      "\n",
      "\n",
      "\n",
      "\n",
      "\n",
      "\n",
      "\n",
      "\rmatplotlib-base-3.7. | 6.4 MB    | 5          |   6% \u001b[A\u001b[A\u001b[A\u001b[A\u001b[A\u001b[A\u001b[A\u001b[A\u001b[A"
     ]
    },
    {
     "name": "stdout",
     "output_type": "stream",
     "text": [
      "\n",
      "\n",
      "\n",
      "\n",
      "\n",
      "\n",
      "\n",
      "\n",
      "\rlibbrotlienc-1.0.9   | 303 KB    | ########## | 100% \u001b[A\u001b[A\u001b[A\u001b[A\u001b[A\u001b[A\u001b[A\u001b[A"
     ]
    },
    {
     "name": "stdout",
     "output_type": "stream",
     "text": [
      "\rtornado-6.3.2        | 626 KB    | ######6    |  66% \n",
      "\n",
      "\n",
      "\n",
      "\n",
      "\n",
      "\n",
      "\n",
      "\rlibbrotlienc-1.0.9   | 303 KB    | ########## | 100% \u001b[A\u001b[A\u001b[A\u001b[A\u001b[A\u001b[A\u001b[A\u001b[A\n",
      "\n",
      "\n",
      "\n",
      "\n",
      "\n",
      "\n",
      "\n",
      "\n",
      "\rmatplotlib-base-3.7. | 6.4 MB    | 6          |   6% \u001b[A\u001b[A\u001b[A\u001b[A\u001b[A\u001b[A\u001b[A\u001b[A\u001b[A\n",
      "\rfonttools-4.39.4     | 2.0 MB    | ####4      |  44% \u001b[A"
     ]
    },
    {
     "name": "stdout",
     "output_type": "stream",
     "text": [
      "\n",
      "\n",
      "\n",
      "\n",
      "\n",
      "\n",
      "\n",
      "\n",
      "\n",
      "\n",
      "\n",
      "\n",
      "\rpyparsing-3.0.9      | 79 KB     | ##         |  20% \u001b[A\u001b[A\u001b[A\u001b[A\u001b[A\u001b[A\u001b[A\u001b[A\u001b[A\u001b[A\u001b[A\u001b[A"
     ]
    },
    {
     "name": "stdout",
     "output_type": "stream",
     "text": [
      "\n",
      "\rfonttools-4.39.4     | 2.0 MB    | ####8      |  48% \u001b[A\n",
      "\n",
      "\n",
      "\n",
      "\n",
      "\n",
      "\n",
      "\n",
      "\n",
      "\rmatplotlib-base-3.7. | 6.4 MB    | 6          |   7% \u001b[A\u001b[A\u001b[A\u001b[A\u001b[A\u001b[A\u001b[A\u001b[A\u001b[A"
     ]
    },
    {
     "name": "stdout",
     "output_type": "stream",
     "text": [
      "\rtornado-6.3.2        | 626 KB    | #######1   |  72% \n",
      "\n",
      "\n",
      "\n",
      "\n",
      "\n",
      "\n",
      "\n",
      "\n",
      "\n",
      "\n",
      "\n",
      "\rpyparsing-3.0.9      | 79 KB     | ####       |  40% \u001b[A\u001b[A\u001b[A\u001b[A\u001b[A\u001b[A\u001b[A\u001b[A\u001b[A\u001b[A\u001b[A\u001b[A"
     ]
    },
    {
     "name": "stdout",
     "output_type": "stream",
     "text": [
      "\n",
      "\rfonttools-4.39.4     | 2.0 MB    | #####      |  51% \u001b[A"
     ]
    },
    {
     "name": "stdout",
     "output_type": "stream",
     "text": [
      "\n",
      "\n",
      "\n",
      "\n",
      "\n",
      "\n",
      "\n",
      "\n",
      "\n",
      "\rmatplotlib-base-3.7. | 6.4 MB    | 7          |   8% \u001b[A\u001b[A\u001b[A\u001b[A\u001b[A\u001b[A\u001b[A\u001b[A\u001b[A\n",
      "\n",
      "\n",
      "\n",
      "\n",
      "\n",
      "\n",
      "\n",
      "\n",
      "\n",
      "\n",
      "\n",
      "\rpyparsing-3.0.9      | 79 KB     | ######     |  60% \u001b[A\u001b[A\u001b[A\u001b[A\u001b[A\u001b[A\u001b[A\u001b[A\u001b[A\u001b[A\u001b[A\u001b[A"
     ]
    },
    {
     "name": "stdout",
     "output_type": "stream",
     "text": [
      "\n",
      "\rfonttools-4.39.4     | 2.0 MB    | #####3     |  53% \u001b[A\n",
      "\n",
      "\n",
      "\n",
      "\n",
      "\n",
      "\n",
      "\n",
      "\n",
      "\rmatplotlib-base-3.7. | 6.4 MB    | 8          |   8% \u001b[A\u001b[A\u001b[A\u001b[A\u001b[A\u001b[A\u001b[A\u001b[A\u001b[A\rtornado-6.3.2        | 626 KB    | #######6   |  77% "
     ]
    },
    {
     "name": "stdout",
     "output_type": "stream",
     "text": [
      "\n",
      "\rfonttools-4.39.4     | 2.0 MB    | #####5     |  56% \u001b[A\n",
      "\n",
      "\n",
      "\n",
      "\n",
      "\n",
      "\n",
      "\n",
      "\n",
      "\rmatplotlib-base-3.7. | 6.4 MB    | 8          |   9% \u001b[A\u001b[A\u001b[A\u001b[A\u001b[A\u001b[A\u001b[A\u001b[A\u001b[A\n",
      "\n",
      "\n",
      "\n",
      "\n",
      "\n",
      "\n",
      "\n",
      "\n",
      "\n",
      "\n",
      "\n",
      "\rpyparsing-3.0.9      | 79 KB     | ########   |  81% \u001b[A\u001b[A\u001b[A\u001b[A\u001b[A\u001b[A\u001b[A\u001b[A\u001b[A\u001b[A\u001b[A\u001b[A"
     ]
    },
    {
     "name": "stdout",
     "output_type": "stream",
     "text": [
      "\rtornado-6.3.2        | 626 KB    | ########1  |  82% \n",
      "\n",
      "\n",
      "\n",
      "\n",
      "\n",
      "\n",
      "\n",
      "\n",
      "\n",
      "\n",
      "\n",
      "\rpyparsing-3.0.9      | 79 KB     | ########## | 100% \u001b[A\u001b[A\u001b[A\u001b[A\u001b[A\u001b[A\u001b[A\u001b[A\u001b[A\u001b[A\u001b[A\u001b[A"
     ]
    },
    {
     "name": "stdout",
     "output_type": "stream",
     "text": [
      "\n",
      "\rfonttools-4.39.4     | 2.0 MB    | #####7     |  58% \u001b[A\n",
      "\n",
      "\n",
      "\n",
      "\n",
      "\n",
      "\n",
      "\n",
      "\n",
      "\rmatplotlib-base-3.7. | 6.4 MB    | 9          |  10% \u001b[A\u001b[A\u001b[A\u001b[A\u001b[A\u001b[A\u001b[A\u001b[A\u001b[A\rtornado-6.3.2        | 626 KB    | ########9  |  89% "
     ]
    },
    {
     "name": "stdout",
     "output_type": "stream",
     "text": [
      "\n",
      "\n",
      "\n",
      "\n",
      "\n",
      "\n",
      "\n",
      "\n",
      "\n",
      "\rmatplotlib-base-3.7. | 6.4 MB    | 9          |  10% \u001b[A\u001b[A\u001b[A\u001b[A\u001b[A\u001b[A\u001b[A\u001b[A\u001b[A"
     ]
    },
    {
     "name": "stdout",
     "output_type": "stream",
     "text": [
      "\n",
      "\rfonttools-4.39.4     | 2.0 MB    | ######1    |  61% \u001b[A"
     ]
    },
    {
     "name": "stdout",
     "output_type": "stream",
     "text": [
      "\rtornado-6.3.2        | 626 KB    | #########4 |  95% \n",
      "\n",
      "\n",
      "\n",
      "\n",
      "\n",
      "\n",
      "\n",
      "\n",
      "\rmatplotlib-base-3.7. | 6.4 MB    | #          |  10% \u001b[A\u001b[A\u001b[A\u001b[A\u001b[A\u001b[A\u001b[A\u001b[A\u001b[A"
     ]
    },
    {
     "name": "stdout",
     "output_type": "stream",
     "text": [
      "\n",
      "\rfonttools-4.39.4     | 2.0 MB    | ######2    |  63% \u001b[A\n",
      "\n",
      "\n",
      "\n",
      "\n",
      "\n",
      "\n",
      "\n",
      "\n",
      "\n",
      "\n",
      "\n",
      "\n",
      "\runicodedata2-15.0.0  | 486 KB    | 3          |   3% \u001b[A\u001b[A\u001b[A\u001b[A\u001b[A\u001b[A\u001b[A\u001b[A\u001b[A\u001b[A\u001b[A\u001b[A\u001b[A\rtornado-6.3.2        | 626 KB    | #########9 | 100% "
     ]
    },
    {
     "name": "stdout",
     "output_type": "stream",
     "text": [
      "\n",
      "\n",
      "\n",
      "\n",
      "\n",
      "\n",
      "\n",
      "\n",
      "\n",
      "\rmatplotlib-base-3.7. | 6.4 MB    | #1         |  11% \u001b[A\u001b[A\u001b[A\u001b[A\u001b[A\u001b[A\u001b[A\u001b[A\u001b[A\n",
      "\n",
      "\n",
      "\n",
      "\n",
      "\n",
      "\n",
      "\n",
      "\n",
      "\n",
      "\n",
      "\n",
      "\n",
      "\runicodedata2-15.0.0  | 486 KB    | #6         |  16% \u001b[A\u001b[A\u001b[A\u001b[A\u001b[A\u001b[A\u001b[A\u001b[A\u001b[A\u001b[A\u001b[A\u001b[A\u001b[A"
     ]
    },
    {
     "name": "stdout",
     "output_type": "stream",
     "text": [
      "\n",
      "\rfonttools-4.39.4     | 2.0 MB    | ######5    |  65% \u001b[A\n",
      "\n",
      "\n",
      "\n",
      "\n",
      "\n",
      "\n",
      "\n",
      "\n",
      "\rmatplotlib-base-3.7. | 6.4 MB    | #1         |  12% \u001b[A\u001b[A\u001b[A\u001b[A\u001b[A\u001b[A\u001b[A\u001b[A\u001b[A"
     ]
    },
    {
     "name": "stdout",
     "output_type": "stream",
     "text": [
      "\rtornado-6.3.2        | 626 KB    | ########## | 100% "
     ]
    },
    {
     "name": "stdout",
     "output_type": "stream",
     "text": [
      "\n",
      "\rfonttools-4.39.4     | 2.0 MB    | ######8    |  68% \u001b[A\n",
      "\n",
      "\n",
      "\n",
      "\n",
      "\n",
      "\n",
      "\n",
      "\n",
      "\n",
      "\n",
      "\n",
      "\n",
      "\runicodedata2-15.0.0  | 486 KB    | ##3        |  23% \u001b[A\u001b[A\u001b[A\u001b[A\u001b[A\u001b[A\u001b[A\u001b[A\u001b[A\u001b[A\u001b[A\u001b[A\u001b[A\n",
      "\n",
      "\n",
      "\n",
      "\n",
      "\n",
      "\n",
      "\n",
      "\n",
      "\rmatplotlib-base-3.7. | 6.4 MB    | #2         |  12% \u001b[A\u001b[A\u001b[A\u001b[A\u001b[A\u001b[A\u001b[A\u001b[A\u001b[A\n",
      "\n",
      "\n",
      "\n",
      "\n",
      "\n",
      "\n",
      "\n",
      "\n",
      "\n",
      "\n",
      "\rlibbrotlicommon-1.0. | 64 KB     | #######4   |  75% \u001b[A\u001b[A\u001b[A\u001b[A\u001b[A\u001b[A\u001b[A\u001b[A\u001b[A\u001b[A\u001b[A"
     ]
    },
    {
     "name": "stdout",
     "output_type": "stream",
     "text": [
      "\n",
      "\n",
      "\n",
      "\n",
      "\n",
      "\n",
      "\n",
      "\n",
      "\n",
      "\n",
      "\n",
      "\rlibbrotlicommon-1.0. | 64 KB     | ########## | 100% \u001b[A\u001b[A\u001b[A\u001b[A\u001b[A\u001b[A\u001b[A\u001b[A\u001b[A\u001b[A\u001b[A\n",
      "\n",
      "\n",
      "\n",
      "\n",
      "\n",
      "\n",
      "\n",
      "\n",
      "\n",
      "\n",
      "\n",
      "\n",
      "\runicodedata2-15.0.0  | 486 KB    | ##9        |  30% \u001b[A\u001b[A\u001b[A\u001b[A\u001b[A\u001b[A\u001b[A\u001b[A\u001b[A\u001b[A\u001b[A\u001b[A\u001b[A"
     ]
    },
    {
     "name": "stdout",
     "output_type": "stream",
     "text": [
      "\n",
      "\rfonttools-4.39.4     | 2.0 MB    | #######    |  71% \u001b[A\n",
      "\n",
      "\n",
      "\n",
      "\n",
      "\n",
      "\n",
      "\n",
      "\n",
      "\rmatplotlib-base-3.7. | 6.4 MB    | #2         |  13% \u001b[A\u001b[A\u001b[A\u001b[A\u001b[A\u001b[A\u001b[A\u001b[A\u001b[A"
     ]
    },
    {
     "name": "stdout",
     "output_type": "stream",
     "text": [
      "\n",
      "\rfonttools-4.39.4     | 2.0 MB    | #######3   |  73% \u001b[A\n",
      "\n",
      "\n",
      "\n",
      "\n",
      "\n",
      "\n",
      "\n",
      "\n",
      "\n",
      "\n",
      "\n",
      "\n",
      "\n",
      "\n",
      "\rbrotli-bin-1.0.9     | 17 KB     | #########2 |  92% \u001b[A\u001b[A\u001b[A\u001b[A\u001b[A\u001b[A\u001b[A\u001b[A\u001b[A\u001b[A\u001b[A\u001b[A\u001b[A\u001b[A\u001b[A\n",
      "\n",
      "\n",
      "\n",
      "\n",
      "\n",
      "\n",
      "\n",
      "\n",
      "\n",
      "\n",
      "\n",
      "\n",
      "\n",
      "\ropenjpeg-2.5.0       | 322 KB    | 4          |   5% \u001b[A\u001b[A\u001b[A\u001b[A\u001b[A\u001b[A\u001b[A\u001b[A\u001b[A\u001b[A\u001b[A\u001b[A\u001b[A\u001b[A"
     ]
    },
    {
     "name": "stdout",
     "output_type": "stream",
     "text": [
      "\n",
      "\n",
      "\n",
      "\n",
      "\n",
      "\n",
      "\n",
      "\n",
      "\n",
      "\n",
      "\n",
      "\n",
      "\n",
      "\n",
      "\n",
      "\rbrotli-bin-1.0.9     | 17 KB     | ########## | 100% \u001b[A\u001b[A\u001b[A\u001b[A\u001b[A\u001b[A\u001b[A\u001b[A\u001b[A\u001b[A\u001b[A\u001b[A\u001b[A\u001b[A\u001b[A\n",
      "\n",
      "\n",
      "\n",
      "\n",
      "\n",
      "\n",
      "\n",
      "\n",
      "\rmatplotlib-base-3.7. | 6.4 MB    | #3         |  14% \u001b[A\u001b[A\u001b[A\u001b[A\u001b[A\u001b[A\u001b[A\u001b[A\u001b[A\n",
      "\n",
      "\n",
      "\n",
      "\n",
      "\n",
      "\n",
      "\n",
      "\n",
      "\n",
      "\n",
      "\n",
      "\n",
      "\runicodedata2-15.0.0  | 486 KB    | ###6       |  36% \u001b[A\u001b[A\u001b[A\u001b[A\u001b[A\u001b[A\u001b[A\u001b[A\u001b[A\u001b[A\u001b[A\u001b[A\u001b[A"
     ]
    },
    {
     "name": "stdout",
     "output_type": "stream",
     "text": [
      "\n",
      "\n",
      "\n",
      "\n",
      "\n",
      "\n",
      "\n",
      "\n",
      "\n",
      "\n",
      "\n",
      "\n",
      "\n",
      "\n",
      "\ropenjpeg-2.5.0       | 322 KB    | #4         |  15% \u001b[A\u001b[A\u001b[A\u001b[A\u001b[A\u001b[A\u001b[A\u001b[A\u001b[A\u001b[A\u001b[A\u001b[A\u001b[A\u001b[A\n",
      "\rfonttools-4.39.4     | 2.0 MB    | #######4   |  75% \u001b[A\n",
      "\n",
      "\n",
      "\n",
      "\n",
      "\n",
      "\n",
      "\n",
      "\n",
      "\rmatplotlib-base-3.7. | 6.4 MB    | #4         |  15% \u001b[A\u001b[A\u001b[A\u001b[A\u001b[A\u001b[A\u001b[A\u001b[A\u001b[A\n",
      "\n",
      "\n",
      "\n",
      "\n",
      "\n",
      "\n",
      "\n",
      "\n",
      "\n",
      "\n",
      "\n",
      "\n",
      "\runicodedata2-15.0.0  | 486 KB    | ####2      |  43% \u001b[A\u001b[A\u001b[A\u001b[A\u001b[A\u001b[A\u001b[A\u001b[A\u001b[A\u001b[A\u001b[A\u001b[A\u001b[A"
     ]
    },
    {
     "name": "stdout",
     "output_type": "stream",
     "text": [
      "\n",
      "\rfonttools-4.39.4     | 2.0 MB    | #######7   |  77% \u001b[A"
     ]
    },
    {
     "name": "stdout",
     "output_type": "stream",
     "text": [
      "\n",
      "\n",
      "\n",
      "\n",
      "\n",
      "\n",
      "\n",
      "\n",
      "\n",
      "\n",
      "\n",
      "\n",
      "\n",
      "\n",
      "\ropenjpeg-2.5.0       | 322 KB    | ##4        |  25% \u001b[A\u001b[A\u001b[A\u001b[A\u001b[A\u001b[A\u001b[A\u001b[A\u001b[A\u001b[A\u001b[A\u001b[A\u001b[A\u001b[A"
     ]
    },
    {
     "name": "stdout",
     "output_type": "stream",
     "text": [
      "\n",
      "\rfonttools-4.39.4     | 2.0 MB    | #######8   |  79% \u001b[A\n",
      "\n",
      "\n",
      "\n",
      "\n",
      "\n",
      "\n",
      "\n",
      "\n",
      "\n",
      "\n",
      "\n",
      "\n",
      "\runicodedata2-15.0.0  | 486 KB    | ####9      |  49% \u001b[A\u001b[A\u001b[A\u001b[A\u001b[A\u001b[A\u001b[A\u001b[A\u001b[A\u001b[A\u001b[A\u001b[A\u001b[A\n",
      "\n",
      "\n",
      "\n",
      "\n",
      "\n",
      "\n",
      "\n",
      "\n",
      "\rmatplotlib-base-3.7. | 6.4 MB    | #5         |  15% \u001b[A\u001b[A\u001b[A\u001b[A\u001b[A\u001b[A\u001b[A\u001b[A\u001b[A"
     ]
    },
    {
     "name": "stdout",
     "output_type": "stream",
     "text": [
      "\n",
      "\n",
      "\n",
      "\n",
      "\n",
      "\n",
      "\n",
      "\n",
      "\n",
      "\n",
      "\n",
      "\n",
      "\n",
      "\n",
      "\ropenjpeg-2.5.0       | 322 KB    | ##9        |  30% \u001b[A\u001b[A\u001b[A\u001b[A\u001b[A\u001b[A\u001b[A\u001b[A\u001b[A\u001b[A\u001b[A\u001b[A\u001b[A\u001b[A\n",
      "\n",
      "\n",
      "\n",
      "\n",
      "\n",
      "\n",
      "\n",
      "\n",
      "\n",
      "\n",
      "\n",
      "\n",
      "\n",
      "\n",
      "\n",
      "\rlibxcb-1.15          | 306 KB    | 5          |   5% \u001b[A\u001b[A\u001b[A\u001b[A\u001b[A\u001b[A\u001b[A\u001b[A\u001b[A\u001b[A\u001b[A\u001b[A\u001b[A\u001b[A\u001b[A\u001b[A"
     ]
    },
    {
     "name": "stdout",
     "output_type": "stream",
     "text": [
      "\n",
      "\rfonttools-4.39.4     | 2.0 MB    | ########1  |  82% \u001b[A\n",
      "\n",
      "\n",
      "\n",
      "\n",
      "\n",
      "\n",
      "\n",
      "\n",
      "\rmatplotlib-base-3.7. | 6.4 MB    | #5         |  16% \u001b[A\u001b[A\u001b[A\u001b[A\u001b[A\u001b[A\u001b[A\u001b[A\u001b[A\n",
      "\n",
      "\n",
      "\n",
      "\n",
      "\n",
      "\n",
      "\n",
      "\n",
      "\n",
      "\n",
      "\n",
      "\n",
      "\n",
      "\ropenjpeg-2.5.0       | 322 KB    | ###9       |  40% \u001b[A\u001b[A\u001b[A\u001b[A\u001b[A\u001b[A\u001b[A\u001b[A\u001b[A\u001b[A\u001b[A\u001b[A\u001b[A\u001b[A\n",
      "\n",
      "\n",
      "\n",
      "\n",
      "\n",
      "\n",
      "\n",
      "\n",
      "\n",
      "\n",
      "\n",
      "\n",
      "\runicodedata2-15.0.0  | 486 KB    | #####5     |  56% \u001b[A\u001b[A\u001b[A\u001b[A\u001b[A\u001b[A\u001b[A\u001b[A\u001b[A\u001b[A\u001b[A\u001b[A\u001b[A"
     ]
    },
    {
     "name": "stdout",
     "output_type": "stream",
     "text": [
      "\n",
      "\n",
      "\n",
      "\n",
      "\n",
      "\n",
      "\n",
      "\n",
      "\n",
      "\n",
      "\n",
      "\n",
      "\n",
      "\n",
      "\n",
      "\n",
      "\rlibxcb-1.15          | 306 KB    | ##6        |  26% \u001b[A\u001b[A\u001b[A\u001b[A\u001b[A\u001b[A\u001b[A\u001b[A\u001b[A\u001b[A\u001b[A\u001b[A\u001b[A\u001b[A\u001b[A\u001b[A"
     ]
    },
    {
     "name": "stdout",
     "output_type": "stream",
     "text": [
      "\n",
      "\n",
      "\n",
      "\n",
      "\n",
      "\n",
      "\n",
      "\n",
      "\n",
      "\rmatplotlib-base-3.7. | 6.4 MB    | #6         |  17% \u001b[A\u001b[A\u001b[A\u001b[A\u001b[A\u001b[A\u001b[A\u001b[A\u001b[A\n",
      "\n",
      "\n",
      "\n",
      "\n",
      "\n",
      "\n",
      "\n",
      "\n",
      "\n",
      "\n",
      "\n",
      "\n",
      "\runicodedata2-15.0.0  | 486 KB    | ######2    |  63% \u001b[A\u001b[A\u001b[A\u001b[A\u001b[A\u001b[A\u001b[A\u001b[A\u001b[A\u001b[A\u001b[A\u001b[A\u001b[A"
     ]
    },
    {
     "name": "stdout",
     "output_type": "stream",
     "text": [
      "\n",
      "\n",
      "\n",
      "\n",
      "\n",
      "\n",
      "\n",
      "\n",
      "\n",
      "\n",
      "\n",
      "\n",
      "\n",
      "\n",
      "\n",
      "\n",
      "\rlibxcb-1.15          | 306 KB    | ###6       |  37% \u001b[A\u001b[A\u001b[A\u001b[A\u001b[A\u001b[A\u001b[A\u001b[A\u001b[A\u001b[A\u001b[A\u001b[A\u001b[A\u001b[A\u001b[A\u001b[A"
     ]
    },
    {
     "name": "stdout",
     "output_type": "stream",
     "text": [
      "\n",
      "\n",
      "\n",
      "\n",
      "\n",
      "\n",
      "\n",
      "\n",
      "\n",
      "\rmatplotlib-base-3.7. | 6.4 MB    | #7         |  17% \u001b[A\u001b[A\u001b[A\u001b[A\u001b[A\u001b[A\u001b[A\u001b[A\u001b[A\n",
      "\n",
      "\n",
      "\n",
      "\n",
      "\n",
      "\n",
      "\n",
      "\n",
      "\n",
      "\n",
      "\n",
      "\n",
      "\n",
      "\ropenjpeg-2.5.0       | 322 KB    | ####9      |  50% \u001b[A\u001b[A\u001b[A\u001b[A\u001b[A\u001b[A\u001b[A\u001b[A\u001b[A\u001b[A\u001b[A\u001b[A\u001b[A\u001b[A\n",
      "\rfonttools-4.39.4     | 2.0 MB    | ########5  |  85% \u001b[A\n",
      "\n",
      "\n",
      "\n",
      "\n",
      "\n",
      "\n",
      "\n",
      "\n",
      "\n",
      "\n",
      "\n",
      "\n",
      "\n",
      "\n",
      "\n",
      "\rlibxcb-1.15          | 306 KB    | ####6      |  47% \u001b[A\u001b[A\u001b[A\u001b[A\u001b[A\u001b[A\u001b[A\u001b[A\u001b[A\u001b[A\u001b[A\u001b[A\u001b[A\u001b[A\u001b[A\u001b[A"
     ]
    },
    {
     "name": "stdout",
     "output_type": "stream",
     "text": [
      "\n",
      "\n",
      "\n",
      "\n",
      "\n",
      "\n",
      "\n",
      "\n",
      "\n",
      "\rmatplotlib-base-3.7. | 6.4 MB    | #7         |  18% \u001b[A\u001b[A\u001b[A\u001b[A\u001b[A\u001b[A\u001b[A\u001b[A\u001b[A"
     ]
    },
    {
     "name": "stdout",
     "output_type": "stream",
     "text": [
      "\n",
      "\n",
      "\n",
      "\n",
      "\n",
      "\n",
      "\n",
      "\n",
      "\n",
      "\n",
      "\n",
      "\n",
      "\n",
      "\runicodedata2-15.0.0  | 486 KB    | ######9    |  69% \u001b[A\u001b[A\u001b[A\u001b[A\u001b[A\u001b[A\u001b[A\u001b[A\u001b[A\u001b[A\u001b[A\u001b[A\u001b[A\n",
      "\n",
      "\n",
      "\n",
      "\n",
      "\n",
      "\n",
      "\n",
      "\n",
      "\n",
      "\n",
      "\n",
      "\n",
      "\n",
      "\ropenjpeg-2.5.0       | 322 KB    | #####9     |  60% \u001b[A\u001b[A\u001b[A\u001b[A\u001b[A\u001b[A\u001b[A\u001b[A\u001b[A\u001b[A\u001b[A\u001b[A\u001b[A\u001b[A\n",
      "\n",
      "\n",
      "\n",
      "\n",
      "\n",
      "\n",
      "\n",
      "\n",
      "\n",
      "\n",
      "\n",
      "\n",
      "\n",
      "\n",
      "\n",
      "\rlibxcb-1.15          | 306 KB    | #####7     |  57% \u001b[A\u001b[A\u001b[A\u001b[A\u001b[A\u001b[A\u001b[A\u001b[A\u001b[A\u001b[A\u001b[A\u001b[A\u001b[A\u001b[A\u001b[A\u001b[A"
     ]
    },
    {
     "name": "stdout",
     "output_type": "stream",
     "text": [
      "\n",
      "\rfonttools-4.39.4     | 2.0 MB    | ########8  |  88% \u001b[A"
     ]
    },
    {
     "name": "stdout",
     "output_type": "stream",
     "text": [
      "\n",
      "\n",
      "\n",
      "\n",
      "\n",
      "\n",
      "\n",
      "\n",
      "\n",
      "\n",
      "\n",
      "\n",
      "\n",
      "\n",
      "\ropenjpeg-2.5.0       | 322 KB    | ######9    |  70% \u001b[A\u001b[A\u001b[A\u001b[A\u001b[A\u001b[A\u001b[A\u001b[A\u001b[A\u001b[A\u001b[A\u001b[A\u001b[A\u001b[A\n",
      "\n",
      "\n",
      "\n",
      "\n",
      "\n",
      "\n",
      "\n",
      "\n",
      "\n",
      "\n",
      "\n",
      "\n",
      "\runicodedata2-15.0.0  | 486 KB    | #######8   |  79% \u001b[A\u001b[A\u001b[A\u001b[A\u001b[A\u001b[A\u001b[A\u001b[A\u001b[A\u001b[A\u001b[A\u001b[A\u001b[A"
     ]
    },
    {
     "name": "stdout",
     "output_type": "stream",
     "text": [
      "\n",
      "\n",
      "\n",
      "\n",
      "\n",
      "\n",
      "\n",
      "\n",
      "\n",
      "\n",
      "\n",
      "\n",
      "\n",
      "\n",
      "\ropenjpeg-2.5.0       | 322 KB    | #######4   |  75% \u001b[A\u001b[A\u001b[A\u001b[A\u001b[A\u001b[A\u001b[A\u001b[A\u001b[A\u001b[A\u001b[A\u001b[A\u001b[A\u001b[A\n",
      "\rfonttools-4.39.4     | 2.0 MB    | #########  |  91% \u001b[A"
     ]
    },
    {
     "name": "stdout",
     "output_type": "stream",
     "text": [
      "\n",
      "\n",
      "\n",
      "\n",
      "\n",
      "\n",
      "\n",
      "\n",
      "\n",
      "\rmatplotlib-base-3.7. | 6.4 MB    | #8         |  18% \u001b[A\u001b[A\u001b[A\u001b[A\u001b[A\u001b[A\u001b[A\u001b[A\u001b[A"
     ]
    },
    {
     "name": "stdout",
     "output_type": "stream",
     "text": [
      "\n",
      "\n",
      "\n",
      "\n",
      "\n",
      "\n",
      "\n",
      "\n",
      "\n",
      "\n",
      "\n",
      "\n",
      "\n",
      "\n",
      "\n",
      "\n",
      "\rlibxcb-1.15          | 306 KB    | ######7    |  68% \u001b[A\u001b[A\u001b[A\u001b[A\u001b[A\u001b[A\u001b[A\u001b[A\u001b[A\u001b[A\u001b[A\u001b[A\u001b[A\u001b[A\u001b[A\u001b[A"
     ]
    },
    {
     "name": "stdout",
     "output_type": "stream",
     "text": [
      "\n",
      "\rfonttools-4.39.4     | 2.0 MB    | #########4 |  95% \u001b[A\n",
      "\n",
      "\n",
      "\n",
      "\n",
      "\n",
      "\n",
      "\n",
      "\n",
      "\rmatplotlib-base-3.7. | 6.4 MB    | #9         |  20% \u001b[A\u001b[A\u001b[A\u001b[A\u001b[A\u001b[A\u001b[A\u001b[A\u001b[A\n",
      "\n",
      "\n",
      "\n",
      "\n",
      "\n",
      "\n",
      "\n",
      "\n",
      "\n",
      "\n",
      "\n",
      "\n",
      "\runicodedata2-15.0.0  | 486 KB    | ########8  |  89% \u001b[A\u001b[A\u001b[A\u001b[A\u001b[A\u001b[A\u001b[A\u001b[A\u001b[A\u001b[A\u001b[A\u001b[A\u001b[A"
     ]
    },
    {
     "name": "stdout",
     "output_type": "stream",
     "text": [
      "\n",
      "\n",
      "\n",
      "\n",
      "\n",
      "\n",
      "\n",
      "\n",
      "\n",
      "\n",
      "\n",
      "\n",
      "\n",
      "\n",
      "\n",
      "\n",
      "\rlibxcb-1.15          | 306 KB    | #########3 |  94% \u001b[A\u001b[A\u001b[A\u001b[A\u001b[A\u001b[A\u001b[A\u001b[A\u001b[A\u001b[A\u001b[A\u001b[A\u001b[A\u001b[A\u001b[A\u001b[A\n",
      "\n",
      "\n",
      "\n",
      "\n",
      "\n",
      "\n",
      "\n",
      "\n",
      "\n",
      "\n",
      "\n",
      "\n",
      "\n",
      "\ropenjpeg-2.5.0       | 322 KB    | #######9   |  80% \u001b[A\u001b[A\u001b[A\u001b[A\u001b[A\u001b[A\u001b[A\u001b[A\u001b[A\u001b[A\u001b[A\u001b[A\u001b[A\u001b[A\n",
      "\n",
      "\n",
      "\n",
      "\n",
      "\n",
      "\n",
      "\n",
      "\n",
      "\rmatplotlib-base-3.7. | 6.4 MB    | ##         |  20% \u001b[A\u001b[A\u001b[A\u001b[A\u001b[A\u001b[A\u001b[A\u001b[A\u001b[A\n",
      "\n",
      "\n",
      "\n",
      "\n",
      "\n",
      "\n",
      "\n",
      "\n",
      "\n",
      "\n",
      "\n",
      "\n",
      "\runicodedata2-15.0.0  | 486 KB    | #########5 |  95% \u001b[A\u001b[A\u001b[A\u001b[A\u001b[A\u001b[A\u001b[A\u001b[A\u001b[A\u001b[A\u001b[A\u001b[A\u001b[A\n",
      "\rfonttools-4.39.4     | 2.0 MB    | #########7 |  98% \u001b[A"
     ]
    },
    {
     "name": "stdout",
     "output_type": "stream",
     "text": [
      "\n",
      "\n",
      "\n",
      "\n",
      "\n",
      "\n",
      "\n",
      "\n",
      "\n",
      "\n",
      "\n",
      "\n",
      "\n",
      "\n",
      "\ropenjpeg-2.5.0       | 322 KB    | #########4 |  94% \u001b[A\u001b[A\u001b[A\u001b[A\u001b[A\u001b[A\u001b[A\u001b[A\u001b[A\u001b[A\u001b[A\u001b[A\u001b[A\u001b[A\n",
      "\n",
      "\n",
      "\n",
      "\n",
      "\n",
      "\n",
      "\n",
      "\n",
      "\rmatplotlib-base-3.7. | 6.4 MB    | ##1        |  21% \u001b[A\u001b[A\u001b[A\u001b[A\u001b[A\u001b[A\u001b[A\u001b[A\u001b[A"
     ]
    },
    {
     "name": "stdout",
     "output_type": "stream",
     "text": [
      "\n",
      "\n",
      "\n",
      "\n",
      "\n",
      "\n",
      "\n",
      "\n",
      "\n",
      "\n",
      "\n",
      "\n",
      "\n",
      "\n",
      "\n",
      "\n",
      "\n",
      "\rxorg-libxau-1.0.11   | 13 KB     | ########## | 100% \u001b[A\u001b[A\u001b[A\u001b[A\u001b[A\u001b[A\u001b[A\u001b[A\u001b[A\u001b[A\u001b[A\u001b[A\u001b[A\u001b[A\u001b[A\u001b[A\u001b[A\n",
      "\n",
      "\n",
      "\n",
      "\n",
      "\n",
      "\n",
      "\n",
      "\n",
      "\n",
      "\n",
      "\n",
      "\n",
      "\n",
      "\n",
      "\n",
      "\n",
      "\n",
      "\n",
      "\r ... (more hidden) ...\u001b[A\u001b[A\u001b[A\u001b[A\u001b[A\u001b[A\u001b[A\u001b[A\u001b[A\u001b[A\u001b[A\u001b[A\u001b[A\u001b[A\u001b[A\u001b[A\u001b[A\u001b[A\u001b[A\n",
      "\n",
      "\n",
      "\n",
      "\n",
      "\n",
      "\n",
      "\n",
      "\n",
      "\n",
      "\n",
      "\n",
      "\n",
      "\n",
      "\n",
      "\n",
      "\n",
      "\n",
      "\rbrotli-1.0.9         | 19 KB     | ########6  |  86% \u001b[A\u001b[A\u001b[A\u001b[A\u001b[A\u001b[A\u001b[A\u001b[A\u001b[A\u001b[A\u001b[A\u001b[A\u001b[A\u001b[A\u001b[A\u001b[A\u001b[A\u001b[A\n",
      "\n",
      "\n",
      "\n",
      "\n",
      "\n",
      "\n",
      "\n",
      "\n",
      "\n",
      "\n",
      "\n",
      "\n",
      "\runicodedata2-15.0.0  | 486 KB    | ########## | 100% \u001b[A\u001b[A\u001b[A\u001b[A\u001b[A\u001b[A\u001b[A\u001b[A\u001b[A\u001b[A\u001b[A\u001b[A\u001b[A\n",
      "\n",
      "\n",
      "\n",
      "\n",
      "\n",
      "\n",
      "\n",
      "\n",
      "\n",
      "\n",
      "\n",
      "\n",
      "\runicodedata2-15.0.0  | 486 KB    | ########## | 100% \u001b[A\u001b[A\u001b[A\u001b[A\u001b[A\u001b[A\u001b[A\u001b[A\u001b[A\u001b[A\u001b[A\u001b[A\u001b[A\n",
      "\n",
      "\n",
      "\n",
      "\n",
      "\n",
      "\n",
      "\n",
      "\n",
      "\n",
      "\n",
      "\n",
      "\n",
      "\n",
      "\n",
      "\n",
      "\rlibxcb-1.15          | 306 KB    | ########## | 100% \u001b[A\u001b[A\u001b[A\u001b[A\u001b[A\u001b[A\u001b[A\u001b[A\u001b[A\u001b[A\u001b[A\u001b[A\u001b[A\u001b[A\u001b[A\u001b[A"
     ]
    },
    {
     "name": "stdout",
     "output_type": "stream",
     "text": [
      "\n",
      "\n",
      "\n",
      "\n",
      "\n",
      "\n",
      "\n",
      "\n",
      "\n",
      "\n",
      "\n",
      "\n",
      "\n",
      "\n",
      "\n",
      "\n",
      "\n",
      "\rxorg-libxau-1.0.11   | 13 KB     | ########## | 100% \u001b[A\u001b[A\u001b[A\u001b[A\u001b[A\u001b[A\u001b[A\u001b[A\u001b[A\u001b[A\u001b[A\u001b[A\u001b[A\u001b[A\u001b[A\u001b[A\u001b[A\n",
      "\n",
      "\n",
      "\n",
      "\n",
      "\n",
      "\n",
      "\n",
      "\n",
      "\rmatplotlib-base-3.7. | 6.4 MB    | ##2        |  22% \u001b[A\u001b[A\u001b[A\u001b[A\u001b[A\u001b[A\u001b[A\u001b[A\u001b[A\n",
      "\n",
      "\n",
      "\n",
      "\n",
      "\n",
      "\n",
      "\n",
      "\n",
      "\n",
      "\n",
      "\n",
      "\n",
      "\n",
      "\n",
      "\n",
      "\n",
      "\n",
      "\n",
      "\r ... (more hidden) ...\u001b[A\u001b[A\u001b[A\u001b[A\u001b[A\u001b[A\u001b[A\u001b[A\u001b[A\u001b[A\u001b[A\u001b[A\u001b[A\u001b[A\u001b[A\u001b[A\u001b[A\u001b[A\u001b[A\n",
      "\n",
      "\n",
      "\n",
      "\n",
      "\n",
      "\n",
      "\n",
      "\n",
      "\n",
      "\n",
      "\n",
      "\n",
      "\n",
      "\n",
      "\n",
      "\n",
      "\n",
      "\n",
      "\r ... (more hidden) ...\u001b[A\u001b[A\u001b[A\u001b[A\u001b[A\u001b[A\u001b[A\u001b[A\u001b[A\u001b[A\u001b[A\u001b[A\u001b[A\u001b[A\u001b[A\u001b[A\u001b[A\u001b[A\u001b[A\n",
      "\n",
      "\n",
      "\n",
      "\n",
      "\n",
      "\n",
      "\n",
      "\n",
      "\n",
      "\n",
      "\n",
      "\n",
      "\n",
      "\ropenjpeg-2.5.0       | 322 KB    | ########## | 100% \u001b[A\u001b[A\u001b[A\u001b[A\u001b[A\u001b[A\u001b[A\u001b[A\u001b[A\u001b[A\u001b[A\u001b[A\u001b[A\u001b[A"
     ]
    },
    {
     "name": "stdout",
     "output_type": "stream",
     "text": [
      "\n",
      "\n",
      "\n",
      "\n",
      "\n",
      "\n",
      "\n",
      "\n",
      "\n",
      "\n",
      "\n",
      "\n",
      "\n",
      "\n",
      "\n",
      "\n",
      "\n",
      "\n",
      "\rbrotli-1.0.9         | 19 KB     | ########## | 100% \u001b[A\u001b[A\u001b[A\u001b[A\u001b[A\u001b[A\u001b[A\u001b[A\u001b[A\u001b[A\u001b[A\u001b[A\u001b[A\u001b[A\u001b[A\u001b[A\u001b[A\u001b[A\n",
      "\n",
      "\n",
      "\n",
      "\n",
      "\n",
      "\n",
      "\n",
      "\n",
      "\n",
      "\n",
      "\n",
      "\n",
      "\n",
      "\n",
      "\n",
      "\n",
      "\n",
      "\rbrotli-1.0.9         | 19 KB     | ########## | 100% \u001b[A\u001b[A\u001b[A\u001b[A\u001b[A\u001b[A\u001b[A\u001b[A\u001b[A\u001b[A\u001b[A\u001b[A\u001b[A\u001b[A\u001b[A\u001b[A\u001b[A\u001b[A"
     ]
    },
    {
     "name": "stdout",
     "output_type": "stream",
     "text": [
      "\n",
      "\n",
      "\n",
      "\n",
      "\n",
      "\n",
      "\n",
      "\n",
      "\n",
      "\rmatplotlib-base-3.7. | 6.4 MB    | ##2        |  23% \u001b[A\u001b[A\u001b[A\u001b[A\u001b[A\u001b[A\u001b[A\u001b[A\u001b[A"
     ]
    },
    {
     "name": "stdout",
     "output_type": "stream",
     "text": [
      "\n",
      "\rfonttools-4.39.4     | 2.0 MB    | ########## | 100% \u001b[A\n",
      "\rfonttools-4.39.4     | 2.0 MB    | ########## | 100% \u001b[A"
     ]
    },
    {
     "name": "stdout",
     "output_type": "stream",
     "text": [
      "\n",
      "\n",
      "\n",
      "\n",
      "\n",
      "\n",
      "\n",
      "\n",
      "\n",
      "\rmatplotlib-base-3.7. | 6.4 MB    | ##3        |  23% \u001b[A\u001b[A\u001b[A\u001b[A\u001b[A\u001b[A\u001b[A\u001b[A\u001b[A"
     ]
    },
    {
     "name": "stdout",
     "output_type": "stream",
     "text": [
      "\n",
      "\n",
      "\n",
      "\n",
      "\n",
      "\n",
      "\n",
      "\n",
      "\n",
      "\rmatplotlib-base-3.7. | 6.4 MB    | ##3        |  24% \u001b[A\u001b[A\u001b[A\u001b[A\u001b[A\u001b[A\u001b[A\u001b[A\u001b[A"
     ]
    },
    {
     "name": "stdout",
     "output_type": "stream",
     "text": [
      "\n",
      "\n",
      "\n",
      "\n",
      "\n",
      "\n",
      "\n",
      "\n",
      "\n",
      "\rmatplotlib-base-3.7. | 6.4 MB    | ##5        |  25% \u001b[A\u001b[A\u001b[A\u001b[A\u001b[A\u001b[A\u001b[A\u001b[A\u001b[A"
     ]
    },
    {
     "name": "stdout",
     "output_type": "stream",
     "text": [
      "\n",
      "\n",
      "\n",
      "\n",
      "\n",
      "\n",
      "\n",
      "\n",
      "\n",
      "\rmatplotlib-base-3.7. | 6.4 MB    | ##6        |  26% \u001b[A\u001b[A\u001b[A\u001b[A\u001b[A\u001b[A\u001b[A\u001b[A\u001b[A"
     ]
    },
    {
     "name": "stdout",
     "output_type": "stream",
     "text": [
      "\n",
      "\n",
      "\n",
      "\n",
      "\n",
      "\n",
      "\n",
      "\n",
      "\n",
      "\rmatplotlib-base-3.7. | 6.4 MB    | ##7        |  27% \u001b[A\u001b[A\u001b[A\u001b[A\u001b[A\u001b[A\u001b[A\u001b[A\u001b[A"
     ]
    },
    {
     "name": "stdout",
     "output_type": "stream",
     "text": [
      "\n",
      "\n",
      "\n",
      "\n",
      "\n",
      "\n",
      "\n",
      "\n",
      "\n",
      "\rmatplotlib-base-3.7. | 6.4 MB    | ##8        |  28% \u001b[A\u001b[A\u001b[A\u001b[A\u001b[A\u001b[A\u001b[A\u001b[A\u001b[A"
     ]
    },
    {
     "name": "stdout",
     "output_type": "stream",
     "text": [
      "\n",
      "\n",
      "\n",
      "\n",
      "\n",
      "\n",
      "\n",
      "\n",
      "\n",
      "\rmatplotlib-base-3.7. | 6.4 MB    | ##8        |  29% \u001b[A\u001b[A\u001b[A\u001b[A\u001b[A\u001b[A\u001b[A\u001b[A\u001b[A"
     ]
    },
    {
     "name": "stdout",
     "output_type": "stream",
     "text": [
      "\n",
      "\n",
      "\n",
      "\n",
      "\n",
      "\n",
      "\n",
      "\n",
      "\n",
      "\rmatplotlib-base-3.7. | 6.4 MB    | ##9        |  29% \u001b[A\u001b[A\u001b[A\u001b[A\u001b[A\u001b[A\u001b[A\u001b[A\u001b[A"
     ]
    },
    {
     "name": "stdout",
     "output_type": "stream",
     "text": [
      "\n",
      "\n",
      "\n",
      "\n",
      "\n",
      "\n",
      "\n",
      "\n",
      "\n",
      "\rmatplotlib-base-3.7. | 6.4 MB    | ##9        |  30% \u001b[A\u001b[A\u001b[A\u001b[A\u001b[A\u001b[A\u001b[A\u001b[A\u001b[A"
     ]
    },
    {
     "name": "stdout",
     "output_type": "stream",
     "text": [
      "\n",
      "\n",
      "\n",
      "\n",
      "\n",
      "\n",
      "\n",
      "\n",
      "\n",
      "\rmatplotlib-base-3.7. | 6.4 MB    | ###        |  30% \u001b[A\u001b[A\u001b[A\u001b[A\u001b[A\u001b[A\u001b[A\u001b[A\u001b[A"
     ]
    },
    {
     "name": "stdout",
     "output_type": "stream",
     "text": [
      "\n",
      "\n",
      "\n",
      "\n",
      "\n",
      "\n",
      "\n",
      "\n",
      "\n",
      "\rmatplotlib-base-3.7. | 6.4 MB    | ###        |  31% \u001b[A\u001b[A\u001b[A\u001b[A\u001b[A\u001b[A\u001b[A\u001b[A\u001b[A"
     ]
    },
    {
     "name": "stdout",
     "output_type": "stream",
     "text": [
      "\n",
      "\n",
      "\n",
      "\n",
      "\n",
      "\n",
      "\n",
      "\n",
      "\n",
      "\rmatplotlib-base-3.7. | 6.4 MB    | ###1       |  31% \u001b[A\u001b[A\u001b[A\u001b[A\u001b[A\u001b[A\u001b[A\u001b[A\u001b[A"
     ]
    },
    {
     "name": "stdout",
     "output_type": "stream",
     "text": [
      "\n",
      "\n",
      "\n",
      "\n",
      "\n",
      "\n",
      "\n",
      "\n",
      "\n",
      "\rmatplotlib-base-3.7. | 6.4 MB    | ###2       |  32% \u001b[A\u001b[A\u001b[A\u001b[A\u001b[A\u001b[A\u001b[A\u001b[A\u001b[A"
     ]
    },
    {
     "name": "stdout",
     "output_type": "stream",
     "text": [
      "\n",
      "\n",
      "\n",
      "\n",
      "\n",
      "\n",
      "\n",
      "\n",
      "\n",
      "\rmatplotlib-base-3.7. | 6.4 MB    | ###2       |  33% \u001b[A\u001b[A\u001b[A\u001b[A\u001b[A\u001b[A\u001b[A\u001b[A\u001b[A"
     ]
    },
    {
     "name": "stdout",
     "output_type": "stream",
     "text": [
      "\n",
      "\n",
      "\n",
      "\n",
      "\n",
      "\n",
      "\n",
      "\n",
      "\n",
      "\rmatplotlib-base-3.7. | 6.4 MB    | ###3       |  33% \u001b[A\u001b[A\u001b[A\u001b[A\u001b[A\u001b[A\u001b[A\u001b[A\u001b[A"
     ]
    },
    {
     "name": "stdout",
     "output_type": "stream",
     "text": [
      "\n",
      "\n",
      "\n",
      "\n",
      "\n",
      "\n",
      "\n",
      "\n",
      "\n",
      "\rmatplotlib-base-3.7. | 6.4 MB    | ###4       |  34% \u001b[A\u001b[A\u001b[A\u001b[A\u001b[A\u001b[A\u001b[A\u001b[A\u001b[A"
     ]
    },
    {
     "name": "stdout",
     "output_type": "stream",
     "text": [
      "\n",
      "\n",
      "\n",
      "\n",
      "\n",
      "\n",
      "\n",
      "\n",
      "\n",
      "\rmatplotlib-base-3.7. | 6.4 MB    | ###4       |  35% \u001b[A\u001b[A\u001b[A\u001b[A\u001b[A\u001b[A\u001b[A\u001b[A\u001b[A"
     ]
    },
    {
     "name": "stdout",
     "output_type": "stream",
     "text": [
      "\n",
      "\n",
      "\n",
      "\n",
      "\n",
      "\n",
      "\n",
      "\n",
      "\n",
      "\rmatplotlib-base-3.7. | 6.4 MB    | ###5       |  35% \u001b[A\u001b[A\u001b[A\u001b[A\u001b[A\u001b[A\u001b[A\u001b[A\u001b[A"
     ]
    },
    {
     "name": "stdout",
     "output_type": "stream",
     "text": [
      "\n",
      "\n",
      "\n",
      "\n",
      "\n",
      "\n",
      "\n",
      "\n",
      "\n",
      "\rmatplotlib-base-3.7. | 6.4 MB    | ###5       |  36% \u001b[A\u001b[A\u001b[A\u001b[A\u001b[A\u001b[A\u001b[A\u001b[A\u001b[A"
     ]
    },
    {
     "name": "stdout",
     "output_type": "stream",
     "text": [
      "\n",
      "\n",
      "\n",
      "\n",
      "\n",
      "\n",
      "\n",
      "\n",
      "\n",
      "\rmatplotlib-base-3.7. | 6.4 MB    | ###6       |  36% \u001b[A\u001b[A\u001b[A\u001b[A\u001b[A\u001b[A\u001b[A\u001b[A\u001b[A"
     ]
    },
    {
     "name": "stdout",
     "output_type": "stream",
     "text": [
      "\n",
      "\n",
      "\n",
      "\n",
      "\n",
      "\n",
      "\n",
      "\n",
      "\n",
      "\rmatplotlib-base-3.7. | 6.4 MB    | ###6       |  37% \u001b[A\u001b[A\u001b[A\u001b[A\u001b[A\u001b[A\u001b[A\u001b[A\u001b[A"
     ]
    },
    {
     "name": "stdout",
     "output_type": "stream",
     "text": [
      "\n",
      "\n",
      "\n",
      "\n",
      "\n",
      "\n",
      "\n",
      "\n",
      "\n",
      "\rmatplotlib-base-3.7. | 6.4 MB    | ###8       |  38% \u001b[A\u001b[A\u001b[A\u001b[A\u001b[A\u001b[A\u001b[A\u001b[A\u001b[A"
     ]
    },
    {
     "name": "stdout",
     "output_type": "stream",
     "text": [
      "\n",
      "\n",
      "\n",
      "\n",
      "\n",
      "\n",
      "\n",
      "\n",
      "\n",
      "\rmatplotlib-base-3.7. | 6.4 MB    | ###9       |  39% \u001b[A\u001b[A\u001b[A\u001b[A\u001b[A\u001b[A\u001b[A\u001b[A\u001b[A"
     ]
    },
    {
     "name": "stdout",
     "output_type": "stream",
     "text": [
      "\n",
      "\n",
      "\n",
      "\n",
      "\n",
      "\n",
      "\n",
      "\n",
      "\n",
      "\rmatplotlib-base-3.7. | 6.4 MB    | ###9       |  40% \u001b[A\u001b[A\u001b[A\u001b[A\u001b[A\u001b[A\u001b[A\u001b[A\u001b[A"
     ]
    },
    {
     "name": "stdout",
     "output_type": "stream",
     "text": [
      "\n",
      "\n",
      "\n",
      "\n",
      "\n",
      "\n",
      "\n",
      "\n",
      "\n",
      "\rmatplotlib-base-3.7. | 6.4 MB    | ####1      |  42% \u001b[A\u001b[A\u001b[A\u001b[A\u001b[A\u001b[A\u001b[A\u001b[A\u001b[A"
     ]
    },
    {
     "name": "stdout",
     "output_type": "stream",
     "text": [
      "\n",
      "\n",
      "\n",
      "\n",
      "\n",
      "\n",
      "\n",
      "\n",
      "\n",
      "\rmatplotlib-base-3.7. | 6.4 MB    | ####2      |  43% \u001b[A\u001b[A\u001b[A\u001b[A\u001b[A\u001b[A\u001b[A\u001b[A\u001b[A"
     ]
    },
    {
     "name": "stdout",
     "output_type": "stream",
     "text": [
      "\n",
      "\n",
      "\n",
      "\n",
      "\n",
      "\n",
      "\n",
      "\n",
      "\n",
      "\rmatplotlib-base-3.7. | 6.4 MB    | ####3      |  43% \u001b[A\u001b[A\u001b[A\u001b[A\u001b[A\u001b[A\u001b[A\u001b[A\u001b[A"
     ]
    },
    {
     "name": "stdout",
     "output_type": "stream",
     "text": [
      "\n",
      "\n",
      "\n",
      "\n",
      "\n",
      "\n",
      "\n",
      "\n",
      "\n",
      "\rmatplotlib-base-3.7. | 6.4 MB    | ####4      |  44% \u001b[A\u001b[A\u001b[A\u001b[A\u001b[A\u001b[A\u001b[A\u001b[A\u001b[A"
     ]
    },
    {
     "name": "stdout",
     "output_type": "stream",
     "text": [
      "\n",
      "\n",
      "\n",
      "\n",
      "\n",
      "\n",
      "\n",
      "\n",
      "\n",
      "\rmatplotlib-base-3.7. | 6.4 MB    | ####4      |  45% \u001b[A\u001b[A\u001b[A\u001b[A\u001b[A\u001b[A\u001b[A\u001b[A\u001b[A"
     ]
    },
    {
     "name": "stdout",
     "output_type": "stream",
     "text": [
      "\n",
      "\n",
      "\n",
      "\n",
      "\n",
      "\n",
      "\n",
      "\n",
      "\n",
      "\rmatplotlib-base-3.7. | 6.4 MB    | ####5      |  46% \u001b[A\u001b[A\u001b[A\u001b[A\u001b[A\u001b[A\u001b[A\u001b[A\u001b[A"
     ]
    },
    {
     "name": "stdout",
     "output_type": "stream",
     "text": [
      "\n",
      "\n",
      "\n",
      "\n",
      "\n",
      "\n",
      "\n",
      "\n",
      "\n",
      "\rmatplotlib-base-3.7. | 6.4 MB    | ####6      |  46% \u001b[A\u001b[A\u001b[A\u001b[A\u001b[A\u001b[A\u001b[A\u001b[A\u001b[A"
     ]
    },
    {
     "name": "stdout",
     "output_type": "stream",
     "text": [
      "\n",
      "\n",
      "\n",
      "\n",
      "\n",
      "\n",
      "\n",
      "\n",
      "\n",
      "\rmatplotlib-base-3.7. | 6.4 MB    | ####7      |  47% \u001b[A\u001b[A\u001b[A\u001b[A\u001b[A\u001b[A\u001b[A\u001b[A\u001b[A"
     ]
    },
    {
     "name": "stdout",
     "output_type": "stream",
     "text": [
      "\n",
      "\n",
      "\n",
      "\n",
      "\n",
      "\n",
      "\n",
      "\n",
      "\n",
      "\rmatplotlib-base-3.7. | 6.4 MB    | ####8      |  48% \u001b[A\u001b[A\u001b[A\u001b[A\u001b[A\u001b[A\u001b[A\u001b[A\u001b[A"
     ]
    },
    {
     "name": "stdout",
     "output_type": "stream",
     "text": [
      "\n",
      "\n",
      "\n",
      "\n",
      "\n",
      "\n",
      "\n",
      "\n",
      "\n",
      "\rmatplotlib-base-3.7. | 6.4 MB    | ####8      |  49% \u001b[A\u001b[A\u001b[A\u001b[A\u001b[A\u001b[A\u001b[A\u001b[A\u001b[A"
     ]
    },
    {
     "name": "stdout",
     "output_type": "stream",
     "text": [
      "\n",
      "\n",
      "\n",
      "\n",
      "\n",
      "\n",
      "\n",
      "\n",
      "\n",
      "\rmatplotlib-base-3.7. | 6.4 MB    | ####9      |  50% \u001b[A\u001b[A\u001b[A\u001b[A\u001b[A\u001b[A\u001b[A\u001b[A\u001b[A"
     ]
    },
    {
     "name": "stdout",
     "output_type": "stream",
     "text": [
      "\n",
      "\n",
      "\n",
      "\n",
      "\n",
      "\n",
      "\n",
      "\n",
      "\n",
      "\rmatplotlib-base-3.7. | 6.4 MB    | #####      |  50% \u001b[A\u001b[A\u001b[A\u001b[A\u001b[A\u001b[A\u001b[A\u001b[A\u001b[A"
     ]
    },
    {
     "name": "stdout",
     "output_type": "stream",
     "text": [
      "\n",
      "\n",
      "\n",
      "\n",
      "\n",
      "\n",
      "\n",
      "\n",
      "\n",
      "\rmatplotlib-base-3.7. | 6.4 MB    | #####1     |  51% \u001b[A\u001b[A\u001b[A\u001b[A\u001b[A\u001b[A\u001b[A\u001b[A\u001b[A"
     ]
    },
    {
     "name": "stdout",
     "output_type": "stream",
     "text": [
      "\n",
      "\n",
      "\n",
      "\n",
      "\n",
      "\n",
      "\n",
      "\n",
      "\n",
      "\rmatplotlib-base-3.7. | 6.4 MB    | #####2     |  52% \u001b[A\u001b[A\u001b[A\u001b[A\u001b[A\u001b[A\u001b[A\u001b[A\u001b[A"
     ]
    },
    {
     "name": "stdout",
     "output_type": "stream",
     "text": [
      "\n",
      "\n",
      "\n",
      "\n",
      "\n",
      "\n",
      "\n",
      "\n",
      "\n",
      "\rmatplotlib-base-3.7. | 6.4 MB    | #####3     |  53% \u001b[A\u001b[A\u001b[A\u001b[A\u001b[A\u001b[A\u001b[A\u001b[A\u001b[A"
     ]
    },
    {
     "name": "stdout",
     "output_type": "stream",
     "text": [
      "\n",
      "\n",
      "\n",
      "\n",
      "\n",
      "\n",
      "\n",
      "\n",
      "\n",
      "\rmatplotlib-base-3.7. | 6.4 MB    | #####4     |  54% \u001b[A\u001b[A\u001b[A\u001b[A\u001b[A\u001b[A\u001b[A\u001b[A\u001b[A"
     ]
    },
    {
     "name": "stdout",
     "output_type": "stream",
     "text": [
      "\n",
      "\n",
      "\n",
      "\n",
      "\n",
      "\n",
      "\n",
      "\n",
      "\n",
      "\rmatplotlib-base-3.7. | 6.4 MB    | #####5     |  55% \u001b[A\u001b[A\u001b[A\u001b[A\u001b[A\u001b[A\u001b[A\u001b[A\u001b[A"
     ]
    },
    {
     "name": "stdout",
     "output_type": "stream",
     "text": [
      "\n",
      "\n",
      "\n",
      "\n",
      "\n",
      "\n",
      "\n",
      "\n",
      "\n",
      "\rmatplotlib-base-3.7. | 6.4 MB    | #####5     |  56% \u001b[A\u001b[A\u001b[A\u001b[A\u001b[A\u001b[A\u001b[A\u001b[A\u001b[A"
     ]
    },
    {
     "name": "stdout",
     "output_type": "stream",
     "text": [
      "\n",
      "\n",
      "\n",
      "\n",
      "\n",
      "\n",
      "\n",
      "\n",
      "\n",
      "\rmatplotlib-base-3.7. | 6.4 MB    | #####6     |  57% \u001b[A\u001b[A\u001b[A\u001b[A\u001b[A\u001b[A\u001b[A\u001b[A\u001b[A"
     ]
    },
    {
     "name": "stdout",
     "output_type": "stream",
     "text": [
      "\n",
      "\n",
      "\n",
      "\n",
      "\n",
      "\n",
      "\n",
      "\n",
      "\n",
      "\rmatplotlib-base-3.7. | 6.4 MB    | #####8     |  59% \u001b[A\u001b[A\u001b[A\u001b[A\u001b[A\u001b[A\u001b[A\u001b[A\u001b[A"
     ]
    },
    {
     "name": "stdout",
     "output_type": "stream",
     "text": [
      "\n",
      "\n",
      "\n",
      "\n",
      "\n",
      "\n",
      "\n",
      "\n",
      "\n",
      "\rmatplotlib-base-3.7. | 6.4 MB    | ######     |  60% \u001b[A\u001b[A\u001b[A\u001b[A\u001b[A\u001b[A\u001b[A\u001b[A\u001b[A"
     ]
    },
    {
     "name": "stdout",
     "output_type": "stream",
     "text": [
      "\n",
      "\n",
      "\n",
      "\n",
      "\n",
      "\n",
      "\n",
      "\n",
      "\n",
      "\rmatplotlib-base-3.7. | 6.4 MB    | ######1    |  61% \u001b[A\u001b[A\u001b[A\u001b[A\u001b[A\u001b[A\u001b[A\u001b[A\u001b[A"
     ]
    },
    {
     "name": "stdout",
     "output_type": "stream",
     "text": [
      "\n",
      "\n",
      "\n",
      "\n",
      "\n",
      "\n",
      "\n",
      "\n",
      "\n",
      "\rmatplotlib-base-3.7. | 6.4 MB    | ######2    |  62% \u001b[A\u001b[A\u001b[A\u001b[A\u001b[A\u001b[A\u001b[A\u001b[A\u001b[A"
     ]
    },
    {
     "name": "stdout",
     "output_type": "stream",
     "text": [
      "\n",
      "\n",
      "\n",
      "\n",
      "\n",
      "\n",
      "\n",
      "\n",
      "\n",
      "\rmatplotlib-base-3.7. | 6.4 MB    | ######3    |  64% \u001b[A\u001b[A\u001b[A\u001b[A\u001b[A\u001b[A\u001b[A\u001b[A\u001b[A"
     ]
    },
    {
     "name": "stdout",
     "output_type": "stream",
     "text": [
      "\n",
      "\n",
      "\n",
      "\n",
      "\n",
      "\n",
      "\n",
      "\n",
      "\n",
      "\rmatplotlib-base-3.7. | 6.4 MB    | ######4    |  65% \u001b[A\u001b[A\u001b[A\u001b[A\u001b[A\u001b[A\u001b[A\u001b[A\u001b[A"
     ]
    },
    {
     "name": "stdout",
     "output_type": "stream",
     "text": [
      "\n",
      "\n",
      "\n",
      "\n",
      "\n",
      "\n",
      "\n",
      "\n",
      "\n",
      "\rmatplotlib-base-3.7. | 6.4 MB    | ######5    |  65% \u001b[A\u001b[A\u001b[A\u001b[A\u001b[A\u001b[A\u001b[A\u001b[A\u001b[A"
     ]
    },
    {
     "name": "stdout",
     "output_type": "stream",
     "text": [
      "\n",
      "\n",
      "\n",
      "\n",
      "\n",
      "\n",
      "\n",
      "\n",
      "\n",
      "\rmatplotlib-base-3.7. | 6.4 MB    | ######6    |  66% \u001b[A\u001b[A\u001b[A\u001b[A\u001b[A\u001b[A\u001b[A\u001b[A\u001b[A"
     ]
    },
    {
     "name": "stdout",
     "output_type": "stream",
     "text": [
      "\n",
      "\n",
      "\n",
      "\n",
      "\n",
      "\n",
      "\n",
      "\n",
      "\n",
      "\rmatplotlib-base-3.7. | 6.4 MB    | ######6    |  67% \u001b[A\u001b[A\u001b[A\u001b[A\u001b[A\u001b[A\u001b[A\u001b[A\u001b[A"
     ]
    },
    {
     "name": "stdout",
     "output_type": "stream",
     "text": [
      "\n",
      "\n",
      "\n",
      "\n",
      "\n",
      "\n",
      "\n",
      "\n",
      "\n",
      "\rmatplotlib-base-3.7. | 6.4 MB    | ######7    |  68% \u001b[A\u001b[A\u001b[A\u001b[A\u001b[A\u001b[A\u001b[A\u001b[A\u001b[A"
     ]
    },
    {
     "name": "stdout",
     "output_type": "stream",
     "text": [
      "\n",
      "\n",
      "\n",
      "\n",
      "\n",
      "\n",
      "\n",
      "\n",
      "\n",
      "\rmatplotlib-base-3.7. | 6.4 MB    | ######9    |  69% \u001b[A\u001b[A\u001b[A\u001b[A\u001b[A\u001b[A\u001b[A\u001b[A\u001b[A"
     ]
    },
    {
     "name": "stdout",
     "output_type": "stream",
     "text": [
      "\n",
      "\n",
      "\n",
      "\n",
      "\n",
      "\n",
      "\n",
      "\n",
      "\n",
      "\rmatplotlib-base-3.7. | 6.4 MB    | #######    |  70% \u001b[A\u001b[A\u001b[A\u001b[A\u001b[A\u001b[A\u001b[A\u001b[A\u001b[A"
     ]
    },
    {
     "name": "stdout",
     "output_type": "stream",
     "text": [
      "\n",
      "\n",
      "\n",
      "\n",
      "\n",
      "\n",
      "\n",
      "\n",
      "\n",
      "\rmatplotlib-base-3.7. | 6.4 MB    | #######1   |  71% \u001b[A\u001b[A\u001b[A\u001b[A\u001b[A\u001b[A\u001b[A\u001b[A\u001b[A"
     ]
    },
    {
     "name": "stdout",
     "output_type": "stream",
     "text": [
      "\n",
      "\n",
      "\n",
      "\n",
      "\n",
      "\n",
      "\n",
      "\n",
      "\n",
      "\rmatplotlib-base-3.7. | 6.4 MB    | #######2   |  72% \u001b[A\u001b[A\u001b[A\u001b[A\u001b[A\u001b[A\u001b[A\u001b[A\u001b[A"
     ]
    },
    {
     "name": "stdout",
     "output_type": "stream",
     "text": [
      "\n",
      "\n",
      "\n",
      "\n",
      "\n",
      "\n",
      "\n",
      "\n",
      "\n",
      "\rmatplotlib-base-3.7. | 6.4 MB    | #######2   |  73% \u001b[A\u001b[A\u001b[A\u001b[A\u001b[A\u001b[A\u001b[A\u001b[A\u001b[A"
     ]
    },
    {
     "name": "stdout",
     "output_type": "stream",
     "text": [
      "\n",
      "\n",
      "\n",
      "\n",
      "\n",
      "\n",
      "\n",
      "\n",
      "\n",
      "\rmatplotlib-base-3.7. | 6.4 MB    | #######3   |  74% \u001b[A\u001b[A\u001b[A\u001b[A\u001b[A\u001b[A\u001b[A\u001b[A\u001b[A"
     ]
    },
    {
     "name": "stdout",
     "output_type": "stream",
     "text": [
      "\n",
      "\n",
      "\n",
      "\n",
      "\n",
      "\n",
      "\n",
      "\n",
      "\n",
      "\rmatplotlib-base-3.7. | 6.4 MB    | #######4   |  75% \u001b[A\u001b[A\u001b[A\u001b[A\u001b[A\u001b[A\u001b[A\u001b[A\u001b[A"
     ]
    },
    {
     "name": "stdout",
     "output_type": "stream",
     "text": [
      "\n",
      "\n",
      "\n",
      "\n",
      "\n",
      "\n",
      "\n",
      "\n",
      "\n",
      "\rmatplotlib-base-3.7. | 6.4 MB    | #######6   |  76% \u001b[A\u001b[A\u001b[A\u001b[A\u001b[A\u001b[A\u001b[A\u001b[A\u001b[A"
     ]
    },
    {
     "name": "stdout",
     "output_type": "stream",
     "text": [
      "\n",
      "\n",
      "\n",
      "\n",
      "\n",
      "\n",
      "\n",
      "\n",
      "\n",
      "\rmatplotlib-base-3.7. | 6.4 MB    | #######7   |  77% \u001b[A\u001b[A\u001b[A\u001b[A\u001b[A\u001b[A\u001b[A\u001b[A\u001b[A"
     ]
    },
    {
     "name": "stdout",
     "output_type": "stream",
     "text": [
      "\n",
      "\n",
      "\n",
      "\n",
      "\n",
      "\n",
      "\n",
      "\n",
      "\n",
      "\rmatplotlib-base-3.7. | 6.4 MB    | #######7   |  78% \u001b[A\u001b[A\u001b[A\u001b[A\u001b[A\u001b[A\u001b[A\u001b[A\u001b[A"
     ]
    },
    {
     "name": "stdout",
     "output_type": "stream",
     "text": [
      "\n",
      "\n",
      "\n",
      "\n",
      "\n",
      "\n",
      "\n",
      "\n",
      "\n",
      "\rmatplotlib-base-3.7. | 6.4 MB    | #######8   |  79% \u001b[A\u001b[A\u001b[A\u001b[A\u001b[A\u001b[A\u001b[A\u001b[A\u001b[A"
     ]
    },
    {
     "name": "stdout",
     "output_type": "stream",
     "text": [
      "\n",
      "\n",
      "\n",
      "\n",
      "\n",
      "\n",
      "\n",
      "\n",
      "\n",
      "\rmatplotlib-base-3.7. | 6.4 MB    | #######9   |  80% \u001b[A\u001b[A\u001b[A\u001b[A\u001b[A\u001b[A\u001b[A\u001b[A\u001b[A"
     ]
    },
    {
     "name": "stdout",
     "output_type": "stream",
     "text": [
      "\n",
      "\n",
      "\n",
      "\n",
      "\n",
      "\n",
      "\n",
      "\n",
      "\n",
      "\rmatplotlib-base-3.7. | 6.4 MB    | ########   |  81% \u001b[A\u001b[A\u001b[A\u001b[A\u001b[A\u001b[A\u001b[A\u001b[A\u001b[A"
     ]
    },
    {
     "name": "stdout",
     "output_type": "stream",
     "text": [
      "\n",
      "\n",
      "\n",
      "\n",
      "\n",
      "\n",
      "\n",
      "\n",
      "\n",
      "\rmatplotlib-base-3.7. | 6.4 MB    | ########1  |  82% \u001b[A\u001b[A\u001b[A\u001b[A\u001b[A\u001b[A\u001b[A\u001b[A\u001b[A"
     ]
    },
    {
     "name": "stdout",
     "output_type": "stream",
     "text": [
      "\n",
      "\n",
      "\n",
      "\n",
      "\n",
      "\n",
      "\n",
      "\n",
      "\n",
      "\rmatplotlib-base-3.7. | 6.4 MB    | ########2  |  82% \u001b[A\u001b[A\u001b[A\u001b[A\u001b[A\u001b[A\u001b[A\u001b[A\u001b[A"
     ]
    },
    {
     "name": "stdout",
     "output_type": "stream",
     "text": [
      "\n",
      "\n",
      "\n",
      "\n",
      "\n",
      "\n",
      "\n",
      "\n",
      "\n",
      "\rmatplotlib-base-3.7. | 6.4 MB    | ########3  |  83% \u001b[A\u001b[A\u001b[A\u001b[A\u001b[A\u001b[A\u001b[A\u001b[A\u001b[A"
     ]
    },
    {
     "name": "stdout",
     "output_type": "stream",
     "text": [
      "\n",
      "\n",
      "\n",
      "\n",
      "\n",
      "\n",
      "\n",
      "\n",
      "\n",
      "\rmatplotlib-base-3.7. | 6.4 MB    | ########4  |  84% \u001b[A\u001b[A\u001b[A\u001b[A\u001b[A\u001b[A\u001b[A\u001b[A\u001b[A"
     ]
    },
    {
     "name": "stdout",
     "output_type": "stream",
     "text": [
      "\n",
      "\n",
      "\n",
      "\n",
      "\n",
      "\n",
      "\n",
      "\n",
      "\n",
      "\rmatplotlib-base-3.7. | 6.4 MB    | ########5  |  85% \u001b[A\u001b[A\u001b[A\u001b[A\u001b[A\u001b[A\u001b[A\u001b[A\u001b[A"
     ]
    },
    {
     "name": "stdout",
     "output_type": "stream",
     "text": [
      "\n",
      "\n",
      "\n",
      "\n",
      "\n",
      "\n",
      "\n",
      "\n",
      "\n",
      "\rmatplotlib-base-3.7. | 6.4 MB    | ########6  |  86% \u001b[A\u001b[A\u001b[A\u001b[A\u001b[A\u001b[A\u001b[A\u001b[A\u001b[A"
     ]
    },
    {
     "name": "stdout",
     "output_type": "stream",
     "text": [
      "\n",
      "\n",
      "\n",
      "\n",
      "\n",
      "\n",
      "\n",
      "\n",
      "\n",
      "\rmatplotlib-base-3.7. | 6.4 MB    | ########7  |  87% \u001b[A\u001b[A\u001b[A\u001b[A\u001b[A\u001b[A\u001b[A\u001b[A\u001b[A"
     ]
    },
    {
     "name": "stdout",
     "output_type": "stream",
     "text": [
      "\n",
      "\n",
      "\n",
      "\n",
      "\n",
      "\n",
      "\n",
      "\n",
      "\n",
      "\rmatplotlib-base-3.7. | 6.4 MB    | ########9  |  90% \u001b[A\u001b[A\u001b[A\u001b[A\u001b[A\u001b[A\u001b[A\u001b[A\u001b[A"
     ]
    },
    {
     "name": "stdout",
     "output_type": "stream",
     "text": [
      "\n",
      "\n",
      "\n",
      "\n",
      "\n",
      "\n",
      "\n",
      "\n",
      "\n",
      "\rmatplotlib-base-3.7. | 6.4 MB    | #########  |  91% \u001b[A\u001b[A\u001b[A\u001b[A\u001b[A\u001b[A\u001b[A\u001b[A\u001b[A"
     ]
    },
    {
     "name": "stdout",
     "output_type": "stream",
     "text": [
      "\n",
      "\n",
      "\n",
      "\n",
      "\n",
      "\n",
      "\n",
      "\n",
      "\n",
      "\rmatplotlib-base-3.7. | 6.4 MB    | #########1 |  92% \u001b[A\u001b[A\u001b[A\u001b[A\u001b[A\u001b[A\u001b[A\u001b[A\u001b[A"
     ]
    },
    {
     "name": "stdout",
     "output_type": "stream",
     "text": [
      "\n",
      "\n",
      "\n",
      "\n",
      "\n",
      "\n",
      "\n",
      "\n",
      "\n",
      "\rmatplotlib-base-3.7. | 6.4 MB    | #########2 |  93% \u001b[A\u001b[A\u001b[A\u001b[A\u001b[A\u001b[A\u001b[A\u001b[A\u001b[A"
     ]
    },
    {
     "name": "stdout",
     "output_type": "stream",
     "text": [
      "\n",
      "\n",
      "\n",
      "\n",
      "\n",
      "\n",
      "\n",
      "\n",
      "\n",
      "\rmatplotlib-base-3.7. | 6.4 MB    | #########4 |  94% \u001b[A\u001b[A\u001b[A\u001b[A\u001b[A\u001b[A\u001b[A\u001b[A\u001b[A"
     ]
    },
    {
     "name": "stdout",
     "output_type": "stream",
     "text": [
      "\n",
      "\n",
      "\n",
      "\n",
      "\n",
      "\n",
      "\n",
      "\n",
      "\n",
      "\rmatplotlib-base-3.7. | 6.4 MB    | #########4 |  95% \u001b[A\u001b[A\u001b[A\u001b[A\u001b[A\u001b[A\u001b[A\u001b[A\u001b[A"
     ]
    },
    {
     "name": "stdout",
     "output_type": "stream",
     "text": [
      "\n",
      "\n",
      "\n",
      "\n",
      "\n",
      "\n",
      "\n",
      "\n",
      "\n",
      "\rmatplotlib-base-3.7. | 6.4 MB    | #########5 |  96% \u001b[A\u001b[A\u001b[A\u001b[A\u001b[A\u001b[A\u001b[A\u001b[A\u001b[A"
     ]
    },
    {
     "name": "stdout",
     "output_type": "stream",
     "text": [
      "\n",
      "\n",
      "\n",
      "\n",
      "\n",
      "\n",
      "\n",
      "\n",
      "\n",
      "\rmatplotlib-base-3.7. | 6.4 MB    | #########6 |  97% \u001b[A\u001b[A\u001b[A\u001b[A\u001b[A\u001b[A\u001b[A\u001b[A\u001b[A"
     ]
    },
    {
     "name": "stdout",
     "output_type": "stream",
     "text": [
      "\n",
      "\n",
      "\n",
      "\n",
      "\n",
      "\n",
      "\n",
      "\n",
      "\n",
      "\rmatplotlib-base-3.7. | 6.4 MB    | #########7 |  98% \u001b[A\u001b[A\u001b[A\u001b[A\u001b[A\u001b[A\u001b[A\u001b[A\u001b[A"
     ]
    },
    {
     "name": "stdout",
     "output_type": "stream",
     "text": [
      "\n",
      "\n",
      "\n",
      "\n",
      "\n",
      "\n",
      "\n",
      "\n",
      "\n",
      "\rmatplotlib-base-3.7. | 6.4 MB    | #########8 |  99% \u001b[A\u001b[A\u001b[A\u001b[A\u001b[A\u001b[A\u001b[A\u001b[A\u001b[A"
     ]
    },
    {
     "name": "stdout",
     "output_type": "stream",
     "text": [
      "\n",
      "\n",
      "\n",
      "\n",
      "\n",
      "\n",
      "\n",
      "\n",
      "\n",
      "\rmatplotlib-base-3.7. | 6.4 MB    | ########## | 100% \u001b[A\u001b[A\u001b[A\u001b[A\u001b[A\u001b[A\u001b[A\u001b[A\u001b[A\n",
      "\n",
      "\n",
      "\n",
      "\n",
      "\n",
      "\n",
      "\n",
      "\n",
      "\rmatplotlib-base-3.7. | 6.4 MB    | ########## | 100% \u001b[A\u001b[A\u001b[A\u001b[A\u001b[A\u001b[A\u001b[A\u001b[A\u001b[A"
     ]
    },
    {
     "name": "stdout",
     "output_type": "stream",
     "text": [
      "\n",
      "\n",
      "\n",
      "\n",
      "\n",
      "\n",
      "\n",
      "\n",
      "\n",
      "\n",
      "\n",
      "\n",
      "\n",
      "\n",
      "\n",
      "\n",
      "\n",
      "\n",
      "\n",
      "\r                      \r\u001b[A\u001b[A\u001b[A\u001b[A\u001b[A\u001b[A\u001b[A\u001b[A\u001b[A\u001b[A\u001b[A\u001b[A\u001b[A\u001b[A\u001b[A\u001b[A\u001b[A\u001b[A\u001b[A\r                                                     \r\n",
      "\r                                                     \u001b[A\n",
      "\n",
      "\r                                                     \u001b[A\u001b[A\n",
      "\n",
      "\n",
      "\r                                                     \u001b[A\u001b[A\u001b[A\n",
      "\n",
      "\n",
      "\n",
      "\r                                                     \u001b[A\u001b[A\u001b[A\u001b[A\n",
      "\n",
      "\n",
      "\n",
      "\n",
      "\r                                                     \u001b[A\u001b[A\u001b[A\u001b[A\u001b[A\n",
      "\n",
      "\n",
      "\n",
      "\n",
      "\n",
      "\r                                                     \u001b[A\u001b[A\u001b[A\u001b[A\u001b[A\u001b[A\n",
      "\n",
      "\n",
      "\n",
      "\n",
      "\n",
      "\n",
      "\r                                                     \u001b[A\u001b[A\u001b[A\u001b[A\u001b[A\u001b[A\u001b[A\n",
      "\n",
      "\n",
      "\n",
      "\n",
      "\n",
      "\n",
      "\n",
      "\r                                                     \u001b[A\u001b[A\u001b[A\u001b[A\u001b[A\u001b[A\u001b[A\u001b[A\n",
      "\n",
      "\n",
      "\n",
      "\n",
      "\n",
      "\n",
      "\n",
      "\n",
      "\r                                                     \u001b[A\u001b[A\u001b[A\u001b[A\u001b[A\u001b[A\u001b[A\u001b[A\u001b[A\n",
      "\n",
      "\n",
      "\n",
      "\n",
      "\n",
      "\n",
      "\n",
      "\n",
      "\n",
      "\r                                                     \u001b[A\u001b[A\u001b[A\u001b[A\u001b[A\u001b[A\u001b[A\u001b[A\u001b[A\u001b[A\n",
      "\n",
      "\n",
      "\n",
      "\n",
      "\n",
      "\n",
      "\n",
      "\n",
      "\n",
      "\n",
      "\r                                                     \u001b[A\u001b[A\u001b[A\u001b[A\u001b[A\u001b[A\u001b[A\u001b[A\u001b[A\u001b[A\u001b[A\n",
      "\n",
      "\n",
      "\n",
      "\n",
      "\n",
      "\n",
      "\n",
      "\n",
      "\n",
      "\n",
      "\n",
      "\r                                                     \u001b[A\u001b[A\u001b[A\u001b[A\u001b[A\u001b[A\u001b[A\u001b[A\u001b[A\u001b[A\u001b[A\u001b[A\n",
      "\n",
      "\n",
      "\n",
      "\n",
      "\n",
      "\n",
      "\n",
      "\n",
      "\n",
      "\n",
      "\n",
      "\n",
      "\r                                                     \u001b[A\u001b[A\u001b[A\u001b[A\u001b[A\u001b[A\u001b[A\u001b[A\u001b[A\u001b[A\u001b[A\u001b[A\u001b[A\n",
      "\n",
      "\n",
      "\n",
      "\n",
      "\n",
      "\n",
      "\n",
      "\n",
      "\n",
      "\n",
      "\n",
      "\n",
      "\n",
      "\r                                                     \u001b[A\u001b[A\u001b[A\u001b[A\u001b[A\u001b[A\u001b[A\u001b[A\u001b[A\u001b[A\u001b[A\u001b[A\u001b[A\u001b[A\n",
      "\n",
      "\n",
      "\n",
      "\n",
      "\n",
      "\n",
      "\n",
      "\n",
      "\n",
      "\n",
      "\n",
      "\n",
      "\n",
      "\n",
      "\r                                                     \u001b[A\u001b[A\u001b[A\u001b[A\u001b[A\u001b[A\u001b[A\u001b[A\u001b[A\u001b[A\u001b[A\u001b[A\u001b[A\u001b[A\u001b[A\n",
      "\n",
      "\n",
      "\n",
      "\n",
      "\n",
      "\n",
      "\n",
      "\n",
      "\n",
      "\n",
      "\n",
      "\n",
      "\n",
      "\n",
      "\n",
      "\r                                                     \u001b[A\u001b[A\u001b[A\u001b[A\u001b[A\u001b[A\u001b[A\u001b[A\u001b[A\u001b[A\u001b[A\u001b[A\u001b[A\u001b[A\u001b[A\u001b[A\n",
      "\n",
      "\n",
      "\n",
      "\n",
      "\n",
      "\n",
      "\n",
      "\n",
      "\n",
      "\n",
      "\n",
      "\n",
      "\n",
      "\n",
      "\n",
      "\n",
      "\r                                                     \u001b[A\u001b[A\u001b[A\u001b[A\u001b[A\u001b[A\u001b[A\u001b[A\u001b[A\u001b[A\u001b[A\u001b[A\u001b[A\u001b[A\u001b[A\u001b[A\u001b[A\n",
      "\n",
      "\n",
      "\n",
      "\n",
      "\n",
      "\n",
      "\n",
      "\n",
      "\n",
      "\n",
      "\n",
      "\n",
      "\n",
      "\n",
      "\n",
      "\n",
      "\n",
      "\r                                                     \u001b[A\u001b[A\u001b[A\u001b[A\u001b[A\u001b[A\u001b[A\u001b[A\u001b[A\u001b[A\u001b[A\u001b[A\u001b[A\u001b[A\u001b[A\u001b[A\u001b[A\u001b[A\r\r\n",
      "\r\u001b[A\n",
      "\n",
      "\r\u001b[A\u001b[A\n",
      "\n",
      "\n",
      "\r\u001b[A\u001b[A\u001b[A\n",
      "\n",
      "\n",
      "\n",
      "\r\u001b[A\u001b[A\u001b[A\u001b[A\n",
      "\n",
      "\n",
      "\n",
      "\n",
      "\r\u001b[A\u001b[A\u001b[A\u001b[A\u001b[A\n",
      "\n",
      "\n",
      "\n",
      "\n",
      "\n",
      "\r\u001b[A\u001b[A\u001b[A\u001b[A\u001b[A\u001b[A\n",
      "\n",
      "\n",
      "\n",
      "\n",
      "\n",
      "\n",
      "\r\u001b[A\u001b[A\u001b[A\u001b[A\u001b[A\u001b[A\u001b[A\n",
      "\n",
      "\n",
      "\n",
      "\n",
      "\n",
      "\n",
      "\n",
      "\r\u001b[A\u001b[A\u001b[A\u001b[A\u001b[A\u001b[A\u001b[A\u001b[A\n",
      "\n",
      "\n",
      "\n",
      "\n",
      "\n",
      "\n",
      "\n",
      "\n",
      "\r\u001b[A\u001b[A\u001b[A\u001b[A\u001b[A\u001b[A\u001b[A\u001b[A\u001b[A\n",
      "\n",
      "\n",
      "\n",
      "\n",
      "\n",
      "\n",
      "\n",
      "\n",
      "\n",
      "\r\u001b[A\u001b[A\u001b[A\u001b[A\u001b[A\u001b[A\u001b[A\u001b[A\u001b[A\u001b[A\n",
      "\n",
      "\n",
      "\n",
      "\n",
      "\n",
      "\n",
      "\n",
      "\n",
      "\n",
      "\n",
      "\r\u001b[A\u001b[A\u001b[A\u001b[A\u001b[A\u001b[A\u001b[A\u001b[A\u001b[A\u001b[A\u001b[A\r\n",
      "Preparing transaction: ...working... "
     ]
    },
    {
     "name": "stdout",
     "output_type": "stream",
     "text": [
      "done\n",
      "Verifying transaction: ...working... "
     ]
    },
    {
     "name": "stdout",
     "output_type": "stream",
     "text": [
      "done\n",
      "Executing transaction: ...working... "
     ]
    },
    {
     "name": "stdout",
     "output_type": "stream",
     "text": [
      "done\n"
     ]
    },
    {
     "data": {
      "text/plain": [
       "Plots.PyPlotBackend()"
      ]
     },
     "metadata": {},
     "output_type": "display_data"
    }
   ],
   "source": [
    "Pkg.add(\"UnicodePlots\")\n",
    "unicodeplots()\n",
    "\n",
    "Pkg.add(\"PyPlot\")\n",
    "pyplot()"
   ]
  },
  {
   "cell_type": "code",
   "execution_count": 18,
   "metadata": {},
   "outputs": [
    {
     "data": {
      "image/png": "[encoded data removed]",
      "image/svg+xml": [
       "<?xml version=\"1.0\" encoding=\"utf-8\" standalone=\"no\"?>\n",
       "<!DOCTYPE svg PUBLIC \"-//W3C//DTD SVG 1.1//EN\"\n",
       "  \"http://www.w3.org/Graphics/SVG/1.1/DTD/svg11.dtd\">\n",
       "<svg xmlns:xlink=\"http://www.w3.org/1999/xlink\" width=\"432pt\" height=\"288pt\" viewBox=\"0 0 432 288\" xmlns=\"http://www.w3.org/2000/svg\" version=\"1.1\">\n",
       " <metadata>\n",
       "  <rdf:RDF xmlns:dc=\"http://purl.org/dc/elements/1.1/\" xmlns:cc=\"http://creativecommons.org/ns#\" xmlns:rdf=\"http://www.w3.org/1999/02/22-rdf-syntax-ns#\">\n",
       "   <cc:Work>\n",
       "    <dc:type rdf:resource=\"http://purl.org/dc/dcmitype/StillImage\"/>\n",
       "    <dc:date>2023-05-28T18:04:32.465470</dc:date>\n",
       "    <dc:format>image/svg+xml</dc:format>\n",
       "    <dc:creator>\n",
       "     <cc:Agent>\n",
       "      <dc:title>Matplotlib v3.7.1, https://matplotlib.org/</dc:title>\n",
       "     </cc:Agent>\n",
       "    </dc:creator>\n",
       "   </cc:Work>\n",
       "  </rdf:RDF>\n",
       " </metadata>\n",
       " <defs>\n",
       "  <style type=\"text/css\">*{stroke-linejoin: round; stroke-linecap: butt}</style>\n",
       " </defs>\n",
       " <g id=\"figure_1\">\n",
       "  <g id=\"patch_1\">\n",
       "   <path d=\"M 0 288 \n",
       "L 432 288 \n",
       "L 432 0 \n",
       "L 0 0 \n",
       "z\n",
       "\" style=\"fill: #ffffff\"/>\n",
       "  </g>\n",
       "  <g id=\"axes_1\">\n",
       "   <g id=\"patch_2\">\n",
       "    <path d=\"M 44.921244 256.929354 \n",
       "L 429.165354 256.929354 \n",
       "L 429.165354 19.634646 \n",
       "L 44.921244 19.634646 \n",
       "z\n",
       "\" style=\"fill: #ffffff\"/>\n",
       "   </g>\n",
       "   <g id=\"matplotlib.axis_1\">\n",
       "    <g id=\"xtick_1\">\n",
       "     <g id=\"line2d_1\">\n",
       "      <path d=\"M 418.427515 256.929354 \n",
       "L 418.427515 19.634646 \n",
       "\" clip-path=\"url(#p1b8027f7cc)\" style=\"fill: none; stroke: #000000; stroke-opacity: 0.1; stroke-width: 0.5; stroke-linecap: square\"/>\n",
       "     </g>\n",
       "     <g id=\"line2d_2\">\n",
       "      <defs>\n",
       "       <path id=\"m3b42bb8923\" d=\"M 0 0 \n",
       "L 0 -2.5 \n",
       "\" style=\"stroke: #000000; stroke-width: 0.5\"/>\n",
       "      </defs>\n",
       "      <g>\n",
       "       <use xlink:href=\"#m3b42bb8923\" x=\"418.427515\" y=\"256.929354\" style=\"stroke: #000000; stroke-width: 0.5\"/>\n",
       "      </g>\n",
       "     </g>\n",
       "     <g id=\"text_1\">\n",
       "      <!-- $0$ -->\n",
       "      <g transform=\"translate(415.867515 266.508104) scale(0.08 -0.08)\">\n",
       "       <defs>\n",
       "        <path id=\"DejaVuSans-30\" d=\"M 2034 4250 \n",
       "Q 1547 4250 1301 3770 \n",
       "Q 1056 3291 1056 2328 \n",
       "Q 1056 1369 1301 889 \n",
       "Q 1547 409 2034 409 \n",
       "Q 2525 409 2770 889 \n",
       "Q 3016 1369 3016 2328 \n",
       "Q 3016 3291 2770 3770 \n",
       "Q 2525 4250 2034 4250 \n",
       "z\n",
       "M 2034 4750 \n",
       "Q 2819 4750 3233 4129 \n",
       "Q 3647 3509 3647 2328 \n",
       "Q 3647 1150 3233 529 \n",
       "Q 2819 -91 2034 -91 \n",
       "Q 1250 -91 836 529 \n",
       "Q 422 1150 422 2328 \n",
       "Q 422 3509 836 4129 \n",
       "Q 1250 4750 2034 4750 \n",
       "z\n",
       "\" transform=\"scale(0.015625)\"/>\n",
       "       </defs>\n",
       "       <use xlink:href=\"#DejaVuSans-30\" transform=\"translate(0 0.78125)\"/>\n",
       "      </g>\n",
       "     </g>\n",
       "    </g>\n",
       "    <g id=\"xtick_2\">\n",
       "     <g id=\"line2d_3\">\n",
       "      <path d=\"M 337.842751 256.929354 \n",
       "L 337.842751 19.634646 \n",
       "\" clip-path=\"url(#p1b8027f7cc)\" style=\"fill: none; stroke: #000000; stroke-opacity: 0.1; stroke-width: 0.5; stroke-linecap: square\"/>\n",
       "     </g>\n",
       "     <g id=\"line2d_4\">\n",
       "      <g>\n",
       "       <use xlink:href=\"#m3b42bb8923\" x=\"337.842751\" y=\"256.929354\" style=\"stroke: #000000; stroke-width: 0.5\"/>\n",
       "      </g>\n",
       "     </g>\n",
       "     <g id=\"text_2\">\n",
       "      <!-- $1.0×10^{4}$ -->\n",
       "      <g transform=\"translate(321.082751 266.508104) scale(0.08 -0.08)\">\n",
       "       <defs>\n",
       "        <path id=\"DejaVuSans-31\" d=\"M 794 531 \n",
       "L 1825 531 \n",
       "L 1825 4091 \n",
       "L 703 3866 \n",
       "L 703 4441 \n",
       "L 1819 4666 \n",
       "L 2450 4666 \n",
       "L 2450 531 \n",
       "L 3481 531 \n",
       "L 3481 0 \n",
       "L 794 0 \n",
       "L 794 531 \n",
       "z\n",
       "\" transform=\"scale(0.015625)\"/>\n",
       "        <path id=\"DejaVuSans-2e\" d=\"M 684 794 \n",
       "L 1344 794 \n",
       "L 1344 0 \n",
       "L 684 0 \n",
       "L 684 794 \n",
       "z\n",
       "\" transform=\"scale(0.015625)\"/>\n",
       "        <path id=\"DejaVuSans-d7\" d=\"M 4488 3438 \n",
       "L 3059 2003 \n",
       "L 4488 575 \n",
       "L 4116 197 \n",
       "L 2681 1631 \n",
       "L 1247 197 \n",
       "L 878 575 \n",
       "L 2303 2003 \n",
       "L 878 3438 \n",
       "L 1247 3816 \n",
       "L 2681 2381 \n",
       "L 4116 3816 \n",
       "L 4488 3438 \n",
       "z\n",
       "\" transform=\"scale(0.015625)\"/>\n",
       "        <path id=\"DejaVuSans-34\" d=\"M 2419 4116 \n",
       "L 825 1625 \n",
       "L 2419 1625 \n",
       "L 2419 4116 \n",
       "z\n",
       "M 2253 4666 \n",
       "L 3047 4666 \n",
       "L 3047 1625 \n",
       "L 3713 1625 \n",
       "L 3713 1100 \n",
       "L 3047 1100 \n",
       "L 3047 0 \n",
       "L 2419 0 \n",
       "L 2419 1100 \n",
       "L 313 1100 \n",
       "L 313 1709 \n",
       "L 2253 4666 \n",
       "z\n",
       "\" transform=\"scale(0.015625)\"/>\n",
       "       </defs>\n",
       "       <use xlink:href=\"#DejaVuSans-31\" transform=\"translate(0 0.684375)\"/>\n",
       "       <use xlink:href=\"#DejaVuSans-2e\" transform=\"translate(63.623047 0.684375)\"/>\n",
       "       <use xlink:href=\"#DejaVuSans-30\" transform=\"translate(95.410156 0.684375)\"/>\n",
       "       <use xlink:href=\"#DejaVuSans-d7\" transform=\"translate(159.033203 0.684375)\"/>\n",
       "       <use xlink:href=\"#DejaVuSans-31\" transform=\"translate(242.822266 0.684375)\"/>\n",
       "       <use xlink:href=\"#DejaVuSans-30\" transform=\"translate(306.445312 0.684375)\"/>\n",
       "       <use xlink:href=\"#DejaVuSans-34\" transform=\"translate(371.025391 38.965625) scale(0.7)\"/>\n",
       "      </g>\n",
       "     </g>\n",
       "    </g>\n",
       "    <g id=\"xtick_3\">\n",
       "     <g id=\"line2d_5\">\n",
       "      <path d=\"M 257.257987 256.929354 \n",
       "L 257.257987 19.634646 \n",
       "\" clip-path=\"url(#p1b8027f7cc)\" style=\"fill: none; stroke: #000000; stroke-opacity: 0.1; stroke-width: 0.5; stroke-linecap: square\"/>\n",
       "     </g>\n",
       "     <g id=\"line2d_6\">\n",
       "      <g>\n",
       "       <use xlink:href=\"#m3b42bb8923\" x=\"257.257987\" y=\"256.929354\" style=\"stroke: #000000; stroke-width: 0.5\"/>\n",
       "      </g>\n",
       "     </g>\n",
       "     <g id=\"text_3\">\n",
       "      <!-- $2.0×10^{4}$ -->\n",
       "      <g transform=\"translate(240.497987 266.508104) scale(0.08 -0.08)\">\n",
       "       <defs>\n",
       "        <path id=\"DejaVuSans-32\" d=\"M 1228 531 \n",
       "L 3431 531 \n",
       "L 3431 0 \n",
       "L 469 0 \n",
       "L 469 531 \n",
       "Q 828 903 1448 1529 \n",
       "Q 2069 2156 2228 2338 \n",
       "Q 2531 2678 2651 2914 \n",
       "Q 2772 3150 2772 3378 \n",
       "Q 2772 3750 2511 3984 \n",
       "Q 2250 4219 1831 4219 \n",
       "Q 1534 4219 1204 4116 \n",
       "Q 875 4013 500 3803 \n",
       "L 500 4441 \n",
       "Q 881 4594 1212 4672 \n",
       "Q 1544 4750 1819 4750 \n",
       "Q 2544 4750 2975 4387 \n",
       "Q 3406 4025 3406 3419 \n",
       "Q 3406 3131 3298 2873 \n",
       "Q 3191 2616 2906 2266 \n",
       "Q 2828 2175 2409 1742 \n",
       "Q 1991 1309 1228 531 \n",
       "z\n",
       "\" transform=\"scale(0.015625)\"/>\n",
       "       </defs>\n",
       "       <use xlink:href=\"#DejaVuSans-32\" transform=\"translate(0 0.684375)\"/>\n",
       "       <use xlink:href=\"#DejaVuSans-2e\" transform=\"translate(63.623047 0.684375)\"/>\n",
       "       <use xlink:href=\"#DejaVuSans-30\" transform=\"translate(95.410156 0.684375)\"/>\n",
       "       <use xlink:href=\"#DejaVuSans-d7\" transform=\"translate(159.033203 0.684375)\"/>\n",
       "       <use xlink:href=\"#DejaVuSans-31\" transform=\"translate(242.822266 0.684375)\"/>\n",
       "       <use xlink:href=\"#DejaVuSans-30\" transform=\"translate(306.445312 0.684375)\"/>\n",
       "       <use xlink:href=\"#DejaVuSans-34\" transform=\"translate(371.025391 38.965625) scale(0.7)\"/>\n",
       "      </g>\n",
       "     </g>\n",
       "    </g>\n",
       "    <g id=\"xtick_4\">\n",
       "     <g id=\"line2d_7\">\n",
       "      <path d=\"M 176.673223 256.929354 \n",
       "L 176.673223 19.634646 \n",
       "\" clip-path=\"url(#p1b8027f7cc)\" style=\"fill: none; stroke: #000000; stroke-opacity: 0.1; stroke-width: 0.5; stroke-linecap: square\"/>\n",
       "     </g>\n",
       "     <g id=\"line2d_8\">\n",
       "      <g>\n",
       "       <use xlink:href=\"#m3b42bb8923\" x=\"176.673223\" y=\"256.929354\" style=\"stroke: #000000; stroke-width: 0.5\"/>\n",
       "      </g>\n",
       "     </g>\n",
       "     <g id=\"text_4\">\n",
       "      <!-- $3.0×10^{4}$ -->\n",
       "      <g transform=\"translate(159.913223 266.508104) scale(0.08 -0.08)\">\n",
       "       <defs>\n",
       "        <path id=\"DejaVuSans-33\" d=\"M 2597 2516 \n",
       "Q 3050 2419 3304 2112 \n",
       "Q 3559 1806 3559 1356 \n",
       "Q 3559 666 3084 287 \n",
       "Q 2609 -91 1734 -91 \n",
       "Q 1441 -91 1130 -33 \n",
       "Q 819 25 488 141 \n",
       "L 488 750 \n",
       "Q 750 597 1062 519 \n",
       "Q 1375 441 1716 441 \n",
       "Q 2309 441 2620 675 \n",
       "Q 2931 909 2931 1356 \n",
       "Q 2931 1769 2642 2001 \n",
       "Q 2353 2234 1838 2234 \n",
       "L 1294 2234 \n",
       "L 1294 2753 \n",
       "L 1863 2753 \n",
       "Q 2328 2753 2575 2939 \n",
       "Q 2822 3125 2822 3475 \n",
       "Q 2822 3834 2567 4026 \n",
       "Q 2313 4219 1838 4219 \n",
       "Q 1578 4219 1281 4162 \n",
       "Q 984 4106 628 3988 \n",
       "L 628 4550 \n",
       "Q 988 4650 1302 4700 \n",
       "Q 1616 4750 1894 4750 \n",
       "Q 2613 4750 3031 4423 \n",
       "Q 3450 4097 3450 3541 \n",
       "Q 3450 3153 3228 2886 \n",
       "Q 3006 2619 2597 2516 \n",
       "z\n",
       "\" transform=\"scale(0.015625)\"/>\n",
       "       </defs>\n",
       "       <use xlink:href=\"#DejaVuSans-33\" transform=\"translate(0 0.684375)\"/>\n",
       "       <use xlink:href=\"#DejaVuSans-2e\" transform=\"translate(63.623047 0.684375)\"/>\n",
       "       <use xlink:href=\"#DejaVuSans-30\" transform=\"translate(95.410156 0.684375)\"/>\n",
       "       <use xlink:href=\"#DejaVuSans-d7\" transform=\"translate(159.033203 0.684375)\"/>\n",
       "       <use xlink:href=\"#DejaVuSans-31\" transform=\"translate(242.822266 0.684375)\"/>\n",
       "       <use xlink:href=\"#DejaVuSans-30\" transform=\"translate(306.445312 0.684375)\"/>\n",
       "       <use xlink:href=\"#DejaVuSans-34\" transform=\"translate(371.025391 38.965625) scale(0.7)\"/>\n",
       "      </g>\n",
       "     </g>\n",
       "    </g>\n",
       "    <g id=\"xtick_5\">\n",
       "     <g id=\"line2d_9\">\n",
       "      <path d=\"M 96.088459 256.929354 \n",
       "L 96.088459 19.634646 \n",
       "\" clip-path=\"url(#p1b8027f7cc)\" style=\"fill: none; stroke: #000000; stroke-opacity: 0.1; stroke-width: 0.5; stroke-linecap: square\"/>\n",
       "     </g>\n",
       "     <g id=\"line2d_10\">\n",
       "      <g>\n",
       "       <use xlink:href=\"#m3b42bb8923\" x=\"96.088459\" y=\"256.929354\" style=\"stroke: #000000; stroke-width: 0.5\"/>\n",
       "      </g>\n",
       "     </g>\n",
       "     <g id=\"text_5\">\n",
       "      <!-- $4.0×10^{4}$ -->\n",
       "      <g transform=\"translate(79.328459 266.508104) scale(0.08 -0.08)\">\n",
       "       <use xlink:href=\"#DejaVuSans-34\" transform=\"translate(0 0.684375)\"/>\n",
       "       <use xlink:href=\"#DejaVuSans-2e\" transform=\"translate(63.623047 0.684375)\"/>\n",
       "       <use xlink:href=\"#DejaVuSans-30\" transform=\"translate(95.410156 0.684375)\"/>\n",
       "       <use xlink:href=\"#DejaVuSans-d7\" transform=\"translate(159.033203 0.684375)\"/>\n",
       "       <use xlink:href=\"#DejaVuSans-31\" transform=\"translate(242.822266 0.684375)\"/>\n",
       "       <use xlink:href=\"#DejaVuSans-30\" transform=\"translate(306.445312 0.684375)\"/>\n",
       "       <use xlink:href=\"#DejaVuSans-34\" transform=\"translate(371.025391 38.965625) scale(0.7)\"/>\n",
       "      </g>\n",
       "     </g>\n",
       "    </g>\n",
       "    <g id=\"text_6\">\n",
       "     <!-- Pirates -->\n",
       "     <g transform=\"translate(218.285721 280.530136) scale(0.11 -0.11)\">\n",
       "      <defs>\n",
       "       <path id=\"DejaVuSans-50\" d=\"M 1259 4147 \n",
       "L 1259 2394 \n",
       "L 2053 2394 \n",
       "Q 2494 2394 2734 2622 \n",
       "Q 2975 2850 2975 3272 \n",
       "Q 2975 3691 2734 3919 \n",
       "Q 2494 4147 2053 4147 \n",
       "L 1259 4147 \n",
       "z\n",
       "M 628 4666 \n",
       "L 2053 4666 \n",
       "Q 2838 4666 3239 4311 \n",
       "Q 3641 3956 3641 3272 \n",
       "Q 3641 2581 3239 2228 \n",
       "Q 2838 1875 2053 1875 \n",
       "L 1259 1875 \n",
       "L 1259 0 \n",
       "L 628 0 \n",
       "L 628 4666 \n",
       "z\n",
       "\" transform=\"scale(0.015625)\"/>\n",
       "       <path id=\"DejaVuSans-69\" d=\"M 603 3500 \n",
       "L 1178 3500 \n",
       "L 1178 0 \n",
       "L 603 0 \n",
       "L 603 3500 \n",
       "z\n",
       "M 603 4863 \n",
       "L 1178 4863 \n",
       "L 1178 4134 \n",
       "L 603 4134 \n",
       "L 603 4863 \n",
       "z\n",
       "\" transform=\"scale(0.015625)\"/>\n",
       "       <path id=\"DejaVuSans-72\" d=\"M 2631 2963 \n",
       "Q 2534 3019 2420 3045 \n",
       "Q 2306 3072 2169 3072 \n",
       "Q 1681 3072 1420 2755 \n",
       "Q 1159 2438 1159 1844 \n",
       "L 1159 0 \n",
       "L 581 0 \n",
       "L 581 3500 \n",
       "L 1159 3500 \n",
       "L 1159 2956 \n",
       "Q 1341 3275 1631 3429 \n",
       "Q 1922 3584 2338 3584 \n",
       "Q 2397 3584 2469 3576 \n",
       "Q 2541 3569 2628 3553 \n",
       "L 2631 2963 \n",
       "z\n",
       "\" transform=\"scale(0.015625)\"/>\n",
       "       <path id=\"DejaVuSans-61\" d=\"M 2194 1759 \n",
       "Q 1497 1759 1228 1600 \n",
       "Q 959 1441 959 1056 \n",
       "Q 959 750 1161 570 \n",
       "Q 1363 391 1709 391 \n",
       "Q 2188 391 2477 730 \n",
       "Q 2766 1069 2766 1631 \n",
       "L 2766 1759 \n",
       "L 2194 1759 \n",
       "z\n",
       "M 3341 1997 \n",
       "L 3341 0 \n",
       "L 2766 0 \n",
       "L 2766 531 \n",
       "Q 2569 213 2275 61 \n",
       "Q 1981 -91 1556 -91 \n",
       "Q 1019 -91 701 211 \n",
       "Q 384 513 384 1019 \n",
       "Q 384 1609 779 1909 \n",
       "Q 1175 2209 1959 2209 \n",
       "L 2766 2209 \n",
       "L 2766 2266 \n",
       "Q 2766 2663 2505 2880 \n",
       "Q 2244 3097 1772 3097 \n",
       "Q 1472 3097 1187 3025 \n",
       "Q 903 2953 641 2809 \n",
       "L 641 3341 \n",
       "Q 956 3463 1253 3523 \n",
       "Q 1550 3584 1831 3584 \n",
       "Q 2591 3584 2966 3190 \n",
       "Q 3341 2797 3341 1997 \n",
       "z\n",
       "\" transform=\"scale(0.015625)\"/>\n",
       "       <path id=\"DejaVuSans-74\" d=\"M 1172 4494 \n",
       "L 1172 3500 \n",
       "L 2356 3500 \n",
       "L 2356 3053 \n",
       "L 1172 3053 \n",
       "L 1172 1153 \n",
       "Q 1172 725 1289 603 \n",
       "Q 1406 481 1766 481 \n",
       "L 2356 481 \n",
       "L 2356 0 \n",
       "L 1766 0 \n",
       "Q 1100 0 847 248 \n",
       "Q 594 497 594 1153 \n",
       "L 594 3053 \n",
       "L 172 3053 \n",
       "L 172 3500 \n",
       "L 594 3500 \n",
       "L 594 4494 \n",
       "L 1172 4494 \n",
       "z\n",
       "\" transform=\"scale(0.015625)\"/>\n",
       "       <path id=\"DejaVuSans-65\" d=\"M 3597 1894 \n",
       "L 3597 1613 \n",
       "L 953 1613 \n",
       "Q 991 1019 1311 708 \n",
       "Q 1631 397 2203 397 \n",
       "Q 2534 397 2845 478 \n",
       "Q 3156 559 3463 722 \n",
       "L 3463 178 \n",
       "Q 3153 47 2828 -22 \n",
       "Q 2503 -91 2169 -91 \n",
       "Q 1331 -91 842 396 \n",
       "Q 353 884 353 1716 \n",
       "Q 353 2575 817 3079 \n",
       "Q 1281 3584 2069 3584 \n",
       "Q 2775 3584 3186 3129 \n",
       "Q 3597 2675 3597 1894 \n",
       "z\n",
       "M 3022 2063 \n",
       "Q 3016 2534 2758 2815 \n",
       "Q 2500 3097 2075 3097 \n",
       "Q 1594 3097 1305 2825 \n",
       "Q 1016 2553 972 2059 \n",
       "L 3022 2063 \n",
       "z\n",
       "\" transform=\"scale(0.015625)\"/>\n",
       "       <path id=\"DejaVuSans-73\" d=\"M 2834 3397 \n",
       "L 2834 2853 \n",
       "Q 2591 2978 2328 3040 \n",
       "Q 2066 3103 1784 3103 \n",
       "Q 1356 3103 1142 2972 \n",
       "Q 928 2841 928 2578 \n",
       "Q 928 2378 1081 2264 \n",
       "Q 1234 2150 1697 2047 \n",
       "L 1894 2003 \n",
       "Q 2506 1872 2764 1633 \n",
       "Q 3022 1394 3022 966 \n",
       "Q 3022 478 2636 193 \n",
       "Q 2250 -91 1575 -91 \n",
       "Q 1294 -91 989 -36 \n",
       "Q 684 19 347 128 \n",
       "L 347 722 \n",
       "Q 666 556 975 473 \n",
       "Q 1284 391 1588 391 \n",
       "Q 1994 391 2212 530 \n",
       "Q 2431 669 2431 922 \n",
       "Q 2431 1156 2273 1281 \n",
       "Q 2116 1406 1581 1522 \n",
       "L 1381 1569 \n",
       "Q 847 1681 609 1914 \n",
       "Q 372 2147 372 2553 \n",
       "Q 372 3047 722 3315 \n",
       "Q 1072 3584 1716 3584 \n",
       "Q 2034 3584 2315 3537 \n",
       "Q 2597 3491 2834 3397 \n",
       "z\n",
       "\" transform=\"scale(0.015625)\"/>\n",
       "      </defs>\n",
       "      <use xlink:href=\"#DejaVuSans-50\"/>\n",
       "      <use xlink:href=\"#DejaVuSans-69\" x=\"58.052734\"/>\n",
       "      <use xlink:href=\"#DejaVuSans-72\" x=\"85.835938\"/>\n",
       "      <use xlink:href=\"#DejaVuSans-61\" x=\"126.949219\"/>\n",
       "      <use xlink:href=\"#DejaVuSans-74\" x=\"188.228516\"/>\n",
       "      <use xlink:href=\"#DejaVuSans-65\" x=\"227.4375\"/>\n",
       "      <use xlink:href=\"#DejaVuSans-73\" x=\"288.960938\"/>\n",
       "     </g>\n",
       "    </g>\n",
       "   </g>\n",
       "   <g id=\"matplotlib.axis_2\">\n",
       "    <g id=\"ytick_1\">\n",
       "     <g id=\"line2d_11\">\n",
       "      <path d=\"M 44.921244 234.223257 \n",
       "L 429.165354 234.223257 \n",
       "\" clip-path=\"url(#p1b8027f7cc)\" style=\"fill: none; stroke: #000000; stroke-opacity: 0.1; stroke-width: 0.5; stroke-linecap: square\"/>\n",
       "     </g>\n",
       "     <g id=\"line2d_12\">\n",
       "      <defs>\n",
       "       <path id=\"m20ba86c480\" d=\"M 0 0 \n",
       "L 2.5 0 \n",
       "\" style=\"stroke: #000000; stroke-width: 0.5\"/>\n",
       "      </defs>\n",
       "      <g>\n",
       "       <use xlink:href=\"#m20ba86c480\" x=\"44.921244\" y=\"234.223257\" style=\"stroke: #000000; stroke-width: 0.5\"/>\n",
       "      </g>\n",
       "     </g>\n",
       "     <g id=\"text_7\">\n",
       "      <!-- $14.50$ -->\n",
       "      <g transform=\"translate(18.461244 237.262632) scale(0.08 -0.08)\">\n",
       "       <defs>\n",
       "        <path id=\"DejaVuSans-35\" d=\"M 691 4666 \n",
       "L 3169 4666 \n",
       "L 3169 4134 \n",
       "L 1269 4134 \n",
       "L 1269 2991 \n",
       "Q 1406 3038 1543 3061 \n",
       "Q 1681 3084 1819 3084 \n",
       "Q 2600 3084 3056 2656 \n",
       "Q 3513 2228 3513 1497 \n",
       "Q 3513 744 3044 326 \n",
       "Q 2575 -91 1722 -91 \n",
       "Q 1428 -91 1123 -41 \n",
       "Q 819 9 494 109 \n",
       "L 494 744 \n",
       "Q 775 591 1075 516 \n",
       "Q 1375 441 1709 441 \n",
       "Q 2250 441 2565 725 \n",
       "Q 2881 1009 2881 1497 \n",
       "Q 2881 1984 2565 2268 \n",
       "Q 2250 2553 1709 2553 \n",
       "Q 1456 2553 1204 2497 \n",
       "Q 953 2441 691 2322 \n",
       "L 691 4666 \n",
       "z\n",
       "\" transform=\"scale(0.015625)\"/>\n",
       "       </defs>\n",
       "       <use xlink:href=\"#DejaVuSans-31\" transform=\"translate(0 0.78125)\"/>\n",
       "       <use xlink:href=\"#DejaVuSans-34\" transform=\"translate(63.623047 0.78125)\"/>\n",
       "       <use xlink:href=\"#DejaVuSans-2e\" transform=\"translate(127.246094 0.78125)\"/>\n",
       "       <use xlink:href=\"#DejaVuSans-35\" transform=\"translate(159.033203 0.78125)\"/>\n",
       "       <use xlink:href=\"#DejaVuSans-30\" transform=\"translate(222.65625 0.78125)\"/>\n",
       "      </g>\n",
       "     </g>\n",
       "    </g>\n",
       "    <g id=\"ytick_2\">\n",
       "     <g id=\"line2d_13\">\n",
       "      <path d=\"M 44.921244 194.247733 \n",
       "L 429.165354 194.247733 \n",
       "\" clip-path=\"url(#p1b8027f7cc)\" style=\"fill: none; stroke: #000000; stroke-opacity: 0.1; stroke-width: 0.5; stroke-linecap: square\"/>\n",
       "     </g>\n",
       "     <g id=\"line2d_14\">\n",
       "      <g>\n",
       "       <use xlink:href=\"#m20ba86c480\" x=\"44.921244\" y=\"194.247733\" style=\"stroke: #000000; stroke-width: 0.5\"/>\n",
       "      </g>\n",
       "     </g>\n",
       "     <g id=\"text_8\">\n",
       "      <!-- $14.75$ -->\n",
       "      <g transform=\"translate(19.101244 197.287108) scale(0.08 -0.08)\">\n",
       "       <defs>\n",
       "        <path id=\"DejaVuSans-37\" d=\"M 525 4666 \n",
       "L 3525 4666 \n",
       "L 3525 4397 \n",
       "L 1831 0 \n",
       "L 1172 0 \n",
       "L 2766 4134 \n",
       "L 525 4134 \n",
       "L 525 4666 \n",
       "z\n",
       "\" transform=\"scale(0.015625)\"/>\n",
       "       </defs>\n",
       "       <use xlink:href=\"#DejaVuSans-31\" transform=\"translate(0 0.09375)\"/>\n",
       "       <use xlink:href=\"#DejaVuSans-34\" transform=\"translate(63.623047 0.09375)\"/>\n",
       "       <use xlink:href=\"#DejaVuSans-2e\" transform=\"translate(127.246094 0.09375)\"/>\n",
       "       <use xlink:href=\"#DejaVuSans-37\" transform=\"translate(151.283203 0.09375)\"/>\n",
       "       <use xlink:href=\"#DejaVuSans-35\" transform=\"translate(214.90625 0.09375)\"/>\n",
       "      </g>\n",
       "     </g>\n",
       "    </g>\n",
       "    <g id=\"ytick_3\">\n",
       "     <g id=\"line2d_15\">\n",
       "      <path d=\"M 44.921244 154.272209 \n",
       "L 429.165354 154.272209 \n",
       "\" clip-path=\"url(#p1b8027f7cc)\" style=\"fill: none; stroke: #000000; stroke-opacity: 0.1; stroke-width: 0.5; stroke-linecap: square\"/>\n",
       "     </g>\n",
       "     <g id=\"line2d_16\">\n",
       "      <g>\n",
       "       <use xlink:href=\"#m20ba86c480\" x=\"44.921244\" y=\"154.272209\" style=\"stroke: #000000; stroke-width: 0.5\"/>\n",
       "      </g>\n",
       "     </g>\n",
       "     <g id=\"text_9\">\n",
       "      <!-- $15.00$ -->\n",
       "      <g transform=\"translate(18.461244 157.311584) scale(0.08 -0.08)\">\n",
       "       <use xlink:href=\"#DejaVuSans-31\" transform=\"translate(0 0.78125)\"/>\n",
       "       <use xlink:href=\"#DejaVuSans-35\" transform=\"translate(63.623047 0.78125)\"/>\n",
       "       <use xlink:href=\"#DejaVuSans-2e\" transform=\"translate(127.246094 0.78125)\"/>\n",
       "       <use xlink:href=\"#DejaVuSans-30\" transform=\"translate(159.033203 0.78125)\"/>\n",
       "       <use xlink:href=\"#DejaVuSans-30\" transform=\"translate(222.65625 0.78125)\"/>\n",
       "      </g>\n",
       "     </g>\n",
       "    </g>\n",
       "    <g id=\"ytick_4\">\n",
       "     <g id=\"line2d_17\">\n",
       "      <path d=\"M 44.921244 114.296686 \n",
       "L 429.165354 114.296686 \n",
       "\" clip-path=\"url(#p1b8027f7cc)\" style=\"fill: none; stroke: #000000; stroke-opacity: 0.1; stroke-width: 0.5; stroke-linecap: square\"/>\n",
       "     </g>\n",
       "     <g id=\"line2d_18\">\n",
       "      <g>\n",
       "       <use xlink:href=\"#m20ba86c480\" x=\"44.921244\" y=\"114.296686\" style=\"stroke: #000000; stroke-width: 0.5\"/>\n",
       "      </g>\n",
       "     </g>\n",
       "     <g id=\"text_10\">\n",
       "      <!-- $15.25$ -->\n",
       "      <g transform=\"translate(18.941244 117.336061) scale(0.08 -0.08)\">\n",
       "       <use xlink:href=\"#DejaVuSans-31\" transform=\"translate(0 0.78125)\"/>\n",
       "       <use xlink:href=\"#DejaVuSans-35\" transform=\"translate(63.623047 0.78125)\"/>\n",
       "       <use xlink:href=\"#DejaVuSans-2e\" transform=\"translate(127.246094 0.78125)\"/>\n",
       "       <use xlink:href=\"#DejaVuSans-32\" transform=\"translate(153.533203 0.78125)\"/>\n",
       "       <use xlink:href=\"#DejaVuSans-35\" transform=\"translate(217.15625 0.78125)\"/>\n",
       "      </g>\n",
       "     </g>\n",
       "    </g>\n",
       "    <g id=\"ytick_5\">\n",
       "     <g id=\"line2d_19\">\n",
       "      <path d=\"M 44.921244 74.321162 \n",
       "L 429.165354 74.321162 \n",
       "\" clip-path=\"url(#p1b8027f7cc)\" style=\"fill: none; stroke: #000000; stroke-opacity: 0.1; stroke-width: 0.5; stroke-linecap: square\"/>\n",
       "     </g>\n",
       "     <g id=\"line2d_20\">\n",
       "      <g>\n",
       "       <use xlink:href=\"#m20ba86c480\" x=\"44.921244\" y=\"74.321162\" style=\"stroke: #000000; stroke-width: 0.5\"/>\n",
       "      </g>\n",
       "     </g>\n",
       "     <g id=\"text_11\">\n",
       "      <!-- $15.50$ -->\n",
       "      <g transform=\"translate(18.461244 77.360537) scale(0.08 -0.08)\">\n",
       "       <use xlink:href=\"#DejaVuSans-31\" transform=\"translate(0 0.78125)\"/>\n",
       "       <use xlink:href=\"#DejaVuSans-35\" transform=\"translate(63.623047 0.78125)\"/>\n",
       "       <use xlink:href=\"#DejaVuSans-2e\" transform=\"translate(127.246094 0.78125)\"/>\n",
       "       <use xlink:href=\"#DejaVuSans-35\" transform=\"translate(159.033203 0.78125)\"/>\n",
       "       <use xlink:href=\"#DejaVuSans-30\" transform=\"translate(222.65625 0.78125)\"/>\n",
       "      </g>\n",
       "     </g>\n",
       "    </g>\n",
       "    <g id=\"ytick_6\">\n",
       "     <g id=\"line2d_21\">\n",
       "      <path d=\"M 44.921244 34.345638 \n",
       "L 429.165354 34.345638 \n",
       "\" clip-path=\"url(#p1b8027f7cc)\" style=\"fill: none; stroke: #000000; stroke-opacity: 0.1; stroke-width: 0.5; stroke-linecap: square\"/>\n",
       "     </g>\n",
       "     <g id=\"line2d_22\">\n",
       "      <g>\n",
       "       <use xlink:href=\"#m20ba86c480\" x=\"44.921244\" y=\"34.345638\" style=\"stroke: #000000; stroke-width: 0.5\"/>\n",
       "      </g>\n",
       "     </g>\n",
       "     <g id=\"text_12\">\n",
       "      <!-- $15.75$ -->\n",
       "      <g transform=\"translate(19.101244 37.385013) scale(0.08 -0.08)\">\n",
       "       <use xlink:href=\"#DejaVuSans-31\" transform=\"translate(0 0.09375)\"/>\n",
       "       <use xlink:href=\"#DejaVuSans-35\" transform=\"translate(63.623047 0.09375)\"/>\n",
       "       <use xlink:href=\"#DejaVuSans-2e\" transform=\"translate(127.246094 0.09375)\"/>\n",
       "       <use xlink:href=\"#DejaVuSans-37\" transform=\"translate(151.283203 0.09375)\"/>\n",
       "       <use xlink:href=\"#DejaVuSans-35\" transform=\"translate(214.90625 0.09375)\"/>\n",
       "      </g>\n",
       "     </g>\n",
       "    </g>\n",
       "    <g id=\"text_13\">\n",
       "     <!-- temperature -->\n",
       "     <g transform=\"translate(12.173587 172.850359) rotate(-90) scale(0.11 -0.11)\">\n",
       "      <defs>\n",
       "       <path id=\"DejaVuSans-6d\" d=\"M 3328 2828 \n",
       "Q 3544 3216 3844 3400 \n",
       "Q 4144 3584 4550 3584 \n",
       "Q 5097 3584 5394 3201 \n",
       "Q 5691 2819 5691 2113 \n",
       "L 5691 0 \n",
       "L 5113 0 \n",
       "L 5113 2094 \n",
       "Q 5113 2597 4934 2840 \n",
       "Q 4756 3084 4391 3084 \n",
       "Q 3944 3084 3684 2787 \n",
       "Q 3425 2491 3425 1978 \n",
       "L 3425 0 \n",
       "L 2847 0 \n",
       "L 2847 2094 \n",
       "Q 2847 2600 2669 2842 \n",
       "Q 2491 3084 2119 3084 \n",
       "Q 1678 3084 1418 2786 \n",
       "Q 1159 2488 1159 1978 \n",
       "L 1159 0 \n",
       "L 581 0 \n",
       "L 581 3500 \n",
       "L 1159 3500 \n",
       "L 1159 2956 \n",
       "Q 1356 3278 1631 3431 \n",
       "Q 1906 3584 2284 3584 \n",
       "Q 2666 3584 2933 3390 \n",
       "Q 3200 3197 3328 2828 \n",
       "z\n",
       "\" transform=\"scale(0.015625)\"/>\n",
       "       <path id=\"DejaVuSans-70\" d=\"M 1159 525 \n",
       "L 1159 -1331 \n",
       "L 581 -1331 \n",
       "L 581 3500 \n",
       "L 1159 3500 \n",
       "L 1159 2969 \n",
       "Q 1341 3281 1617 3432 \n",
       "Q 1894 3584 2278 3584 \n",
       "Q 2916 3584 3314 3078 \n",
       "Q 3713 2572 3713 1747 \n",
       "Q 3713 922 3314 415 \n",
       "Q 2916 -91 2278 -91 \n",
       "Q 1894 -91 1617 61 \n",
       "Q 1341 213 1159 525 \n",
       "z\n",
       "M 3116 1747 \n",
       "Q 3116 2381 2855 2742 \n",
       "Q 2594 3103 2138 3103 \n",
       "Q 1681 3103 1420 2742 \n",
       "Q 1159 2381 1159 1747 \n",
       "Q 1159 1113 1420 752 \n",
       "Q 1681 391 2138 391 \n",
       "Q 2594 391 2855 752 \n",
       "Q 3116 1113 3116 1747 \n",
       "z\n",
       "\" transform=\"scale(0.015625)\"/>\n",
       "       <path id=\"DejaVuSans-75\" d=\"M 544 1381 \n",
       "L 544 3500 \n",
       "L 1119 3500 \n",
       "L 1119 1403 \n",
       "Q 1119 906 1312 657 \n",
       "Q 1506 409 1894 409 \n",
       "Q 2359 409 2629 706 \n",
       "Q 2900 1003 2900 1516 \n",
       "L 2900 3500 \n",
       "L 3475 3500 \n",
       "L 3475 0 \n",
       "L 2900 0 \n",
       "L 2900 538 \n",
       "Q 2691 219 2414 64 \n",
       "Q 2138 -91 1772 -91 \n",
       "Q 1169 -91 856 284 \n",
       "Q 544 659 544 1381 \n",
       "z\n",
       "M 1991 3584 \n",
       "L 1991 3584 \n",
       "z\n",
       "\" transform=\"scale(0.015625)\"/>\n",
       "      </defs>\n",
       "      <use xlink:href=\"#DejaVuSans-74\"/>\n",
       "      <use xlink:href=\"#DejaVuSans-65\" x=\"39.208984\"/>\n",
       "      <use xlink:href=\"#DejaVuSans-6d\" x=\"100.732422\"/>\n",
       "      <use xlink:href=\"#DejaVuSans-70\" x=\"198.144531\"/>\n",
       "      <use xlink:href=\"#DejaVuSans-65\" x=\"261.621094\"/>\n",
       "      <use xlink:href=\"#DejaVuSans-72\" x=\"323.144531\"/>\n",
       "      <use xlink:href=\"#DejaVuSans-61\" x=\"364.257812\"/>\n",
       "      <use xlink:href=\"#DejaVuSans-74\" x=\"425.537109\"/>\n",
       "      <use xlink:href=\"#DejaVuSans-75\" x=\"464.746094\"/>\n",
       "      <use xlink:href=\"#DejaVuSans-72\" x=\"528.125\"/>\n",
       "      <use xlink:href=\"#DejaVuSans-65\" x=\"566.988281\"/>\n",
       "     </g>\n",
       "    </g>\n",
       "   </g>\n",
       "   <g id=\"line2d_23\">\n",
       "    <path d=\"M 55.796077 250.213466 \n",
       "L 257.257987 234.223257 \n",
       "L 297.550369 186.252628 \n",
       "L 378.135133 122.291791 \n",
       "L 415.204125 74.321162 \n",
       "L 418.290521 26.350534 \n",
       "\" clip-path=\"url(#p1b8027f7cc)\" style=\"fill: none; stroke: #009afa\"/>\n",
       "   </g>\n",
       "   <g id=\"PathCollection_1\">\n",
       "    <defs>\n",
       "     <path id=\"mece1b9c523\" d=\"M 0 2 \n",
       "C 0.530406 2 1.03916 1.789267 1.414214 1.414214 \n",
       "C 1.789267 1.03916 2 0.530406 2 0 \n",
       "C 2 -0.530406 1.789267 -1.03916 1.414214 -1.414214 \n",
       "C 1.03916 -1.789267 0.530406 -2 0 -2 \n",
       "C -0.530406 -2 -1.03916 -1.789267 -1.414214 -1.414214 \n",
       "C -1.789267 -1.03916 -2 -0.530406 -2 0 \n",
       "C -2 0.530406 -1.789267 1.03916 -1.414214 1.414214 \n",
       "C -1.03916 1.789267 -0.530406 2 0 2 \n",
       "z\n",
       "\" style=\"stroke: #000000\"/>\n",
       "    </defs>\n",
       "    <g clip-path=\"url(#p1b8027f7cc)\">\n",
       "     <use xlink:href=\"#mece1b9c523\" x=\"55.796077\" y=\"250.213466\" style=\"fill: #e36f47; stroke: #000000\"/>\n",
       "     <use xlink:href=\"#mece1b9c523\" x=\"257.257987\" y=\"234.223257\" style=\"fill: #e36f47; stroke: #000000\"/>\n",
       "     <use xlink:href=\"#mece1b9c523\" x=\"297.550369\" y=\"186.252628\" style=\"fill: #e36f47; stroke: #000000\"/>\n",
       "     <use xlink:href=\"#mece1b9c523\" x=\"378.135133\" y=\"122.291791\" style=\"fill: #e36f47; stroke: #000000\"/>\n",
       "     <use xlink:href=\"#mece1b9c523\" x=\"415.204125\" y=\"74.321162\" style=\"fill: #e36f47; stroke: #000000\"/>\n",
       "     <use xlink:href=\"#mece1b9c523\" x=\"418.290521\" y=\"26.350534\" style=\"fill: #e36f47; stroke: #000000\"/>\n",
       "    </g>\n",
       "   </g>\n",
       "   <g id=\"patch_3\">\n",
       "    <path d=\"M 44.921244 256.929354 \n",
       "L 44.921244 19.634646 \n",
       "\" style=\"fill: none; stroke: #000000; stroke-linejoin: miter; stroke-linecap: square\"/>\n",
       "   </g>\n",
       "   <g id=\"patch_4\">\n",
       "    <path d=\"M 44.921244 256.929354 \n",
       "L 429.165354 256.929354 \n",
       "\" style=\"fill: none; stroke: #000000; stroke-linejoin: miter; stroke-linecap: square\"/>\n",
       "   </g>\n",
       "   <g id=\"text_14\">\n",
       "    <!-- titulo -->\n",
       "    <g transform=\"translate(218.946111 13.634646) scale(0.14 -0.14)\">\n",
       "     <defs>\n",
       "      <path id=\"DejaVuSans-6c\" d=\"M 603 4863 \n",
       "L 1178 4863 \n",
       "L 1178 0 \n",
       "L 603 0 \n",
       "L 603 4863 \n",
       "z\n",
       "\" transform=\"scale(0.015625)\"/>\n",
       "      <path id=\"DejaVuSans-6f\" d=\"M 1959 3097 \n",
       "Q 1497 3097 1228 2736 \n",
       "Q 959 2375 959 1747 \n",
       "Q 959 1119 1226 758 \n",
       "Q 1494 397 1959 397 \n",
       "Q 2419 397 2687 759 \n",
       "Q 2956 1122 2956 1747 \n",
       "Q 2956 2369 2687 2733 \n",
       "Q 2419 3097 1959 3097 \n",
       "z\n",
       "M 1959 3584 \n",
       "Q 2709 3584 3137 3096 \n",
       "Q 3566 2609 3566 1747 \n",
       "Q 3566 888 3137 398 \n",
       "Q 2709 -91 1959 -91 \n",
       "Q 1206 -91 779 398 \n",
       "Q 353 888 353 1747 \n",
       "Q 353 2609 779 3096 \n",
       "Q 1206 3584 1959 3584 \n",
       "z\n",
       "\" transform=\"scale(0.015625)\"/>\n",
       "     </defs>\n",
       "     <use xlink:href=\"#DejaVuSans-74\"/>\n",
       "     <use xlink:href=\"#DejaVuSans-69\" x=\"39.208984\"/>\n",
       "     <use xlink:href=\"#DejaVuSans-74\" x=\"66.992188\"/>\n",
       "     <use xlink:href=\"#DejaVuSans-75\" x=\"106.201172\"/>\n",
       "     <use xlink:href=\"#DejaVuSans-6c\" x=\"169.580078\"/>\n",
       "     <use xlink:href=\"#DejaVuSans-6f\" x=\"197.363281\"/>\n",
       "    </g>\n",
       "   </g>\n",
       "   <g id=\"legend_1\">\n",
       "    <g id=\"patch_5\">\n",
       "     <path d=\"M 365.395354 55.919646 \n",
       "L 425.165354 55.919646 \n",
       "L 425.165354 23.634646 \n",
       "L 365.395354 23.634646 \n",
       "z\n",
       "\" style=\"fill: #ffffff; stroke: #000000; stroke-linejoin: miter\"/>\n",
       "    </g>\n",
       "    <g id=\"line2d_24\">\n",
       "     <path d=\"M 371.795354 33.313396 \n",
       "L 379.795354 33.313396 \n",
       "L 387.795354 33.313396 \n",
       "\" style=\"fill: none; stroke: #009afa; stroke-linejoin: miter\"/>\n",
       "    </g>\n",
       "    <g id=\"text_15\">\n",
       "     <!-- line -->\n",
       "     <g transform=\"translate(394.195354 36.113396) scale(0.08 -0.08)\">\n",
       "      <defs>\n",
       "       <path id=\"DejaVuSans-6e\" d=\"M 3513 2113 \n",
       "L 3513 0 \n",
       "L 2938 0 \n",
       "L 2938 2094 \n",
       "Q 2938 2591 2744 2837 \n",
       "Q 2550 3084 2163 3084 \n",
       "Q 1697 3084 1428 2787 \n",
       "Q 1159 2491 1159 1978 \n",
       "L 1159 0 \n",
       "L 581 0 \n",
       "L 581 3500 \n",
       "L 1159 3500 \n",
       "L 1159 2956 \n",
       "Q 1366 3272 1645 3428 \n",
       "Q 1925 3584 2291 3584 \n",
       "Q 2894 3584 3203 3211 \n",
       "Q 3513 2838 3513 2113 \n",
       "z\n",
       "\" transform=\"scale(0.015625)\"/>\n",
       "      </defs>\n",
       "      <use xlink:href=\"#DejaVuSans-6c\"/>\n",
       "      <use xlink:href=\"#DejaVuSans-69\" x=\"27.783203\"/>\n",
       "      <use xlink:href=\"#DejaVuSans-6e\" x=\"55.566406\"/>\n",
       "      <use xlink:href=\"#DejaVuSans-65\" x=\"118.945312\"/>\n",
       "     </g>\n",
       "    </g>\n",
       "    <g id=\"line2d_25\">\n",
       "     <path d=\"M 371.795354 45.055896 \n",
       "L 379.795354 45.055896 \n",
       "L 387.795354 45.055896 \n",
       "\" style=\"fill: none\"/>\n",
       "     <defs>\n",
       "      <path id=\"m399cec72c8\" d=\"M 0 3.2 \n",
       "C 0.84865 3.2 1.662656 2.862828 2.262742 2.262742 \n",
       "C 2.862828 1.662656 3.2 0.84865 3.2 0 \n",
       "C 3.2 -0.84865 2.862828 -1.662656 2.262742 -2.262742 \n",
       "C 1.662656 -2.862828 0.84865 -3.2 0 -3.2 \n",
       "C -0.84865 -3.2 -1.662656 -2.862828 -2.262742 -2.262742 \n",
       "C -2.862828 -1.662656 -3.2 -0.84865 -3.2 0 \n",
       "C -3.2 0.84865 -2.862828 1.662656 -2.262742 2.262742 \n",
       "C -1.662656 2.862828 -0.84865 3.2 0 3.2 \n",
       "z\n",
       "\" style=\"stroke: #000000; stroke-width: 1.6\"/>\n",
       "     </defs>\n",
       "     <g>\n",
       "      <use xlink:href=\"#m399cec72c8\" x=\"379.795354\" y=\"45.055896\" style=\"fill: #e36f47; stroke: #000000; stroke-width: 1.6\"/>\n",
       "     </g>\n",
       "    </g>\n",
       "    <g id=\"text_16\">\n",
       "     <!-- points -->\n",
       "     <g transform=\"translate(394.195354 47.855896) scale(0.08 -0.08)\">\n",
       "      <use xlink:href=\"#DejaVuSans-70\"/>\n",
       "      <use xlink:href=\"#DejaVuSans-6f\" x=\"63.476562\"/>\n",
       "      <use xlink:href=\"#DejaVuSans-69\" x=\"124.658203\"/>\n",
       "      <use xlink:href=\"#DejaVuSans-6e\" x=\"152.441406\"/>\n",
       "      <use xlink:href=\"#DejaVuSans-74\" x=\"215.820312\"/>\n",
       "      <use xlink:href=\"#DejaVuSans-73\" x=\"255.029297\"/>\n",
       "     </g>\n",
       "    </g>\n",
       "   </g>\n",
       "  </g>\n",
       " </g>\n",
       " <defs>\n",
       "  <clipPath id=\"p1b8027f7cc\">\n",
       "   <rect x=\"44.921244\" y=\"19.634646\" width=\"384.244111\" height=\"237.294709\"/>\n",
       "  </clipPath>\n",
       " </defs>\n",
       "</svg>\n"
      ],
      "text/html": [
       "<img src=\"data:image/png;base64,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\" />"
      ]
     },
     "metadata": {},
     "output_type": "display_data"
    },
    {
     "name": "stderr",
     "output_type": "stream",
     "text": [
      "sys:1: UserWarning: No data for colormapping provided via 'c'. Parameters 'vmin', 'vmax' will be ignored\n"
     ]
    }
   ],
   "source": [
    "plot(pirates, temp, label=\"line\")\n",
    "scatter!(pirates, temp, label=\"points\")\n",
    "xlabel!(\"Pirates\")\n",
    "ylabel!(\"temperature\")\n",
    "title!(\"titulo\")\n",
    "xflip!()"
   ]
  },
  {
   "cell_type": "code",
   "execution_count": 10,
   "metadata": {},
   "outputs": [
    {
     "data": {
      "text/plain": [
       "\u0000         \u001b[38;5;8m┌────────────────────────────────────────┐\u001b[0m          \u001b[38;5;8m┌────────────────────────────────────────┐\u001b[0m    \n",
       "\u0000    \u001b[38;5;8m10.6\u001b[0m \u001b[38;5;8m│\u001b[0m⠀⠀⠀⠀⠀⠀⠀⠀⠀⠀⠀⠀⠀⠀⠀⠀⠀⠀⠀⠀⡇⠀⠀⠀⠀⠀⠀⠀⠀⠀⠀⠀⠀⠀⠀⠀⠀\u001b[38;5;33m⣀\u001b[0m\u001b[38;5;33m⠔\u001b[0m⠀\u001b[38;5;8m│\u001b[0m \u001b[38;5;8m\u001b[0m     \u001b[38;5;8m103\u001b[0m \u001b[38;5;8m│\u001b[0m⠀\u001b[38;5;33m⣆\u001b[0m⠀⠀⠀⠀⠀⠀⠀⠀⠀⠀⠀⠀⠀⠀⠀⠀⠀⠀⡇⠀⠀⠀⠀⠀⠀⠀⠀⠀⠀⠀⠀⠀⠀⠀⠀⠀\u001b[38;5;33m⡰\u001b[0m⠀\u001b[38;5;8m│\u001b[0m \u001b[38;5;8m\u001b[0m   \n",
       "\u0000        \u001b[38;5;8m\u001b[0m \u001b[38;5;8m│\u001b[0m⠀⠀⠀⠀⠀⠀⠀⠀⠀⠀⠀⠀⠀⠀⠀⠀⠀⠀⠀⠀⡇⠀⠀⠀⠀⠀⠀⠀⠀⠀⠀⠀⠀⠀\u001b[38;5;33m⢀\u001b[0m\u001b[38;5;33m⡤\u001b[0m\u001b[38;5;33m⠚\u001b[0m\u001b[38;5;33m⠁\u001b[0m⠀⠀\u001b[38;5;8m│\u001b[0m \u001b[38;5;8m\u001b[0m        \u001b[38;5;8m\u001b[0m \u001b[38;5;8m│\u001b[0m⠀\u001b[38;5;33m⠸\u001b[0m\u001b[38;5;33m⡀\u001b[0m⠀⠀⠀⠀⠀⠀⠀⠀⠀⠀⠀⠀⠀⠀⠀⠀⠀⡇⠀⠀⠀⠀⠀⠀⠀⠀⠀⠀⠀⠀⠀⠀⠀⠀\u001b[38;5;33m⢀\u001b[0m\u001b[38;5;33m⠇\u001b[0m⠀\u001b[38;5;8m│\u001b[0m \u001b[38;5;8m\u001b[0m   \n",
       "\u0000        \u001b[38;5;8m\u001b[0m \u001b[38;5;8m│\u001b[0m⠀⠀⠀⠀⠀⠀⠀⠀⠀⠀⠀⠀⠀⠀⠀⠀⠀⠀⠀⠀⡇⠀⠀⠀⠀⠀⠀⠀⠀⠀⠀⠀\u001b[38;5;33m⣠\u001b[0m\u001b[38;5;33m⠖\u001b[0m\u001b[38;5;33m⠉\u001b[0m⠀⠀⠀⠀⠀\u001b[38;5;8m│\u001b[0m \u001b[38;5;8m\u001b[0m        \u001b[38;5;8m\u001b[0m \u001b[38;5;8m│\u001b[0m⠀⠀\u001b[38;5;33m⢣\u001b[0m⠀⠀⠀⠀⠀⠀⠀⠀⠀⠀⠀⠀⠀⠀⠀⠀⠀⡇⠀⠀⠀⠀⠀⠀⠀⠀⠀⠀⠀⠀⠀⠀⠀⠀\u001b[38;5;33m⡜\u001b[0m⠀⠀\u001b[38;5;8m│\u001b[0m \u001b[38;5;8m\u001b[0m   \n",
       "\u0000        \u001b[38;5;8m\u001b[0m \u001b[38;5;8m│\u001b[0m⠀⠀⠀⠀⠀⠀⠀⠀⠀⠀⠀⠀⠀⠀⠀⠀⠀⠀⠀⠀⡇⠀⠀⠀⠀⠀⠀⠀⠀\u001b[38;5;33m⣀\u001b[0m\u001b[38;5;33m⡴\u001b[0m\u001b[38;5;33m⠊\u001b[0m⠀⠀⠀⠀⠀⠀⠀⠀\u001b[38;5;8m│\u001b[0m \u001b[38;5;8m\u001b[0m        \u001b[38;5;8m\u001b[0m \u001b[38;5;8m│\u001b[0m⠀⠀⠀\u001b[38;5;33m⢇\u001b[0m⠀⠀⠀⠀⠀⠀⠀⠀⠀⠀⠀⠀⠀⠀⠀⠀⡇⠀⠀⠀⠀⠀⠀⠀⠀⠀⠀⠀⠀⠀⠀⠀\u001b[38;5;33m⡸\u001b[0m⠀⠀⠀\u001b[38;5;8m│\u001b[0m \u001b[38;5;8m\u001b[0m   \n",
       "\u0000        \u001b[38;5;8m\u001b[0m \u001b[38;5;8m│\u001b[0m⠀⠀⠀⠀⠀⠀⠀⠀⠀⠀⠀⠀⠀⠀⠀⠀⠀⠀⠀⠀⡇⠀⠀⠀⠀⠀\u001b[38;5;33m⢀\u001b[0m\u001b[38;5;33m⡤\u001b[0m\u001b[38;5;33m⠊\u001b[0m\u001b[38;5;33m⠁\u001b[0m⠀⠀⠀⠀⠀⠀⠀⠀⠀⠀\u001b[38;5;8m│\u001b[0m \u001b[38;5;8m\u001b[0m        \u001b[38;5;8m\u001b[0m \u001b[38;5;8m│\u001b[0m⠀⠀⠀\u001b[38;5;33m⠘\u001b[0m\u001b[38;5;33m⡄\u001b[0m⠀⠀⠀⠀⠀⠀⠀⠀⠀⠀⠀⠀⠀⠀⠀⡇⠀⠀⠀⠀⠀⠀⠀⠀⠀⠀⠀⠀⠀⠀\u001b[38;5;33m⢠\u001b[0m\u001b[38;5;33m⠃\u001b[0m⠀⠀⠀\u001b[38;5;8m│\u001b[0m \u001b[38;5;8m\u001b[0m   \n",
       "\u0000        \u001b[38;5;8m\u001b[0m \u001b[38;5;8m│\u001b[0m⠀⠀⠀⠀⠀⠀⠀⠀⠀⠀⠀⠀⠀⠀⠀⠀⠀⠀⠀⠀⡇⠀⠀⠀\u001b[38;5;33m⣠\u001b[0m\u001b[38;5;33m⠖\u001b[0m\u001b[38;5;33m⠉\u001b[0m⠀⠀⠀⠀⠀⠀⠀⠀⠀⠀⠀⠀⠀\u001b[38;5;8m│\u001b[0m \u001b[38;5;8m\u001b[0m        \u001b[38;5;8m\u001b[0m \u001b[38;5;8m│\u001b[0m⠀⠀⠀⠀\u001b[38;5;33m⠸\u001b[0m\u001b[38;5;33m⡄\u001b[0m⠀⠀⠀⠀⠀⠀⠀⠀⠀⠀⠀⠀⠀⠀⡇⠀⠀⠀⠀⠀⠀⠀⠀⠀⠀⠀⠀⠀\u001b[38;5;33m⢠\u001b[0m\u001b[38;5;33m⠇\u001b[0m⠀⠀⠀⠀\u001b[38;5;8m│\u001b[0m \u001b[38;5;8m\u001b[0m   \n",
       "\u0000        \u001b[38;5;8m\u001b[0m \u001b[38;5;8m│\u001b[0m⠀⠀⠀⠀⠀⠀⠀⠀⠀⠀⠀⠀⠀⠀⠀⠀⠀⠀⠀⠀⡇\u001b[38;5;33m⢀\u001b[0m\u001b[38;5;33m⠴\u001b[0m\u001b[38;5;33m⠋\u001b[0m⠀⠀⠀⠀⠀⠀⠀⠀⠀⠀⠀⠀⠀⠀⠀⠀\u001b[38;5;8m│\u001b[0m \u001b[38;5;8m\u001b[0m        \u001b[38;5;8m\u001b[0m \u001b[38;5;8m│\u001b[0m⠀⠀⠀⠀⠀\u001b[38;5;33m⠱\u001b[0m\u001b[38;5;33m⡀\u001b[0m⠀⠀⠀⠀⠀⠀⠀⠀⠀⠀⠀⠀⠀⡇⠀⠀⠀⠀⠀⠀⠀⠀⠀⠀⠀⠀\u001b[38;5;33m⢀\u001b[0m\u001b[38;5;33m⠎\u001b[0m⠀⠀⠀⠀⠀\u001b[38;5;8m│\u001b[0m \u001b[38;5;8m\u001b[0m   \n",
       "\u0000        \u001b[38;5;8m\u001b[0m \u001b[38;5;8m│\u001b[0m⠤⠤⠤⠤⠤⠤⠤⠤⠤⠤⠤⠤⠤⠤⠤⠤⠤⠤\u001b[38;5;33m⢤\u001b[0m\u001b[38;5;33m⡤\u001b[0m\u001b[38;5;33m⡿\u001b[0m\u001b[38;5;33m⠥\u001b[0m⠤⠤⠤⠤⠤⠤⠤⠤⠤⠤⠤⠤⠤⠤⠤⠤⠤⠤\u001b[38;5;8m│\u001b[0m \u001b[38;5;8m\u001b[0m        \u001b[38;5;8m\u001b[0m \u001b[38;5;8m│\u001b[0m⠀⠀⠀⠀⠀⠀\u001b[38;5;33m⢱\u001b[0m⠀⠀⠀⠀⠀⠀⠀⠀⠀⠀⠀⠀⠀⡇⠀⠀⠀⠀⠀⠀⠀⠀⠀⠀⠀⠀\u001b[38;5;33m⡎\u001b[0m⠀⠀⠀⠀⠀⠀\u001b[38;5;8m│\u001b[0m \u001b[38;5;8m\u001b[0m   \n",
       "\u0000        \u001b[38;5;8m\u001b[0m \u001b[38;5;8m│\u001b[0m⠀⠀⠀⠀⠀⠀⠀⠀⠀⠀⠀⠀⠀⠀⠀⠀\u001b[38;5;33m⣠\u001b[0m\u001b[38;5;33m⠖\u001b[0m\u001b[38;5;33m⠁\u001b[0m⠀⡇⠀⠀⠀⠀⠀⠀⠀⠀⠀⠀⠀⠀⠀⠀⠀⠀⠀⠀⠀\u001b[38;5;8m│\u001b[0m \u001b[38;5;8m\u001b[0m        \u001b[38;5;8m\u001b[0m \u001b[38;5;8m│\u001b[0m⠀⠀⠀⠀⠀⠀⠀\u001b[38;5;33m⢱\u001b[0m\u001b[38;5;33m⡀\u001b[0m⠀⠀⠀⠀⠀⠀⠀⠀⠀⠀⠀⡇⠀⠀⠀⠀⠀⠀⠀⠀⠀⠀\u001b[38;5;33m⢀\u001b[0m\u001b[38;5;33m⡎\u001b[0m⠀⠀⠀⠀⠀⠀⠀\u001b[38;5;8m│\u001b[0m \u001b[38;5;8m\u001b[0m   \n",
       "\u0000        \u001b[38;5;8m\u001b[0m \u001b[38;5;8m│\u001b[0m⠀⠀⠀⠀⠀⠀⠀⠀⠀⠀⠀⠀⠀\u001b[38;5;33m⣀\u001b[0m\u001b[38;5;33m⠴\u001b[0m\u001b[38;5;33m⠋\u001b[0m⠀⠀⠀⠀⡇⠀⠀⠀⠀⠀⠀⠀⠀⠀⠀⠀⠀⠀⠀⠀⠀⠀⠀⠀\u001b[38;5;8m│\u001b[0m \u001b[38;5;8m\u001b[0m        \u001b[38;5;8m\u001b[0m \u001b[38;5;8m│\u001b[0m⠀⠀⠀⠀⠀⠀⠀⠀\u001b[38;5;33m⠳\u001b[0m\u001b[38;5;33m⡀\u001b[0m⠀⠀⠀⠀⠀⠀⠀⠀⠀⠀⡇⠀⠀⠀⠀⠀⠀⠀⠀⠀\u001b[38;5;33m⢀\u001b[0m\u001b[38;5;33m⠞\u001b[0m⠀⠀⠀⠀⠀⠀⠀⠀\u001b[38;5;8m│\u001b[0m \u001b[38;5;8m\u001b[0m   \n",
       "\u0000        \u001b[38;5;8m\u001b[0m \u001b[38;5;8m│\u001b[0m⠀⠀⠀⠀⠀⠀⠀⠀⠀⠀\u001b[38;5;33m⢀\u001b[0m\u001b[38;5;33m⡠\u001b[0m\u001b[38;5;33m⠚\u001b[0m\u001b[38;5;33m⠁\u001b[0m⠀⠀⠀⠀⠀⠀⡇⠀⠀⠀⠀⠀⠀⠀⠀⠀⠀⠀⠀⠀⠀⠀⠀⠀⠀⠀\u001b[38;5;8m│\u001b[0m \u001b[38;5;8m\u001b[0m        \u001b[38;5;8m\u001b[0m \u001b[38;5;8m│\u001b[0m⠀⠀⠀⠀⠀⠀⠀⠀⠀\u001b[38;5;33m⠑\u001b[0m\u001b[38;5;33m⡄\u001b[0m⠀⠀⠀⠀⠀⠀⠀⠀⠀⡇⠀⠀⠀⠀⠀⠀⠀⠀\u001b[38;5;33m⢠\u001b[0m\u001b[38;5;33m⠎\u001b[0m⠀⠀⠀⠀⠀⠀⠀⠀⠀\u001b[38;5;8m│\u001b[0m \u001b[38;5;8m\u001b[0m   \n",
       "\u0000        \u001b[38;5;8m\u001b[0m \u001b[38;5;8m│\u001b[0m⠀⠀⠀⠀⠀⠀⠀⠀\u001b[38;5;33m⡠\u001b[0m\u001b[38;5;33m⠖\u001b[0m\u001b[38;5;33m⠋\u001b[0m⠀⠀⠀⠀⠀⠀⠀⠀⠀⡇⠀⠀⠀⠀⠀⠀⠀⠀⠀⠀⠀⠀⠀⠀⠀⠀⠀⠀⠀\u001b[38;5;8m│\u001b[0m \u001b[38;5;8m\u001b[0m        \u001b[38;5;8m\u001b[0m \u001b[38;5;8m│\u001b[0m⠀⠀⠀⠀⠀⠀⠀⠀⠀⠀\u001b[38;5;33m⠘\u001b[0m\u001b[38;5;33m⢦\u001b[0m⠀⠀⠀⠀⠀⠀⠀⠀⡇⠀⠀⠀⠀⠀⠀⠀\u001b[38;5;33m⡴\u001b[0m\u001b[38;5;33m⠃\u001b[0m⠀⠀⠀⠀⠀⠀⠀⠀⠀⠀\u001b[38;5;8m│\u001b[0m \u001b[38;5;8m\u001b[0m   \n",
       "\u0000        \u001b[38;5;8m\u001b[0m \u001b[38;5;8m│\u001b[0m⠀⠀⠀⠀⠀\u001b[38;5;33m⣀\u001b[0m\u001b[38;5;33m⠴\u001b[0m\u001b[38;5;33m⠋\u001b[0m⠀⠀⠀⠀⠀⠀⠀⠀⠀⠀⠀⠀⡇⠀⠀⠀⠀⠀⠀⠀⠀⠀⠀⠀⠀⠀⠀⠀⠀⠀⠀⠀\u001b[38;5;8m│\u001b[0m \u001b[38;5;8m\u001b[0m        \u001b[38;5;8m\u001b[0m \u001b[38;5;8m│\u001b[0m⠀⠀⠀⠀⠀⠀⠀⠀⠀⠀⠀⠀\u001b[38;5;33m⠳\u001b[0m\u001b[38;5;33m⣄\u001b[0m⠀⠀⠀⠀⠀⠀⡇⠀⠀⠀⠀⠀\u001b[38;5;33m⣠\u001b[0m\u001b[38;5;33m⠞\u001b[0m⠀⠀⠀⠀⠀⠀⠀⠀⠀⠀⠀⠀\u001b[38;5;8m│\u001b[0m \u001b[38;5;8m\u001b[0m   \n",
       "\u0000        \u001b[38;5;8m\u001b[0m \u001b[38;5;8m│\u001b[0m⠀⠀\u001b[38;5;33m⢀\u001b[0m\u001b[38;5;33m⡤\u001b[0m\u001b[38;5;33m⠚\u001b[0m\u001b[38;5;33m⠁\u001b[0m⠀⠀⠀⠀⠀⠀⠀⠀⠀⠀⠀⠀⠀⠀⡇⠀⠀⠀⠀⠀⠀⠀⠀⠀⠀⠀⠀⠀⠀⠀⠀⠀⠀⠀\u001b[38;5;8m│\u001b[0m \u001b[38;5;8m\u001b[0m        \u001b[38;5;8m\u001b[0m \u001b[38;5;8m│\u001b[0m⠀⠀⠀⠀⠀⠀⠀⠀⠀⠀⠀⠀⠀\u001b[38;5;33m⠈\u001b[0m\u001b[38;5;33m⠳\u001b[0m\u001b[38;5;33m⣄\u001b[0m\u001b[38;5;33m⡀\u001b[0m⠀⠀⠀⡇⠀⠀\u001b[38;5;33m⢀\u001b[0m\u001b[38;5;33m⣠\u001b[0m\u001b[38;5;33m⠞\u001b[0m\u001b[38;5;33m⠁\u001b[0m⠀⠀⠀⠀⠀⠀⠀⠀⠀⠀⠀⠀⠀\u001b[38;5;8m│\u001b[0m \u001b[38;5;8m\u001b[0m   \n",
       "\u0000   \u001b[38;5;8m-10.6\u001b[0m \u001b[38;5;8m│\u001b[0m⠀\u001b[38;5;33m⠔\u001b[0m\u001b[38;5;33m⠉\u001b[0m⠀⠀⠀⠀⠀⠀⠀⠀⠀⠀⠀⠀⠀⠀⠀⠀⠀⡇⠀⠀⠀⠀⠀⠀⠀⠀⠀⠀⠀⠀⠀⠀⠀⠀⠀⠀⠀\u001b[38;5;8m│\u001b[0m \u001b[38;5;8m\u001b[0m      \u001b[38;5;8m-3\u001b[0m \u001b[38;5;8m│\u001b[0m⠤⠤⠤⠤⠤⠤⠤⠤⠤⠤⠤⠤⠤⠤⠤⠤\u001b[38;5;33m⠭\u001b[0m\u001b[38;5;33m⠶\u001b[0m\u001b[38;5;33m⠦\u001b[0m\u001b[38;5;33m⠤\u001b[0m\u001b[38;5;33m⡧\u001b[0m\u001b[38;5;33m⠴\u001b[0m\u001b[38;5;33m⠶\u001b[0m\u001b[38;5;33m⠭\u001b[0m⠤⠤⠤⠤⠤⠤⠤⠤⠤⠤⠤⠤⠤⠤⠤⠤\u001b[38;5;8m│\u001b[0m \u001b[38;5;8m\u001b[0m   \n",
       "\u0000         \u001b[38;5;8m└────────────────────────────────────────┘\u001b[0m          \u001b[38;5;8m└────────────────────────────────────────┘\u001b[0m    \n",
       "\u0000         ⠀\u001b[38;5;8m-10.6\u001b[0m⠀⠀⠀⠀⠀⠀⠀⠀⠀⠀⠀⠀⠀⠀\u001b[38;5;8m\u001b[0m⠀⠀⠀⠀⠀⠀⠀⠀⠀⠀⠀⠀⠀⠀⠀⠀⠀\u001b[38;5;8m10.6\u001b[0m⠀          ⠀\u001b[38;5;8m-10.6\u001b[0m⠀⠀⠀⠀⠀⠀⠀⠀⠀⠀⠀⠀⠀⠀\u001b[38;5;8m\u001b[0m⠀⠀⠀⠀⠀⠀⠀⠀⠀⠀⠀⠀⠀⠀⠀⠀⠀\u001b[38;5;8m10.6\u001b[0m⠀    \n",
       "\u0000          \u001b[38;5;8m┌────────────────────────────────────────┐\u001b[0m            \u001b[38;5;8m┌────────────────────────────────────────┐\u001b[0m \n",
       "\u0000    \u001b[38;5;8m1 060\u001b[0m \u001b[38;5;8m│\u001b[0m⠀⠀⠀⠀⠀⠀⠀⠀⠀⠀⠀⠀⠀⠀⠀⠀⠀⠀⠀⠀⡇⠀⠀⠀⠀⠀⠀⠀⠀⠀⠀⠀⠀⠀⠀⠀⠀⠀\u001b[38;5;33m⡠\u001b[0m⠀\u001b[38;5;8m│\u001b[0m \u001b[38;5;8m\u001b[0m    \u001b[38;5;8m10 300\u001b[0m \u001b[38;5;8m│\u001b[0m⠀\u001b[38;5;33m⡆\u001b[0m⠀⠀⠀⠀⠀⠀⠀⠀⠀⠀⠀⠀⠀⠀⠀⠀⠀⠀⡇⠀⠀⠀⠀⠀⠀⠀⠀⠀⠀⠀⠀⠀⠀⠀⠀⠀\u001b[38;5;33m⢰\u001b[0m⠀\u001b[38;5;8m│\u001b[0m \u001b[38;5;8m\u001b[0m\n",
       "\u0000         \u001b[38;5;8m\u001b[0m \u001b[38;5;8m│\u001b[0m⠀⠀⠀⠀⠀⠀⠀⠀⠀⠀⠀⠀⠀⠀⠀⠀⠀⠀⠀⠀⡇⠀⠀⠀⠀⠀⠀⠀⠀⠀⠀⠀⠀⠀⠀⠀⠀\u001b[38;5;33m⣰\u001b[0m\u001b[38;5;33m⠁\u001b[0m⠀\u001b[38;5;8m│\u001b[0m \u001b[38;5;8m\u001b[0m          \u001b[38;5;8m\u001b[0m \u001b[38;5;8m│\u001b[0m⠀\u001b[38;5;33m⢣\u001b[0m⠀⠀⠀⠀⠀⠀⠀⠀⠀⠀⠀⠀⠀⠀⠀⠀⠀⠀⡇⠀⠀⠀⠀⠀⠀⠀⠀⠀⠀⠀⠀⠀⠀⠀⠀⠀\u001b[38;5;33m⡜\u001b[0m⠀\u001b[38;5;8m│\u001b[0m \u001b[38;5;8m\u001b[0m\n",
       "\u0000         \u001b[38;5;8m\u001b[0m \u001b[38;5;8m│\u001b[0m⠀⠀⠀⠀⠀⠀⠀⠀⠀⠀⠀⠀⠀⠀⠀⠀⠀⠀⠀⠀⡇⠀⠀⠀⠀⠀⠀⠀⠀⠀⠀⠀⠀⠀⠀⠀\u001b[38;5;33m⡰\u001b[0m\u001b[38;5;33m⠁\u001b[0m⠀⠀\u001b[38;5;8m│\u001b[0m \u001b[38;5;8m\u001b[0m          \u001b[38;5;8m\u001b[0m \u001b[38;5;8m│\u001b[0m⠀\u001b[38;5;33m⢸\u001b[0m⠀⠀⠀⠀⠀⠀⠀⠀⠀⠀⠀⠀⠀⠀⠀⠀⠀⠀⡇⠀⠀⠀⠀⠀⠀⠀⠀⠀⠀⠀⠀⠀⠀⠀⠀⠀\u001b[38;5;33m⡇\u001b[0m⠀\u001b[38;5;8m│\u001b[0m \u001b[38;5;8m\u001b[0m\n",
       "\u0000         \u001b[38;5;8m\u001b[0m \u001b[38;5;8m│\u001b[0m⠀⠀⠀⠀⠀⠀⠀⠀⠀⠀⠀⠀⠀⠀⠀⠀⠀⠀⠀⠀⡇⠀⠀⠀⠀⠀⠀⠀⠀⠀⠀⠀⠀⠀⠀\u001b[38;5;33m⡔\u001b[0m\u001b[38;5;33m⠁\u001b[0m⠀⠀⠀\u001b[38;5;8m│\u001b[0m \u001b[38;5;8m\u001b[0m          \u001b[38;5;8m\u001b[0m \u001b[38;5;8m│\u001b[0m⠀⠀\u001b[38;5;33m⡇\u001b[0m⠀⠀⠀⠀⠀⠀⠀⠀⠀⠀⠀⠀⠀⠀⠀⠀⠀⡇⠀⠀⠀⠀⠀⠀⠀⠀⠀⠀⠀⠀⠀⠀⠀⠀\u001b[38;5;33m⢸\u001b[0m⠀⠀\u001b[38;5;8m│\u001b[0m \u001b[38;5;8m\u001b[0m\n",
       "\u0000         \u001b[38;5;8m\u001b[0m \u001b[38;5;8m│\u001b[0m⠀⠀⠀⠀⠀⠀⠀⠀⠀⠀⠀⠀⠀⠀⠀⠀⠀⠀⠀⠀⡇⠀⠀⠀⠀⠀⠀⠀⠀⠀⠀⠀⠀\u001b[38;5;33m⣠\u001b[0m\u001b[38;5;33m⠞\u001b[0m⠀⠀⠀⠀⠀\u001b[38;5;8m│\u001b[0m \u001b[38;5;8m\u001b[0m          \u001b[38;5;8m\u001b[0m \u001b[38;5;8m│\u001b[0m⠀⠀\u001b[38;5;33m⢸\u001b[0m⠀⠀⠀⠀⠀⠀⠀⠀⠀⠀⠀⠀⠀⠀⠀⠀⠀⡇⠀⠀⠀⠀⠀⠀⠀⠀⠀⠀⠀⠀⠀⠀⠀⠀\u001b[38;5;33m⡇\u001b[0m⠀⠀\u001b[38;5;8m│\u001b[0m \u001b[38;5;8m\u001b[0m\n",
       "\u0000         \u001b[38;5;8m\u001b[0m \u001b[38;5;8m│\u001b[0m⠀⠀⠀⠀⠀⠀⠀⠀⠀⠀⠀⠀⠀⠀⠀⠀⠀⠀⠀⠀⡇⠀⠀⠀⠀⠀⠀⠀⠀⠀⠀\u001b[38;5;33m⣠\u001b[0m\u001b[38;5;33m⠖\u001b[0m\u001b[38;5;33m⠁\u001b[0m⠀⠀⠀⠀⠀⠀\u001b[38;5;8m│\u001b[0m \u001b[38;5;8m\u001b[0m          \u001b[38;5;8m\u001b[0m \u001b[38;5;8m│\u001b[0m⠀⠀\u001b[38;5;33m⠈\u001b[0m\u001b[38;5;33m⡆\u001b[0m⠀⠀⠀⠀⠀⠀⠀⠀⠀⠀⠀⠀⠀⠀⠀⠀⡇⠀⠀⠀⠀⠀⠀⠀⠀⠀⠀⠀⠀⠀⠀⠀\u001b[38;5;33m⢰\u001b[0m\u001b[38;5;33m⠁\u001b[0m⠀⠀\u001b[38;5;8m│\u001b[0m \u001b[38;5;8m\u001b[0m\n",
       "\u0000         \u001b[38;5;8m\u001b[0m \u001b[38;5;8m│\u001b[0m⠀⠀⠀⠀⠀⠀⠀⠀⠀⠀⠀⠀⠀⠀⠀⠀⠀⠀⠀⠀⡇⠀⠀⠀⠀⠀⠀\u001b[38;5;33m⢀\u001b[0m\u001b[38;5;33m⣀\u001b[0m\u001b[38;5;33m⠤\u001b[0m\u001b[38;5;33m⠚\u001b[0m\u001b[38;5;33m⠁\u001b[0m⠀⠀⠀⠀⠀⠀⠀⠀\u001b[38;5;8m│\u001b[0m \u001b[38;5;8m\u001b[0m          \u001b[38;5;8m\u001b[0m \u001b[38;5;8m│\u001b[0m⠀⠀⠀\u001b[38;5;33m⢱\u001b[0m⠀⠀⠀⠀⠀⠀⠀⠀⠀⠀⠀⠀⠀⠀⠀⠀⡇⠀⠀⠀⠀⠀⠀⠀⠀⠀⠀⠀⠀⠀⠀⠀\u001b[38;5;33m⡎\u001b[0m⠀⠀⠀\u001b[38;5;8m│\u001b[0m \u001b[38;5;8m\u001b[0m\n",
       "\u0000         \u001b[38;5;8m\u001b[0m \u001b[38;5;8m│\u001b[0m⠤⠤⠤⠤⠤⠤⠤⠤⠤⠤⠤⠤\u001b[38;5;33m⣤\u001b[0m\u001b[38;5;33m⣤\u001b[0m\u001b[38;5;33m⠤\u001b[0m\u001b[38;5;33m⠤\u001b[0m\u001b[38;5;33m⠤\u001b[0m\u001b[38;5;33m⠤\u001b[0m\u001b[38;5;33m⠤\u001b[0m\u001b[38;5;33m⠤\u001b[0m\u001b[38;5;33m⡷\u001b[0m\u001b[38;5;33m⠶\u001b[0m\u001b[38;5;33m⠶\u001b[0m\u001b[38;5;33m⠶\u001b[0m\u001b[38;5;33m⠶\u001b[0m\u001b[38;5;33m⠶\u001b[0m\u001b[38;5;33m⠯\u001b[0m\u001b[38;5;33m⠭\u001b[0m⠤⠤⠤⠤⠤⠤⠤⠤⠤⠤⠤⠤\u001b[38;5;8m│\u001b[0m \u001b[38;5;8m\u001b[0m          \u001b[38;5;8m\u001b[0m \u001b[38;5;8m│\u001b[0m⠀⠀⠀\u001b[38;5;33m⠈\u001b[0m\u001b[38;5;33m⡆\u001b[0m⠀⠀⠀⠀⠀⠀⠀⠀⠀⠀⠀⠀⠀⠀⠀⡇⠀⠀⠀⠀⠀⠀⠀⠀⠀⠀⠀⠀⠀⠀\u001b[38;5;33m⢰\u001b[0m\u001b[38;5;33m⠁\u001b[0m⠀⠀⠀\u001b[38;5;8m│\u001b[0m \u001b[38;5;8m\u001b[0m\n",
       "\u0000         \u001b[38;5;8m\u001b[0m \u001b[38;5;8m│\u001b[0m⠀⠀⠀⠀⠀⠀⠀⠀\u001b[38;5;33m⢀\u001b[0m\u001b[38;5;33m⡤\u001b[0m\u001b[38;5;33m⠖\u001b[0m\u001b[38;5;33m⠉\u001b[0m\u001b[38;5;33m⠁\u001b[0m⠀⠀⠀⠀⠀⠀⠀⡇⠀⠀⠀⠀⠀⠀⠀⠀⠀⠀⠀⠀⠀⠀⠀⠀⠀⠀⠀\u001b[38;5;8m│\u001b[0m \u001b[38;5;8m\u001b[0m          \u001b[38;5;8m\u001b[0m \u001b[38;5;8m│\u001b[0m⠀⠀⠀⠀\u001b[38;5;33m⢹\u001b[0m⠀⠀⠀⠀⠀⠀⠀⠀⠀⠀⠀⠀⠀⠀⠀⡇⠀⠀⠀⠀⠀⠀⠀⠀⠀⠀⠀⠀⠀⠀\u001b[38;5;33m⡇\u001b[0m⠀⠀⠀⠀\u001b[38;5;8m│\u001b[0m \u001b[38;5;8m\u001b[0m\n",
       "\u0000         \u001b[38;5;8m\u001b[0m \u001b[38;5;8m│\u001b[0m⠀⠀⠀⠀⠀⠀\u001b[38;5;33m⢀\u001b[0m\u001b[38;5;33m⠴\u001b[0m\u001b[38;5;33m⠋\u001b[0m⠀⠀⠀⠀⠀⠀⠀⠀⠀⠀⠀⡇⠀⠀⠀⠀⠀⠀⠀⠀⠀⠀⠀⠀⠀⠀⠀⠀⠀⠀⠀\u001b[38;5;8m│\u001b[0m \u001b[38;5;8m\u001b[0m          \u001b[38;5;8m\u001b[0m \u001b[38;5;8m│\u001b[0m⠀⠀⠀⠀⠀\u001b[38;5;33m⢇\u001b[0m⠀⠀⠀⠀⠀⠀⠀⠀⠀⠀⠀⠀⠀⠀⡇⠀⠀⠀⠀⠀⠀⠀⠀⠀⠀⠀⠀⠀\u001b[38;5;33m⡸\u001b[0m⠀⠀⠀⠀⠀\u001b[38;5;8m│\u001b[0m \u001b[38;5;8m\u001b[0m\n",
       "\u0000         \u001b[38;5;8m\u001b[0m \u001b[38;5;8m│\u001b[0m⠀⠀⠀⠀⠀\u001b[38;5;33m⡴\u001b[0m\u001b[38;5;33m⠋\u001b[0m⠀⠀⠀⠀⠀⠀⠀⠀⠀⠀⠀⠀⠀⡇⠀⠀⠀⠀⠀⠀⠀⠀⠀⠀⠀⠀⠀⠀⠀⠀⠀⠀⠀\u001b[38;5;8m│\u001b[0m \u001b[38;5;8m\u001b[0m          \u001b[38;5;8m\u001b[0m \u001b[38;5;8m│\u001b[0m⠀⠀⠀⠀⠀\u001b[38;5;33m⠈\u001b[0m\u001b[38;5;33m⣆\u001b[0m⠀⠀⠀⠀⠀⠀⠀⠀⠀⠀⠀⠀⠀⡇⠀⠀⠀⠀⠀⠀⠀⠀⠀⠀⠀⠀\u001b[38;5;33m⣰\u001b[0m\u001b[38;5;33m⠁\u001b[0m⠀⠀⠀⠀⠀\u001b[38;5;8m│\u001b[0m \u001b[38;5;8m\u001b[0m\n",
       "\u0000         \u001b[38;5;8m\u001b[0m \u001b[38;5;8m│\u001b[0m⠀⠀⠀\u001b[38;5;33m⢀\u001b[0m\u001b[38;5;33m⠜\u001b[0m⠀⠀⠀⠀⠀⠀⠀⠀⠀⠀⠀⠀⠀⠀⠀⡇⠀⠀⠀⠀⠀⠀⠀⠀⠀⠀⠀⠀⠀⠀⠀⠀⠀⠀⠀\u001b[38;5;8m│\u001b[0m \u001b[38;5;8m\u001b[0m          \u001b[38;5;8m\u001b[0m \u001b[38;5;8m│\u001b[0m⠀⠀⠀⠀⠀⠀\u001b[38;5;33m⠘\u001b[0m\u001b[38;5;33m⢄\u001b[0m⠀⠀⠀⠀⠀⠀⠀⠀⠀⠀⠀⠀⡇⠀⠀⠀⠀⠀⠀⠀⠀⠀⠀⠀\u001b[38;5;33m⡠\u001b[0m\u001b[38;5;33m⠃\u001b[0m⠀⠀⠀⠀⠀⠀\u001b[38;5;8m│\u001b[0m \u001b[38;5;8m\u001b[0m\n",
       "\u0000         \u001b[38;5;8m\u001b[0m \u001b[38;5;8m│\u001b[0m⠀⠀\u001b[38;5;33m⢀\u001b[0m\u001b[38;5;33m⠎\u001b[0m⠀⠀⠀⠀⠀⠀⠀⠀⠀⠀⠀⠀⠀⠀⠀⠀⡇⠀⠀⠀⠀⠀⠀⠀⠀⠀⠀⠀⠀⠀⠀⠀⠀⠀⠀⠀\u001b[38;5;8m│\u001b[0m \u001b[38;5;8m\u001b[0m          \u001b[38;5;8m\u001b[0m \u001b[38;5;8m│\u001b[0m⠀⠀⠀⠀⠀⠀⠀\u001b[38;5;33m⠈\u001b[0m\u001b[38;5;33m⢦\u001b[0m\u001b[38;5;33m⡀\u001b[0m⠀⠀⠀⠀⠀⠀⠀⠀⠀⠀⡇⠀⠀⠀⠀⠀⠀⠀⠀⠀\u001b[38;5;33m⢀\u001b[0m\u001b[38;5;33m⡴\u001b[0m\u001b[38;5;33m⠁\u001b[0m⠀⠀⠀⠀⠀⠀⠀\u001b[38;5;8m│\u001b[0m \u001b[38;5;8m\u001b[0m\n",
       "\u0000         \u001b[38;5;8m\u001b[0m \u001b[38;5;8m│\u001b[0m⠀\u001b[38;5;33m⢀\u001b[0m\u001b[38;5;33m⠏\u001b[0m⠀⠀⠀⠀⠀⠀⠀⠀⠀⠀⠀⠀⠀⠀⠀⠀⠀⡇⠀⠀⠀⠀⠀⠀⠀⠀⠀⠀⠀⠀⠀⠀⠀⠀⠀⠀⠀\u001b[38;5;8m│\u001b[0m \u001b[38;5;8m\u001b[0m          \u001b[38;5;8m\u001b[0m \u001b[38;5;8m│\u001b[0m⠀⠀⠀⠀⠀⠀⠀⠀⠀\u001b[38;5;33m⠑\u001b[0m\u001b[38;5;33m⢦\u001b[0m\u001b[38;5;33m⣀\u001b[0m⠀⠀⠀⠀⠀⠀⠀⠀⡇⠀⠀⠀⠀⠀⠀⠀\u001b[38;5;33m⣀\u001b[0m\u001b[38;5;33m⡤\u001b[0m\u001b[38;5;33m⠊\u001b[0m⠀⠀⠀⠀⠀⠀⠀⠀⠀\u001b[38;5;8m│\u001b[0m \u001b[38;5;8m\u001b[0m\n",
       "\u0000   \u001b[38;5;8m-1 060\u001b[0m \u001b[38;5;8m│\u001b[0m⠀\u001b[38;5;33m⠎\u001b[0m⠀⠀⠀⠀⠀⠀⠀⠀⠀⠀⠀⠀⠀⠀⠀⠀⠀⠀⡇⠀⠀⠀⠀⠀⠀⠀⠀⠀⠀⠀⠀⠀⠀⠀⠀⠀⠀⠀\u001b[38;5;8m│\u001b[0m \u001b[38;5;8m\u001b[0m      \u001b[38;5;8m-300\u001b[0m \u001b[38;5;8m│\u001b[0m⠤⠤⠤⠤⠤⠤⠤⠤⠤⠤⠤\u001b[38;5;33m⠬\u001b[0m\u001b[38;5;33m⠽\u001b[0m\u001b[38;5;33m⠶\u001b[0m\u001b[38;5;33m⠶\u001b[0m\u001b[38;5;33m⠤\u001b[0m\u001b[38;5;33m⠤\u001b[0m\u001b[38;5;33m⠤\u001b[0m\u001b[38;5;33m⠤\u001b[0m\u001b[38;5;33m⠤\u001b[0m\u001b[38;5;33m⡧\u001b[0m\u001b[38;5;33m⠤\u001b[0m\u001b[38;5;33m⠤\u001b[0m\u001b[38;5;33m⠤\u001b[0m\u001b[38;5;33m⠤\u001b[0m\u001b[38;5;33m⠶\u001b[0m\u001b[38;5;33m⠶\u001b[0m\u001b[38;5;33m⠯\u001b[0m\u001b[38;5;33m⠥\u001b[0m⠤⠤⠤⠤⠤⠤⠤⠤⠤⠤⠤\u001b[38;5;8m│\u001b[0m \u001b[38;5;8m\u001b[0m\n",
       "\u0000          \u001b[38;5;8m└────────────────────────────────────────┘\u001b[0m            \u001b[38;5;8m└────────────────────────────────────────┘\u001b[0m \n",
       "\u0000          ⠀\u001b[38;5;8m-10.6\u001b[0m⠀⠀⠀⠀⠀⠀⠀⠀⠀⠀⠀⠀⠀⠀\u001b[38;5;8m\u001b[0m⠀⠀⠀⠀⠀⠀⠀⠀⠀⠀⠀⠀⠀⠀⠀⠀⠀\u001b[38;5;8m10.6\u001b[0m⠀            ⠀\u001b[38;5;8m-10.6\u001b[0m⠀⠀⠀⠀⠀⠀⠀⠀⠀⠀⠀⠀⠀⠀\u001b[38;5;8m\u001b[0m⠀⠀⠀⠀⠀⠀⠀⠀⠀⠀⠀⠀⠀⠀⠀⠀⠀\u001b[38;5;8m10.6\u001b[0m⠀ "
      ]
     },
     "metadata": {},
     "output_type": "display_data"
    }
   ],
   "source": [
    "x = -10:0.1:10\n",
    "\n",
    "p1 = plot(x, x)\n",
    "p2 = plot(x, x.^2)\n",
    "p3 = plot(x, x.^3)\n",
    "p4 = plot(x, x.^4)\n",
    "\n",
    "plot(p1, p2, p3, p4, layout=(2, 2), legend=false)\n"
   ]
  },
  {
   "cell_type": "code",
   "execution_count": null,
   "metadata": {},
   "outputs": [],
   "source": []
  }
 ],
 "metadata": {
  "kernelspec": {
   "display_name": "Julia 1.9.0",
   "language": "julia",
   "name": "julia-1.9"
  },
  "language_info": {
   "file_extension": ".jl",
   "mimetype": "application/julia",
   "name": "julia",
   "version": "1.9.0"
  },
  "orig_nbformat": 4
 },
 "nbformat": 4,
 "nbformat_minor": 2
}
